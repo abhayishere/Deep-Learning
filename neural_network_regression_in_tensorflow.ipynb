{
  "nbformat": 4,
  "nbformat_minor": 0,
  "metadata": {
    "colab": {
      "name": "neural_network_regression_in_tensorflow.ipynb",
      "provenance": [],
      "collapsed_sections": []
    },
    "kernelspec": {
      "name": "python3",
      "display_name": "Python 3"
    }
  },
  "cells": [
    {
      "cell_type": "code",
      "metadata": {
        "colab": {
          "base_uri": "https://localhost:8080/"
        },
        "id": "3u8MsQmV7hDo",
        "outputId": "2ac12580-9357-4db3-f5b1-a8fdc108ac5b"
      },
      "source": [
        "# Import TensorFlow\n",
        "import tensorflow as tf\n",
        "print(tf.__version__)"
      ],
      "execution_count": 36,
      "outputs": [
        {
          "output_type": "stream",
          "text": [
            "2.5.0\n"
          ],
          "name": "stdout"
        }
      ]
    },
    {
      "cell_type": "markdown",
      "metadata": {
        "id": "IalXU1QB7spg"
      },
      "source": [
        "## Creating data to view and fit"
      ]
    },
    {
      "cell_type": "code",
      "metadata": {
        "colab": {
          "base_uri": "https://localhost:8080/",
          "height": 269
        },
        "id": "YQZbzH4O70xl",
        "outputId": "450153e3-6a7c-459f-8191-12a8650b0db9"
      },
      "source": [
        "import numpy as np\n",
        "import matplotlib.pyplot as plt\n",
        "\n",
        "# Create features\n",
        "X = np.array([-7.0, -4.0, -1.0, 2.0, 5.0, 8.0, 11.0, 14.0])\n",
        "\n",
        "# Create labels\n",
        "y = np.array([3.0, 6.0, 9.0, 12.0, 15.0, 18.0, 21.0, 24.0])\n",
        "\n",
        "# Visualize it\n",
        "plt.scatter(X, y);"
      ],
      "execution_count": 37,
      "outputs": [
        {
          "output_type": "display_data",
          "data": {
            "image/png": "[encoded data removed]",
            "text/plain": [
              "<Figure size 432x288 with 1 Axes>"
            ]
          },
          "metadata": {
            "tags": [],
            "needs_background": "light"
          }
        }
      ]
    },
    {
      "cell_type": "code",
      "metadata": {
        "colab": {
          "base_uri": "https://localhost:8080/"
        },
        "id": "clux4ncl8TJ8",
        "outputId": "7b1dc15d-d88d-422f-b700-8d3f2e8b6385"
      },
      "source": [
        "y == X + 10"
      ],
      "execution_count": 38,
      "outputs": [
        {
          "output_type": "execute_result",
          "data": {
            "text/plain": [
              "array([ True,  True,  True,  True,  True,  True,  True,  True])"
            ]
          },
          "metadata": {
            "tags": []
          },
          "execution_count": 38
        }
      ]
    },
    {
      "cell_type": "markdown",
      "metadata": {
        "id": "KWmKUOWc8mdz"
      },
      "source": [
        "## Input and output shapes"
      ]
    },
    {
      "cell_type": "code",
      "metadata": {
        "colab": {
          "base_uri": "https://localhost:8080/"
        },
        "id": "zmEIIElh8x1Z",
        "outputId": "2516e955-61c3-486f-cc3d-ae371214be55"
      },
      "source": [
        "# Create a demo tensor for our housing price prediction problem\n",
        "house_info = tf.constant([\"bedroom\", \"bathroom\", \"garage\"])\n",
        "house_price = tf.constant([939700])\n",
        "house_info, house_price"
      ],
      "execution_count": 39,
      "outputs": [
        {
          "output_type": "execute_result",
          "data": {
            "text/plain": [
              "(<tf.Tensor: shape=(3,), dtype=string, numpy=array([b'bedroom', b'bathroom', b'garage'], dtype=object)>,\n",
              " <tf.Tensor: shape=(1,), dtype=int32, numpy=array([939700], dtype=int32)>)"
            ]
          },
          "metadata": {
            "tags": []
          },
          "execution_count": 39
        }
      ]
    },
    {
      "cell_type": "code",
      "metadata": {
        "colab": {
          "base_uri": "https://localhost:8080/"
        },
        "id": "DExhPoos9gZF",
        "outputId": "4b1c83e0-cadd-4acf-bdfa-e46b3fb668d9"
      },
      "source": [
        "X[0], y[0]"
      ],
      "execution_count": 40,
      "outputs": [
        {
          "output_type": "execute_result",
          "data": {
            "text/plain": [
              "(-7.0, 3.0)"
            ]
          },
          "metadata": {
            "tags": []
          },
          "execution_count": 40
        }
      ]
    },
    {
      "cell_type": "code",
      "metadata": {
        "colab": {
          "base_uri": "https://localhost:8080/"
        },
        "id": "Nq-Pb-Z69jxp",
        "outputId": "9bcbc48c-47a0-4f53-9def-1c02f78d9ca0"
      },
      "source": [
        "X[1], y[1]"
      ],
      "execution_count": 41,
      "outputs": [
        {
          "output_type": "execute_result",
          "data": {
            "text/plain": [
              "(-4.0, 6.0)"
            ]
          },
          "metadata": {
            "tags": []
          },
          "execution_count": 41
        }
      ]
    },
    {
      "cell_type": "code",
      "metadata": {
        "colab": {
          "base_uri": "https://localhost:8080/"
        },
        "id": "m-20V_X69OE0",
        "outputId": "56d4d5af-e433-4ec5-82db-82bbe6d7faba"
      },
      "source": [
        "input_shape = X[0].shape\n",
        "output_shape = y[0].shape\n",
        "input_shape, output_shape"
      ],
      "execution_count": 42,
      "outputs": [
        {
          "output_type": "execute_result",
          "data": {
            "text/plain": [
              "((), ())"
            ]
          },
          "metadata": {
            "tags": []
          },
          "execution_count": 42
        }
      ]
    },
    {
      "cell_type": "code",
      "metadata": {
        "colab": {
          "base_uri": "https://localhost:8080/"
        },
        "id": "UaOI4HU19bBJ",
        "outputId": "782fb630-8433-478f-ab3b-19d20da8e110"
      },
      "source": [
        "X[0].ndim"
      ],
      "execution_count": 43,
      "outputs": [
        {
          "output_type": "execute_result",
          "data": {
            "text/plain": [
              "0"
            ]
          },
          "metadata": {
            "tags": []
          },
          "execution_count": 43
        }
      ]
    },
    {
      "cell_type": "code",
      "metadata": {
        "colab": {
          "base_uri": "https://localhost:8080/"
        },
        "id": "iYHpBCXQ93xD",
        "outputId": "093c7f78-8b0c-4bbd-f5b0-4cc9e50371e2"
      },
      "source": [
        "X[0], y[0]"
      ],
      "execution_count": 44,
      "outputs": [
        {
          "output_type": "execute_result",
          "data": {
            "text/plain": [
              "(-7.0, 3.0)"
            ]
          },
          "metadata": {
            "tags": []
          },
          "execution_count": 44
        }
      ]
    },
    {
      "cell_type": "code",
      "metadata": {
        "colab": {
          "base_uri": "https://localhost:8080/"
        },
        "id": "CXXzG3aR97i7",
        "outputId": "bf73cb08-fe7c-4d20-8a9c-208f5e1a8ba0"
      },
      "source": [
        "# Turn our NumPy arrays into tensors with dtype float32\n",
        "X = tf.cast(tf.constant(X), dtype=tf.float32)\n",
        "y = tf.cast(tf.constant(y), dtype=tf.float32)\n",
        "X, y"
      ],
      "execution_count": 45,
      "outputs": [
        {
          "output_type": "execute_result",
          "data": {
            "text/plain": [
              "(<tf.Tensor: shape=(8,), dtype=float32, numpy=array([-7., -4., -1.,  2.,  5.,  8., 11., 14.], dtype=float32)>,\n",
              " <tf.Tensor: shape=(8,), dtype=float32, numpy=array([ 3.,  6.,  9., 12., 15., 18., 21., 24.], dtype=float32)>)"
            ]
          },
          "metadata": {
            "tags": []
          },
          "execution_count": 45
        }
      ]
    },
    {
      "cell_type": "code",
      "metadata": {
        "colab": {
          "base_uri": "https://localhost:8080/"
        },
        "id": "bTUb3n6d_FrY",
        "outputId": "73dbf11a-db1f-4890-f6e3-2fb921a856df"
      },
      "source": [
        "input_shape = X[0].shape\n",
        "output_shape = y[0].shape\n",
        "input_shape, output_shape"
      ],
      "execution_count": 46,
      "outputs": [
        {
          "output_type": "execute_result",
          "data": {
            "text/plain": [
              "(TensorShape([]), TensorShape([]))"
            ]
          },
          "metadata": {
            "tags": []
          },
          "execution_count": 46
        }
      ]
    },
    {
      "cell_type": "code",
      "metadata": {
        "colab": {
          "base_uri": "https://localhost:8080/",
          "height": 286
        },
        "id": "NUB3rlwu_OZ5",
        "outputId": "afce41a4-9f97-45ae-ed12-adb49e43432d"
      },
      "source": [
        "plt.scatter(X, y)"
      ],
      "execution_count": 47,
      "outputs": [
        {
          "output_type": "execute_result",
          "data": {
            "text/plain": [
              "<matplotlib.collections.PathCollection at 0x7f986a638090>"
            ]
          },
          "metadata": {
            "tags": []
          },
          "execution_count": 47
        },
        {
          "output_type": "display_data",
          "data": {
            "image/png": "[encoded data removed]",
            "text/plain": [
              "<Figure size 432x288 with 1 Axes>"
            ]
          },
          "metadata": {
            "tags": [],
            "needs_background": "light"
          }
        }
      ]
    },
    {
      "cell_type": "markdown",
      "metadata": {
        "id": "mu0RYMXr_VC-"
      },
      "source": [
        "## Steps in modelling with TensorFlow\n"
      ]
    },
    {
      "cell_type": "code",
      "metadata": {
        "colab": {
          "base_uri": "https://localhost:8080/"
        },
        "id": "V9k5wWQe_aU3",
        "outputId": "369bd4d8-9531-474b-e0f3-2b3070e70141"
      },
      "source": [
        "# Set random seed\n",
        "tf.random.set_seed(42)\n",
        "\n",
        "# 1. Create a model using the Sequential API\n",
        "model = tf.keras.Sequential([\n",
        "  tf.keras.layers.Dense(1)\n",
        "])\n",
        "\n",
        "# 2. Compile the mode;l\n",
        "model.compile(loss=tf.keras.losses.mae, # mae is short for mean absolute error\n",
        "              optimizer=tf.keras.optimizers.SGD(), # sgd is short for stochasitc gradient descent\n",
        "              metrics=[\"mae\"])\n",
        "\n",
        "# 3. Fit the model\n",
        "model.fit(X, y, epochs=5)"
      ],
      "execution_count": 48,
      "outputs": [
        {
          "output_type": "stream",
          "text": [
            "Epoch 1/5\n",
            "1/1 [==============================] - 0s 193ms/step - loss: 11.5048 - mae: 11.5048\n",
            "Epoch 2/5\n",
            "1/1 [==============================] - 0s 3ms/step - loss: 11.3723 - mae: 11.3723\n",
            "Epoch 3/5\n",
            "1/1 [==============================] - 0s 5ms/step - loss: 11.2398 - mae: 11.2398\n",
            "Epoch 4/5\n",
            "1/1 [==============================] - 0s 5ms/step - loss: 11.1073 - mae: 11.1073\n",
            "Epoch 5/5\n",
            "1/1 [==============================] - 0s 3ms/step - loss: 10.9748 - mae: 10.9748\n"
          ],
          "name": "stdout"
        },
        {
          "output_type": "execute_result",
          "data": {
            "text/plain": [
              "<tensorflow.python.keras.callbacks.History at 0x7f986a56b690>"
            ]
          },
          "metadata": {
            "tags": []
          },
          "execution_count": 48
        }
      ]
    },
    {
      "cell_type": "code",
      "metadata": {
        "colab": {
          "base_uri": "https://localhost:8080/"
        },
        "id": "sOkNe41hChw-",
        "outputId": "2ca6c0d9-75da-42b2-e90f-7a3a10ab8b72"
      },
      "source": [
        "# Check out X and y\n",
        "X, y"
      ],
      "execution_count": 49,
      "outputs": [
        {
          "output_type": "execute_result",
          "data": {
            "text/plain": [
              "(<tf.Tensor: shape=(8,), dtype=float32, numpy=array([-7., -4., -1.,  2.,  5.,  8., 11., 14.], dtype=float32)>,\n",
              " <tf.Tensor: shape=(8,), dtype=float32, numpy=array([ 3.,  6.,  9., 12., 15., 18., 21., 24.], dtype=float32)>)"
            ]
          },
          "metadata": {
            "tags": []
          },
          "execution_count": 49
        }
      ]
    },
    {
      "cell_type": "code",
      "metadata": {
        "colab": {
          "base_uri": "https://localhost:8080/"
        },
        "id": "_JBE5S-4DQFj",
        "outputId": "6095eaa0-ac7e-45cc-be06-817678e9ea37"
      },
      "source": [
        "# Try and make a prediction using our model\n",
        "y_pred = model.predict([17.0])\n",
        "y_pred"
      ],
      "execution_count": 50,
      "outputs": [
        {
          "output_type": "execute_result",
          "data": {
            "text/plain": [
              "array([[12.716021]], dtype=float32)"
            ]
          },
          "metadata": {
            "tags": []
          },
          "execution_count": 50
        }
      ]
    },
    {
      "cell_type": "code",
      "metadata": {
        "colab": {
          "base_uri": "https://localhost:8080/"
        },
        "id": "HZm0x_e0DdvS",
        "outputId": "90c5b114-e5f3-476c-938c-be90d00721a5"
      },
      "source": [
        "y_pred + 11"
      ],
      "execution_count": 51,
      "outputs": [
        {
          "output_type": "execute_result",
          "data": {
            "text/plain": [
              "array([[23.71602]], dtype=float32)"
            ]
          },
          "metadata": {
            "tags": []
          },
          "execution_count": 51
        }
      ]
    },
    {
      "cell_type": "markdown",
      "metadata": {
        "id": "8RIo2cOiDrHC"
      },
      "source": [
        "## Improving our model"
      ]
    },
    {
      "cell_type": "code",
      "metadata": {
        "colab": {
          "base_uri": "https://localhost:8080/"
        },
        "id": "Ki4x75jCDwlu",
        "outputId": "da038392-4ff5-4826-f89f-396661fd7aef"
      },
      "source": [
        "# Let's rebuild our model\n",
        "\n",
        "# 1. Create the model\n",
        "model = tf.keras.Sequential([\n",
        "  tf.keras.layers.Dense(1)\n",
        "])\n",
        "\n",
        "# 2. Compile the model\n",
        "model.compile(loss=tf.keras.losses.mae,\n",
        "              optimizer=tf.keras.optimizers.SGD(),\n",
        "              metrics=[\"mae\"])\n",
        "\n",
        "# 3. Fit the model (this time we'll train for longer)\n",
        "model.fit(X, y, epochs=100)"
      ],
      "execution_count": 52,
      "outputs": [
        {
          "output_type": "stream",
          "text": [
            "Epoch 1/100\n",
            "1/1 [==============================] - 0s 202ms/step - loss: 11.2219 - mae: 11.2219\n",
            "Epoch 2/100\n",
            "1/1 [==============================] - 0s 7ms/step - loss: 11.0894 - mae: 11.0894\n",
            "Epoch 3/100\n",
            "1/1 [==============================] - 0s 4ms/step - loss: 10.9569 - mae: 10.9569\n",
            "Epoch 4/100\n",
            "1/1 [==============================] - 0s 5ms/step - loss: 10.8244 - mae: 10.8244\n",
            "Epoch 5/100\n",
            "1/1 [==============================] - 0s 3ms/step - loss: 10.6919 - mae: 10.6919\n",
            "Epoch 6/100\n",
            "1/1 [==============================] - 0s 5ms/step - loss: 10.5594 - mae: 10.5594\n",
            "Epoch 7/100\n",
            "1/1 [==============================] - 0s 5ms/step - loss: 10.4269 - mae: 10.4269\n",
            "Epoch 8/100\n",
            "1/1 [==============================] - 0s 5ms/step - loss: 10.2944 - mae: 10.2944\n",
            "Epoch 9/100\n",
            "1/1 [==============================] - 0s 11ms/step - loss: 10.1619 - mae: 10.1619\n",
            "Epoch 10/100\n",
            "1/1 [==============================] - 0s 11ms/step - loss: 10.0294 - mae: 10.0294\n",
            "Epoch 11/100\n",
            "1/1 [==============================] - 0s 3ms/step - loss: 9.8969 - mae: 9.8969\n",
            "Epoch 12/100\n",
            "1/1 [==============================] - 0s 5ms/step - loss: 9.7644 - mae: 9.7644\n",
            "Epoch 13/100\n",
            "1/1 [==============================] - 0s 5ms/step - loss: 9.6319 - mae: 9.6319\n",
            "Epoch 14/100\n",
            "1/1 [==============================] - 0s 5ms/step - loss: 9.4994 - mae: 9.4994\n",
            "Epoch 15/100\n",
            "1/1 [==============================] - 0s 5ms/step - loss: 9.3669 - mae: 9.3669\n",
            "Epoch 16/100\n",
            "1/1 [==============================] - 0s 3ms/step - loss: 9.2344 - mae: 9.2344\n",
            "Epoch 17/100\n",
            "1/1 [==============================] - 0s 3ms/step - loss: 9.1019 - mae: 9.1019\n",
            "Epoch 18/100\n",
            "1/1 [==============================] - 0s 3ms/step - loss: 8.9694 - mae: 8.9694\n",
            "Epoch 19/100\n",
            "1/1 [==============================] - 0s 6ms/step - loss: 8.8369 - mae: 8.8369\n",
            "Epoch 20/100\n",
            "1/1 [==============================] - 0s 2ms/step - loss: 8.7044 - mae: 8.7044\n",
            "Epoch 21/100\n",
            "1/1 [==============================] - 0s 3ms/step - loss: 8.5719 - mae: 8.5719\n",
            "Epoch 22/100\n",
            "1/1 [==============================] - 0s 2ms/step - loss: 8.4394 - mae: 8.4394\n",
            "Epoch 23/100\n",
            "1/1 [==============================] - 0s 3ms/step - loss: 8.3069 - mae: 8.3069\n",
            "Epoch 24/100\n",
            "1/1 [==============================] - 0s 3ms/step - loss: 8.1744 - mae: 8.1744\n",
            "Epoch 25/100\n",
            "1/1 [==============================] - 0s 5ms/step - loss: 8.0419 - mae: 8.0419\n",
            "Epoch 26/100\n",
            "1/1 [==============================] - 0s 3ms/step - loss: 7.9094 - mae: 7.9094\n",
            "Epoch 27/100\n",
            "1/1 [==============================] - 0s 9ms/step - loss: 7.7769 - mae: 7.7769\n",
            "Epoch 28/100\n",
            "1/1 [==============================] - 0s 3ms/step - loss: 7.6444 - mae: 7.6444\n",
            "Epoch 29/100\n",
            "1/1 [==============================] - 0s 4ms/step - loss: 7.5119 - mae: 7.5119\n",
            "Epoch 30/100\n",
            "1/1 [==============================] - 0s 3ms/step - loss: 7.3794 - mae: 7.3794\n",
            "Epoch 31/100\n",
            "1/1 [==============================] - 0s 3ms/step - loss: 7.2750 - mae: 7.2750\n",
            "Epoch 32/100\n",
            "1/1 [==============================] - 0s 3ms/step - loss: 7.2694 - mae: 7.2694\n",
            "Epoch 33/100\n",
            "1/1 [==============================] - 0s 5ms/step - loss: 7.2638 - mae: 7.2638\n",
            "Epoch 34/100\n",
            "1/1 [==============================] - 0s 4ms/step - loss: 7.2581 - mae: 7.2581\n",
            "Epoch 35/100\n",
            "1/1 [==============================] - 0s 4ms/step - loss: 7.2525 - mae: 7.2525\n",
            "Epoch 36/100\n",
            "1/1 [==============================] - 0s 4ms/step - loss: 7.2469 - mae: 7.2469\n",
            "Epoch 37/100\n",
            "1/1 [==============================] - 0s 4ms/step - loss: 7.2412 - mae: 7.2412\n",
            "Epoch 38/100\n",
            "1/1 [==============================] - 0s 7ms/step - loss: 7.2356 - mae: 7.2356\n",
            "Epoch 39/100\n",
            "1/1 [==============================] - 0s 4ms/step - loss: 7.2300 - mae: 7.2300\n",
            "Epoch 40/100\n",
            "1/1 [==============================] - 0s 4ms/step - loss: 7.2244 - mae: 7.2244\n",
            "Epoch 41/100\n",
            "1/1 [==============================] - 0s 5ms/step - loss: 7.2188 - mae: 7.2188\n",
            "Epoch 42/100\n",
            "1/1 [==============================] - 0s 3ms/step - loss: 7.2131 - mae: 7.2131\n",
            "Epoch 43/100\n",
            "1/1 [==============================] - 0s 5ms/step - loss: 7.2075 - mae: 7.2075\n",
            "Epoch 44/100\n",
            "1/1 [==============================] - 0s 4ms/step - loss: 7.2019 - mae: 7.2019\n",
            "Epoch 45/100\n",
            "1/1 [==============================] - 0s 6ms/step - loss: 7.1962 - mae: 7.1962\n",
            "Epoch 46/100\n",
            "1/1 [==============================] - 0s 3ms/step - loss: 7.1906 - mae: 7.1906\n",
            "Epoch 47/100\n",
            "1/1 [==============================] - 0s 3ms/step - loss: 7.1850 - mae: 7.1850\n",
            "Epoch 48/100\n",
            "1/1 [==============================] - 0s 3ms/step - loss: 7.1794 - mae: 7.1794\n",
            "Epoch 49/100\n",
            "1/1 [==============================] - 0s 3ms/step - loss: 7.1737 - mae: 7.1737\n",
            "Epoch 50/100\n",
            "1/1 [==============================] - 0s 4ms/step - loss: 7.1681 - mae: 7.1681\n",
            "Epoch 51/100\n",
            "1/1 [==============================] - 0s 4ms/step - loss: 7.1625 - mae: 7.1625\n",
            "Epoch 52/100\n",
            "1/1 [==============================] - 0s 4ms/step - loss: 7.1569 - mae: 7.1569\n",
            "Epoch 53/100\n",
            "1/1 [==============================] - 0s 6ms/step - loss: 7.1512 - mae: 7.1512\n",
            "Epoch 54/100\n",
            "1/1 [==============================] - 0s 5ms/step - loss: 7.1456 - mae: 7.1456\n",
            "Epoch 55/100\n",
            "1/1 [==============================] - 0s 4ms/step - loss: 7.1400 - mae: 7.1400\n",
            "Epoch 56/100\n",
            "1/1 [==============================] - 0s 6ms/step - loss: 7.1344 - mae: 7.1344\n",
            "Epoch 57/100\n",
            "1/1 [==============================] - 0s 5ms/step - loss: 7.1287 - mae: 7.1287\n",
            "Epoch 58/100\n",
            "1/1 [==============================] - 0s 4ms/step - loss: 7.1231 - mae: 7.1231\n",
            "Epoch 59/100\n",
            "1/1 [==============================] - 0s 4ms/step - loss: 7.1175 - mae: 7.1175\n",
            "Epoch 60/100\n",
            "1/1 [==============================] - 0s 4ms/step - loss: 7.1119 - mae: 7.1119\n",
            "Epoch 61/100\n",
            "1/1 [==============================] - 0s 5ms/step - loss: 7.1062 - mae: 7.1062\n",
            "Epoch 62/100\n",
            "1/1 [==============================] - 0s 4ms/step - loss: 7.1006 - mae: 7.1006\n",
            "Epoch 63/100\n",
            "1/1 [==============================] - 0s 6ms/step - loss: 7.0950 - mae: 7.0950\n",
            "Epoch 64/100\n",
            "1/1 [==============================] - 0s 4ms/step - loss: 7.0894 - mae: 7.0894\n",
            "Epoch 65/100\n",
            "1/1 [==============================] - 0s 6ms/step - loss: 7.0838 - mae: 7.0838\n",
            "Epoch 66/100\n",
            "1/1 [==============================] - 0s 4ms/step - loss: 7.0781 - mae: 7.0781\n",
            "Epoch 67/100\n",
            "1/1 [==============================] - 0s 5ms/step - loss: 7.0725 - mae: 7.0725\n",
            "Epoch 68/100\n",
            "1/1 [==============================] - 0s 5ms/step - loss: 7.0669 - mae: 7.0669\n",
            "Epoch 69/100\n",
            "1/1 [==============================] - 0s 9ms/step - loss: 7.0613 - mae: 7.0613\n",
            "Epoch 70/100\n",
            "1/1 [==============================] - 0s 6ms/step - loss: 7.0556 - mae: 7.0556\n",
            "Epoch 71/100\n",
            "1/1 [==============================] - 0s 4ms/step - loss: 7.0500 - mae: 7.0500\n",
            "Epoch 72/100\n",
            "1/1 [==============================] - 0s 7ms/step - loss: 7.0444 - mae: 7.0444\n",
            "Epoch 73/100\n",
            "1/1 [==============================] - 0s 4ms/step - loss: 7.0388 - mae: 7.0388\n",
            "Epoch 74/100\n",
            "1/1 [==============================] - 0s 4ms/step - loss: 7.0331 - mae: 7.0331\n",
            "Epoch 75/100\n",
            "1/1 [==============================] - 0s 3ms/step - loss: 7.0275 - mae: 7.0275\n",
            "Epoch 76/100\n",
            "1/1 [==============================] - 0s 7ms/step - loss: 7.0219 - mae: 7.0219\n",
            "Epoch 77/100\n",
            "1/1 [==============================] - 0s 4ms/step - loss: 7.0163 - mae: 7.0163\n",
            "Epoch 78/100\n",
            "1/1 [==============================] - 0s 5ms/step - loss: 7.0106 - mae: 7.0106\n",
            "Epoch 79/100\n",
            "1/1 [==============================] - 0s 4ms/step - loss: 7.0050 - mae: 7.0050\n",
            "Epoch 80/100\n",
            "1/1 [==============================] - 0s 5ms/step - loss: 6.9994 - mae: 6.9994\n",
            "Epoch 81/100\n",
            "1/1 [==============================] - 0s 4ms/step - loss: 6.9938 - mae: 6.9938\n",
            "Epoch 82/100\n",
            "1/1 [==============================] - 0s 6ms/step - loss: 6.9881 - mae: 6.9881\n",
            "Epoch 83/100\n",
            "1/1 [==============================] - 0s 4ms/step - loss: 6.9825 - mae: 6.9825\n",
            "Epoch 84/100\n",
            "1/1 [==============================] - 0s 7ms/step - loss: 6.9769 - mae: 6.9769\n",
            "Epoch 85/100\n",
            "1/1 [==============================] - 0s 4ms/step - loss: 6.9713 - mae: 6.9713\n",
            "Epoch 86/100\n",
            "1/1 [==============================] - 0s 3ms/step - loss: 6.9656 - mae: 6.9656\n",
            "Epoch 87/100\n",
            "1/1 [==============================] - 0s 5ms/step - loss: 6.9600 - mae: 6.9600\n",
            "Epoch 88/100\n",
            "1/1 [==============================] - 0s 3ms/step - loss: 6.9544 - mae: 6.9544\n",
            "Epoch 89/100\n",
            "1/1 [==============================] - 0s 4ms/step - loss: 6.9488 - mae: 6.9488\n",
            "Epoch 90/100\n",
            "1/1 [==============================] - 0s 3ms/step - loss: 6.9431 - mae: 6.9431\n",
            "Epoch 91/100\n",
            "1/1 [==============================] - 0s 5ms/step - loss: 6.9375 - mae: 6.9375\n",
            "Epoch 92/100\n",
            "1/1 [==============================] - 0s 7ms/step - loss: 6.9319 - mae: 6.9319\n",
            "Epoch 93/100\n",
            "1/1 [==============================] - 0s 3ms/step - loss: 6.9263 - mae: 6.9263\n",
            "Epoch 94/100\n",
            "1/1 [==============================] - 0s 7ms/step - loss: 6.9206 - mae: 6.9206\n",
            "Epoch 95/100\n",
            "1/1 [==============================] - 0s 4ms/step - loss: 6.9150 - mae: 6.9150\n",
            "Epoch 96/100\n",
            "1/1 [==============================] - 0s 10ms/step - loss: 6.9094 - mae: 6.9094\n",
            "Epoch 97/100\n",
            "1/1 [==============================] - 0s 4ms/step - loss: 6.9038 - mae: 6.9038\n",
            "Epoch 98/100\n",
            "1/1 [==============================] - 0s 5ms/step - loss: 6.8981 - mae: 6.8981\n",
            "Epoch 99/100\n",
            "1/1 [==============================] - 0s 4ms/step - loss: 6.8925 - mae: 6.8925\n",
            "Epoch 100/100\n",
            "1/1 [==============================] - 0s 3ms/step - loss: 6.8869 - mae: 6.8869\n"
          ],
          "name": "stdout"
        },
        {
          "output_type": "execute_result",
          "data": {
            "text/plain": [
              "<tensorflow.python.keras.callbacks.History at 0x7f986f766b90>"
            ]
          },
          "metadata": {
            "tags": []
          },
          "execution_count": 52
        }
      ]
    },
    {
      "cell_type": "code",
      "metadata": {
        "colab": {
          "base_uri": "https://localhost:8080/"
        },
        "id": "UMa-jMl6ccRT",
        "outputId": "08348923-caab-43e4-adb4-ec891de90e01"
      },
      "source": [
        "# Remind ourselves of the data\n",
        "X, y"
      ],
      "execution_count": 53,
      "outputs": [
        {
          "output_type": "execute_result",
          "data": {
            "text/plain": [
              "(<tf.Tensor: shape=(8,), dtype=float32, numpy=array([-7., -4., -1.,  2.,  5.,  8., 11., 14.], dtype=float32)>,\n",
              " <tf.Tensor: shape=(8,), dtype=float32, numpy=array([ 3.,  6.,  9., 12., 15., 18., 21., 24.], dtype=float32)>)"
            ]
          },
          "metadata": {
            "tags": []
          },
          "execution_count": 53
        }
      ]
    },
    {
      "cell_type": "code",
      "metadata": {
        "colab": {
          "base_uri": "https://localhost:8080/"
        },
        "id": "8_w1g_ZKc0K_",
        "outputId": "5efba13b-3818-4a7d-94dd-2cc828d151db"
      },
      "source": [
        "# Let's see if our model's prediction has improved...\n",
        "model.predict([17.0])"
      ],
      "execution_count": 54,
      "outputs": [
        {
          "output_type": "stream",
          "text": [
            "WARNING:tensorflow:5 out of the last 5 calls to <function Model.make_predict_function.<locals>.predict_function at 0x7f986b03a320> triggered tf.function retracing. Tracing is expensive and the excessive number of tracings could be due to (1) creating @tf.function repeatedly in a loop, (2) passing tensors with different shapes, (3) passing Python objects instead of tensors. For (1), please define your @tf.function outside of the loop. For (2), @tf.function has experimental_relax_shapes=True option that relaxes argument shapes that can avoid unnecessary retracing. For (3), please refer to https://www.tensorflow.org/guide/function#controlling_retracing and https://www.tensorflow.org/api_docs/python/tf/function for  more details.\n"
          ],
          "name": "stdout"
        },
        {
          "output_type": "execute_result",
          "data": {
            "text/plain": [
              "array([[29.739855]], dtype=float32)"
            ]
          },
          "metadata": {
            "tags": []
          },
          "execution_count": 54
        }
      ]
    },
    {
      "cell_type": "code",
      "metadata": {
        "colab": {
          "base_uri": "https://localhost:8080/"
        },
        "id": "y8r7_kLzc932",
        "outputId": "076f74c9-ca71-42df-8643-8c738de87ba4"
      },
      "source": [
        "# Let's see if we can make another to improve our model\n",
        "\n",
        "# 1. Create the model (this time with an extra hidden layer with 100 hidden units)\n",
        "model = tf.keras.Sequential([\n",
        "  tf.keras.layers.Dense(50, activation=None),\n",
        "  tf.keras.layers.Dense(1)\n",
        "])\n",
        "\n",
        "# 2. Compile the model\n",
        "model.compile(loss=\"mae\",\n",
        "              optimizer=tf.keras.optimizers.Adam(lr=0.01), # adam optimizer with learning rate (lr for short) =0.01\n",
        "              metrics=[\"mae\"])\n",
        "\n",
        "# 3. Fit the model\n",
        "model.fit(X, y, epochs=100) "
      ],
      "execution_count": 55,
      "outputs": [
        {
          "output_type": "stream",
          "text": [
            "Epoch 1/100\n"
          ],
          "name": "stdout"
        },
        {
          "output_type": "stream",
          "text": [
            "/usr/local/lib/python3.7/dist-packages/tensorflow/python/keras/optimizer_v2/optimizer_v2.py:375: UserWarning: The `lr` argument is deprecated, use `learning_rate` instead.\n",
            "  \"The `lr` argument is deprecated, use `learning_rate` instead.\")\n"
          ],
          "name": "stderr"
        },
        {
          "output_type": "stream",
          "text": [
            "1/1 [==============================] - 0s 381ms/step - loss: 11.7682 - mae: 11.7682\n",
            "Epoch 2/100\n",
            "1/1 [==============================] - 0s 8ms/step - loss: 11.0963 - mae: 11.0963\n",
            "Epoch 3/100\n",
            "1/1 [==============================] - 0s 4ms/step - loss: 10.4150 - mae: 10.4150\n",
            "Epoch 4/100\n",
            "1/1 [==============================] - 0s 7ms/step - loss: 9.7212 - mae: 9.7212\n",
            "Epoch 5/100\n",
            "1/1 [==============================] - 0s 7ms/step - loss: 9.0104 - mae: 9.0104\n",
            "Epoch 6/100\n",
            "1/1 [==============================] - 0s 6ms/step - loss: 8.2778 - mae: 8.2778\n",
            "Epoch 7/100\n",
            "1/1 [==============================] - 0s 4ms/step - loss: 7.5198 - mae: 7.5198\n",
            "Epoch 8/100\n",
            "1/1 [==============================] - 0s 6ms/step - loss: 6.9648 - mae: 6.9648\n",
            "Epoch 9/100\n",
            "1/1 [==============================] - 0s 5ms/step - loss: 7.0672 - mae: 7.0672\n",
            "Epoch 10/100\n",
            "1/1 [==============================] - 0s 7ms/step - loss: 7.3315 - mae: 7.3315\n",
            "Epoch 11/100\n",
            "1/1 [==============================] - 0s 11ms/step - loss: 7.4673 - mae: 7.4673\n",
            "Epoch 12/100\n",
            "1/1 [==============================] - 0s 4ms/step - loss: 7.5285 - mae: 7.5285\n",
            "Epoch 13/100\n",
            "1/1 [==============================] - 0s 6ms/step - loss: 7.4011 - mae: 7.4011\n",
            "Epoch 14/100\n",
            "1/1 [==============================] - 0s 9ms/step - loss: 7.1923 - mae: 7.1923\n",
            "Epoch 15/100\n",
            "1/1 [==============================] - 0s 7ms/step - loss: 6.9575 - mae: 6.9575\n",
            "Epoch 16/100\n",
            "1/1 [==============================] - 0s 5ms/step - loss: 6.6953 - mae: 6.6953\n",
            "Epoch 17/100\n",
            "1/1 [==============================] - 0s 6ms/step - loss: 6.4127 - mae: 6.4127\n",
            "Epoch 18/100\n",
            "1/1 [==============================] - 0s 5ms/step - loss: 6.3048 - mae: 6.3048\n",
            "Epoch 19/100\n",
            "1/1 [==============================] - 0s 6ms/step - loss: 6.2575 - mae: 6.2575\n",
            "Epoch 20/100\n",
            "1/1 [==============================] - 0s 8ms/step - loss: 6.3982 - mae: 6.3982\n",
            "Epoch 21/100\n",
            "1/1 [==============================] - 0s 6ms/step - loss: 6.4551 - mae: 6.4551\n",
            "Epoch 22/100\n",
            "1/1 [==============================] - 0s 4ms/step - loss: 6.4000 - mae: 6.4000\n",
            "Epoch 23/100\n",
            "1/1 [==============================] - 0s 11ms/step - loss: 6.2482 - mae: 6.2482\n",
            "Epoch 24/100\n",
            "1/1 [==============================] - 0s 12ms/step - loss: 6.0105 - mae: 6.0105\n",
            "Epoch 25/100\n",
            "1/1 [==============================] - 0s 6ms/step - loss: 5.7876 - mae: 5.7876\n",
            "Epoch 26/100\n",
            "1/1 [==============================] - 0s 10ms/step - loss: 5.6809 - mae: 5.6809\n",
            "Epoch 27/100\n",
            "1/1 [==============================] - 0s 4ms/step - loss: 5.5715 - mae: 5.5715\n",
            "Epoch 28/100\n",
            "1/1 [==============================] - 0s 5ms/step - loss: 5.6122 - mae: 5.6122\n",
            "Epoch 29/100\n",
            "1/1 [==============================] - 0s 5ms/step - loss: 5.6074 - mae: 5.6074\n",
            "Epoch 30/100\n",
            "1/1 [==============================] - 0s 6ms/step - loss: 5.5541 - mae: 5.5541\n",
            "Epoch 31/100\n",
            "1/1 [==============================] - 0s 6ms/step - loss: 5.4568 - mae: 5.4568\n",
            "Epoch 32/100\n",
            "1/1 [==============================] - 0s 5ms/step - loss: 5.3199 - mae: 5.3199\n",
            "Epoch 33/100\n",
            "1/1 [==============================] - 0s 5ms/step - loss: 5.1477 - mae: 5.1477\n",
            "Epoch 34/100\n",
            "1/1 [==============================] - 0s 6ms/step - loss: 4.9442 - mae: 4.9442\n",
            "Epoch 35/100\n",
            "1/1 [==============================] - 0s 4ms/step - loss: 4.8239 - mae: 4.8239\n",
            "Epoch 36/100\n",
            "1/1 [==============================] - 0s 4ms/step - loss: 4.7389 - mae: 4.7389\n",
            "Epoch 37/100\n",
            "1/1 [==============================] - 0s 4ms/step - loss: 4.6657 - mae: 4.6657\n",
            "Epoch 38/100\n",
            "1/1 [==============================] - 0s 4ms/step - loss: 4.5846 - mae: 4.5846\n",
            "Epoch 39/100\n",
            "1/1 [==============================] - 0s 4ms/step - loss: 4.4027 - mae: 4.4027\n",
            "Epoch 40/100\n",
            "1/1 [==============================] - 0s 5ms/step - loss: 4.2653 - mae: 4.2653\n",
            "Epoch 41/100\n",
            "1/1 [==============================] - 0s 4ms/step - loss: 4.1212 - mae: 4.1212\n",
            "Epoch 42/100\n",
            "1/1 [==============================] - 0s 4ms/step - loss: 3.9702 - mae: 3.9702\n",
            "Epoch 43/100\n",
            "1/1 [==============================] - 0s 4ms/step - loss: 3.8272 - mae: 3.8272\n",
            "Epoch 44/100\n",
            "1/1 [==============================] - 0s 4ms/step - loss: 3.7041 - mae: 3.7041\n",
            "Epoch 45/100\n",
            "1/1 [==============================] - 0s 6ms/step - loss: 3.5320 - mae: 3.5320\n",
            "Epoch 46/100\n",
            "1/1 [==============================] - 0s 5ms/step - loss: 3.3664 - mae: 3.3664\n",
            "Epoch 47/100\n",
            "1/1 [==============================] - 0s 4ms/step - loss: 3.2116 - mae: 3.2116\n",
            "Epoch 48/100\n",
            "1/1 [==============================] - 0s 4ms/step - loss: 3.0463 - mae: 3.0463\n",
            "Epoch 49/100\n",
            "1/1 [==============================] - 0s 5ms/step - loss: 2.8705 - mae: 2.8705\n",
            "Epoch 50/100\n",
            "1/1 [==============================] - 0s 4ms/step - loss: 2.6840 - mae: 2.6840\n",
            "Epoch 51/100\n",
            "1/1 [==============================] - 0s 4ms/step - loss: 2.4868 - mae: 2.4868\n",
            "Epoch 52/100\n",
            "1/1 [==============================] - 0s 6ms/step - loss: 2.2787 - mae: 2.2787\n",
            "Epoch 53/100\n",
            "1/1 [==============================] - 0s 4ms/step - loss: 2.0596 - mae: 2.0596\n",
            "Epoch 54/100\n",
            "1/1 [==============================] - 0s 6ms/step - loss: 1.8293 - mae: 1.8293\n",
            "Epoch 55/100\n",
            "1/1 [==============================] - 0s 5ms/step - loss: 1.5876 - mae: 1.5876\n",
            "Epoch 56/100\n",
            "1/1 [==============================] - 0s 4ms/step - loss: 1.3530 - mae: 1.3530\n",
            "Epoch 57/100\n",
            "1/1 [==============================] - 0s 5ms/step - loss: 1.0849 - mae: 1.0849\n",
            "Epoch 58/100\n",
            "1/1 [==============================] - 0s 6ms/step - loss: 0.8224 - mae: 0.8224\n",
            "Epoch 59/100\n",
            "1/1 [==============================] - 0s 5ms/step - loss: 0.5467 - mae: 0.5467\n",
            "Epoch 60/100\n",
            "1/1 [==============================] - 0s 5ms/step - loss: 0.2758 - mae: 0.2758\n",
            "Epoch 61/100\n",
            "1/1 [==============================] - 0s 6ms/step - loss: 0.1354 - mae: 0.1354\n",
            "Epoch 62/100\n",
            "1/1 [==============================] - 0s 4ms/step - loss: 0.4494 - mae: 0.4494\n",
            "Epoch 63/100\n",
            "1/1 [==============================] - 0s 7ms/step - loss: 0.6498 - mae: 0.6498\n",
            "Epoch 64/100\n",
            "1/1 [==============================] - 0s 8ms/step - loss: 0.6216 - mae: 0.6216\n",
            "Epoch 65/100\n",
            "1/1 [==============================] - 0s 5ms/step - loss: 0.8036 - mae: 0.8036\n",
            "Epoch 66/100\n",
            "1/1 [==============================] - 0s 5ms/step - loss: 0.7995 - mae: 0.7995\n",
            "Epoch 67/100\n",
            "1/1 [==============================] - 0s 8ms/step - loss: 0.7409 - mae: 0.7409\n",
            "Epoch 68/100\n",
            "1/1 [==============================] - 0s 6ms/step - loss: 0.7806 - mae: 0.7806\n",
            "Epoch 69/100\n",
            "1/1 [==============================] - 0s 5ms/step - loss: 0.6305 - mae: 0.6305\n",
            "Epoch 70/100\n",
            "1/1 [==============================] - 0s 7ms/step - loss: 0.5556 - mae: 0.5556\n",
            "Epoch 71/100\n",
            "1/1 [==============================] - 0s 8ms/step - loss: 0.4306 - mae: 0.4306\n",
            "Epoch 72/100\n",
            "1/1 [==============================] - 0s 10ms/step - loss: 0.2786 - mae: 0.2786\n",
            "Epoch 73/100\n",
            "1/1 [==============================] - 0s 7ms/step - loss: 0.1378 - mae: 0.1378\n",
            "Epoch 74/100\n",
            "1/1 [==============================] - 0s 14ms/step - loss: 0.1193 - mae: 0.1193\n",
            "Epoch 75/100\n",
            "1/1 [==============================] - 0s 5ms/step - loss: 0.2777 - mae: 0.2777\n",
            "Epoch 76/100\n",
            "1/1 [==============================] - 0s 10ms/step - loss: 0.3245 - mae: 0.3245\n",
            "Epoch 77/100\n",
            "1/1 [==============================] - 0s 20ms/step - loss: 0.4157 - mae: 0.4157\n",
            "Epoch 78/100\n",
            "1/1 [==============================] - 0s 7ms/step - loss: 0.4319 - mae: 0.4319\n",
            "Epoch 79/100\n",
            "1/1 [==============================] - 0s 16ms/step - loss: 0.3391 - mae: 0.3391\n",
            "Epoch 80/100\n",
            "1/1 [==============================] - 0s 4ms/step - loss: 0.2968 - mae: 0.2968\n",
            "Epoch 81/100\n",
            "1/1 [==============================] - 0s 6ms/step - loss: 0.2355 - mae: 0.2355\n",
            "Epoch 82/100\n",
            "1/1 [==============================] - 0s 5ms/step - loss: 0.1633 - mae: 0.1633\n",
            "Epoch 83/100\n",
            "1/1 [==============================] - 0s 6ms/step - loss: 0.1339 - mae: 0.1339\n",
            "Epoch 84/100\n",
            "1/1 [==============================] - 0s 6ms/step - loss: 0.1262 - mae: 0.1262\n",
            "Epoch 85/100\n",
            "1/1 [==============================] - 0s 5ms/step - loss: 0.1702 - mae: 0.1702\n",
            "Epoch 86/100\n",
            "1/1 [==============================] - 0s 5ms/step - loss: 0.2124 - mae: 0.2124\n",
            "Epoch 87/100\n",
            "1/1 [==============================] - 0s 6ms/step - loss: 0.2288 - mae: 0.2288\n",
            "Epoch 88/100\n",
            "1/1 [==============================] - 0s 5ms/step - loss: 0.1901 - mae: 0.1901\n",
            "Epoch 89/100\n",
            "1/1 [==============================] - 0s 7ms/step - loss: 0.1354 - mae: 0.1354\n",
            "Epoch 90/100\n",
            "1/1 [==============================] - 0s 4ms/step - loss: 0.1218 - mae: 0.1218\n",
            "Epoch 91/100\n",
            "1/1 [==============================] - 0s 4ms/step - loss: 0.0382 - mae: 0.0382\n",
            "Epoch 92/100\n",
            "1/1 [==============================] - 0s 7ms/step - loss: 0.2197 - mae: 0.2197\n",
            "Epoch 93/100\n",
            "1/1 [==============================] - 0s 6ms/step - loss: 0.2189 - mae: 0.2189\n",
            "Epoch 94/100\n",
            "1/1 [==============================] - 0s 5ms/step - loss: 0.1427 - mae: 0.1427\n",
            "Epoch 95/100\n",
            "1/1 [==============================] - 0s 5ms/step - loss: 0.1168 - mae: 0.1168\n",
            "Epoch 96/100\n",
            "1/1 [==============================] - 0s 7ms/step - loss: 0.2069 - mae: 0.2069\n",
            "Epoch 97/100\n",
            "1/1 [==============================] - 0s 4ms/step - loss: 0.1524 - mae: 0.1524\n",
            "Epoch 98/100\n",
            "1/1 [==============================] - 0s 3ms/step - loss: 0.2133 - mae: 0.2133\n",
            "Epoch 99/100\n",
            "1/1 [==============================] - 0s 3ms/step - loss: 0.2329 - mae: 0.2329\n",
            "Epoch 100/100\n",
            "1/1 [==============================] - 0s 10ms/step - loss: 0.0780 - mae: 0.0780\n"
          ],
          "name": "stdout"
        },
        {
          "output_type": "execute_result",
          "data": {
            "text/plain": [
              "<tensorflow.python.keras.callbacks.History at 0x7f986ee67e10>"
            ]
          },
          "metadata": {
            "tags": []
          },
          "execution_count": 55
        }
      ]
    },
    {
      "cell_type": "code",
      "metadata": {
        "colab": {
          "base_uri": "https://localhost:8080/"
        },
        "id": "SAkq8adjeo2y",
        "outputId": "5e25f293-1ee8-441e-864f-74c4007937f0"
      },
      "source": [
        "# Let's remind ourselves of the data\n",
        "X, y"
      ],
      "execution_count": 56,
      "outputs": [
        {
          "output_type": "execute_result",
          "data": {
            "text/plain": [
              "(<tf.Tensor: shape=(8,), dtype=float32, numpy=array([-7., -4., -1.,  2.,  5.,  8., 11., 14.], dtype=float32)>,\n",
              " <tf.Tensor: shape=(8,), dtype=float32, numpy=array([ 3.,  6.,  9., 12., 15., 18., 21., 24.], dtype=float32)>)"
            ]
          },
          "metadata": {
            "tags": []
          },
          "execution_count": 56
        }
      ]
    },
    {
      "cell_type": "code",
      "metadata": {
        "colab": {
          "base_uri": "https://localhost:8080/"
        },
        "id": "84Wym6W6e45i",
        "outputId": "bfedf67f-2bb9-49c5-a241-82c80744c655"
      },
      "source": [
        "# Let's try to make a prediction\n",
        "model.predict([17.0])"
      ],
      "execution_count": 57,
      "outputs": [
        {
          "output_type": "stream",
          "text": [
            "WARNING:tensorflow:6 out of the last 6 calls to <function Model.make_predict_function.<locals>.predict_function at 0x7f987b228050> triggered tf.function retracing. Tracing is expensive and the excessive number of tracings could be due to (1) creating @tf.function repeatedly in a loop, (2) passing tensors with different shapes, (3) passing Python objects instead of tensors. For (1), please define your @tf.function outside of the loop. For (2), @tf.function has experimental_relax_shapes=True option that relaxes argument shapes that can avoid unnecessary retracing. For (3), please refer to https://www.tensorflow.org/guide/function#controlling_retracing and https://www.tensorflow.org/api_docs/python/tf/function for  more details.\n"
          ],
          "name": "stdout"
        },
        {
          "output_type": "execute_result",
          "data": {
            "text/plain": [
              "array([[26.583532]], dtype=float32)"
            ]
          },
          "metadata": {
            "tags": []
          },
          "execution_count": 57
        }
      ]
    },
    {
      "cell_type": "markdown",
      "metadata": {
        "id": "MYOVI6lMe_KR"
      },
      "source": [
        "## Evaluting a model\n",
        "\n",
        "```\n",
        "Build a model  -> fit it -> evaluate it -> tweak a model -> fit it -> evaluate it -> tweak a model -> fit it -> evaluate it...\n",
        "```"
      ]
    },
    {
      "cell_type": "markdown",
      "metadata": {
        "id": "usrqoYOojh5S"
      },
      "source": [
        "When it comes to evaluation... there are 3 words we should memorize:\n",
        "\n",
        "> \"Visualize, visualize, visualize\"\n",
        "\n",
        "It's a good idea to visualize:\n",
        "* The data - what data are we working with? What does it look like?\n",
        "* The model itself - what does our model look like?\n",
        "* The training of a model - how does a model perform while it learns?\n",
        "* The predictions of the model - how do the predictions of a model line up against the ground truth (the original labels)?"
      ]
    },
    {
      "cell_type": "code",
      "metadata": {
        "colab": {
          "base_uri": "https://localhost:8080/"
        },
        "id": "8zcYJzAykVku",
        "outputId": "b6472c69-ecbb-4cad-9518-9c5e0f76aaee"
      },
      "source": [
        "# Make a bigger dataset\n",
        "X = tf.range(-100, 100, 4)\n",
        "X"
      ],
      "execution_count": 58,
      "outputs": [
        {
          "output_type": "execute_result",
          "data": {
            "text/plain": [
              "<tf.Tensor: shape=(50,), dtype=int32, numpy=\n",
              "array([-100,  -96,  -92,  -88,  -84,  -80,  -76,  -72,  -68,  -64,  -60,\n",
              "        -56,  -52,  -48,  -44,  -40,  -36,  -32,  -28,  -24,  -20,  -16,\n",
              "        -12,   -8,   -4,    0,    4,    8,   12,   16,   20,   24,   28,\n",
              "         32,   36,   40,   44,   48,   52,   56,   60,   64,   68,   72,\n",
              "         76,   80,   84,   88,   92,   96], dtype=int32)>"
            ]
          },
          "metadata": {
            "tags": []
          },
          "execution_count": 58
        }
      ]
    },
    {
      "cell_type": "code",
      "metadata": {
        "colab": {
          "base_uri": "https://localhost:8080/"
        },
        "id": "tYmBjJyGkyhf",
        "outputId": "3ae809ee-032c-46d2-9040-7a0b6abdd417"
      },
      "source": [
        "# Make labels for the dataset\n",
        "y = X + 10\n",
        "y"
      ],
      "execution_count": 59,
      "outputs": [
        {
          "output_type": "execute_result",
          "data": {
            "text/plain": [
              "<tf.Tensor: shape=(50,), dtype=int32, numpy=\n",
              "array([-90, -86, -82, -78, -74, -70, -66, -62, -58, -54, -50, -46, -42,\n",
              "       -38, -34, -30, -26, -22, -18, -14, -10,  -6,  -2,   2,   6,  10,\n",
              "        14,  18,  22,  26,  30,  34,  38,  42,  46,  50,  54,  58,  62,\n",
              "        66,  70,  74,  78,  82,  86,  90,  94,  98, 102, 106], dtype=int32)>"
            ]
          },
          "metadata": {
            "tags": []
          },
          "execution_count": 59
        }
      ]
    },
    {
      "cell_type": "code",
      "metadata": {
        "colab": {
          "base_uri": "https://localhost:8080/",
          "height": 282
        },
        "id": "GsPCWn6Bk7-n",
        "outputId": "275c2428-c6bc-4d97-dc97-b151edd48b23"
      },
      "source": [
        "# Visualize the data\n",
        "import matplotlib.pyplot as plt\n",
        "\n",
        "plt.scatter(X, y)"
      ],
      "execution_count": 60,
      "outputs": [
        {
          "output_type": "execute_result",
          "data": {
            "text/plain": [
              "<matplotlib.collections.PathCollection at 0x7f986a595810>"
            ]
          },
          "metadata": {
            "tags": []
          },
          "execution_count": 60
        },
        {
          "output_type": "display_data",
          "data": {
            "image/png": "[encoded data removed]",
            "text/plain": [
              "<Figure size 432x288 with 1 Axes>"
            ]
          },
          "metadata": {
            "tags": [],
            "needs_background": "light"
          }
        }
      ]
    },
    {
      "cell_type": "markdown",
      "metadata": {
        "id": "EYSYiP6mlE-g"
      },
      "source": [
        "### The 3 sets...\n",
        "\n",
        "* **Training set** - the model learns from this data, which is typically 70-80% of the total data you have available.\n",
        "* **Validation set** - the model gets tuned on this data, which is typically 10-15% of the data available.\n",
        "* **Test set** - the model gets evaluated on this data to test what is has learned, this set is typically 10-15% of the total data available.\n",
        "\n"
      ]
    },
    {
      "cell_type": "code",
      "metadata": {
        "colab": {
          "base_uri": "https://localhost:8080/"
        },
        "id": "o6x4ayTkmbsz",
        "outputId": "9bf82246-acd4-446f-b131-1ccd00070ffe"
      },
      "source": [
        "# Check the length of how many samples we have\n",
        "len(X)"
      ],
      "execution_count": 61,
      "outputs": [
        {
          "output_type": "execute_result",
          "data": {
            "text/plain": [
              "50"
            ]
          },
          "metadata": {
            "tags": []
          },
          "execution_count": 61
        }
      ]
    },
    {
      "cell_type": "code",
      "metadata": {
        "colab": {
          "base_uri": "https://localhost:8080/"
        },
        "id": "XSFQQTirmyvV",
        "outputId": "0e54893a-9ea2-4f6e-ad68-b13ad647a6ec"
      },
      "source": [
        "# Split the data into train and test sets\n",
        "X_train = X[:40] # first 40 are training samples (80% of the data) \n",
        "y_train = y[:40]\n",
        "\n",
        "X_test = X[40:] # last 10 are testing samples (20% of the data)\n",
        "y_test = y[40:]\n",
        "\n",
        "len(X_train), len(X_test), len(y_train), len(y_test)"
      ],
      "execution_count": 62,
      "outputs": [
        {
          "output_type": "execute_result",
          "data": {
            "text/plain": [
              "(40, 10, 40, 10)"
            ]
          },
          "metadata": {
            "tags": []
          },
          "execution_count": 62
        }
      ]
    },
    {
      "cell_type": "markdown",
      "metadata": {
        "id": "-TppBKDWnbKC"
      },
      "source": [
        "### Visualizing the data\n",
        "\n",
        "Now we've got our data in training and test sets... let's visualize it again!"
      ]
    },
    {
      "cell_type": "code",
      "metadata": {
        "colab": {
          "base_uri": "https://localhost:8080/",
          "height": 428
        },
        "id": "Wx8g6vh9nwLs",
        "outputId": "eb946a8b-180b-41e7-ee4d-567c9315bb75"
      },
      "source": [
        "plt.figure(figsize=(10, 7))\n",
        "# Plot training data in blue\n",
        "plt.scatter(X_train, y_train, c=\"b\", label=\"Training data\") # our model will learn on this\n",
        "# Plot test data in green\n",
        "plt.scatter(X_test, y_test, c=\"g\", label=\"Testing data\") # want our model to be able to predict this (given X, what's y?)\n",
        "# Show a legend\n",
        "plt.legend();"
      ],
      "execution_count": 63,
      "outputs": [
        {
          "output_type": "display_data",
          "data": {
            "image/png": "[encoded data removed]",
            "text/plain": [
              "<Figure size 720x504 with 1 Axes>"
            ]
          },
          "metadata": {
            "tags": [],
            "needs_background": "light"
          }
        }
      ]
    },
    {
      "cell_type": "code",
      "metadata": {
        "id": "z0U3nhHtpKve",
        "colab": {
          "base_uri": "https://localhost:8080/"
        },
        "outputId": "f279400c-6bb2-496c-b18f-5db9dd7b432f"
      },
      "source": [
        "# Let's have a look at how to build a neural network for our data\n",
        "\n",
        "# 1. Create a model\n",
        "model = tf.keras.Sequential([\n",
        "  tf.keras.layers.Dense(1)                             \n",
        "])\n",
        "\n",
        "# 2. Compile the model\n",
        "model.compile(loss=tf.keras.losses.mae,\n",
        "              optimizer=tf.keras.optimizers.SGD(),\n",
        "              metrics=[\"mae\"])\n",
        "\n",
        "# # 3. Fit the model\n",
        "model.fit(X_train, y_train, epochs=100)"
      ],
      "execution_count": 64,
      "outputs": [
        {
          "output_type": "stream",
          "text": [
            "Epoch 1/100\n",
            "2/2 [==============================] - 0s 4ms/step - loss: 10.5273 - mae: 10.5273\n",
            "Epoch 2/100\n",
            "2/2 [==============================] - 0s 4ms/step - loss: 9.3906 - mae: 9.3906\n",
            "Epoch 3/100\n",
            "2/2 [==============================] - 0s 3ms/step - loss: 7.6292 - mae: 7.6292\n",
            "Epoch 4/100\n",
            "2/2 [==============================] - 0s 3ms/step - loss: 9.6859 - mae: 9.6859\n",
            "Epoch 5/100\n",
            "2/2 [==============================] - 0s 3ms/step - loss: 11.0740 - mae: 11.0740\n",
            "Epoch 6/100\n",
            "2/2 [==============================] - 0s 4ms/step - loss: 10.2264 - mae: 10.2264\n",
            "Epoch 7/100\n",
            "2/2 [==============================] - 0s 4ms/step - loss: 9.2347 - mae: 9.2347\n",
            "Epoch 8/100\n",
            "2/2 [==============================] - 0s 8ms/step - loss: 9.1547 - mae: 9.1547\n",
            "Epoch 9/100\n",
            "2/2 [==============================] - 0s 3ms/step - loss: 11.7875 - mae: 11.7875\n",
            "Epoch 10/100\n",
            "2/2 [==============================] - 0s 2ms/step - loss: 13.7172 - mae: 13.7172\n",
            "Epoch 11/100\n",
            "2/2 [==============================] - 0s 2ms/step - loss: 11.8015 - mae: 11.8015\n",
            "Epoch 12/100\n",
            "2/2 [==============================] - 0s 4ms/step - loss: 16.3555 - mae: 16.3555\n",
            "Epoch 13/100\n",
            "2/2 [==============================] - 0s 4ms/step - loss: 11.9043 - mae: 11.9043\n",
            "Epoch 14/100\n",
            "2/2 [==============================] - 0s 7ms/step - loss: 13.8239 - mae: 13.8239\n",
            "Epoch 15/100\n",
            "2/2 [==============================] - 0s 6ms/step - loss: 11.2084 - mae: 11.2084\n",
            "Epoch 16/100\n",
            "2/2 [==============================] - 0s 8ms/step - loss: 8.5877 - mae: 8.5877\n",
            "Epoch 17/100\n",
            "2/2 [==============================] - 0s 2ms/step - loss: 13.7567 - mae: 13.7567\n",
            "Epoch 18/100\n",
            "2/2 [==============================] - 0s 5ms/step - loss: 11.6177 - mae: 11.6177\n",
            "Epoch 19/100\n",
            "2/2 [==============================] - 0s 3ms/step - loss: 17.7100 - mae: 17.7100\n",
            "Epoch 20/100\n",
            "2/2 [==============================] - 0s 2ms/step - loss: 14.8462 - mae: 14.8462\n",
            "Epoch 21/100\n",
            "2/2 [==============================] - 0s 5ms/step - loss: 10.7513 - mae: 10.7513\n",
            "Epoch 22/100\n",
            "2/2 [==============================] - 0s 11ms/step - loss: 8.4917 - mae: 8.4917\n",
            "Epoch 23/100\n",
            "2/2 [==============================] - 0s 3ms/step - loss: 9.7766 - mae: 9.7766\n",
            "Epoch 24/100\n",
            "2/2 [==============================] - 0s 3ms/step - loss: 10.8531 - mae: 10.8531\n",
            "Epoch 25/100\n",
            "2/2 [==============================] - 0s 3ms/step - loss: 9.1113 - mae: 9.1113\n",
            "Epoch 26/100\n",
            "2/2 [==============================] - 0s 2ms/step - loss: 13.0840 - mae: 13.0840\n",
            "Epoch 27/100\n",
            "2/2 [==============================] - 0s 3ms/step - loss: 10.4066 - mae: 10.4066\n",
            "Epoch 28/100\n",
            "2/2 [==============================] - 0s 2ms/step - loss: 13.4238 - mae: 13.4238\n",
            "Epoch 29/100\n",
            "2/2 [==============================] - 0s 2ms/step - loss: 9.6076 - mae: 9.6076\n",
            "Epoch 30/100\n",
            "2/2 [==============================] - 0s 3ms/step - loss: 17.2601 - mae: 17.2601\n",
            "Epoch 31/100\n",
            "2/2 [==============================] - 0s 3ms/step - loss: 22.8003 - mae: 22.8003\n",
            "Epoch 32/100\n",
            "2/2 [==============================] - 0s 2ms/step - loss: 7.9049 - mae: 7.9049\n",
            "Epoch 33/100\n",
            "2/2 [==============================] - 0s 3ms/step - loss: 14.1734 - mae: 14.1734\n",
            "Epoch 34/100\n",
            "2/2 [==============================] - 0s 3ms/step - loss: 12.4283 - mae: 12.4283\n",
            "Epoch 35/100\n",
            "2/2 [==============================] - 0s 7ms/step - loss: 8.2339 - mae: 8.2339\n",
            "Epoch 36/100\n",
            "2/2 [==============================] - 0s 3ms/step - loss: 10.4408 - mae: 10.4408\n",
            "Epoch 37/100\n",
            "2/2 [==============================] - 0s 4ms/step - loss: 10.0926 - mae: 10.0926\n",
            "Epoch 38/100\n",
            "2/2 [==============================] - 0s 4ms/step - loss: 11.2658 - mae: 11.2658\n",
            "Epoch 39/100\n",
            "2/2 [==============================] - 0s 6ms/step - loss: 14.7947 - mae: 14.7947\n",
            "Epoch 40/100\n",
            "2/2 [==============================] - 0s 5ms/step - loss: 12.9246 - mae: 12.9246\n",
            "Epoch 41/100\n",
            "2/2 [==============================] - 0s 6ms/step - loss: 9.3199 - mae: 9.3199\n",
            "Epoch 42/100\n",
            "2/2 [==============================] - 0s 5ms/step - loss: 10.9560 - mae: 10.9560\n",
            "Epoch 43/100\n",
            "2/2 [==============================] - 0s 3ms/step - loss: 8.3161 - mae: 8.3161\n",
            "Epoch 44/100\n",
            "2/2 [==============================] - 0s 3ms/step - loss: 12.9795 - mae: 12.9795\n",
            "Epoch 45/100\n",
            "2/2 [==============================] - 0s 4ms/step - loss: 13.7222 - mae: 13.7222\n",
            "Epoch 46/100\n",
            "2/2 [==============================] - 0s 6ms/step - loss: 8.4129 - mae: 8.4129\n",
            "Epoch 47/100\n",
            "2/2 [==============================] - 0s 5ms/step - loss: 9.1536 - mae: 9.1536\n",
            "Epoch 48/100\n",
            "2/2 [==============================] - 0s 3ms/step - loss: 10.6543 - mae: 10.6543\n",
            "Epoch 49/100\n",
            "2/2 [==============================] - 0s 5ms/step - loss: 7.7674 - mae: 7.7674\n",
            "Epoch 50/100\n",
            "2/2 [==============================] - 0s 3ms/step - loss: 9.5726 - mae: 9.5726\n",
            "Epoch 51/100\n",
            "2/2 [==============================] - 0s 2ms/step - loss: 9.1575 - mae: 9.1575\n",
            "Epoch 52/100\n",
            "2/2 [==============================] - 0s 3ms/step - loss: 16.4515 - mae: 16.4515\n",
            "Epoch 53/100\n",
            "2/2 [==============================] - 0s 4ms/step - loss: 14.0818 - mae: 14.0818\n",
            "Epoch 54/100\n",
            "2/2 [==============================] - 0s 3ms/step - loss: 21.0172 - mae: 21.0172\n",
            "Epoch 55/100\n",
            "2/2 [==============================] - 0s 2ms/step - loss: 16.4738 - mae: 16.4738\n",
            "Epoch 56/100\n",
            "2/2 [==============================] - 0s 3ms/step - loss: 9.8662 - mae: 9.8662\n",
            "Epoch 57/100\n",
            "2/2 [==============================] - 0s 3ms/step - loss: 9.6413 - mae: 9.6413\n",
            "Epoch 58/100\n",
            "2/2 [==============================] - 0s 10ms/step - loss: 8.9628 - mae: 8.9628\n",
            "Epoch 59/100\n",
            "2/2 [==============================] - 0s 6ms/step - loss: 10.1686 - mae: 10.1686\n",
            "Epoch 60/100\n",
            "2/2 [==============================] - 0s 2ms/step - loss: 8.4129 - mae: 8.4129\n",
            "Epoch 61/100\n",
            "2/2 [==============================] - 0s 3ms/step - loss: 9.2533 - mae: 9.2533\n",
            "Epoch 62/100\n",
            "2/2 [==============================] - 0s 2ms/step - loss: 7.0626 - mae: 7.0626\n",
            "Epoch 63/100\n",
            "2/2 [==============================] - 0s 2ms/step - loss: 8.6398 - mae: 8.6398\n",
            "Epoch 64/100\n",
            "2/2 [==============================] - 0s 3ms/step - loss: 9.2166 - mae: 9.2166\n",
            "Epoch 65/100\n",
            "2/2 [==============================] - 0s 5ms/step - loss: 10.4767 - mae: 10.4767\n",
            "Epoch 66/100\n",
            "2/2 [==============================] - 0s 4ms/step - loss: 15.6303 - mae: 15.6303\n",
            "Epoch 67/100\n",
            "2/2 [==============================] - 0s 2ms/step - loss: 10.0248 - mae: 10.0248\n",
            "Epoch 68/100\n",
            "2/2 [==============================] - 0s 4ms/step - loss: 9.0030 - mae: 9.0030\n",
            "Epoch 69/100\n",
            "2/2 [==============================] - 0s 4ms/step - loss: 12.4993 - mae: 12.4993\n",
            "Epoch 70/100\n",
            "2/2 [==============================] - 0s 3ms/step - loss: 8.9709 - mae: 8.9709\n",
            "Epoch 71/100\n",
            "2/2 [==============================] - 0s 3ms/step - loss: 9.9493 - mae: 9.9493\n",
            "Epoch 72/100\n",
            "2/2 [==============================] - 0s 4ms/step - loss: 9.9817 - mae: 9.9817\n",
            "Epoch 73/100\n",
            "2/2 [==============================] - 0s 4ms/step - loss: 12.4756 - mae: 12.4756\n",
            "Epoch 74/100\n",
            "2/2 [==============================] - 0s 2ms/step - loss: 10.5140 - mae: 10.5140\n",
            "Epoch 75/100\n",
            "2/2 [==============================] - 0s 4ms/step - loss: 9.6442 - mae: 9.6442\n",
            "Epoch 76/100\n",
            "2/2 [==============================] - 0s 3ms/step - loss: 11.1190 - mae: 11.1190\n",
            "Epoch 77/100\n",
            "2/2 [==============================] - 0s 5ms/step - loss: 8.2914 - mae: 8.2914\n",
            "Epoch 78/100\n",
            "2/2 [==============================] - 0s 2ms/step - loss: 8.9997 - mae: 8.9997\n",
            "Epoch 79/100\n",
            "2/2 [==============================] - 0s 3ms/step - loss: 19.7057 - mae: 19.7057\n",
            "Epoch 80/100\n",
            "2/2 [==============================] - 0s 4ms/step - loss: 17.8733 - mae: 17.8733\n",
            "Epoch 81/100\n",
            "2/2 [==============================] - 0s 8ms/step - loss: 7.0400 - mae: 7.0400\n",
            "Epoch 82/100\n",
            "2/2 [==============================] - 0s 4ms/step - loss: 10.4264 - mae: 10.4264\n",
            "Epoch 83/100\n",
            "2/2 [==============================] - 0s 3ms/step - loss: 9.8572 - mae: 9.8572\n",
            "Epoch 84/100\n",
            "2/2 [==============================] - 0s 3ms/step - loss: 7.9069 - mae: 7.9069\n",
            "Epoch 85/100\n",
            "2/2 [==============================] - 0s 3ms/step - loss: 9.4048 - mae: 9.4048\n",
            "Epoch 86/100\n",
            "2/2 [==============================] - 0s 3ms/step - loss: 9.2307 - mae: 9.2307\n",
            "Epoch 87/100\n",
            "2/2 [==============================] - 0s 3ms/step - loss: 12.0129 - mae: 12.0129\n",
            "Epoch 88/100\n",
            "2/2 [==============================] - 0s 2ms/step - loss: 10.6296 - mae: 10.6296\n",
            "Epoch 89/100\n",
            "2/2 [==============================] - 0s 2ms/step - loss: 7.2506 - mae: 7.2506\n",
            "Epoch 90/100\n",
            "2/2 [==============================] - 0s 2ms/step - loss: 12.7702 - mae: 12.7702\n",
            "Epoch 91/100\n",
            "2/2 [==============================] - 0s 8ms/step - loss: 7.4544 - mae: 7.4544\n",
            "Epoch 92/100\n",
            "2/2 [==============================] - 0s 3ms/step - loss: 6.7385 - mae: 6.7385\n",
            "Epoch 93/100\n",
            "2/2 [==============================] - 0s 3ms/step - loss: 11.9206 - mae: 11.9206\n",
            "Epoch 94/100\n",
            "2/2 [==============================] - 0s 4ms/step - loss: 8.8548 - mae: 8.8548\n",
            "Epoch 95/100\n",
            "2/2 [==============================] - 0s 3ms/step - loss: 7.6966 - mae: 7.6966\n",
            "Epoch 96/100\n",
            "2/2 [==============================] - 0s 3ms/step - loss: 6.7327 - mae: 6.7327\n",
            "Epoch 97/100\n",
            "2/2 [==============================] - 0s 3ms/step - loss: 8.6033 - mae: 8.6033\n",
            "Epoch 98/100\n",
            "2/2 [==============================] - 0s 4ms/step - loss: 9.3858 - mae: 9.3858\n",
            "Epoch 99/100\n",
            "2/2 [==============================] - 0s 4ms/step - loss: 9.1203 - mae: 9.1203\n",
            "Epoch 100/100\n",
            "2/2 [==============================] - 0s 9ms/step - loss: 10.4808 - mae: 10.4808\n"
          ],
          "name": "stdout"
        },
        {
          "output_type": "execute_result",
          "data": {
            "text/plain": [
              "<tensorflow.python.keras.callbacks.History at 0x7f986afd41d0>"
            ]
          },
          "metadata": {
            "tags": []
          },
          "execution_count": 64
        }
      ]
    },
    {
      "cell_type": "markdown",
      "metadata": {
        "id": "RnscI3h_qP5a"
      },
      "source": [
        "### Visualizing the model"
      ]
    },
    {
      "cell_type": "code",
      "metadata": {
        "colab": {
          "base_uri": "https://localhost:8080/"
        },
        "id": "gfiOkjp5qSiZ",
        "outputId": "6cf50fca-c6a5-4a92-f96d-4de50b6ff3cd"
      },
      "source": [
        "model.summary()\n"
      ],
      "execution_count": 65,
      "outputs": [
        {
          "output_type": "stream",
          "text": [
            "Model: \"sequential_9\"\n",
            "_________________________________________________________________\n",
            "Layer (type)                 Output Shape              Param #   \n",
            "=================================================================\n",
            "dense_11 (Dense)             (None, 1)                 2         \n",
            "=================================================================\n",
            "Total params: 2\n",
            "Trainable params: 2\n",
            "Non-trainable params: 0\n",
            "_________________________________________________________________\n"
          ],
          "name": "stdout"
        }
      ]
    },
    {
      "cell_type": "code",
      "metadata": {
        "colab": {
          "base_uri": "https://localhost:8080/"
        },
        "id": "2b2QjQhzq6Ah",
        "outputId": "c1e748a4-6c8c-4b9a-8135-83b6e89076cb"
      },
      "source": [
        "X[0], y[0]"
      ],
      "execution_count": 66,
      "outputs": [
        {
          "output_type": "execute_result",
          "data": {
            "text/plain": [
              "(<tf.Tensor: shape=(), dtype=int32, numpy=-100>,\n",
              " <tf.Tensor: shape=(), dtype=int32, numpy=-90>)"
            ]
          },
          "metadata": {
            "tags": []
          },
          "execution_count": 66
        }
      ]
    },
    {
      "cell_type": "code",
      "metadata": {
        "id": "jzPTRyrCqVpT"
      },
      "source": [
        "# Let's create a model which builds automatically by defining the input_shape argument in the first layer\n",
        "tf.random.set_seed(42)\n",
        "\n",
        "# 1. Create a model (same as above)\n",
        "model = tf.keras.Sequential([\n",
        "  tf.keras.layers.Dense(10, input_shape=[1], name=\"input_layer\"),\n",
        "  tf.keras.layers.Dense(1, name=\"output_layer\")\n",
        "], name=\"model_1\")\n",
        "\n",
        "# 2. Compile the model (same as above)\n",
        "model.compile(loss=tf.keras.losses.mae,\n",
        "              optimizer=tf.keras.optimizers.SGD(),\n",
        "              metrics=[\"mae\"])"
      ],
      "execution_count": 67,
      "outputs": []
    },
    {
      "cell_type": "code",
      "metadata": {
        "colab": {
          "base_uri": "https://localhost:8080/"
        },
        "id": "_RDh-9PdrMXo",
        "outputId": "afa1a8fa-e7ce-49dc-bf2c-2e0c8a754d69"
      },
      "source": [
        "model.summary()"
      ],
      "execution_count": 68,
      "outputs": [
        {
          "output_type": "stream",
          "text": [
            "Model: \"model_1\"\n",
            "_________________________________________________________________\n",
            "Layer (type)                 Output Shape              Param #   \n",
            "=================================================================\n",
            "input_layer (Dense)          (None, 10)                20        \n",
            "_________________________________________________________________\n",
            "output_layer (Dense)         (None, 1)                 11        \n",
            "=================================================================\n",
            "Total params: 31\n",
            "Trainable params: 31\n",
            "Non-trainable params: 0\n",
            "_________________________________________________________________\n"
          ],
          "name": "stdout"
        }
      ]
    },
    {
      "cell_type": "code",
      "metadata": {
        "colab": {
          "base_uri": "https://localhost:8080/"
        },
        "id": "ZP91lGTgrPno",
        "outputId": "a6593069-54bf-4983-dc6c-17c7958fb3bb"
      },
      "source": [
        "# Let's fit our model to the training data\n",
        "model.fit(X_train, y_train, epochs=100, verbose=0)"
      ],
      "execution_count": 69,
      "outputs": [
        {
          "output_type": "execute_result",
          "data": {
            "text/plain": [
              "<tensorflow.python.keras.callbacks.History at 0x7f986ed5c850>"
            ]
          },
          "metadata": {
            "tags": []
          },
          "execution_count": 69
        }
      ]
    },
    {
      "cell_type": "code",
      "metadata": {
        "colab": {
          "base_uri": "https://localhost:8080/"
        },
        "id": "SS4oIHfktlex",
        "outputId": "764dda68-4c93-4512-e44f-344bece57979"
      },
      "source": [
        "# Get a summary of our model\n",
        "model.summary()"
      ],
      "execution_count": 70,
      "outputs": [
        {
          "output_type": "stream",
          "text": [
            "Model: \"model_1\"\n",
            "_________________________________________________________________\n",
            "Layer (type)                 Output Shape              Param #   \n",
            "=================================================================\n",
            "input_layer (Dense)          (None, 10)                20        \n",
            "_________________________________________________________________\n",
            "output_layer (Dense)         (None, 1)                 11        \n",
            "=================================================================\n",
            "Total params: 31\n",
            "Trainable params: 31\n",
            "Non-trainable params: 0\n",
            "_________________________________________________________________\n"
          ],
          "name": "stdout"
        }
      ]
    },
    {
      "cell_type": "code",
      "metadata": {
        "colab": {
          "base_uri": "https://localhost:8080/",
          "height": 312
        },
        "id": "--yP4uW8ugKH",
        "outputId": "fd9214f4-6871-4d5d-af30-0fa5e1949de4"
      },
      "source": [
        "from tensorflow.keras.utils import plot_model\n",
        "\n",
        "plot_model(model=model, show_shapes=True)"
      ],
      "execution_count": 71,
      "outputs": [
        {
          "output_type": "execute_result",
          "data": {
            "image/png": "[encoded data removed]",
            "text/plain": [
              "<IPython.core.display.Image object>"
            ]
          },
          "metadata": {
            "tags": []
          },
          "execution_count": 71
        }
      ]
    },
    {
      "cell_type": "markdown",
      "metadata": {
        "id": "ORwPibL8u7Yk"
      },
      "source": [
        "### Visualizing our model's predictions"
      ]
    },
    {
      "cell_type": "code",
      "metadata": {
        "colab": {
          "base_uri": "https://localhost:8080/"
        },
        "id": "85dQbIrHsggD",
        "outputId": "d929cd3a-dca5-4a36-d9f0-477d1648cb46"
      },
      "source": [
        "# Make some predictions\n",
        "y_pred = model.predict(X_test)\n",
        "y_pred "
      ],
      "execution_count": 72,
      "outputs": [
        {
          "output_type": "execute_result",
          "data": {
            "text/plain": [
              "array([[ 70.55218 ],\n",
              "       [ 75.13991 ],\n",
              "       [ 79.72763 ],\n",
              "       [ 84.31535 ],\n",
              "       [ 88.903076],\n",
              "       [ 93.49081 ],\n",
              "       [ 98.07853 ],\n",
              "       [102.66625 ],\n",
              "       [107.253975],\n",
              "       [111.8417  ]], dtype=float32)"
            ]
          },
          "metadata": {
            "tags": []
          },
          "execution_count": 72
        }
      ]
    },
    {
      "cell_type": "code",
      "metadata": {
        "colab": {
          "base_uri": "https://localhost:8080/"
        },
        "id": "Iw7TyglVtUZL",
        "outputId": "205fae34-7569-456d-c45e-e624e7dec6bc"
      },
      "source": [
        "y_test"
      ],
      "execution_count": 73,
      "outputs": [
        {
          "output_type": "execute_result",
          "data": {
            "text/plain": [
              "<tf.Tensor: shape=(10,), dtype=int32, numpy=array([ 70,  74,  78,  82,  86,  90,  94,  98, 102, 106], dtype=int32)>"
            ]
          },
          "metadata": {
            "tags": []
          },
          "execution_count": 73
        }
      ]
    },
    {
      "cell_type": "code",
      "metadata": {
        "id": "sJsnIciYtWfn"
      },
      "source": [
        "# Let's create a plotting function\n",
        "def plot_predictions(train_data=X_train,\n",
        "                     train_labels=y_train,\n",
        "                     test_data=X_test,\n",
        "                     test_labels=y_test,\n",
        "                     predictions=y_pred):\n",
        "  \"\"\"\n",
        "  Plots training data, test data and compares predictions to ground truth labels.\n",
        "  \"\"\"\n",
        "  plt.figure(figsize=(10, 7))\n",
        "  # Plot training data in blue\n",
        "  plt.scatter(train_data, train_labels, c=\"b\", label=\"Training data\")\n",
        "  # Plot testing data in green\n",
        "  plt.scatter(test_data, test_labels, c=\"g\", label=\"Testing data\")\n",
        "  # Plot model's predictions in red\n",
        "  plt.scatter(test_data, predictions, c=\"r\", label=\"Predictions\")\n",
        "  # Show the legend\n",
        "  plt.legend();"
      ],
      "execution_count": 74,
      "outputs": []
    },
    {
      "cell_type": "code",
      "metadata": {
        "colab": {
          "base_uri": "https://localhost:8080/",
          "height": 428
        },
        "id": "6VeRueShuhfN",
        "outputId": "fa2b09fa-94c1-4d1d-fd4d-ecbc95160c7e"
      },
      "source": [
        "plot_predictions(train_data=X_train,\n",
        "                 train_labels=y_train,\n",
        "                 test_data=X_test,\n",
        "                 test_labels=y_test,\n",
        "                 predictions=y_pred)"
      ],
      "execution_count": 75,
      "outputs": [
        {
          "output_type": "display_data",
          "data": {
            "image/png": "[encoded data removed]",
            "text/plain": [
              "<Figure size 720x504 with 1 Axes>"
            ]
          },
          "metadata": {
            "tags": [],
            "needs_background": "light"
          }
        }
      ]
    },
    {
      "cell_type": "markdown",
      "metadata": {
        "id": "poOuTGosukJU"
      },
      "source": [
        "### Evaluting our model's predictions with regression evaluation metrics"
      ]
    },
    {
      "cell_type": "code",
      "metadata": {
        "colab": {
          "base_uri": "https://localhost:8080/"
        },
        "id": "FmeohFOJu_C_",
        "outputId": "30907da1-4155-4425-d6c6-aaf19a5381ed"
      },
      "source": [
        "# Evaluate the model on the test\n",
        "model.evaluate(X_test, y_test)"
      ],
      "execution_count": 76,
      "outputs": [
        {
          "output_type": "stream",
          "text": [
            "1/1 [==============================] - 0s 97ms/step - loss: 3.1969 - mae: 3.1969\n"
          ],
          "name": "stdout"
        },
        {
          "output_type": "execute_result",
          "data": {
            "text/plain": [
              "[3.196942090988159, 3.196942090988159]"
            ]
          },
          "metadata": {
            "tags": []
          },
          "execution_count": 76
        }
      ]
    },
    {
      "cell_type": "code",
      "metadata": {
        "colab": {
          "base_uri": "https://localhost:8080/"
        },
        "id": "eWAP6TCJyUeL",
        "outputId": "30be4eca-3a78-405a-a66b-83d270e3c746"
      },
      "source": [
        "# Calculate the mean absolute error\n",
        "mae = tf.metrics.mean_absolute_error(y_true=y_test, \n",
        "                                     y_pred=tf.constant(y_pred))\n",
        "mae"
      ],
      "execution_count": 77,
      "outputs": [
        {
          "output_type": "execute_result",
          "data": {
            "text/plain": [
              "<tf.Tensor: shape=(10,), dtype=float32, numpy=\n",
              "array([17.558258 , 14.1160555, 11.708948 , 10.336929 , 10.       ,\n",
              "       10.698161 , 12.447118 , 15.333002 , 19.253975 , 23.841698 ],\n",
              "      dtype=float32)>"
            ]
          },
          "metadata": {
            "tags": []
          },
          "execution_count": 77
        }
      ]
    },
    {
      "cell_type": "code",
      "metadata": {
        "colab": {
          "base_uri": "https://localhost:8080/"
        },
        "id": "znxoDzBCyGEd",
        "outputId": "50d40a2f-d80c-4710-94e1-6e5c3e2cd4f3"
      },
      "source": [
        "tf.constant(y_pred)"
      ],
      "execution_count": 78,
      "outputs": [
        {
          "output_type": "execute_result",
          "data": {
            "text/plain": [
              "<tf.Tensor: shape=(10, 1), dtype=float32, numpy=\n",
              "array([[ 70.55218 ],\n",
              "       [ 75.13991 ],\n",
              "       [ 79.72763 ],\n",
              "       [ 84.31535 ],\n",
              "       [ 88.903076],\n",
              "       [ 93.49081 ],\n",
              "       [ 98.07853 ],\n",
              "       [102.66625 ],\n",
              "       [107.253975],\n",
              "       [111.8417  ]], dtype=float32)>"
            ]
          },
          "metadata": {
            "tags": []
          },
          "execution_count": 78
        }
      ]
    },
    {
      "cell_type": "code",
      "metadata": {
        "colab": {
          "base_uri": "https://localhost:8080/"
        },
        "id": "NB5OwjD2ySv4",
        "outputId": "9a8b4837-c00a-4389-cb4e-265b8d68fae9"
      },
      "source": [
        "y_test"
      ],
      "execution_count": 79,
      "outputs": [
        {
          "output_type": "execute_result",
          "data": {
            "text/plain": [
              "<tf.Tensor: shape=(10,), dtype=int32, numpy=array([ 70,  74,  78,  82,  86,  90,  94,  98, 102, 106], dtype=int32)>"
            ]
          },
          "metadata": {
            "tags": []
          },
          "execution_count": 79
        }
      ]
    },
    {
      "cell_type": "code",
      "metadata": {
        "colab": {
          "base_uri": "https://localhost:8080/"
        },
        "id": "fit8MiNSyTZu",
        "outputId": "8163c54e-fb46-4f71-9180-7b5654396c16"
      },
      "source": [
        "tf.squeeze(y_pred)"
      ],
      "execution_count": 80,
      "outputs": [
        {
          "output_type": "execute_result",
          "data": {
            "text/plain": [
              "<tf.Tensor: shape=(10,), dtype=float32, numpy=\n",
              "array([ 70.55218 ,  75.13991 ,  79.72763 ,  84.31535 ,  88.903076,\n",
              "        93.49081 ,  98.07853 , 102.66625 , 107.253975, 111.8417  ],\n",
              "      dtype=float32)>"
            ]
          },
          "metadata": {
            "tags": []
          },
          "execution_count": 80
        }
      ]
    },
    {
      "cell_type": "code",
      "metadata": {
        "colab": {
          "base_uri": "https://localhost:8080/"
        },
        "id": "nFhtsK8J1j2M",
        "outputId": "8c95a8f5-5c60-42f7-acb6-5033ac37c831"
      },
      "source": [
        "# Calculate the mean absolute error\n",
        "mae = tf.metrics.mean_absolute_error(y_true=y_test,\n",
        "                                     y_pred=tf.squeeze(y_pred))\n",
        "mae"
      ],
      "execution_count": 81,
      "outputs": [
        {
          "output_type": "execute_result",
          "data": {
            "text/plain": [
              "<tf.Tensor: shape=(), dtype=float32, numpy=3.1969407>"
            ]
          },
          "metadata": {
            "tags": []
          },
          "execution_count": 81
        }
      ]
    },
    {
      "cell_type": "code",
      "metadata": {
        "colab": {
          "base_uri": "https://localhost:8080/"
        },
        "id": "BK4bRMgi4LcR",
        "outputId": "f4dbb90b-0838-411a-a8e7-694347baa533"
      },
      "source": [
        "# Calculate the mean square error\n",
        "mse = tf.metrics.mean_squared_error(y_true=y_test,\n",
        "                                    y_pred=tf.squeeze(y_pred))\n",
        "mse"
      ],
      "execution_count": 82,
      "outputs": [
        {
          "output_type": "execute_result",
          "data": {
            "text/plain": [
              "<tf.Tensor: shape=(), dtype=float32, numpy=13.070143>"
            ]
          },
          "metadata": {
            "tags": []
          },
          "execution_count": 82
        }
      ]
    },
    {
      "cell_type": "code",
      "metadata": {
        "id": "h46VZYQ28tFP"
      },
      "source": [
        "# Make some functions to reuse MAE and MSE\n",
        "def mae(y_true, y_pred):\n",
        "  return tf.metrics.mean_absolute_error(y_true=y_true,\n",
        "                                        y_pred=tf.squeeze(y_pred))\n",
        "  \n",
        "def mse(y_true, y_pred):\n",
        "  return tf.metrics.mean_squared_error(y_true=y_true,\n",
        "                                       y_pred=tf.squeeze(y_pred))"
      ],
      "execution_count": 83,
      "outputs": []
    },
    {
      "cell_type": "markdown",
      "metadata": {
        "id": "E4mlm41z9w6S"
      },
      "source": [
        "## Running experiments to improve our model\n",
        "\n",
        "```\n",
        "Build a model -> fit it -> evaluate it -> tweak it -> fit it -> evaluate it -> tweak it -> fit it -> evaluate it ...\n",
        "```\n",
        "\n",
        "1. `model_1` - same as the original model, 1 layer, trained for 100 epochs\n",
        "2. `model_2` - 2 layers, trained for 100 epochs\n",
        "3. `model_3` - 2 layers, trained for 500 epochs \n",
        "\n",
        "**Build `model_1`**"
      ]
    },
    {
      "cell_type": "code",
      "metadata": {
        "colab": {
          "base_uri": "https://localhost:8080/"
        },
        "id": "F7HtkYT1B6wk",
        "outputId": "3493c40f-de3a-4351-f2c0-f3b03628f523"
      },
      "source": [
        "#make model_1 \n",
        "tf.random.set_seed(42)\n",
        "\n",
        "model_1= tf.keras.Sequential([\n",
        "  tf.keras.layers.Dense(1)\n",
        "])\n",
        "\n",
        "model_1.compile(loss=tf.keras.losses.mae,\n",
        "                optimizer=tf.keras.optimizers.Adam(),\n",
        "                metrics=[\"mae\"])\n",
        "\n",
        "model_1.fit(X_train,y_train,epochs=100)"
      ],
      "execution_count": 84,
      "outputs": [
        {
          "output_type": "stream",
          "text": [
            "Epoch 1/100\n",
            "2/2 [==============================] - 0s 3ms/step - loss: 17.1913 - mae: 17.1913\n",
            "Epoch 2/100\n",
            "2/2 [==============================] - 0s 6ms/step - loss: 17.1097 - mae: 17.1097\n",
            "Epoch 3/100\n",
            "2/2 [==============================] - 0s 6ms/step - loss: 17.0316 - mae: 17.0316\n",
            "Epoch 4/100\n",
            "2/2 [==============================] - 0s 5ms/step - loss: 16.9512 - mae: 16.9512\n",
            "Epoch 5/100\n",
            "2/2 [==============================] - 0s 5ms/step - loss: 16.8718 - mae: 16.8718\n",
            "Epoch 6/100\n",
            "2/2 [==============================] - 0s 5ms/step - loss: 16.7931 - mae: 16.7931\n",
            "Epoch 7/100\n",
            "2/2 [==============================] - 0s 5ms/step - loss: 16.7121 - mae: 16.7121\n",
            "Epoch 8/100\n",
            "2/2 [==============================] - 0s 6ms/step - loss: 16.6304 - mae: 16.6304\n",
            "Epoch 9/100\n",
            "2/2 [==============================] - 0s 6ms/step - loss: 16.5541 - mae: 16.5541\n",
            "Epoch 10/100\n",
            "2/2 [==============================] - 0s 7ms/step - loss: 16.4802 - mae: 16.4802\n",
            "Epoch 11/100\n",
            "2/2 [==============================] - 0s 3ms/step - loss: 16.3976 - mae: 16.3976\n",
            "Epoch 12/100\n",
            "2/2 [==============================] - 0s 3ms/step - loss: 16.3216 - mae: 16.3216\n",
            "Epoch 13/100\n",
            "2/2 [==============================] - 0s 6ms/step - loss: 16.2411 - mae: 16.2411\n",
            "Epoch 14/100\n",
            "2/2 [==============================] - 0s 5ms/step - loss: 16.1655 - mae: 16.1655\n",
            "Epoch 15/100\n",
            "2/2 [==============================] - 0s 6ms/step - loss: 16.0884 - mae: 16.0884\n",
            "Epoch 16/100\n",
            "2/2 [==============================] - 0s 6ms/step - loss: 16.0086 - mae: 16.0086\n",
            "Epoch 17/100\n",
            "2/2 [==============================] - 0s 5ms/step - loss: 15.9301 - mae: 15.9301\n",
            "Epoch 18/100\n",
            "2/2 [==============================] - 0s 6ms/step - loss: 15.8532 - mae: 15.8532\n",
            "Epoch 19/100\n",
            "2/2 [==============================] - 0s 6ms/step - loss: 15.7781 - mae: 15.7781\n",
            "Epoch 20/100\n",
            "2/2 [==============================] - 0s 5ms/step - loss: 15.6980 - mae: 15.6980\n",
            "Epoch 21/100\n",
            "2/2 [==============================] - 0s 4ms/step - loss: 15.6217 - mae: 15.6217\n",
            "Epoch 22/100\n",
            "2/2 [==============================] - 0s 4ms/step - loss: 15.5484 - mae: 15.5484\n",
            "Epoch 23/100\n",
            "2/2 [==============================] - 0s 3ms/step - loss: 15.4725 - mae: 15.4725\n",
            "Epoch 24/100\n",
            "2/2 [==============================] - 0s 5ms/step - loss: 15.3953 - mae: 15.3953\n",
            "Epoch 25/100\n",
            "2/2 [==============================] - 0s 4ms/step - loss: 15.3193 - mae: 15.3193\n",
            "Epoch 26/100\n",
            "2/2 [==============================] - 0s 8ms/step - loss: 15.2458 - mae: 15.2458\n",
            "Epoch 27/100\n",
            "2/2 [==============================] - 0s 5ms/step - loss: 15.1688 - mae: 15.1688\n",
            "Epoch 28/100\n",
            "2/2 [==============================] - 0s 10ms/step - loss: 15.0955 - mae: 15.0955\n",
            "Epoch 29/100\n",
            "2/2 [==============================] - 0s 11ms/step - loss: 15.0130 - mae: 15.0130\n",
            "Epoch 30/100\n",
            "2/2 [==============================] - 0s 7ms/step - loss: 14.9341 - mae: 14.9341\n",
            "Epoch 31/100\n",
            "2/2 [==============================] - 0s 6ms/step - loss: 14.8629 - mae: 14.8629\n",
            "Epoch 32/100\n",
            "2/2 [==============================] - 0s 4ms/step - loss: 14.7832 - mae: 14.7832\n",
            "Epoch 33/100\n",
            "2/2 [==============================] - 0s 3ms/step - loss: 14.7030 - mae: 14.7030\n",
            "Epoch 34/100\n",
            "2/2 [==============================] - 0s 3ms/step - loss: 14.6298 - mae: 14.6298\n",
            "Epoch 35/100\n",
            "2/2 [==============================] - 0s 7ms/step - loss: 14.5500 - mae: 14.5500\n",
            "Epoch 36/100\n",
            "2/2 [==============================] - 0s 3ms/step - loss: 14.4794 - mae: 14.4794\n",
            "Epoch 37/100\n",
            "2/2 [==============================] - 0s 3ms/step - loss: 14.4016 - mae: 14.4016\n",
            "Epoch 38/100\n",
            "2/2 [==============================] - 0s 3ms/step - loss: 14.3314 - mae: 14.3314\n",
            "Epoch 39/100\n",
            "2/2 [==============================] - 0s 3ms/step - loss: 14.2599 - mae: 14.2599\n",
            "Epoch 40/100\n",
            "2/2 [==============================] - 0s 3ms/step - loss: 14.1895 - mae: 14.1895\n",
            "Epoch 41/100\n",
            "2/2 [==============================] - 0s 4ms/step - loss: 14.1207 - mae: 14.1207\n",
            "Epoch 42/100\n",
            "2/2 [==============================] - 0s 6ms/step - loss: 14.0524 - mae: 14.0524\n",
            "Epoch 43/100\n",
            "2/2 [==============================] - 0s 4ms/step - loss: 13.9786 - mae: 13.9786\n",
            "Epoch 44/100\n",
            "2/2 [==============================] - 0s 4ms/step - loss: 13.9131 - mae: 13.9131\n",
            "Epoch 45/100\n",
            "2/2 [==============================] - 0s 5ms/step - loss: 13.8411 - mae: 13.8411\n",
            "Epoch 46/100\n",
            "2/2 [==============================] - 0s 3ms/step - loss: 13.7755 - mae: 13.7755\n",
            "Epoch 47/100\n",
            "2/2 [==============================] - 0s 4ms/step - loss: 13.7029 - mae: 13.7029\n",
            "Epoch 48/100\n",
            "2/2 [==============================] - 0s 6ms/step - loss: 13.6371 - mae: 13.6371\n",
            "Epoch 49/100\n",
            "2/2 [==============================] - 0s 5ms/step - loss: 13.5695 - mae: 13.5695\n",
            "Epoch 50/100\n",
            "2/2 [==============================] - 0s 2ms/step - loss: 13.5028 - mae: 13.5028\n",
            "Epoch 51/100\n",
            "2/2 [==============================] - 0s 8ms/step - loss: 13.4322 - mae: 13.4322\n",
            "Epoch 52/100\n",
            "2/2 [==============================] - 0s 6ms/step - loss: 13.3674 - mae: 13.3674\n",
            "Epoch 53/100\n",
            "2/2 [==============================] - 0s 9ms/step - loss: 13.2940 - mae: 13.2940\n",
            "Epoch 54/100\n",
            "2/2 [==============================] - 0s 3ms/step - loss: 13.2227 - mae: 13.2227\n",
            "Epoch 55/100\n",
            "2/2 [==============================] - 0s 8ms/step - loss: 13.1526 - mae: 13.1526\n",
            "Epoch 56/100\n",
            "2/2 [==============================] - 0s 3ms/step - loss: 13.0784 - mae: 13.0784\n",
            "Epoch 57/100\n",
            "2/2 [==============================] - 0s 9ms/step - loss: 13.0058 - mae: 13.0058\n",
            "Epoch 58/100\n",
            "2/2 [==============================] - 0s 5ms/step - loss: 12.9326 - mae: 12.9326\n",
            "Epoch 59/100\n",
            "2/2 [==============================] - 0s 4ms/step - loss: 12.8614 - mae: 12.8614\n",
            "Epoch 60/100\n",
            "2/2 [==============================] - 0s 3ms/step - loss: 12.7910 - mae: 12.7910\n",
            "Epoch 61/100\n",
            "2/2 [==============================] - 0s 3ms/step - loss: 12.7188 - mae: 12.7188\n",
            "Epoch 62/100\n",
            "2/2 [==============================] - 0s 3ms/step - loss: 12.6523 - mae: 12.6523\n",
            "Epoch 63/100\n",
            "2/2 [==============================] - 0s 3ms/step - loss: 12.5831 - mae: 12.5831\n",
            "Epoch 64/100\n",
            "2/2 [==============================] - 0s 5ms/step - loss: 12.5180 - mae: 12.5180\n",
            "Epoch 65/100\n",
            "2/2 [==============================] - 0s 5ms/step - loss: 12.4513 - mae: 12.4513\n",
            "Epoch 66/100\n",
            "2/2 [==============================] - 0s 3ms/step - loss: 12.3858 - mae: 12.3858\n",
            "Epoch 67/100\n",
            "2/2 [==============================] - 0s 3ms/step - loss: 12.3206 - mae: 12.3206\n",
            "Epoch 68/100\n",
            "2/2 [==============================] - 0s 3ms/step - loss: 12.2537 - mae: 12.2537\n",
            "Epoch 69/100\n",
            "2/2 [==============================] - 0s 2ms/step - loss: 12.1918 - mae: 12.1918\n",
            "Epoch 70/100\n",
            "2/2 [==============================] - 0s 3ms/step - loss: 12.1244 - mae: 12.1244\n",
            "Epoch 71/100\n",
            "2/2 [==============================] - 0s 3ms/step - loss: 12.0607 - mae: 12.0607\n",
            "Epoch 72/100\n",
            "2/2 [==============================] - 0s 3ms/step - loss: 11.9966 - mae: 11.9966\n",
            "Epoch 73/100\n",
            "2/2 [==============================] - 0s 3ms/step - loss: 11.9282 - mae: 11.9282\n",
            "Epoch 74/100\n",
            "2/2 [==============================] - 0s 3ms/step - loss: 11.8674 - mae: 11.8674\n",
            "Epoch 75/100\n",
            "2/2 [==============================] - 0s 2ms/step - loss: 11.7975 - mae: 11.7975\n",
            "Epoch 76/100\n",
            "2/2 [==============================] - 0s 8ms/step - loss: 11.7304 - mae: 11.7304\n",
            "Epoch 77/100\n",
            "2/2 [==============================] - 0s 3ms/step - loss: 11.6644 - mae: 11.6644\n",
            "Epoch 78/100\n",
            "2/2 [==============================] - 0s 6ms/step - loss: 11.5935 - mae: 11.5935\n",
            "Epoch 79/100\n",
            "2/2 [==============================] - 0s 3ms/step - loss: 11.5236 - mae: 11.5236\n",
            "Epoch 80/100\n",
            "2/2 [==============================] - 0s 3ms/step - loss: 11.4580 - mae: 11.4580\n",
            "Epoch 81/100\n",
            "2/2 [==============================] - 0s 6ms/step - loss: 11.3924 - mae: 11.3924\n",
            "Epoch 82/100\n",
            "2/2 [==============================] - 0s 3ms/step - loss: 11.3247 - mae: 11.3247\n",
            "Epoch 83/100\n",
            "2/2 [==============================] - 0s 3ms/step - loss: 11.2654 - mae: 11.2654\n",
            "Epoch 84/100\n",
            "2/2 [==============================] - 0s 3ms/step - loss: 11.1980 - mae: 11.1980\n",
            "Epoch 85/100\n",
            "2/2 [==============================] - 0s 3ms/step - loss: 11.1400 - mae: 11.1400\n",
            "Epoch 86/100\n",
            "2/2 [==============================] - 0s 73ms/step - loss: 11.0787 - mae: 11.0787\n",
            "Epoch 87/100\n",
            "2/2 [==============================] - 0s 14ms/step - loss: 11.0144 - mae: 11.0144\n",
            "Epoch 88/100\n",
            "2/2 [==============================] - 0s 7ms/step - loss: 10.9537 - mae: 10.9537\n",
            "Epoch 89/100\n",
            "2/2 [==============================] - 0s 9ms/step - loss: 10.8875 - mae: 10.8875\n",
            "Epoch 90/100\n",
            "2/2 [==============================] - 0s 6ms/step - loss: 10.8258 - mae: 10.8258\n",
            "Epoch 91/100\n",
            "2/2 [==============================] - 0s 5ms/step - loss: 10.7580 - mae: 10.7580\n",
            "Epoch 92/100\n",
            "2/2 [==============================] - 0s 5ms/step - loss: 10.6974 - mae: 10.6974\n",
            "Epoch 93/100\n",
            "2/2 [==============================] - 0s 4ms/step - loss: 10.6345 - mae: 10.6345\n",
            "Epoch 94/100\n",
            "2/2 [==============================] - 0s 5ms/step - loss: 10.5684 - mae: 10.5684\n",
            "Epoch 95/100\n",
            "2/2 [==============================] - 0s 4ms/step - loss: 10.5093 - mae: 10.5093\n",
            "Epoch 96/100\n",
            "2/2 [==============================] - 0s 4ms/step - loss: 10.4433 - mae: 10.4433\n",
            "Epoch 97/100\n",
            "2/2 [==============================] - 0s 4ms/step - loss: 10.3896 - mae: 10.3896\n",
            "Epoch 98/100\n",
            "2/2 [==============================] - 0s 3ms/step - loss: 10.3307 - mae: 10.3307\n",
            "Epoch 99/100\n",
            "2/2 [==============================] - 0s 4ms/step - loss: 10.2705 - mae: 10.2705\n",
            "Epoch 100/100\n",
            "2/2 [==============================] - 0s 3ms/step - loss: 10.2149 - mae: 10.2149\n"
          ],
          "name": "stdout"
        },
        {
          "output_type": "execute_result",
          "data": {
            "text/plain": [
              "<tensorflow.python.keras.callbacks.History at 0x7f986ff88950>"
            ]
          },
          "metadata": {
            "tags": []
          },
          "execution_count": 84
        }
      ]
    },
    {
      "cell_type": "code",
      "metadata": {
        "id": "EzT3cdf9CpnH"
      },
      "source": [
        "#make prediction by fitting the test data in the model_1\n"
      ],
      "execution_count": 85,
      "outputs": []
    },
    {
      "cell_type": "code",
      "metadata": {
        "colab": {
          "base_uri": "https://localhost:8080/",
          "height": 428
        },
        "id": "S0mjhlJ9EO4K",
        "outputId": "d47393fa-6349-4626-f92c-090160a54457"
      },
      "source": [
        "y_preds_1 = model_1.predict(X_test)\n",
        "plot_predictions(predictions=y_preds_1)"
      ],
      "execution_count": 86,
      "outputs": [
        {
          "output_type": "display_data",
          "data": {
            "image/png": "[encoded data removed]",
            "text/plain": [
              "<Figure size 720x504 with 1 Axes>"
            ]
          },
          "metadata": {
            "tags": [],
            "needs_background": "light"
          }
        }
      ]
    },
    {
      "cell_type": "code",
      "metadata": {
        "colab": {
          "base_uri": "https://localhost:8080/"
        },
        "id": "rSPs5FKpEduf",
        "outputId": "85956e2b-875a-46b4-9ab9-e16e9258573e"
      },
      "source": [
        "# calculate modell_1 evaluation metrics\n",
        "#squeeze the preds tensor\n",
        "mae_1 = mae(y_test,(y_preds_1))\n",
        "mse_1 = mse(y_test,(y_preds_1))\n",
        "mae_1,mse_1"
      ],
      "execution_count": 87,
      "outputs": [
        {
          "output_type": "execute_result",
          "data": {
            "text/plain": [
              "(<tf.Tensor: shape=(), dtype=float32, numpy=28.659399>,\n",
              " <tf.Tensor: shape=(), dtype=float32, numpy=828.96497>)"
            ]
          },
          "metadata": {
            "tags": []
          },
          "execution_count": 87
        }
      ]
    },
    {
      "cell_type": "code",
      "metadata": {
        "colab": {
          "base_uri": "https://localhost:8080/"
        },
        "id": "1cbWwUD3En_3",
        "outputId": "ecb2de51-5d28-4823-e56a-7c29a6bf31ee"
      },
      "source": [
        "# create model_2\n",
        "\n",
        "tf.random.set_seed(42)\n",
        "\n",
        "model_2 = tf.keras.Sequential([\n",
        "  tf.keras.layers.Dense(10),\n",
        "  tf.keras.layers.Dense(1)\n",
        "])\n",
        "\n",
        "# compiling the model\n",
        "model_2.compile(loss=tf.keras.losses.mae,\n",
        "                optimizer=tf.keras.optimizers.SGD(),\n",
        "                metrics=[\"mse\"])\n",
        "model_2.fit(X_train,y_train,epochs=100)"
      ],
      "execution_count": 88,
      "outputs": [
        {
          "output_type": "stream",
          "text": [
            "Epoch 1/100\n",
            "2/2 [==============================] - 0s 5ms/step - loss: 27.4058 - mse: 1084.1482\n",
            "Epoch 2/100\n",
            "2/2 [==============================] - 0s 5ms/step - loss: 24.6339 - mse: 777.9203\n",
            "Epoch 3/100\n",
            "2/2 [==============================] - 0s 6ms/step - loss: 29.8935 - mse: 1334.8956\n",
            "Epoch 4/100\n",
            "2/2 [==============================] - 0s 7ms/step - loss: 27.4055 - mse: 1106.8035\n",
            "Epoch 5/100\n",
            "2/2 [==============================] - 0s 3ms/step - loss: 14.9463 - mse: 281.1077\n",
            "Epoch 6/100\n",
            "2/2 [==============================] - 0s 4ms/step - loss: 11.8819 - mse: 168.6621\n",
            "Epoch 7/100\n",
            "2/2 [==============================] - 0s 5ms/step - loss: 11.1988 - mse: 151.3509\n",
            "Epoch 8/100\n",
            "2/2 [==============================] - 0s 7ms/step - loss: 11.0910 - mse: 160.3745\n",
            "Epoch 9/100\n",
            "2/2 [==============================] - 0s 5ms/step - loss: 40.4763 - mse: 2586.0090\n",
            "Epoch 10/100\n",
            "2/2 [==============================] - 0s 4ms/step - loss: 27.8688 - mse: 1094.4382\n",
            "Epoch 11/100\n",
            "2/2 [==============================] - 0s 6ms/step - loss: 10.2473 - mse: 147.9359\n",
            "Epoch 12/100\n",
            "2/2 [==============================] - 0s 6ms/step - loss: 25.2803 - mse: 890.3866\n",
            "Epoch 13/100\n",
            "2/2 [==============================] - 0s 6ms/step - loss: 16.9897 - mse: 399.9678\n",
            "Epoch 14/100\n",
            "2/2 [==============================] - 0s 5ms/step - loss: 25.9217 - mse: 1049.5515\n",
            "Epoch 15/100\n",
            "2/2 [==============================] - 0s 4ms/step - loss: 17.9948 - mse: 450.2580\n",
            "Epoch 16/100\n",
            "2/2 [==============================] - 0s 4ms/step - loss: 7.3510 - mse: 80.6206\n",
            "Epoch 17/100\n",
            "2/2 [==============================] - 0s 4ms/step - loss: 10.8636 - mse: 174.7868\n",
            "Epoch 18/100\n",
            "2/2 [==============================] - 0s 5ms/step - loss: 19.5304 - mse: 565.8053\n",
            "Epoch 19/100\n",
            "2/2 [==============================] - 0s 3ms/step - loss: 10.3469 - mse: 167.7749\n",
            "Epoch 20/100\n",
            "2/2 [==============================] - 0s 6ms/step - loss: 17.6985 - mse: 455.7096\n",
            "Epoch 21/100\n",
            "2/2 [==============================] - 0s 6ms/step - loss: 15.8984 - mse: 347.1929\n",
            "Epoch 22/100\n",
            "2/2 [==============================] - 0s 6ms/step - loss: 14.1991 - mse: 285.1767\n",
            "Epoch 23/100\n",
            "2/2 [==============================] - 0s 7ms/step - loss: 8.7720 - mse: 91.7852\n",
            "Epoch 24/100\n",
            "2/2 [==============================] - 0s 7ms/step - loss: 11.0570 - mse: 153.7430\n",
            "Epoch 25/100\n",
            "2/2 [==============================] - 0s 6ms/step - loss: 12.6838 - mse: 233.2949\n",
            "Epoch 26/100\n",
            "2/2 [==============================] - 0s 4ms/step - loss: 26.1877 - mse: 1024.6091\n",
            "Epoch 27/100\n",
            "2/2 [==============================] - 0s 3ms/step - loss: 11.7432 - mse: 194.8454\n",
            "Epoch 28/100\n",
            "2/2 [==============================] - 0s 9ms/step - loss: 22.8730 - mse: 835.6074\n",
            "Epoch 29/100\n",
            "2/2 [==============================] - 0s 4ms/step - loss: 9.2459 - mse: 96.7786\n",
            "Epoch 30/100\n",
            "2/2 [==============================] - 0s 6ms/step - loss: 29.2641 - mse: 1535.1349\n",
            "Epoch 31/100\n",
            "2/2 [==============================] - 0s 5ms/step - loss: 53.0225 - mse: 5030.2988\n",
            "Epoch 32/100\n",
            "2/2 [==============================] - 0s 11ms/step - loss: 11.9951 - mse: 211.7025\n",
            "Epoch 33/100\n",
            "2/2 [==============================] - 0s 5ms/step - loss: 15.6357 - mse: 337.3666\n",
            "Epoch 34/100\n",
            "2/2 [==============================] - 0s 8ms/step - loss: 12.6925 - mse: 214.4824\n",
            "Epoch 35/100\n",
            "2/2 [==============================] - 0s 8ms/step - loss: 9.2398 - mse: 92.9126\n",
            "Epoch 36/100\n",
            "2/2 [==============================] - 0s 6ms/step - loss: 16.6497 - mse: 403.6573\n",
            "Epoch 37/100\n",
            "2/2 [==============================] - 0s 6ms/step - loss: 11.0382 - mse: 192.3919\n",
            "Epoch 38/100\n",
            "2/2 [==============================] - 0s 8ms/step - loss: 18.1634 - mse: 433.6717\n",
            "Epoch 39/100\n",
            "2/2 [==============================] - 0s 4ms/step - loss: 19.1013 - mse: 529.6439\n",
            "Epoch 40/100\n",
            "2/2 [==============================] - 0s 6ms/step - loss: 20.4324 - mse: 610.1324\n",
            "Epoch 41/100\n",
            "2/2 [==============================] - 0s 5ms/step - loss: 14.9102 - mse: 279.6183\n",
            "Epoch 42/100\n",
            "2/2 [==============================] - 0s 5ms/step - loss: 12.2809 - mse: 186.6180\n",
            "Epoch 43/100\n",
            "2/2 [==============================] - 0s 6ms/step - loss: 10.7333 - mse: 167.0952\n",
            "Epoch 44/100\n",
            "2/2 [==============================] - 0s 2ms/step - loss: 23.0260 - mse: 830.4244\n",
            "Epoch 45/100\n",
            "2/2 [==============================] - 0s 4ms/step - loss: 10.3897 - mse: 128.9549\n",
            "Epoch 46/100\n",
            "2/2 [==============================] - 0s 9ms/step - loss: 11.7904 - mse: 181.9212\n",
            "Epoch 47/100\n",
            "2/2 [==============================] - 0s 3ms/step - loss: 9.6438 - mse: 153.8708\n",
            "Epoch 48/100\n",
            "2/2 [==============================] - 0s 4ms/step - loss: 17.2335 - mse: 402.8494\n",
            "Epoch 49/100\n",
            "2/2 [==============================] - 0s 4ms/step - loss: 9.5729 - mse: 99.8337\n",
            "Epoch 50/100\n",
            "2/2 [==============================] - 0s 5ms/step - loss: 13.8185 - mse: 260.3670\n",
            "Epoch 51/100\n",
            "2/2 [==============================] - 0s 5ms/step - loss: 11.5958 - mse: 154.7956\n",
            "Epoch 52/100\n",
            "2/2 [==============================] - 0s 5ms/step - loss: 30.5538 - mse: 1613.0886\n",
            "Epoch 53/100\n",
            "2/2 [==============================] - 0s 2ms/step - loss: 14.3541 - mse: 302.5293\n",
            "Epoch 54/100\n",
            "2/2 [==============================] - 0s 7ms/step - loss: 23.9713 - mse: 859.3983\n",
            "Epoch 55/100\n",
            "2/2 [==============================] - 0s 4ms/step - loss: 23.1938 - mse: 805.5452\n",
            "Epoch 56/100\n",
            "2/2 [==============================] - 0s 5ms/step - loss: 10.8837 - mse: 170.9834\n",
            "Epoch 57/100\n",
            "2/2 [==============================] - 0s 4ms/step - loss: 12.7445 - mse: 198.7015\n",
            "Epoch 58/100\n",
            "2/2 [==============================] - 0s 4ms/step - loss: 9.5995 - mse: 102.5890\n",
            "Epoch 59/100\n",
            "2/2 [==============================] - 0s 8ms/step - loss: 12.5172 - mse: 216.3367\n",
            "Epoch 60/100\n",
            "2/2 [==============================] - 0s 6ms/step - loss: 12.3200 - mse: 208.6371\n",
            "Epoch 61/100\n",
            "2/2 [==============================] - 0s 5ms/step - loss: 17.4604 - mse: 428.6393\n",
            "Epoch 62/100\n",
            "2/2 [==============================] - 0s 4ms/step - loss: 10.6052 - mse: 136.9777\n",
            "Epoch 63/100\n",
            "2/2 [==============================] - 0s 5ms/step - loss: 10.4893 - mse: 152.4555\n",
            "Epoch 64/100\n",
            "2/2 [==============================] - 0s 3ms/step - loss: 24.8450 - mse: 911.7512\n",
            "Epoch 65/100\n",
            "2/2 [==============================] - 0s 5ms/step - loss: 10.6761 - mse: 142.7374\n",
            "Epoch 66/100\n",
            "2/2 [==============================] - 0s 5ms/step - loss: 21.7809 - mse: 704.4492\n",
            "Epoch 67/100\n",
            "2/2 [==============================] - 0s 9ms/step - loss: 10.7136 - mse: 136.0194\n",
            "Epoch 68/100\n",
            "2/2 [==============================] - 0s 3ms/step - loss: 10.6397 - mse: 149.2300\n",
            "Epoch 69/100\n",
            "2/2 [==============================] - 0s 3ms/step - loss: 22.6914 - mse: 742.1761\n",
            "Epoch 70/100\n",
            "2/2 [==============================] - 0s 6ms/step - loss: 9.3316 - mse: 166.1628\n",
            "Epoch 71/100\n",
            "2/2 [==============================] - 0s 3ms/step - loss: 15.4355 - mse: 323.0843\n",
            "Epoch 72/100\n",
            "2/2 [==============================] - 0s 3ms/step - loss: 6.7437 - mse: 67.0210\n",
            "Epoch 73/100\n",
            "2/2 [==============================] - 0s 7ms/step - loss: 11.6891 - mse: 183.7296\n",
            "Epoch 74/100\n",
            "2/2 [==============================] - 0s 4ms/step - loss: 24.0400 - mse: 908.8992\n",
            "Epoch 75/100\n",
            "2/2 [==============================] - 0s 3ms/step - loss: 9.5896 - mse: 149.3948\n",
            "Epoch 76/100\n",
            "2/2 [==============================] - 0s 13ms/step - loss: 12.4371 - mse: 188.3310\n",
            "Epoch 77/100\n",
            "2/2 [==============================] - 0s 3ms/step - loss: 16.6489 - mse: 429.2708\n",
            "Epoch 78/100\n",
            "2/2 [==============================] - 0s 3ms/step - loss: 9.0614 - mse: 95.4870\n",
            "Epoch 79/100\n",
            "2/2 [==============================] - 0s 4ms/step - loss: 23.9675 - mse: 864.0864\n",
            "Epoch 80/100\n",
            "2/2 [==============================] - 0s 3ms/step - loss: 26.7463 - mse: 1104.4032\n",
            "Epoch 81/100\n",
            "2/2 [==============================] - 0s 3ms/step - loss: 11.6714 - mse: 170.7055\n",
            "Epoch 82/100\n",
            "2/2 [==============================] - 0s 3ms/step - loss: 12.0228 - mse: 211.9191\n",
            "Epoch 83/100\n",
            "2/2 [==============================] - 0s 3ms/step - loss: 17.4218 - mse: 395.5589\n",
            "Epoch 84/100\n",
            "2/2 [==============================] - 0s 3ms/step - loss: 7.2629 - mse: 73.0935\n",
            "Epoch 85/100\n",
            "2/2 [==============================] - 0s 8ms/step - loss: 14.9650 - mse: 312.8361\n",
            "Epoch 86/100\n",
            "2/2 [==============================] - 0s 7ms/step - loss: 15.2862 - mse: 315.3605\n",
            "Epoch 87/100\n",
            "2/2 [==============================] - 0s 7ms/step - loss: 19.1086 - mse: 521.2534\n",
            "Epoch 88/100\n",
            "2/2 [==============================] - 0s 6ms/step - loss: 29.8229 - mse: 1287.1907\n",
            "Epoch 89/100\n",
            "2/2 [==============================] - 0s 5ms/step - loss: 10.1742 - mse: 124.1342\n",
            "Epoch 90/100\n",
            "2/2 [==============================] - 0s 7ms/step - loss: 21.5240 - mse: 663.8611\n",
            "Epoch 91/100\n",
            "2/2 [==============================] - 0s 5ms/step - loss: 10.5716 - mse: 161.7467\n",
            "Epoch 92/100\n",
            "2/2 [==============================] - 0s 8ms/step - loss: 18.3977 - mse: 464.1326\n",
            "Epoch 93/100\n",
            "2/2 [==============================] - 0s 5ms/step - loss: 7.4138 - mse: 81.9820\n",
            "Epoch 94/100\n",
            "2/2 [==============================] - 0s 6ms/step - loss: 17.7380 - mse: 445.7379\n",
            "Epoch 95/100\n",
            "2/2 [==============================] - 0s 5ms/step - loss: 11.1144 - mse: 164.0820\n",
            "Epoch 96/100\n",
            "2/2 [==============================] - 0s 5ms/step - loss: 19.4346 - mse: 510.5842\n",
            "Epoch 97/100\n",
            "2/2 [==============================] - 0s 9ms/step - loss: 12.1593 - mse: 209.9755\n",
            "Epoch 98/100\n",
            "2/2 [==============================] - 0s 7ms/step - loss: 11.5653 - mse: 169.4052\n",
            "Epoch 99/100\n",
            "2/2 [==============================] - 0s 9ms/step - loss: 13.8827 - mse: 265.4630\n",
            "Epoch 100/100\n",
            "2/2 [==============================] - 0s 5ms/step - loss: 20.2277 - mse: 608.8218\n"
          ],
          "name": "stdout"
        },
        {
          "output_type": "execute_result",
          "data": {
            "text/plain": [
              "<tensorflow.python.keras.callbacks.History at 0x7f986fe52650>"
            ]
          },
          "metadata": {
            "tags": []
          },
          "execution_count": 88
        }
      ]
    },
    {
      "cell_type": "code",
      "metadata": {
        "colab": {
          "base_uri": "https://localhost:8080/",
          "height": 428
        },
        "id": "DB-FAdBsFWZ7",
        "outputId": "0260da8b-ca66-4029-c19d-aed204c6d39e"
      },
      "source": [
        "#make prediction for the model_2\n",
        "y_preds_2 = model_2.predict(X_test)\n",
        "plot_predictions(predictions=y_preds_2)"
      ],
      "execution_count": 89,
      "outputs": [
        {
          "output_type": "display_data",
          "data": {
            "image/png": "[encoded data removed]",
            "text/plain": [
              "<Figure size 720x504 with 1 Axes>"
            ]
          },
          "metadata": {
            "tags": [],
            "needs_background": "light"
          }
        }
      ]
    },
    {
      "cell_type": "code",
      "metadata": {
        "colab": {
          "base_uri": "https://localhost:8080/"
        },
        "id": "UmvWOpNfGy3y",
        "outputId": "5eb4819b-a15a-4ba1-a2fc-66801373e0c2"
      },
      "source": [
        "# model_3\n",
        "tf.random.set_seed(42)\n",
        "\n",
        "model_3 = tf.keras.Sequential([\n",
        "  tf.keras.layers.Dense(10),\n",
        "  tf.keras.layers.Dense(1)\n",
        "])\n",
        "\n",
        "model_3.compile(loss = tf.keras.losses.mae,\n",
        "                optimizer = tf.keras.optimizers.SGD(),\n",
        "                metrics=[\"mae\"])\n",
        "model_3.fit(X_train,y_train,epochs=500)"
      ],
      "execution_count": 90,
      "outputs": [
        {
          "output_type": "stream",
          "text": [
            "Epoch 1/500\n",
            "2/2 [==============================] - 0s 4ms/step - loss: 27.4058 - mae: 27.4058\n",
            "Epoch 2/500\n",
            "2/2 [==============================] - 0s 4ms/step - loss: 24.6339 - mae: 24.6339\n",
            "Epoch 3/500\n",
            "2/2 [==============================] - 0s 8ms/step - loss: 29.8935 - mae: 29.8935\n",
            "Epoch 4/500\n",
            "2/2 [==============================] - 0s 5ms/step - loss: 27.4055 - mae: 27.4055\n",
            "Epoch 5/500\n",
            "2/2 [==============================] - 0s 4ms/step - loss: 14.9463 - mae: 14.9463\n",
            "Epoch 6/500\n",
            "2/2 [==============================] - 0s 3ms/step - loss: 11.8819 - mae: 11.8819\n",
            "Epoch 7/500\n",
            "2/2 [==============================] - 0s 3ms/step - loss: 11.1988 - mae: 11.1988\n",
            "Epoch 8/500\n",
            "2/2 [==============================] - 0s 7ms/step - loss: 11.0910 - mae: 11.0910\n",
            "Epoch 9/500\n",
            "2/2 [==============================] - 0s 8ms/step - loss: 40.4763 - mae: 40.4763\n",
            "Epoch 10/500\n",
            "2/2 [==============================] - 0s 6ms/step - loss: 27.8688 - mae: 27.8688\n",
            "Epoch 11/500\n",
            "2/2 [==============================] - 0s 5ms/step - loss: 10.2473 - mae: 10.2473\n",
            "Epoch 12/500\n",
            "2/2 [==============================] - 0s 2ms/step - loss: 25.2803 - mae: 25.2803\n",
            "Epoch 13/500\n",
            "2/2 [==============================] - 0s 5ms/step - loss: 16.9897 - mae: 16.9897\n",
            "Epoch 14/500\n",
            "2/2 [==============================] - 0s 5ms/step - loss: 25.9217 - mae: 25.9217\n",
            "Epoch 15/500\n",
            "2/2 [==============================] - 0s 7ms/step - loss: 17.9948 - mae: 17.9948\n",
            "Epoch 16/500\n",
            "2/2 [==============================] - 0s 3ms/step - loss: 7.3510 - mae: 7.3510\n",
            "Epoch 17/500\n",
            "2/2 [==============================] - 0s 3ms/step - loss: 10.8636 - mae: 10.8636\n",
            "Epoch 18/500\n",
            "2/2 [==============================] - 0s 3ms/step - loss: 19.5304 - mae: 19.5304\n",
            "Epoch 19/500\n",
            "2/2 [==============================] - 0s 10ms/step - loss: 10.3469 - mae: 10.3469\n",
            "Epoch 20/500\n",
            "2/2 [==============================] - 0s 4ms/step - loss: 17.6985 - mae: 17.6985\n",
            "Epoch 21/500\n",
            "2/2 [==============================] - 0s 2ms/step - loss: 15.8984 - mae: 15.8984\n",
            "Epoch 22/500\n",
            "2/2 [==============================] - 0s 3ms/step - loss: 14.1991 - mae: 14.1991\n",
            "Epoch 23/500\n",
            "2/2 [==============================] - 0s 4ms/step - loss: 8.7720 - mae: 8.7720\n",
            "Epoch 24/500\n",
            "2/2 [==============================] - 0s 4ms/step - loss: 11.0570 - mae: 11.0570\n",
            "Epoch 25/500\n",
            "2/2 [==============================] - 0s 3ms/step - loss: 12.6838 - mae: 12.6838\n",
            "Epoch 26/500\n",
            "2/2 [==============================] - 0s 5ms/step - loss: 26.1877 - mae: 26.1877\n",
            "Epoch 27/500\n",
            "2/2 [==============================] - 0s 3ms/step - loss: 11.7432 - mae: 11.7432\n",
            "Epoch 28/500\n",
            "2/2 [==============================] - 0s 2ms/step - loss: 22.8730 - mae: 22.8730\n",
            "Epoch 29/500\n",
            "2/2 [==============================] - 0s 2ms/step - loss: 9.2459 - mae: 9.2459\n",
            "Epoch 30/500\n",
            "2/2 [==============================] - 0s 4ms/step - loss: 29.2641 - mae: 29.2641\n",
            "Epoch 31/500\n",
            "2/2 [==============================] - 0s 2ms/step - loss: 53.0225 - mae: 53.0225\n",
            "Epoch 32/500\n",
            "2/2 [==============================] - 0s 3ms/step - loss: 11.9951 - mae: 11.9951\n",
            "Epoch 33/500\n",
            "2/2 [==============================] - 0s 4ms/step - loss: 15.6357 - mae: 15.6357\n",
            "Epoch 34/500\n",
            "2/2 [==============================] - 0s 5ms/step - loss: 12.6925 - mae: 12.6925\n",
            "Epoch 35/500\n",
            "2/2 [==============================] - 0s 3ms/step - loss: 9.2398 - mae: 9.2398\n",
            "Epoch 36/500\n",
            "2/2 [==============================] - 0s 3ms/step - loss: 16.6497 - mae: 16.6497\n",
            "Epoch 37/500\n",
            "2/2 [==============================] - 0s 3ms/step - loss: 11.0382 - mae: 11.0382\n",
            "Epoch 38/500\n",
            "2/2 [==============================] - 0s 6ms/step - loss: 18.1634 - mae: 18.1634\n",
            "Epoch 39/500\n",
            "2/2 [==============================] - 0s 4ms/step - loss: 19.1013 - mae: 19.1013\n",
            "Epoch 40/500\n",
            "2/2 [==============================] - 0s 5ms/step - loss: 20.4324 - mae: 20.4324\n",
            "Epoch 41/500\n",
            "2/2 [==============================] - 0s 13ms/step - loss: 14.9102 - mae: 14.9102\n",
            "Epoch 42/500\n",
            "2/2 [==============================] - 0s 4ms/step - loss: 12.2809 - mae: 12.2809\n",
            "Epoch 43/500\n",
            "2/2 [==============================] - 0s 5ms/step - loss: 10.7333 - mae: 10.7333\n",
            "Epoch 44/500\n",
            "2/2 [==============================] - 0s 8ms/step - loss: 23.0260 - mae: 23.0260\n",
            "Epoch 45/500\n",
            "2/2 [==============================] - 0s 4ms/step - loss: 10.3897 - mae: 10.3897\n",
            "Epoch 46/500\n",
            "2/2 [==============================] - 0s 2ms/step - loss: 11.7904 - mae: 11.7904\n",
            "Epoch 47/500\n",
            "2/2 [==============================] - 0s 8ms/step - loss: 9.6438 - mae: 9.6438\n",
            "Epoch 48/500\n",
            "2/2 [==============================] - 0s 12ms/step - loss: 17.2335 - mae: 17.2335\n",
            "Epoch 49/500\n",
            "2/2 [==============================] - 0s 2ms/step - loss: 9.5729 - mae: 9.5729\n",
            "Epoch 50/500\n",
            "2/2 [==============================] - 0s 4ms/step - loss: 13.8185 - mae: 13.8185\n",
            "Epoch 51/500\n",
            "2/2 [==============================] - 0s 3ms/step - loss: 11.5958 - mae: 11.5958\n",
            "Epoch 52/500\n",
            "2/2 [==============================] - 0s 4ms/step - loss: 30.5538 - mae: 30.5538\n",
            "Epoch 53/500\n",
            "2/2 [==============================] - 0s 12ms/step - loss: 14.3541 - mae: 14.3541\n",
            "Epoch 54/500\n",
            "2/2 [==============================] - 0s 6ms/step - loss: 23.9713 - mae: 23.9713\n",
            "Epoch 55/500\n",
            "2/2 [==============================] - 0s 3ms/step - loss: 23.1938 - mae: 23.1938\n",
            "Epoch 56/500\n",
            "2/2 [==============================] - 0s 5ms/step - loss: 10.8837 - mae: 10.8837\n",
            "Epoch 57/500\n",
            "2/2 [==============================] - 0s 11ms/step - loss: 12.7445 - mae: 12.7445\n",
            "Epoch 58/500\n",
            "2/2 [==============================] - 0s 3ms/step - loss: 9.5995 - mae: 9.5995\n",
            "Epoch 59/500\n",
            "2/2 [==============================] - 0s 3ms/step - loss: 12.5172 - mae: 12.5172\n",
            "Epoch 60/500\n",
            "2/2 [==============================] - 0s 5ms/step - loss: 12.3200 - mae: 12.3200\n",
            "Epoch 61/500\n",
            "2/2 [==============================] - 0s 6ms/step - loss: 17.4604 - mae: 17.4604\n",
            "Epoch 62/500\n",
            "2/2 [==============================] - 0s 3ms/step - loss: 10.6052 - mae: 10.6052\n",
            "Epoch 63/500\n",
            "2/2 [==============================] - 0s 8ms/step - loss: 10.4893 - mae: 10.4893\n",
            "Epoch 64/500\n",
            "2/2 [==============================] - 0s 2ms/step - loss: 24.8450 - mae: 24.8450\n",
            "Epoch 65/500\n",
            "2/2 [==============================] - 0s 3ms/step - loss: 10.6761 - mae: 10.6761\n",
            "Epoch 66/500\n",
            "2/2 [==============================] - 0s 10ms/step - loss: 21.7809 - mae: 21.7809\n",
            "Epoch 67/500\n",
            "2/2 [==============================] - 0s 2ms/step - loss: 10.7136 - mae: 10.7136\n",
            "Epoch 68/500\n",
            "2/2 [==============================] - 0s 2ms/step - loss: 10.6397 - mae: 10.6397\n",
            "Epoch 69/500\n",
            "2/2 [==============================] - 0s 3ms/step - loss: 22.6914 - mae: 22.6914\n",
            "Epoch 70/500\n",
            "2/2 [==============================] - 0s 2ms/step - loss: 9.3316 - mae: 9.3316\n",
            "Epoch 71/500\n",
            "2/2 [==============================] - 0s 9ms/step - loss: 15.4355 - mae: 15.4355\n",
            "Epoch 72/500\n",
            "2/2 [==============================] - 0s 2ms/step - loss: 6.7437 - mae: 6.7437\n",
            "Epoch 73/500\n",
            "2/2 [==============================] - 0s 3ms/step - loss: 11.6891 - mae: 11.6891\n",
            "Epoch 74/500\n",
            "2/2 [==============================] - 0s 5ms/step - loss: 24.0400 - mae: 24.0400\n",
            "Epoch 75/500\n",
            "2/2 [==============================] - 0s 4ms/step - loss: 9.5896 - mae: 9.5896\n",
            "Epoch 76/500\n",
            "2/2 [==============================] - 0s 3ms/step - loss: 12.4371 - mae: 12.4371\n",
            "Epoch 77/500\n",
            "2/2 [==============================] - 0s 4ms/step - loss: 16.6489 - mae: 16.6489\n",
            "Epoch 78/500\n",
            "2/2 [==============================] - 0s 3ms/step - loss: 9.0614 - mae: 9.0614\n",
            "Epoch 79/500\n",
            "2/2 [==============================] - 0s 6ms/step - loss: 23.9675 - mae: 23.9675\n",
            "Epoch 80/500\n",
            "2/2 [==============================] - 0s 9ms/step - loss: 26.7463 - mae: 26.7463\n",
            "Epoch 81/500\n",
            "2/2 [==============================] - 0s 2ms/step - loss: 11.6714 - mae: 11.6714\n",
            "Epoch 82/500\n",
            "2/2 [==============================] - 0s 2ms/step - loss: 12.0228 - mae: 12.0228\n",
            "Epoch 83/500\n",
            "2/2 [==============================] - 0s 7ms/step - loss: 17.4218 - mae: 17.4218\n",
            "Epoch 84/500\n",
            "2/2 [==============================] - 0s 3ms/step - loss: 7.2629 - mae: 7.2629\n",
            "Epoch 85/500\n",
            "2/2 [==============================] - 0s 3ms/step - loss: 14.9650 - mae: 14.9650\n",
            "Epoch 86/500\n",
            "2/2 [==============================] - 0s 8ms/step - loss: 15.2862 - mae: 15.2862\n",
            "Epoch 87/500\n",
            "2/2 [==============================] - 0s 3ms/step - loss: 19.1086 - mae: 19.1086\n",
            "Epoch 88/500\n",
            "2/2 [==============================] - 0s 3ms/step - loss: 29.8229 - mae: 29.8229\n",
            "Epoch 89/500\n",
            "2/2 [==============================] - 0s 3ms/step - loss: 10.1742 - mae: 10.1742\n",
            "Epoch 90/500\n",
            "2/2 [==============================] - 0s 3ms/step - loss: 21.5240 - mae: 21.5240\n",
            "Epoch 91/500\n",
            "2/2 [==============================] - 0s 8ms/step - loss: 10.5716 - mae: 10.5716\n",
            "Epoch 92/500\n",
            "2/2 [==============================] - 0s 2ms/step - loss: 18.3977 - mae: 18.3977\n",
            "Epoch 93/500\n",
            "2/2 [==============================] - 0s 2ms/step - loss: 7.4138 - mae: 7.4138\n",
            "Epoch 94/500\n",
            "2/2 [==============================] - 0s 7ms/step - loss: 17.7380 - mae: 17.7380\n",
            "Epoch 95/500\n",
            "2/2 [==============================] - 0s 2ms/step - loss: 11.1144 - mae: 11.1144\n",
            "Epoch 96/500\n",
            "2/2 [==============================] - 0s 2ms/step - loss: 19.4346 - mae: 19.4346\n",
            "Epoch 97/500\n",
            "2/2 [==============================] - 0s 2ms/step - loss: 12.1593 - mae: 12.1593\n",
            "Epoch 98/500\n",
            "2/2 [==============================] - 0s 8ms/step - loss: 11.5653 - mae: 11.5653\n",
            "Epoch 99/500\n",
            "2/2 [==============================] - 0s 14ms/step - loss: 13.8827 - mae: 13.8827\n",
            "Epoch 100/500\n",
            "2/2 [==============================] - 0s 8ms/step - loss: 20.2277 - mae: 20.2277\n",
            "Epoch 101/500\n",
            "2/2 [==============================] - 0s 6ms/step - loss: 11.4479 - mae: 11.4479\n",
            "Epoch 102/500\n",
            "2/2 [==============================] - 0s 4ms/step - loss: 17.4842 - mae: 17.4842\n",
            "Epoch 103/500\n",
            "2/2 [==============================] - 0s 5ms/step - loss: 7.0217 - mae: 7.0217\n",
            "Epoch 104/500\n",
            "2/2 [==============================] - 0s 7ms/step - loss: 23.5789 - mae: 23.5789\n",
            "Epoch 105/500\n",
            "2/2 [==============================] - 0s 4ms/step - loss: 16.8932 - mae: 16.8932\n",
            "Epoch 106/500\n",
            "2/2 [==============================] - 0s 13ms/step - loss: 9.2954 - mae: 9.2954\n",
            "Epoch 107/500\n",
            "2/2 [==============================] - 0s 7ms/step - loss: 25.3749 - mae: 25.3749\n",
            "Epoch 108/500\n",
            "2/2 [==============================] - 0s 12ms/step - loss: 13.4621 - mae: 13.4621\n",
            "Epoch 109/500\n",
            "2/2 [==============================] - 0s 13ms/step - loss: 9.5238 - mae: 9.5238\n",
            "Epoch 110/500\n",
            "2/2 [==============================] - 0s 5ms/step - loss: 9.6722 - mae: 9.6722\n",
            "Epoch 111/500\n",
            "2/2 [==============================] - 0s 3ms/step - loss: 14.5987 - mae: 14.5987\n",
            "Epoch 112/500\n",
            "2/2 [==============================] - 0s 4ms/step - loss: 9.5670 - mae: 9.5670\n",
            "Epoch 113/500\n",
            "2/2 [==============================] - 0s 5ms/step - loss: 17.8092 - mae: 17.8092\n",
            "Epoch 114/500\n",
            "2/2 [==============================] - 0s 4ms/step - loss: 17.1782 - mae: 17.1782\n",
            "Epoch 115/500\n",
            "2/2 [==============================] - 0s 9ms/step - loss: 11.1182 - mae: 11.1182\n",
            "Epoch 116/500\n",
            "2/2 [==============================] - 0s 3ms/step - loss: 23.3071 - mae: 23.3071\n",
            "Epoch 117/500\n",
            "2/2 [==============================] - 0s 7ms/step - loss: 9.6144 - mae: 9.6144\n",
            "Epoch 118/500\n",
            "2/2 [==============================] - 0s 3ms/step - loss: 10.6899 - mae: 10.6899\n",
            "Epoch 119/500\n",
            "2/2 [==============================] - 0s 6ms/step - loss: 8.0355 - mae: 8.0355\n",
            "Epoch 120/500\n",
            "2/2 [==============================] - 0s 7ms/step - loss: 29.6859 - mae: 29.6859\n",
            "Epoch 121/500\n",
            "2/2 [==============================] - 0s 5ms/step - loss: 8.0714 - mae: 8.0714\n",
            "Epoch 122/500\n",
            "2/2 [==============================] - 0s 4ms/step - loss: 28.3086 - mae: 28.3086\n",
            "Epoch 123/500\n",
            "2/2 [==============================] - 0s 4ms/step - loss: 32.9014 - mae: 32.9014\n",
            "Epoch 124/500\n",
            "2/2 [==============================] - 0s 4ms/step - loss: 19.6291 - mae: 19.6291\n",
            "Epoch 125/500\n",
            "2/2 [==============================] - 0s 7ms/step - loss: 7.0095 - mae: 7.0095\n",
            "Epoch 126/500\n",
            "2/2 [==============================] - 0s 3ms/step - loss: 21.8056 - mae: 21.8056\n",
            "Epoch 127/500\n",
            "2/2 [==============================] - 0s 3ms/step - loss: 7.9812 - mae: 7.9812\n",
            "Epoch 128/500\n",
            "2/2 [==============================] - 0s 3ms/step - loss: 21.0585 - mae: 21.0585\n",
            "Epoch 129/500\n",
            "2/2 [==============================] - 0s 5ms/step - loss: 9.0107 - mae: 9.0107\n",
            "Epoch 130/500\n",
            "2/2 [==============================] - 0s 3ms/step - loss: 24.0502 - mae: 24.0502\n",
            "Epoch 131/500\n",
            "2/2 [==============================] - 0s 3ms/step - loss: 9.7537 - mae: 9.7537\n",
            "Epoch 132/500\n",
            "2/2 [==============================] - 0s 5ms/step - loss: 18.3052 - mae: 18.3052\n",
            "Epoch 133/500\n",
            "2/2 [==============================] - 0s 5ms/step - loss: 7.5833 - mae: 7.5833\n",
            "Epoch 134/500\n",
            "2/2 [==============================] - 0s 6ms/step - loss: 18.5755 - mae: 18.5755\n",
            "Epoch 135/500\n",
            "2/2 [==============================] - 0s 8ms/step - loss: 10.5360 - mae: 10.5360\n",
            "Epoch 136/500\n",
            "2/2 [==============================] - 0s 4ms/step - loss: 18.2694 - mae: 18.2694\n",
            "Epoch 137/500\n",
            "2/2 [==============================] - 0s 7ms/step - loss: 23.1658 - mae: 23.1658\n",
            "Epoch 138/500\n",
            "2/2 [==============================] - 0s 4ms/step - loss: 9.1362 - mae: 9.1362\n",
            "Epoch 139/500\n",
            "2/2 [==============================] - 0s 4ms/step - loss: 8.9181 - mae: 8.9181\n",
            "Epoch 140/500\n",
            "2/2 [==============================] - 0s 3ms/step - loss: 16.4732 - mae: 16.4732\n",
            "Epoch 141/500\n",
            "2/2 [==============================] - 0s 3ms/step - loss: 8.4208 - mae: 8.4208\n",
            "Epoch 142/500\n",
            "2/2 [==============================] - 0s 5ms/step - loss: 36.9540 - mae: 36.9540\n",
            "Epoch 143/500\n",
            "2/2 [==============================] - 0s 3ms/step - loss: 25.5820 - mae: 25.5820\n",
            "Epoch 144/500\n",
            "2/2 [==============================] - 0s 7ms/step - loss: 9.5392 - mae: 9.5392\n",
            "Epoch 145/500\n",
            "2/2 [==============================] - 0s 14ms/step - loss: 26.6058 - mae: 26.6058\n",
            "Epoch 146/500\n",
            "2/2 [==============================] - 0s 8ms/step - loss: 8.7248 - mae: 8.7248\n",
            "Epoch 147/500\n",
            "2/2 [==============================] - 0s 7ms/step - loss: 15.6172 - mae: 15.6172\n",
            "Epoch 148/500\n",
            "2/2 [==============================] - 0s 6ms/step - loss: 18.3065 - mae: 18.3065\n",
            "Epoch 149/500\n",
            "2/2 [==============================] - 0s 3ms/step - loss: 8.1994 - mae: 8.1994\n",
            "Epoch 150/500\n",
            "2/2 [==============================] - 0s 3ms/step - loss: 7.4964 - mae: 7.4964\n",
            "Epoch 151/500\n",
            "2/2 [==============================] - 0s 2ms/step - loss: 18.3374 - mae: 18.3374\n",
            "Epoch 152/500\n",
            "2/2 [==============================] - 0s 11ms/step - loss: 10.2895 - mae: 10.2895\n",
            "Epoch 153/500\n",
            "2/2 [==============================] - 0s 4ms/step - loss: 29.6425 - mae: 29.6425\n",
            "Epoch 154/500\n",
            "2/2 [==============================] - 0s 5ms/step - loss: 10.5556 - mae: 10.5556\n",
            "Epoch 155/500\n",
            "2/2 [==============================] - 0s 7ms/step - loss: 15.4537 - mae: 15.4537\n",
            "Epoch 156/500\n",
            "2/2 [==============================] - 0s 3ms/step - loss: 17.0174 - mae: 17.0174\n",
            "Epoch 157/500\n",
            "2/2 [==============================] - 0s 3ms/step - loss: 32.8218 - mae: 32.8218\n",
            "Epoch 158/500\n",
            "2/2 [==============================] - 0s 3ms/step - loss: 10.7038 - mae: 10.7038\n",
            "Epoch 159/500\n",
            "2/2 [==============================] - 0s 4ms/step - loss: 8.9054 - mae: 8.9054\n",
            "Epoch 160/500\n",
            "2/2 [==============================] - 0s 4ms/step - loss: 22.1321 - mae: 22.1321\n",
            "Epoch 161/500\n",
            "2/2 [==============================] - 0s 3ms/step - loss: 11.7113 - mae: 11.7113\n",
            "Epoch 162/500\n",
            "2/2 [==============================] - 0s 3ms/step - loss: 21.5734 - mae: 21.5734\n",
            "Epoch 163/500\n",
            "2/2 [==============================] - 0s 6ms/step - loss: 19.2485 - mae: 19.2485\n",
            "Epoch 164/500\n",
            "2/2 [==============================] - 0s 3ms/step - loss: 11.0156 - mae: 11.0156\n",
            "Epoch 165/500\n",
            "2/2 [==============================] - 0s 5ms/step - loss: 9.6187 - mae: 9.6187\n",
            "Epoch 166/500\n",
            "2/2 [==============================] - 0s 3ms/step - loss: 21.5908 - mae: 21.5908\n",
            "Epoch 167/500\n",
            "2/2 [==============================] - 0s 9ms/step - loss: 26.2851 - mae: 26.2851\n",
            "Epoch 168/500\n",
            "2/2 [==============================] - 0s 12ms/step - loss: 9.8525 - mae: 9.8525\n",
            "Epoch 169/500\n",
            "2/2 [==============================] - 0s 6ms/step - loss: 22.5630 - mae: 22.5630\n",
            "Epoch 170/500\n",
            "2/2 [==============================] - 0s 5ms/step - loss: 10.1499 - mae: 10.1499\n",
            "Epoch 171/500\n",
            "2/2 [==============================] - 0s 4ms/step - loss: 18.0464 - mae: 18.0464\n",
            "Epoch 172/500\n",
            "2/2 [==============================] - 0s 6ms/step - loss: 28.8377 - mae: 28.8377\n",
            "Epoch 173/500\n",
            "2/2 [==============================] - 0s 5ms/step - loss: 16.5279 - mae: 16.5279\n",
            "Epoch 174/500\n",
            "2/2 [==============================] - 0s 4ms/step - loss: 11.2115 - mae: 11.2115\n",
            "Epoch 175/500\n",
            "2/2 [==============================] - 0s 9ms/step - loss: 27.5839 - mae: 27.5839\n",
            "Epoch 176/500\n",
            "2/2 [==============================] - 0s 3ms/step - loss: 8.2680 - mae: 8.2680\n",
            "Epoch 177/500\n",
            "2/2 [==============================] - 0s 3ms/step - loss: 9.2580 - mae: 9.2580\n",
            "Epoch 178/500\n",
            "2/2 [==============================] - 0s 7ms/step - loss: 18.1440 - mae: 18.1440\n",
            "Epoch 179/500\n",
            "2/2 [==============================] - 0s 4ms/step - loss: 10.5995 - mae: 10.5995\n",
            "Epoch 180/500\n",
            "2/2 [==============================] - 0s 3ms/step - loss: 7.8992 - mae: 7.8992\n",
            "Epoch 181/500\n",
            "2/2 [==============================] - 0s 3ms/step - loss: 17.4015 - mae: 17.4015\n",
            "Epoch 182/500\n",
            "2/2 [==============================] - 0s 4ms/step - loss: 11.0089 - mae: 11.0089\n",
            "Epoch 183/500\n",
            "2/2 [==============================] - 0s 4ms/step - loss: 11.7027 - mae: 11.7027\n",
            "Epoch 184/500\n",
            "2/2 [==============================] - 0s 8ms/step - loss: 30.4062 - mae: 30.4062\n",
            "Epoch 185/500\n",
            "2/2 [==============================] - 0s 2ms/step - loss: 7.5557 - mae: 7.5557\n",
            "Epoch 186/500\n",
            "2/2 [==============================] - 0s 3ms/step - loss: 15.9905 - mae: 15.9905\n",
            "Epoch 187/500\n",
            "2/2 [==============================] - 0s 3ms/step - loss: 8.5579 - mae: 8.5579\n",
            "Epoch 188/500\n",
            "2/2 [==============================] - 0s 3ms/step - loss: 28.7339 - mae: 28.7339\n",
            "Epoch 189/500\n",
            "2/2 [==============================] - 0s 8ms/step - loss: 13.1689 - mae: 13.1689\n",
            "Epoch 190/500\n",
            "2/2 [==============================] - 0s 2ms/step - loss: 18.3101 - mae: 18.3101\n",
            "Epoch 191/500\n",
            "2/2 [==============================] - 0s 8ms/step - loss: 13.7376 - mae: 13.7376\n",
            "Epoch 192/500\n",
            "2/2 [==============================] - 0s 11ms/step - loss: 13.7104 - mae: 13.7104\n",
            "Epoch 193/500\n",
            "2/2 [==============================] - 0s 6ms/step - loss: 28.5842 - mae: 28.5842\n",
            "Epoch 194/500\n",
            "2/2 [==============================] - 0s 3ms/step - loss: 7.0707 - mae: 7.0707\n",
            "Epoch 195/500\n",
            "2/2 [==============================] - 0s 3ms/step - loss: 7.0550 - mae: 7.0550\n",
            "Epoch 196/500\n",
            "2/2 [==============================] - 0s 3ms/step - loss: 22.0067 - mae: 22.0067\n",
            "Epoch 197/500\n",
            "2/2 [==============================] - 0s 7ms/step - loss: 20.8443 - mae: 20.8443\n",
            "Epoch 198/500\n",
            "2/2 [==============================] - 0s 3ms/step - loss: 12.4713 - mae: 12.4713\n",
            "Epoch 199/500\n",
            "2/2 [==============================] - 0s 5ms/step - loss: 17.9099 - mae: 17.9099\n",
            "Epoch 200/500\n",
            "2/2 [==============================] - 0s 17ms/step - loss: 13.7494 - mae: 13.7494\n",
            "Epoch 201/500\n",
            "2/2 [==============================] - 0s 6ms/step - loss: 5.4687 - mae: 5.4687\n",
            "Epoch 202/500\n",
            "2/2 [==============================] - 0s 3ms/step - loss: 13.7006 - mae: 13.7006\n",
            "Epoch 203/500\n",
            "2/2 [==============================] - 0s 7ms/step - loss: 9.4142 - mae: 9.4142\n",
            "Epoch 204/500\n",
            "2/2 [==============================] - 0s 2ms/step - loss: 20.9796 - mae: 20.9796\n",
            "Epoch 205/500\n",
            "2/2 [==============================] - 0s 2ms/step - loss: 9.5470 - mae: 9.5470\n",
            "Epoch 206/500\n",
            "2/2 [==============================] - 0s 8ms/step - loss: 11.7256 - mae: 11.7256\n",
            "Epoch 207/500\n",
            "2/2 [==============================] - 0s 2ms/step - loss: 14.3772 - mae: 14.3772\n",
            "Epoch 208/500\n",
            "2/2 [==============================] - 0s 2ms/step - loss: 14.8579 - mae: 14.8579\n",
            "Epoch 209/500\n",
            "2/2 [==============================] - 0s 3ms/step - loss: 14.9706 - mae: 14.9706\n",
            "Epoch 210/500\n",
            "2/2 [==============================] - 0s 2ms/step - loss: 17.8998 - mae: 17.8998\n",
            "Epoch 211/500\n",
            "2/2 [==============================] - 0s 2ms/step - loss: 9.8327 - mae: 9.8327\n",
            "Epoch 212/500\n",
            "2/2 [==============================] - 0s 12ms/step - loss: 18.3352 - mae: 18.3352\n",
            "Epoch 213/500\n",
            "2/2 [==============================] - 0s 4ms/step - loss: 15.0383 - mae: 15.0383\n",
            "Epoch 214/500\n",
            "2/2 [==============================] - 0s 3ms/step - loss: 14.5874 - mae: 14.5874\n",
            "Epoch 215/500\n",
            "2/2 [==============================] - 0s 3ms/step - loss: 23.3015 - mae: 23.3015\n",
            "Epoch 216/500\n",
            "2/2 [==============================] - 0s 4ms/step - loss: 13.3613 - mae: 13.3613\n",
            "Epoch 217/500\n",
            "2/2 [==============================] - 0s 4ms/step - loss: 9.8517 - mae: 9.8517\n",
            "Epoch 218/500\n",
            "2/2 [==============================] - 0s 4ms/step - loss: 12.5451 - mae: 12.5451\n",
            "Epoch 219/500\n",
            "2/2 [==============================] - 0s 3ms/step - loss: 4.9472 - mae: 4.9472\n",
            "Epoch 220/500\n",
            "2/2 [==============================] - 0s 3ms/step - loss: 7.1130 - mae: 7.1130\n",
            "Epoch 221/500\n",
            "2/2 [==============================] - 0s 10ms/step - loss: 35.4567 - mae: 35.4567\n",
            "Epoch 222/500\n",
            "2/2 [==============================] - 0s 4ms/step - loss: 34.8634 - mae: 34.8634\n",
            "Epoch 223/500\n",
            "2/2 [==============================] - 0s 3ms/step - loss: 7.9846 - mae: 7.9846\n",
            "Epoch 224/500\n",
            "2/2 [==============================] - 0s 3ms/step - loss: 14.7004 - mae: 14.7004\n",
            "Epoch 225/500\n",
            "2/2 [==============================] - 0s 4ms/step - loss: 16.7196 - mae: 16.7196\n",
            "Epoch 226/500\n",
            "2/2 [==============================] - 0s 6ms/step - loss: 15.9329 - mae: 15.9329\n",
            "Epoch 227/500\n",
            "2/2 [==============================] - 0s 2ms/step - loss: 16.1644 - mae: 16.1644\n",
            "Epoch 228/500\n",
            "2/2 [==============================] - 0s 2ms/step - loss: 13.9324 - mae: 13.9324\n",
            "Epoch 229/500\n",
            "2/2 [==============================] - 0s 4ms/step - loss: 18.0504 - mae: 18.0504\n",
            "Epoch 230/500\n",
            "2/2 [==============================] - 0s 4ms/step - loss: 15.6120 - mae: 15.6120\n",
            "Epoch 231/500\n",
            "2/2 [==============================] - 0s 2ms/step - loss: 21.2041 - mae: 21.2041\n",
            "Epoch 232/500\n",
            "2/2 [==============================] - 0s 2ms/step - loss: 25.2732 - mae: 25.2732\n",
            "Epoch 233/500\n",
            "2/2 [==============================] - 0s 3ms/step - loss: 16.3176 - mae: 16.3176\n",
            "Epoch 234/500\n",
            "2/2 [==============================] - 0s 5ms/step - loss: 7.2729 - mae: 7.2729\n",
            "Epoch 235/500\n",
            "2/2 [==============================] - 0s 4ms/step - loss: 16.9688 - mae: 16.9688\n",
            "Epoch 236/500\n",
            "2/2 [==============================] - 0s 2ms/step - loss: 7.1225 - mae: 7.1225\n",
            "Epoch 237/500\n",
            "2/2 [==============================] - 0s 2ms/step - loss: 9.2058 - mae: 9.2058\n",
            "Epoch 238/500\n",
            "2/2 [==============================] - 0s 2ms/step - loss: 8.0961 - mae: 8.0961\n",
            "Epoch 239/500\n",
            "2/2 [==============================] - 0s 2ms/step - loss: 17.0538 - mae: 17.0538\n",
            "Epoch 240/500\n",
            "2/2 [==============================] - 0s 2ms/step - loss: 8.8627 - mae: 8.8627\n",
            "Epoch 241/500\n",
            "2/2 [==============================] - 0s 2ms/step - loss: 13.1711 - mae: 13.1711\n",
            "Epoch 242/500\n",
            "2/2 [==============================] - 0s 10ms/step - loss: 8.7886 - mae: 8.7886\n",
            "Epoch 243/500\n",
            "2/2 [==============================] - 0s 5ms/step - loss: 18.8161 - mae: 18.8161\n",
            "Epoch 244/500\n",
            "2/2 [==============================] - 0s 32ms/step - loss: 14.0531 - mae: 14.0531\n",
            "Epoch 245/500\n",
            "2/2 [==============================] - 0s 7ms/step - loss: 14.6831 - mae: 14.6831\n",
            "Epoch 246/500\n",
            "2/2 [==============================] - 0s 3ms/step - loss: 15.8045 - mae: 15.8045\n",
            "Epoch 247/500\n",
            "2/2 [==============================] - 0s 3ms/step - loss: 17.6810 - mae: 17.6810\n",
            "Epoch 248/500\n",
            "2/2 [==============================] - 0s 2ms/step - loss: 13.2367 - mae: 13.2367\n",
            "Epoch 249/500\n",
            "2/2 [==============================] - 0s 3ms/step - loss: 14.5070 - mae: 14.5070\n",
            "Epoch 250/500\n",
            "2/2 [==============================] - 0s 3ms/step - loss: 23.2322 - mae: 23.2322\n",
            "Epoch 251/500\n",
            "2/2 [==============================] - 0s 3ms/step - loss: 9.3009 - mae: 9.3009\n",
            "Epoch 252/500\n",
            "2/2 [==============================] - 0s 14ms/step - loss: 36.6569 - mae: 36.6569\n",
            "Epoch 253/500\n",
            "2/2 [==============================] - 0s 6ms/step - loss: 21.8205 - mae: 21.8205\n",
            "Epoch 254/500\n",
            "2/2 [==============================] - 0s 6ms/step - loss: 7.2792 - mae: 7.2792\n",
            "Epoch 255/500\n",
            "2/2 [==============================] - 0s 3ms/step - loss: 24.7127 - mae: 24.7127\n",
            "Epoch 256/500\n",
            "2/2 [==============================] - 0s 4ms/step - loss: 12.4220 - mae: 12.4220\n",
            "Epoch 257/500\n",
            "2/2 [==============================] - 0s 4ms/step - loss: 10.5823 - mae: 10.5823\n",
            "Epoch 258/500\n",
            "2/2 [==============================] - 0s 14ms/step - loss: 14.4883 - mae: 14.4883\n",
            "Epoch 259/500\n",
            "2/2 [==============================] - 0s 5ms/step - loss: 8.6132 - mae: 8.6132\n",
            "Epoch 260/500\n",
            "2/2 [==============================] - 0s 9ms/step - loss: 43.0580 - mae: 43.0580\n",
            "Epoch 261/500\n",
            "2/2 [==============================] - 0s 3ms/step - loss: 18.4611 - mae: 18.4611\n",
            "Epoch 262/500\n",
            "2/2 [==============================] - 0s 3ms/step - loss: 6.8820 - mae: 6.8820\n",
            "Epoch 263/500\n",
            "2/2 [==============================] - 0s 2ms/step - loss: 13.7211 - mae: 13.7211\n",
            "Epoch 264/500\n",
            "2/2 [==============================] - 0s 2ms/step - loss: 21.0154 - mae: 21.0154\n",
            "Epoch 265/500\n",
            "2/2 [==============================] - 0s 5ms/step - loss: 19.3731 - mae: 19.3731\n",
            "Epoch 266/500\n",
            "2/2 [==============================] - 0s 18ms/step - loss: 11.4735 - mae: 11.4735\n",
            "Epoch 267/500\n",
            "2/2 [==============================] - 0s 4ms/step - loss: 7.5302 - mae: 7.5302\n",
            "Epoch 268/500\n",
            "2/2 [==============================] - 0s 5ms/step - loss: 21.6453 - mae: 21.6453\n",
            "Epoch 269/500\n",
            "2/2 [==============================] - 0s 2ms/step - loss: 33.1785 - mae: 33.1785\n",
            "Epoch 270/500\n",
            "2/2 [==============================] - 0s 3ms/step - loss: 10.0833 - mae: 10.0833\n",
            "Epoch 271/500\n",
            "2/2 [==============================] - 0s 4ms/step - loss: 12.1012 - mae: 12.1012\n",
            "Epoch 272/500\n",
            "2/2 [==============================] - 0s 20ms/step - loss: 26.1372 - mae: 26.1372\n",
            "Epoch 273/500\n",
            "2/2 [==============================] - 0s 3ms/step - loss: 12.1751 - mae: 12.1751\n",
            "Epoch 274/500\n",
            "2/2 [==============================] - 0s 3ms/step - loss: 13.3272 - mae: 13.3272\n",
            "Epoch 275/500\n",
            "2/2 [==============================] - 0s 11ms/step - loss: 29.3775 - mae: 29.3775\n",
            "Epoch 276/500\n",
            "2/2 [==============================] - 0s 3ms/step - loss: 7.3329 - mae: 7.3329\n",
            "Epoch 277/500\n",
            "2/2 [==============================] - 0s 3ms/step - loss: 31.1362 - mae: 31.1362\n",
            "Epoch 278/500\n",
            "2/2 [==============================] - 0s 6ms/step - loss: 12.3015 - mae: 12.3015\n",
            "Epoch 279/500\n",
            "2/2 [==============================] - 0s 4ms/step - loss: 16.4103 - mae: 16.4103\n",
            "Epoch 280/500\n",
            "2/2 [==============================] - 0s 5ms/step - loss: 21.9118 - mae: 21.9118\n",
            "Epoch 281/500\n",
            "2/2 [==============================] - 0s 6ms/step - loss: 22.1501 - mae: 22.1501\n",
            "Epoch 282/500\n",
            "2/2 [==============================] - 0s 3ms/step - loss: 7.7429 - mae: 7.7429\n",
            "Epoch 283/500\n",
            "2/2 [==============================] - 0s 3ms/step - loss: 8.1429 - mae: 8.1429\n",
            "Epoch 284/500\n",
            "2/2 [==============================] - 0s 4ms/step - loss: 24.9435 - mae: 24.9435\n",
            "Epoch 285/500\n",
            "2/2 [==============================] - 0s 4ms/step - loss: 13.6958 - mae: 13.6958\n",
            "Epoch 286/500\n",
            "2/2 [==============================] - 0s 3ms/step - loss: 6.8926 - mae: 6.8926\n",
            "Epoch 287/500\n",
            "2/2 [==============================] - 0s 6ms/step - loss: 24.5352 - mae: 24.5352\n",
            "Epoch 288/500\n",
            "2/2 [==============================] - 0s 11ms/step - loss: 20.1721 - mae: 20.1721\n",
            "Epoch 289/500\n",
            "2/2 [==============================] - 0s 5ms/step - loss: 11.9658 - mae: 11.9658\n",
            "Epoch 290/500\n",
            "2/2 [==============================] - 0s 2ms/step - loss: 16.5391 - mae: 16.5391\n",
            "Epoch 291/500\n",
            "2/2 [==============================] - 0s 5ms/step - loss: 16.8017 - mae: 16.8017\n",
            "Epoch 292/500\n",
            "2/2 [==============================] - 0s 3ms/step - loss: 9.4642 - mae: 9.4642\n",
            "Epoch 293/500\n",
            "2/2 [==============================] - 0s 4ms/step - loss: 15.2711 - mae: 15.2711\n",
            "Epoch 294/500\n",
            "2/2 [==============================] - 0s 3ms/step - loss: 22.7179 - mae: 22.7179\n",
            "Epoch 295/500\n",
            "2/2 [==============================] - 0s 11ms/step - loss: 17.9234 - mae: 17.9234\n",
            "Epoch 296/500\n",
            "2/2 [==============================] - 0s 5ms/step - loss: 6.1743 - mae: 6.1743\n",
            "Epoch 297/500\n",
            "2/2 [==============================] - 0s 4ms/step - loss: 10.9440 - mae: 10.9440\n",
            "Epoch 298/500\n",
            "2/2 [==============================] - 0s 4ms/step - loss: 23.1530 - mae: 23.1530\n",
            "Epoch 299/500\n",
            "2/2 [==============================] - 0s 3ms/step - loss: 17.7331 - mae: 17.7331\n",
            "Epoch 300/500\n",
            "2/2 [==============================] - 0s 3ms/step - loss: 6.9824 - mae: 6.9824\n",
            "Epoch 301/500\n",
            "2/2 [==============================] - 0s 2ms/step - loss: 25.1857 - mae: 25.1857\n",
            "Epoch 302/500\n",
            "2/2 [==============================] - 0s 2ms/step - loss: 8.9025 - mae: 8.9025\n",
            "Epoch 303/500\n",
            "2/2 [==============================] - 0s 3ms/step - loss: 17.7668 - mae: 17.7668\n",
            "Epoch 304/500\n",
            "2/2 [==============================] - 0s 3ms/step - loss: 11.0002 - mae: 11.0002\n",
            "Epoch 305/500\n",
            "2/2 [==============================] - 0s 3ms/step - loss: 12.9191 - mae: 12.9191\n",
            "Epoch 306/500\n",
            "2/2 [==============================] - 0s 3ms/step - loss: 8.4033 - mae: 8.4033\n",
            "Epoch 307/500\n",
            "2/2 [==============================] - 0s 2ms/step - loss: 13.6094 - mae: 13.6094\n",
            "Epoch 308/500\n",
            "2/2 [==============================] - 0s 3ms/step - loss: 7.4404 - mae: 7.4404\n",
            "Epoch 309/500\n",
            "2/2 [==============================] - 0s 3ms/step - loss: 9.4642 - mae: 9.4642\n",
            "Epoch 310/500\n",
            "2/2 [==============================] - 0s 11ms/step - loss: 10.7099 - mae: 10.7099\n",
            "Epoch 311/500\n",
            "2/2 [==============================] - 0s 7ms/step - loss: 13.2814 - mae: 13.2814\n",
            "Epoch 312/500\n",
            "2/2 [==============================] - 0s 21ms/step - loss: 29.9763 - mae: 29.9763\n",
            "Epoch 313/500\n",
            "2/2 [==============================] - 0s 3ms/step - loss: 7.6304 - mae: 7.6304\n",
            "Epoch 314/500\n",
            "2/2 [==============================] - 0s 4ms/step - loss: 9.9106 - mae: 9.9106\n",
            "Epoch 315/500\n",
            "2/2 [==============================] - 0s 5ms/step - loss: 23.7669 - mae: 23.7669\n",
            "Epoch 316/500\n",
            "2/2 [==============================] - 0s 6ms/step - loss: 16.3937 - mae: 16.3937\n",
            "Epoch 317/500\n",
            "2/2 [==============================] - 0s 4ms/step - loss: 21.0758 - mae: 21.0758\n",
            "Epoch 318/500\n",
            "2/2 [==============================] - 0s 4ms/step - loss: 7.9367 - mae: 7.9367\n",
            "Epoch 319/500\n",
            "2/2 [==============================] - 0s 4ms/step - loss: 17.9731 - mae: 17.9731\n",
            "Epoch 320/500\n",
            "2/2 [==============================] - 0s 4ms/step - loss: 10.2375 - mae: 10.2375\n",
            "Epoch 321/500\n",
            "2/2 [==============================] - 0s 5ms/step - loss: 8.3338 - mae: 8.3338\n",
            "Epoch 322/500\n",
            "2/2 [==============================] - 0s 2ms/step - loss: 5.0621 - mae: 5.0621\n",
            "Epoch 323/500\n",
            "2/2 [==============================] - 0s 5ms/step - loss: 23.5109 - mae: 23.5109\n",
            "Epoch 324/500\n",
            "2/2 [==============================] - 0s 5ms/step - loss: 6.8309 - mae: 6.8309\n",
            "Epoch 325/500\n",
            "2/2 [==============================] - 0s 6ms/step - loss: 16.3863 - mae: 16.3863\n",
            "Epoch 326/500\n",
            "2/2 [==============================] - 0s 7ms/step - loss: 7.5019 - mae: 7.5019\n",
            "Epoch 327/500\n",
            "2/2 [==============================] - 0s 3ms/step - loss: 20.0573 - mae: 20.0573\n",
            "Epoch 328/500\n",
            "2/2 [==============================] - 0s 10ms/step - loss: 13.7661 - mae: 13.7661\n",
            "Epoch 329/500\n",
            "2/2 [==============================] - 0s 2ms/step - loss: 16.8282 - mae: 16.8282\n",
            "Epoch 330/500\n",
            "2/2 [==============================] - 0s 27ms/step - loss: 7.0514 - mae: 7.0514\n",
            "Epoch 331/500\n",
            "2/2 [==============================] - 0s 6ms/step - loss: 21.4846 - mae: 21.4846\n",
            "Epoch 332/500\n",
            "2/2 [==============================] - 0s 11ms/step - loss: 12.2880 - mae: 12.2880\n",
            "Epoch 333/500\n",
            "2/2 [==============================] - 0s 3ms/step - loss: 11.8117 - mae: 11.8117\n",
            "Epoch 334/500\n",
            "2/2 [==============================] - 0s 5ms/step - loss: 8.3600 - mae: 8.3600\n",
            "Epoch 335/500\n",
            "2/2 [==============================] - 0s 4ms/step - loss: 12.4833 - mae: 12.4833\n",
            "Epoch 336/500\n",
            "2/2 [==============================] - 0s 6ms/step - loss: 32.2171 - mae: 32.2171\n",
            "Epoch 337/500\n",
            "2/2 [==============================] - 0s 4ms/step - loss: 10.4477 - mae: 10.4477\n",
            "Epoch 338/500\n",
            "2/2 [==============================] - 0s 5ms/step - loss: 19.6832 - mae: 19.6832\n",
            "Epoch 339/500\n",
            "2/2 [==============================] - 0s 5ms/step - loss: 35.0762 - mae: 35.0762\n",
            "Epoch 340/500\n",
            "2/2 [==============================] - 0s 4ms/step - loss: 10.4192 - mae: 10.4192\n",
            "Epoch 341/500\n",
            "2/2 [==============================] - 0s 5ms/step - loss: 9.7625 - mae: 9.7625\n",
            "Epoch 342/500\n",
            "2/2 [==============================] - 0s 4ms/step - loss: 11.9500 - mae: 11.9500\n",
            "Epoch 343/500\n",
            "2/2 [==============================] - 0s 3ms/step - loss: 9.3943 - mae: 9.3943\n",
            "Epoch 344/500\n",
            "2/2 [==============================] - 0s 12ms/step - loss: 5.6071 - mae: 5.6071\n",
            "Epoch 345/500\n",
            "2/2 [==============================] - 0s 5ms/step - loss: 37.4876 - mae: 37.4876\n",
            "Epoch 346/500\n",
            "2/2 [==============================] - 0s 10ms/step - loss: 16.8830 - mae: 16.8830\n",
            "Epoch 347/500\n",
            "2/2 [==============================] - 0s 6ms/step - loss: 12.8748 - mae: 12.8748\n",
            "Epoch 348/500\n",
            "2/2 [==============================] - 0s 5ms/step - loss: 8.1960 - mae: 8.1960\n",
            "Epoch 349/500\n",
            "2/2 [==============================] - 0s 8ms/step - loss: 13.5568 - mae: 13.5568\n",
            "Epoch 350/500\n",
            "2/2 [==============================] - 0s 5ms/step - loss: 15.4354 - mae: 15.4354\n",
            "Epoch 351/500\n",
            "2/2 [==============================] - 0s 6ms/step - loss: 32.9626 - mae: 32.9626\n",
            "Epoch 352/500\n",
            "2/2 [==============================] - 0s 5ms/step - loss: 14.2040 - mae: 14.2040\n",
            "Epoch 353/500\n",
            "2/2 [==============================] - 0s 5ms/step - loss: 15.9196 - mae: 15.9196\n",
            "Epoch 354/500\n",
            "2/2 [==============================] - 0s 10ms/step - loss: 19.0878 - mae: 19.0878\n",
            "Epoch 355/500\n",
            "2/2 [==============================] - 0s 13ms/step - loss: 34.1178 - mae: 34.1178\n",
            "Epoch 356/500\n",
            "2/2 [==============================] - 0s 4ms/step - loss: 7.6798 - mae: 7.6798\n",
            "Epoch 357/500\n",
            "2/2 [==============================] - 0s 4ms/step - loss: 25.2287 - mae: 25.2287\n",
            "Epoch 358/500\n",
            "2/2 [==============================] - 0s 3ms/step - loss: 22.6759 - mae: 22.6759\n",
            "Epoch 359/500\n",
            "2/2 [==============================] - 0s 3ms/step - loss: 8.8765 - mae: 8.8765\n",
            "Epoch 360/500\n",
            "2/2 [==============================] - 0s 12ms/step - loss: 21.4709 - mae: 21.4709\n",
            "Epoch 361/500\n",
            "2/2 [==============================] - 0s 10ms/step - loss: 20.6073 - mae: 20.6073\n",
            "Epoch 362/500\n",
            "2/2 [==============================] - 0s 8ms/step - loss: 7.0611 - mae: 7.0611\n",
            "Epoch 363/500\n",
            "2/2 [==============================] - 0s 15ms/step - loss: 25.8117 - mae: 25.8117\n",
            "Epoch 364/500\n",
            "2/2 [==============================] - 0s 4ms/step - loss: 32.2247 - mae: 32.2247\n",
            "Epoch 365/500\n",
            "2/2 [==============================] - 0s 4ms/step - loss: 10.0204 - mae: 10.0204\n",
            "Epoch 366/500\n",
            "2/2 [==============================] - 0s 5ms/step - loss: 9.6722 - mae: 9.6722\n",
            "Epoch 367/500\n",
            "2/2 [==============================] - 0s 15ms/step - loss: 30.4171 - mae: 30.4171\n",
            "Epoch 368/500\n",
            "2/2 [==============================] - 0s 5ms/step - loss: 10.5020 - mae: 10.5020\n",
            "Epoch 369/500\n",
            "2/2 [==============================] - 0s 6ms/step - loss: 14.9909 - mae: 14.9909\n",
            "Epoch 370/500\n",
            "2/2 [==============================] - 0s 6ms/step - loss: 14.6580 - mae: 14.6580\n",
            "Epoch 371/500\n",
            "2/2 [==============================] - 0s 5ms/step - loss: 23.3672 - mae: 23.3672\n",
            "Epoch 372/500\n",
            "2/2 [==============================] - 0s 4ms/step - loss: 13.1025 - mae: 13.1025\n",
            "Epoch 373/500\n",
            "2/2 [==============================] - 0s 5ms/step - loss: 9.2586 - mae: 9.2586\n",
            "Epoch 374/500\n",
            "2/2 [==============================] - 0s 5ms/step - loss: 9.6648 - mae: 9.6648\n",
            "Epoch 375/500\n",
            "2/2 [==============================] - 0s 10ms/step - loss: 13.0041 - mae: 13.0041\n",
            "Epoch 376/500\n",
            "2/2 [==============================] - 0s 6ms/step - loss: 14.8863 - mae: 14.8863\n",
            "Epoch 377/500\n",
            "2/2 [==============================] - 0s 10ms/step - loss: 14.7932 - mae: 14.7932\n",
            "Epoch 378/500\n",
            "2/2 [==============================] - 0s 10ms/step - loss: 16.2751 - mae: 16.2751\n",
            "Epoch 379/500\n",
            "2/2 [==============================] - 0s 4ms/step - loss: 20.8307 - mae: 20.8307\n",
            "Epoch 380/500\n",
            "2/2 [==============================] - 0s 8ms/step - loss: 33.5317 - mae: 33.5317\n",
            "Epoch 381/500\n",
            "2/2 [==============================] - 0s 4ms/step - loss: 8.2166 - mae: 8.2166\n",
            "Epoch 382/500\n",
            "2/2 [==============================] - 0s 2ms/step - loss: 13.0960 - mae: 13.0960\n",
            "Epoch 383/500\n",
            "2/2 [==============================] - 0s 8ms/step - loss: 8.3999 - mae: 8.3999\n",
            "Epoch 384/500\n",
            "2/2 [==============================] - 0s 4ms/step - loss: 7.1283 - mae: 7.1283\n",
            "Epoch 385/500\n",
            "2/2 [==============================] - 0s 4ms/step - loss: 10.9390 - mae: 10.9390\n",
            "Epoch 386/500\n",
            "2/2 [==============================] - 0s 5ms/step - loss: 19.7654 - mae: 19.7654\n",
            "Epoch 387/500\n",
            "2/2 [==============================] - 0s 3ms/step - loss: 24.8625 - mae: 24.8625\n",
            "Epoch 388/500\n",
            "2/2 [==============================] - 0s 3ms/step - loss: 8.7422 - mae: 8.7422\n",
            "Epoch 389/500\n",
            "2/2 [==============================] - 0s 2ms/step - loss: 5.9488 - mae: 5.9488\n",
            "Epoch 390/500\n",
            "2/2 [==============================] - 0s 3ms/step - loss: 24.4400 - mae: 24.4400\n",
            "Epoch 391/500\n",
            "2/2 [==============================] - 0s 7ms/step - loss: 5.9771 - mae: 5.9771\n",
            "Epoch 392/500\n",
            "2/2 [==============================] - 0s 11ms/step - loss: 16.3250 - mae: 16.3250\n",
            "Epoch 393/500\n",
            "2/2 [==============================] - 0s 3ms/step - loss: 6.0917 - mae: 6.0917\n",
            "Epoch 394/500\n",
            "2/2 [==============================] - 0s 3ms/step - loss: 11.0963 - mae: 11.0963\n",
            "Epoch 395/500\n",
            "2/2 [==============================] - 0s 4ms/step - loss: 14.9601 - mae: 14.9601\n",
            "Epoch 396/500\n",
            "2/2 [==============================] - 0s 2ms/step - loss: 7.6462 - mae: 7.6462\n",
            "Epoch 397/500\n",
            "2/2 [==============================] - 0s 13ms/step - loss: 8.7654 - mae: 8.7654\n",
            "Epoch 398/500\n",
            "2/2 [==============================] - 0s 9ms/step - loss: 14.5991 - mae: 14.5991\n",
            "Epoch 399/500\n",
            "2/2 [==============================] - 0s 6ms/step - loss: 11.3166 - mae: 11.3166\n",
            "Epoch 400/500\n",
            "2/2 [==============================] - 0s 11ms/step - loss: 21.9080 - mae: 21.9080\n",
            "Epoch 401/500\n",
            "2/2 [==============================] - 0s 4ms/step - loss: 14.8653 - mae: 14.8653\n",
            "Epoch 402/500\n",
            "2/2 [==============================] - 0s 5ms/step - loss: 8.4970 - mae: 8.4970\n",
            "Epoch 403/500\n",
            "2/2 [==============================] - 0s 4ms/step - loss: 10.3957 - mae: 10.3957\n",
            "Epoch 404/500\n",
            "2/2 [==============================] - 0s 8ms/step - loss: 10.2556 - mae: 10.2556\n",
            "Epoch 405/500\n",
            "2/2 [==============================] - 0s 3ms/step - loss: 6.3392 - mae: 6.3392\n",
            "Epoch 406/500\n",
            "2/2 [==============================] - 0s 2ms/step - loss: 17.4602 - mae: 17.4602\n",
            "Epoch 407/500\n",
            "2/2 [==============================] - 0s 3ms/step - loss: 11.4627 - mae: 11.4627\n",
            "Epoch 408/500\n",
            "2/2 [==============================] - 0s 11ms/step - loss: 20.7294 - mae: 20.7294\n",
            "Epoch 409/500\n",
            "2/2 [==============================] - 0s 7ms/step - loss: 31.3338 - mae: 31.3338\n",
            "Epoch 410/500\n",
            "2/2 [==============================] - 0s 6ms/step - loss: 9.2542 - mae: 9.2542\n",
            "Epoch 411/500\n",
            "2/2 [==============================] - 0s 4ms/step - loss: 14.8621 - mae: 14.8621\n",
            "Epoch 412/500\n",
            "2/2 [==============================] - 0s 6ms/step - loss: 21.7182 - mae: 21.7182\n",
            "Epoch 413/500\n",
            "2/2 [==============================] - 0s 5ms/step - loss: 12.6615 - mae: 12.6615\n",
            "Epoch 414/500\n",
            "2/2 [==============================] - 0s 6ms/step - loss: 6.0687 - mae: 6.0687\n",
            "Epoch 415/500\n",
            "2/2 [==============================] - 0s 4ms/step - loss: 13.2201 - mae: 13.2201\n",
            "Epoch 416/500\n",
            "2/2 [==============================] - 0s 4ms/step - loss: 27.4244 - mae: 27.4244\n",
            "Epoch 417/500\n",
            "2/2 [==============================] - 0s 5ms/step - loss: 10.6407 - mae: 10.6407\n",
            "Epoch 418/500\n",
            "2/2 [==============================] - 0s 13ms/step - loss: 12.8230 - mae: 12.8230\n",
            "Epoch 419/500\n",
            "2/2 [==============================] - 0s 12ms/step - loss: 15.8836 - mae: 15.8836\n",
            "Epoch 420/500\n",
            "2/2 [==============================] - 0s 4ms/step - loss: 24.7510 - mae: 24.7510\n",
            "Epoch 421/500\n",
            "2/2 [==============================] - 0s 4ms/step - loss: 17.3753 - mae: 17.3753\n",
            "Epoch 422/500\n",
            "2/2 [==============================] - 0s 10ms/step - loss: 7.8241 - mae: 7.8241\n",
            "Epoch 423/500\n",
            "2/2 [==============================] - 0s 4ms/step - loss: 25.3789 - mae: 25.3789\n",
            "Epoch 424/500\n",
            "2/2 [==============================] - 0s 4ms/step - loss: 15.1031 - mae: 15.1031\n",
            "Epoch 425/500\n",
            "2/2 [==============================] - 0s 3ms/step - loss: 7.1643 - mae: 7.1643\n",
            "Epoch 426/500\n",
            "2/2 [==============================] - 0s 5ms/step - loss: 20.3318 - mae: 20.3318\n",
            "Epoch 427/500\n",
            "2/2 [==============================] - 0s 2ms/step - loss: 6.3283 - mae: 6.3283\n",
            "Epoch 428/500\n",
            "2/2 [==============================] - 0s 5ms/step - loss: 12.9961 - mae: 12.9961\n",
            "Epoch 429/500\n",
            "2/2 [==============================] - 0s 14ms/step - loss: 10.7869 - mae: 10.7869\n",
            "Epoch 430/500\n",
            "2/2 [==============================] - 0s 2ms/step - loss: 11.4007 - mae: 11.4007\n",
            "Epoch 431/500\n",
            "2/2 [==============================] - 0s 3ms/step - loss: 10.6152 - mae: 10.6152\n",
            "Epoch 432/500\n",
            "2/2 [==============================] - 0s 6ms/step - loss: 11.4582 - mae: 11.4582\n",
            "Epoch 433/500\n",
            "2/2 [==============================] - 0s 4ms/step - loss: 11.3851 - mae: 11.3851\n",
            "Epoch 434/500\n",
            "2/2 [==============================] - 0s 5ms/step - loss: 30.3986 - mae: 30.3986\n",
            "Epoch 435/500\n",
            "2/2 [==============================] - 0s 4ms/step - loss: 10.5052 - mae: 10.5052\n",
            "Epoch 436/500\n",
            "2/2 [==============================] - 0s 4ms/step - loss: 28.8810 - mae: 28.8810\n",
            "Epoch 437/500\n",
            "2/2 [==============================] - 0s 4ms/step - loss: 8.5916 - mae: 8.5916\n",
            "Epoch 438/500\n",
            "2/2 [==============================] - 0s 4ms/step - loss: 12.7378 - mae: 12.7378\n",
            "Epoch 439/500\n",
            "2/2 [==============================] - 0s 6ms/step - loss: 33.6754 - mae: 33.6754\n",
            "Epoch 440/500\n",
            "2/2 [==============================] - 0s 4ms/step - loss: 15.0963 - mae: 15.0963\n",
            "Epoch 441/500\n",
            "2/2 [==============================] - 0s 6ms/step - loss: 17.4813 - mae: 17.4813\n",
            "Epoch 442/500\n",
            "2/2 [==============================] - 0s 6ms/step - loss: 22.3049 - mae: 22.3049\n",
            "Epoch 443/500\n",
            "2/2 [==============================] - 0s 2ms/step - loss: 23.5841 - mae: 23.5841\n",
            "Epoch 444/500\n",
            "2/2 [==============================] - 0s 11ms/step - loss: 11.0008 - mae: 11.0008\n",
            "Epoch 445/500\n",
            "2/2 [==============================] - 0s 4ms/step - loss: 14.9175 - mae: 14.9175\n",
            "Epoch 446/500\n",
            "2/2 [==============================] - 0s 13ms/step - loss: 17.9979 - mae: 17.9979\n",
            "Epoch 447/500\n",
            "2/2 [==============================] - 0s 5ms/step - loss: 5.4482 - mae: 5.4482\n",
            "Epoch 448/500\n",
            "2/2 [==============================] - 0s 6ms/step - loss: 10.0527 - mae: 10.0527\n",
            "Epoch 449/500\n",
            "2/2 [==============================] - 0s 8ms/step - loss: 14.0052 - mae: 14.0052\n",
            "Epoch 450/500\n",
            "2/2 [==============================] - 0s 6ms/step - loss: 16.7782 - mae: 16.7782\n",
            "Epoch 451/500\n",
            "2/2 [==============================] - 0s 5ms/step - loss: 14.2937 - mae: 14.2937\n",
            "Epoch 452/500\n",
            "2/2 [==============================] - 0s 7ms/step - loss: 30.6193 - mae: 30.6193\n",
            "Epoch 453/500\n",
            "2/2 [==============================] - 0s 6ms/step - loss: 7.6541 - mae: 7.6541\n",
            "Epoch 454/500\n",
            "2/2 [==============================] - 0s 6ms/step - loss: 28.1428 - mae: 28.1428\n",
            "Epoch 455/500\n",
            "2/2 [==============================] - 0s 4ms/step - loss: 8.0017 - mae: 8.0017\n",
            "Epoch 456/500\n",
            "2/2 [==============================] - 0s 6ms/step - loss: 10.3933 - mae: 10.3933\n",
            "Epoch 457/500\n",
            "2/2 [==============================] - 0s 5ms/step - loss: 15.0242 - mae: 15.0242\n",
            "Epoch 458/500\n",
            "2/2 [==============================] - 0s 11ms/step - loss: 16.5653 - mae: 16.5653\n",
            "Epoch 459/500\n",
            "2/2 [==============================] - 0s 5ms/step - loss: 26.8566 - mae: 26.8566\n",
            "Epoch 460/500\n",
            "2/2 [==============================] - 0s 7ms/step - loss: 12.4852 - mae: 12.4852\n",
            "Epoch 461/500\n",
            "2/2 [==============================] - 0s 4ms/step - loss: 12.4784 - mae: 12.4784\n",
            "Epoch 462/500\n",
            "2/2 [==============================] - 0s 3ms/step - loss: 13.3186 - mae: 13.3186\n",
            "Epoch 463/500\n",
            "2/2 [==============================] - 0s 4ms/step - loss: 29.5524 - mae: 29.5524\n",
            "Epoch 464/500\n",
            "2/2 [==============================] - 0s 3ms/step - loss: 3.4664 - mae: 3.4664\n",
            "Epoch 465/500\n",
            "2/2 [==============================] - 0s 7ms/step - loss: 15.2136 - mae: 15.2136\n",
            "Epoch 466/500\n",
            "2/2 [==============================] - 0s 7ms/step - loss: 20.8327 - mae: 20.8327\n",
            "Epoch 467/500\n",
            "2/2 [==============================] - 0s 2ms/step - loss: 30.5108 - mae: 30.5108\n",
            "Epoch 468/500\n",
            "2/2 [==============================] - 0s 2ms/step - loss: 11.0597 - mae: 11.0597\n",
            "Epoch 469/500\n",
            "2/2 [==============================] - 0s 3ms/step - loss: 12.8372 - mae: 12.8372\n",
            "Epoch 470/500\n",
            "2/2 [==============================] - 0s 3ms/step - loss: 3.2398 - mae: 3.2398\n",
            "Epoch 471/500\n",
            "2/2 [==============================] - 0s 2ms/step - loss: 16.6964 - mae: 16.6964\n",
            "Epoch 472/500\n",
            "2/2 [==============================] - 0s 2ms/step - loss: 13.3883 - mae: 13.3883\n",
            "Epoch 473/500\n",
            "2/2 [==============================] - 0s 3ms/step - loss: 15.2771 - mae: 15.2771\n",
            "Epoch 474/500\n",
            "2/2 [==============================] - 0s 4ms/step - loss: 11.7448 - mae: 11.7448\n",
            "Epoch 475/500\n",
            "2/2 [==============================] - 0s 4ms/step - loss: 16.4113 - mae: 16.4113\n",
            "Epoch 476/500\n",
            "2/2 [==============================] - 0s 4ms/step - loss: 13.8785 - mae: 13.8785\n",
            "Epoch 477/500\n",
            "2/2 [==============================] - 0s 4ms/step - loss: 30.6702 - mae: 30.6702\n",
            "Epoch 478/500\n",
            "2/2 [==============================] - 0s 3ms/step - loss: 8.5880 - mae: 8.5880\n",
            "Epoch 479/500\n",
            "2/2 [==============================] - 0s 3ms/step - loss: 10.7384 - mae: 10.7384\n",
            "Epoch 480/500\n",
            "2/2 [==============================] - 0s 2ms/step - loss: 17.9051 - mae: 17.9051\n",
            "Epoch 481/500\n",
            "2/2 [==============================] - 0s 7ms/step - loss: 15.8095 - mae: 15.8095\n",
            "Epoch 482/500\n",
            "2/2 [==============================] - 0s 13ms/step - loss: 21.3054 - mae: 21.3054\n",
            "Epoch 483/500\n",
            "2/2 [==============================] - 0s 8ms/step - loss: 25.3845 - mae: 25.3845\n",
            "Epoch 484/500\n",
            "2/2 [==============================] - 0s 21ms/step - loss: 23.9815 - mae: 23.9815\n",
            "Epoch 485/500\n",
            "2/2 [==============================] - 0s 7ms/step - loss: 5.7734 - mae: 5.7734\n",
            "Epoch 486/500\n",
            "2/2 [==============================] - 0s 3ms/step - loss: 20.0010 - mae: 20.0010\n",
            "Epoch 487/500\n",
            "2/2 [==============================] - 0s 3ms/step - loss: 14.0419 - mae: 14.0419\n",
            "Epoch 488/500\n",
            "2/2 [==============================] - 0s 5ms/step - loss: 30.6088 - mae: 30.6088\n",
            "Epoch 489/500\n",
            "2/2 [==============================] - 0s 4ms/step - loss: 11.9409 - mae: 11.9409\n",
            "Epoch 490/500\n",
            "2/2 [==============================] - 0s 5ms/step - loss: 12.7352 - mae: 12.7352\n",
            "Epoch 491/500\n",
            "2/2 [==============================] - 0s 5ms/step - loss: 23.6139 - mae: 23.6139\n",
            "Epoch 492/500\n",
            "2/2 [==============================] - 0s 11ms/step - loss: 20.5365 - mae: 20.5365\n",
            "Epoch 493/500\n",
            "2/2 [==============================] - 0s 5ms/step - loss: 4.9942 - mae: 4.9942\n",
            "Epoch 494/500\n",
            "2/2 [==============================] - 0s 5ms/step - loss: 12.7986 - mae: 12.7986\n",
            "Epoch 495/500\n",
            "2/2 [==============================] - 0s 2ms/step - loss: 13.3772 - mae: 13.3772\n",
            "Epoch 496/500\n",
            "2/2 [==============================] - 0s 6ms/step - loss: 12.6727 - mae: 12.6727\n",
            "Epoch 497/500\n",
            "2/2 [==============================] - 0s 3ms/step - loss: 17.6192 - mae: 17.6192\n",
            "Epoch 498/500\n",
            "2/2 [==============================] - 0s 5ms/step - loss: 23.5629 - mae: 23.5629\n",
            "Epoch 499/500\n",
            "2/2 [==============================] - 0s 4ms/step - loss: 9.3755 - mae: 9.3755\n",
            "Epoch 500/500\n",
            "2/2 [==============================] - 0s 5ms/step - loss: 14.6316 - mae: 14.6316\n"
          ],
          "name": "stdout"
        },
        {
          "output_type": "execute_result",
          "data": {
            "text/plain": [
              "<tensorflow.python.keras.callbacks.History at 0x7f986fd31f50>"
            ]
          },
          "metadata": {
            "tags": []
          },
          "execution_count": 90
        }
      ]
    },
    {
      "cell_type": "code",
      "metadata": {
        "colab": {
          "base_uri": "https://localhost:8080/",
          "height": 428
        },
        "id": "_dJd7M9fKFtV",
        "outputId": "8138aa7f-4a8e-4cbe-9310-eb8f1da09c8b"
      },
      "source": [
        "#plot the prediction\n",
        "y_preds_3 = model_3.predict(X_test)\n",
        "plot_predictions(predictions=y_preds_3)"
      ],
      "execution_count": 91,
      "outputs": [
        {
          "output_type": "display_data",
          "data": {
            "image/png": "[encoded data removed]",
            "text/plain": [
              "<Figure size 720x504 with 1 Axes>"
            ]
          },
          "metadata": {
            "tags": [],
            "needs_background": "light"
          }
        }
      ]
    },
    {
      "cell_type": "code",
      "metadata": {
        "id": "CzwsafSQKya6"
      },
      "source": [
        "## saving our model"
      ],
      "execution_count": 92,
      "outputs": []
    },
    {
      "cell_type": "code",
      "metadata": {
        "colab": {
          "base_uri": "https://localhost:8080/"
        },
        "id": "Xnq8bcPvNSnc",
        "outputId": "3ecbab92-ba24-431b-ab3e-2f61a3be738f"
      },
      "source": [
        "# using savedmodeformat\n",
        "model_2.save(\"Best_model_SavedModel_format\")"
      ],
      "execution_count": 93,
      "outputs": [
        {
          "output_type": "stream",
          "text": [
            "INFO:tensorflow:Assets written to: Best_model_SavedModel_format/assets\n"
          ],
          "name": "stdout"
        }
      ]
    },
    {
      "cell_type": "code",
      "metadata": {
        "id": "8sPC8qNRNw9B"
      },
      "source": [
        "model_2.save('Best_model_h5file.h5')"
      ],
      "execution_count": 94,
      "outputs": []
    },
    {
      "cell_type": "code",
      "metadata": {
        "colab": {
          "base_uri": "https://localhost:8080/"
        },
        "id": "yHyGLDEdOlTx",
        "outputId": "8cadc5f7-47ee-46be-c2ce-68232d5b9f69"
      },
      "source": [
        "new_model_2_v1 = tf.keras.models.load_model(\"/content/Best_model_SavedModel_format\")\n",
        "new_model_2_v1.summary()"
      ],
      "execution_count": 95,
      "outputs": [
        {
          "output_type": "stream",
          "text": [
            "Model: \"sequential_11\"\n",
            "_________________________________________________________________\n",
            "Layer (type)                 Output Shape              Param #   \n",
            "=================================================================\n",
            "dense_13 (Dense)             (None, 10)                20        \n",
            "_________________________________________________________________\n",
            "dense_14 (Dense)             (None, 1)                 11        \n",
            "=================================================================\n",
            "Total params: 31\n",
            "Trainable params: 31\n",
            "Non-trainable params: 0\n",
            "_________________________________________________________________\n"
          ],
          "name": "stdout"
        }
      ]
    },
    {
      "cell_type": "code",
      "metadata": {
        "colab": {
          "base_uri": "https://localhost:8080/"
        },
        "id": "pByNy3rTPlCn",
        "outputId": "e265d0f3-6de7-4781-8c15-4e6e3e2a7f5f"
      },
      "source": [
        "new_model_2_v2 = tf.keras.models.load_model(\"/content/Best_model_h5file.h5\")\n",
        "new_model_2_v2.summary()"
      ],
      "execution_count": 96,
      "outputs": [
        {
          "output_type": "stream",
          "text": [
            "Model: \"sequential_11\"\n",
            "_________________________________________________________________\n",
            "Layer (type)                 Output Shape              Param #   \n",
            "=================================================================\n",
            "dense_13 (Dense)             (None, 10)                20        \n",
            "_________________________________________________________________\n",
            "dense_14 (Dense)             (None, 1)                 11        \n",
            "=================================================================\n",
            "Total params: 31\n",
            "Trainable params: 31\n",
            "Non-trainable params: 0\n",
            "_________________________________________________________________\n"
          ],
          "name": "stdout"
        }
      ]
    },
    {
      "cell_type": "code",
      "metadata": {
        "colab": {
          "base_uri": "https://localhost:8080/"
        },
        "id": "Tu66nPg-P5UC",
        "outputId": "b4040bd7-4e33-41a1-d899-d8572895b652"
      },
      "source": [
        "new_model_2_v2.predict(X_test)==new_model_2_v1.predict(X_test)"
      ],
      "execution_count": 97,
      "outputs": [
        {
          "output_type": "execute_result",
          "data": {
            "text/plain": [
              "array([[ True],\n",
              "       [ True],\n",
              "       [ True],\n",
              "       [ True],\n",
              "       [ True],\n",
              "       [ True],\n",
              "       [ True],\n",
              "       [ True],\n",
              "       [ True],\n",
              "       [ True]])"
            ]
          },
          "metadata": {
            "tags": []
          },
          "execution_count": 97
        }
      ]
    },
    {
      "cell_type": "code",
      "metadata": {
        "colab": {
          "base_uri": "https://localhost:8080/",
          "height": 17
        },
        "id": "X7JkV0oWQaBc",
        "outputId": "7f246b51-e466-4147-f2be-0f79605b14e9"
      },
      "source": [
        " #code to download the fiel from google colab\n",
        " from google.colab import files\n",
        " files.download(\"/content/Best_model_h5file.h5\")"
      ],
      "execution_count": 98,
      "outputs": [
        {
          "output_type": "display_data",
          "data": {
            "application/javascript": [
              "\n",
              "    async function download(id, filename, size) {\n",
              "      if (!google.colab.kernel.accessAllowed) {\n",
              "        return;\n",
              "      }\n",
              "      const div = document.createElement('div');\n",
              "      const label = document.createElement('label');\n",
              "      label.textContent = `Downloading \"${filename}\": `;\n",
              "      div.appendChild(label);\n",
              "      const progress = document.createElement('progress');\n",
              "      progress.max = size;\n",
              "      div.appendChild(progress);\n",
              "      document.body.appendChild(div);\n",
              "\n",
              "      const buffers = [];\n",
              "      let downloaded = 0;\n",
              "\n",
              "      const channel = await google.colab.kernel.comms.open(id);\n",
              "      // Send a message to notify the kernel that we're ready.\n",
              "      channel.send({})\n",
              "\n",
              "      for await (const message of channel.messages) {\n",
              "        // Send a message to notify the kernel that we're ready.\n",
              "        channel.send({})\n",
              "        if (message.buffers) {\n",
              "          for (const buffer of message.buffers) {\n",
              "            buffers.push(buffer);\n",
              "            downloaded += buffer.byteLength;\n",
              "            progress.value = downloaded;\n",
              "          }\n",
              "        }\n",
              "      }\n",
              "      const blob = new Blob(buffers, {type: 'application/binary'});\n",
              "      const a = document.createElement('a');\n",
              "      a.href = window.URL.createObjectURL(blob);\n",
              "      a.download = filename;\n",
              "      div.appendChild(a);\n",
              "      a.click();\n",
              "      div.remove();\n",
              "    }\n",
              "  "
            ],
            "text/plain": [
              "<IPython.core.display.Javascript object>"
            ]
          },
          "metadata": {
            "tags": []
          }
        },
        {
          "output_type": "display_data",
          "data": {
            "application/javascript": [
              "download(\"download_c0c01f09-83a3-446c-985d-4d6d58b6adf7\", \"Best_model_h5file.h5\", 17040)"
            ],
            "text/plain": [
              "<IPython.core.display.Javascript object>"
            ]
          },
          "metadata": {
            "tags": []
          }
        }
      ]
    },
    {
      "cell_type": "code",
      "metadata": {
        "id": "Wz9N-n0VRcRB"
      },
      "source": [
        "#summing up whatever learnt till now\n"
      ],
      "execution_count": 99,
      "outputs": []
    },
    {
      "cell_type": "code",
      "metadata": {
        "colab": {
          "base_uri": "https://localhost:8080/",
          "height": 415
        },
        "id": "fsOatmXvSDjI",
        "outputId": "b9aa2836-ec01-44a5-a47c-5f29ce045c1d"
      },
      "source": [
        "# import requuired libraries\n",
        "\n",
        "import tensorflow as tf\n",
        "import pandas as pd\n",
        "import matplotlib.pyplot as plt\n",
        "\n",
        "insurance = pd.read_csv(\"https://raw.githubusercontent.com/stedy/Machine-Learning-with-R-datasets/master/insurance.csv\")\n",
        "insurance"
      ],
      "execution_count": 131,
      "outputs": [
        {
          "output_type": "execute_result",
          "data": {
            "text/html": [
              "<div>\n",
              "<style scoped>\n",
              "    .dataframe tbody tr th:only-of-type {\n",
              "        vertical-align: middle;\n",
              "    }\n",
              "\n",
              "    .dataframe tbody tr th {\n",
              "        vertical-align: top;\n",
              "    }\n",
              "\n",
              "    .dataframe thead th {\n",
              "        text-align: right;\n",
              "    }\n",
              "</style>\n",
              "<table border=\"1\" class=\"dataframe\">\n",
              "  <thead>\n",
              "    <tr style=\"text-align: right;\">\n",
              "      <th></th>\n",
              "      <th>age</th>\n",
              "      <th>sex</th>\n",
              "      <th>bmi</th>\n",
              "      <th>children</th>\n",
              "      <th>smoker</th>\n",
              "      <th>region</th>\n",
              "      <th>charges</th>\n",
              "    </tr>\n",
              "  </thead>\n",
              "  <tbody>\n",
              "    <tr>\n",
              "      <th>0</th>\n",
              "      <td>19</td>\n",
              "      <td>female</td>\n",
              "      <td>27.900</td>\n",
              "      <td>0</td>\n",
              "      <td>yes</td>\n",
              "      <td>southwest</td>\n",
              "      <td>16884.92400</td>\n",
              "    </tr>\n",
              "    <tr>\n",
              "      <th>1</th>\n",
              "      <td>18</td>\n",
              "      <td>male</td>\n",
              "      <td>33.770</td>\n",
              "      <td>1</td>\n",
              "      <td>no</td>\n",
              "      <td>southeast</td>\n",
              "      <td>1725.55230</td>\n",
              "    </tr>\n",
              "    <tr>\n",
              "      <th>2</th>\n",
              "      <td>28</td>\n",
              "      <td>male</td>\n",
              "      <td>33.000</td>\n",
              "      <td>3</td>\n",
              "      <td>no</td>\n",
              "      <td>southeast</td>\n",
              "      <td>4449.46200</td>\n",
              "    </tr>\n",
              "    <tr>\n",
              "      <th>3</th>\n",
              "      <td>33</td>\n",
              "      <td>male</td>\n",
              "      <td>22.705</td>\n",
              "      <td>0</td>\n",
              "      <td>no</td>\n",
              "      <td>northwest</td>\n",
              "      <td>21984.47061</td>\n",
              "    </tr>\n",
              "    <tr>\n",
              "      <th>4</th>\n",
              "      <td>32</td>\n",
              "      <td>male</td>\n",
              "      <td>28.880</td>\n",
              "      <td>0</td>\n",
              "      <td>no</td>\n",
              "      <td>northwest</td>\n",
              "      <td>3866.85520</td>\n",
              "    </tr>\n",
              "    <tr>\n",
              "      <th>...</th>\n",
              "      <td>...</td>\n",
              "      <td>...</td>\n",
              "      <td>...</td>\n",
              "      <td>...</td>\n",
              "      <td>...</td>\n",
              "      <td>...</td>\n",
              "      <td>...</td>\n",
              "    </tr>\n",
              "    <tr>\n",
              "      <th>1333</th>\n",
              "      <td>50</td>\n",
              "      <td>male</td>\n",
              "      <td>30.970</td>\n",
              "      <td>3</td>\n",
              "      <td>no</td>\n",
              "      <td>northwest</td>\n",
              "      <td>10600.54830</td>\n",
              "    </tr>\n",
              "    <tr>\n",
              "      <th>1334</th>\n",
              "      <td>18</td>\n",
              "      <td>female</td>\n",
              "      <td>31.920</td>\n",
              "      <td>0</td>\n",
              "      <td>no</td>\n",
              "      <td>northeast</td>\n",
              "      <td>2205.98080</td>\n",
              "    </tr>\n",
              "    <tr>\n",
              "      <th>1335</th>\n",
              "      <td>18</td>\n",
              "      <td>female</td>\n",
              "      <td>36.850</td>\n",
              "      <td>0</td>\n",
              "      <td>no</td>\n",
              "      <td>southeast</td>\n",
              "      <td>1629.83350</td>\n",
              "    </tr>\n",
              "    <tr>\n",
              "      <th>1336</th>\n",
              "      <td>21</td>\n",
              "      <td>female</td>\n",
              "      <td>25.800</td>\n",
              "      <td>0</td>\n",
              "      <td>no</td>\n",
              "      <td>southwest</td>\n",
              "      <td>2007.94500</td>\n",
              "    </tr>\n",
              "    <tr>\n",
              "      <th>1337</th>\n",
              "      <td>61</td>\n",
              "      <td>female</td>\n",
              "      <td>29.070</td>\n",
              "      <td>0</td>\n",
              "      <td>yes</td>\n",
              "      <td>northwest</td>\n",
              "      <td>29141.36030</td>\n",
              "    </tr>\n",
              "  </tbody>\n",
              "</table>\n",
              "<p>1338 rows × 7 columns</p>\n",
              "</div>"
            ],
            "text/plain": [
              "      age     sex     bmi  children smoker     region      charges\n",
              "0      19  female  27.900         0    yes  southwest  16884.92400\n",
              "1      18    male  33.770         1     no  southeast   1725.55230\n",
              "2      28    male  33.000         3     no  southeast   4449.46200\n",
              "3      33    male  22.705         0     no  northwest  21984.47061\n",
              "4      32    male  28.880         0     no  northwest   3866.85520\n",
              "...   ...     ...     ...       ...    ...        ...          ...\n",
              "1333   50    male  30.970         3     no  northwest  10600.54830\n",
              "1334   18  female  31.920         0     no  northeast   2205.98080\n",
              "1335   18  female  36.850         0     no  southeast   1629.83350\n",
              "1336   21  female  25.800         0     no  southwest   2007.94500\n",
              "1337   61  female  29.070         0    yes  northwest  29141.36030\n",
              "\n",
              "[1338 rows x 7 columns]"
            ]
          },
          "metadata": {
            "tags": []
          },
          "execution_count": 131
        }
      ]
    },
    {
      "cell_type": "code",
      "metadata": {
        "colab": {
          "base_uri": "https://localhost:8080/",
          "height": 435
        },
        "id": "PcpJ5Pc5TTA8",
        "outputId": "9d15ca0f-5363-4c0e-c2b5-0ee26c901f7c"
      },
      "source": [
        "insurance_one_hot=pd.get_dummies(insurance)\n",
        "insurance_one_hot"
      ],
      "execution_count": 101,
      "outputs": [
        {
          "output_type": "execute_result",
          "data": {
            "text/html": [
              "<div>\n",
              "<style scoped>\n",
              "    .dataframe tbody tr th:only-of-type {\n",
              "        vertical-align: middle;\n",
              "    }\n",
              "\n",
              "    .dataframe tbody tr th {\n",
              "        vertical-align: top;\n",
              "    }\n",
              "\n",
              "    .dataframe thead th {\n",
              "        text-align: right;\n",
              "    }\n",
              "</style>\n",
              "<table border=\"1\" class=\"dataframe\">\n",
              "  <thead>\n",
              "    <tr style=\"text-align: right;\">\n",
              "      <th></th>\n",
              "      <th>age</th>\n",
              "      <th>bmi</th>\n",
              "      <th>children</th>\n",
              "      <th>charges</th>\n",
              "      <th>sex_female</th>\n",
              "      <th>sex_male</th>\n",
              "      <th>smoker_no</th>\n",
              "      <th>smoker_yes</th>\n",
              "      <th>region_northeast</th>\n",
              "      <th>region_northwest</th>\n",
              "      <th>region_southeast</th>\n",
              "      <th>region_southwest</th>\n",
              "    </tr>\n",
              "  </thead>\n",
              "  <tbody>\n",
              "    <tr>\n",
              "      <th>0</th>\n",
              "      <td>19</td>\n",
              "      <td>27.900</td>\n",
              "      <td>0</td>\n",
              "      <td>16884.92400</td>\n",
              "      <td>1</td>\n",
              "      <td>0</td>\n",
              "      <td>0</td>\n",
              "      <td>1</td>\n",
              "      <td>0</td>\n",
              "      <td>0</td>\n",
              "      <td>0</td>\n",
              "      <td>1</td>\n",
              "    </tr>\n",
              "    <tr>\n",
              "      <th>1</th>\n",
              "      <td>18</td>\n",
              "      <td>33.770</td>\n",
              "      <td>1</td>\n",
              "      <td>1725.55230</td>\n",
              "      <td>0</td>\n",
              "      <td>1</td>\n",
              "      <td>1</td>\n",
              "      <td>0</td>\n",
              "      <td>0</td>\n",
              "      <td>0</td>\n",
              "      <td>1</td>\n",
              "      <td>0</td>\n",
              "    </tr>\n",
              "    <tr>\n",
              "      <th>2</th>\n",
              "      <td>28</td>\n",
              "      <td>33.000</td>\n",
              "      <td>3</td>\n",
              "      <td>4449.46200</td>\n",
              "      <td>0</td>\n",
              "      <td>1</td>\n",
              "      <td>1</td>\n",
              "      <td>0</td>\n",
              "      <td>0</td>\n",
              "      <td>0</td>\n",
              "      <td>1</td>\n",
              "      <td>0</td>\n",
              "    </tr>\n",
              "    <tr>\n",
              "      <th>3</th>\n",
              "      <td>33</td>\n",
              "      <td>22.705</td>\n",
              "      <td>0</td>\n",
              "      <td>21984.47061</td>\n",
              "      <td>0</td>\n",
              "      <td>1</td>\n",
              "      <td>1</td>\n",
              "      <td>0</td>\n",
              "      <td>0</td>\n",
              "      <td>1</td>\n",
              "      <td>0</td>\n",
              "      <td>0</td>\n",
              "    </tr>\n",
              "    <tr>\n",
              "      <th>4</th>\n",
              "      <td>32</td>\n",
              "      <td>28.880</td>\n",
              "      <td>0</td>\n",
              "      <td>3866.85520</td>\n",
              "      <td>0</td>\n",
              "      <td>1</td>\n",
              "      <td>1</td>\n",
              "      <td>0</td>\n",
              "      <td>0</td>\n",
              "      <td>1</td>\n",
              "      <td>0</td>\n",
              "      <td>0</td>\n",
              "    </tr>\n",
              "    <tr>\n",
              "      <th>...</th>\n",
              "      <td>...</td>\n",
              "      <td>...</td>\n",
              "      <td>...</td>\n",
              "      <td>...</td>\n",
              "      <td>...</td>\n",
              "      <td>...</td>\n",
              "      <td>...</td>\n",
              "      <td>...</td>\n",
              "      <td>...</td>\n",
              "      <td>...</td>\n",
              "      <td>...</td>\n",
              "      <td>...</td>\n",
              "    </tr>\n",
              "    <tr>\n",
              "      <th>1333</th>\n",
              "      <td>50</td>\n",
              "      <td>30.970</td>\n",
              "      <td>3</td>\n",
              "      <td>10600.54830</td>\n",
              "      <td>0</td>\n",
              "      <td>1</td>\n",
              "      <td>1</td>\n",
              "      <td>0</td>\n",
              "      <td>0</td>\n",
              "      <td>1</td>\n",
              "      <td>0</td>\n",
              "      <td>0</td>\n",
              "    </tr>\n",
              "    <tr>\n",
              "      <th>1334</th>\n",
              "      <td>18</td>\n",
              "      <td>31.920</td>\n",
              "      <td>0</td>\n",
              "      <td>2205.98080</td>\n",
              "      <td>1</td>\n",
              "      <td>0</td>\n",
              "      <td>1</td>\n",
              "      <td>0</td>\n",
              "      <td>1</td>\n",
              "      <td>0</td>\n",
              "      <td>0</td>\n",
              "      <td>0</td>\n",
              "    </tr>\n",
              "    <tr>\n",
              "      <th>1335</th>\n",
              "      <td>18</td>\n",
              "      <td>36.850</td>\n",
              "      <td>0</td>\n",
              "      <td>1629.83350</td>\n",
              "      <td>1</td>\n",
              "      <td>0</td>\n",
              "      <td>1</td>\n",
              "      <td>0</td>\n",
              "      <td>0</td>\n",
              "      <td>0</td>\n",
              "      <td>1</td>\n",
              "      <td>0</td>\n",
              "    </tr>\n",
              "    <tr>\n",
              "      <th>1336</th>\n",
              "      <td>21</td>\n",
              "      <td>25.800</td>\n",
              "      <td>0</td>\n",
              "      <td>2007.94500</td>\n",
              "      <td>1</td>\n",
              "      <td>0</td>\n",
              "      <td>1</td>\n",
              "      <td>0</td>\n",
              "      <td>0</td>\n",
              "      <td>0</td>\n",
              "      <td>0</td>\n",
              "      <td>1</td>\n",
              "    </tr>\n",
              "    <tr>\n",
              "      <th>1337</th>\n",
              "      <td>61</td>\n",
              "      <td>29.070</td>\n",
              "      <td>0</td>\n",
              "      <td>29141.36030</td>\n",
              "      <td>1</td>\n",
              "      <td>0</td>\n",
              "      <td>0</td>\n",
              "      <td>1</td>\n",
              "      <td>0</td>\n",
              "      <td>1</td>\n",
              "      <td>0</td>\n",
              "      <td>0</td>\n",
              "    </tr>\n",
              "  </tbody>\n",
              "</table>\n",
              "<p>1338 rows × 12 columns</p>\n",
              "</div>"
            ],
            "text/plain": [
              "      age     bmi  ...  region_southeast  region_southwest\n",
              "0      19  27.900  ...                 0                 1\n",
              "1      18  33.770  ...                 1                 0\n",
              "2      28  33.000  ...                 1                 0\n",
              "3      33  22.705  ...                 0                 0\n",
              "4      32  28.880  ...                 0                 0\n",
              "...   ...     ...  ...               ...               ...\n",
              "1333   50  30.970  ...                 0                 0\n",
              "1334   18  31.920  ...                 0                 0\n",
              "1335   18  36.850  ...                 1                 0\n",
              "1336   21  25.800  ...                 0                 1\n",
              "1337   61  29.070  ...                 0                 0\n",
              "\n",
              "[1338 rows x 12 columns]"
            ]
          },
          "metadata": {
            "tags": []
          },
          "execution_count": 101
        }
      ]
    },
    {
      "cell_type": "code",
      "metadata": {
        "colab": {
          "base_uri": "https://localhost:8080/",
          "height": 222
        },
        "id": "3qZ3ar83Ules",
        "outputId": "9df95770-7454-49b3-c783-cffe934dc93a"
      },
      "source": [
        "# creating features and label\n",
        "X = insurance_one_hot.drop(\"charges\", axis = 1)\n",
        "y = insurance_one_hot[\"charges\"]\n",
        "X.head()"
      ],
      "execution_count": 102,
      "outputs": [
        {
          "output_type": "execute_result",
          "data": {
            "text/html": [
              "<div>\n",
              "<style scoped>\n",
              "    .dataframe tbody tr th:only-of-type {\n",
              "        vertical-align: middle;\n",
              "    }\n",
              "\n",
              "    .dataframe tbody tr th {\n",
              "        vertical-align: top;\n",
              "    }\n",
              "\n",
              "    .dataframe thead th {\n",
              "        text-align: right;\n",
              "    }\n",
              "</style>\n",
              "<table border=\"1\" class=\"dataframe\">\n",
              "  <thead>\n",
              "    <tr style=\"text-align: right;\">\n",
              "      <th></th>\n",
              "      <th>age</th>\n",
              "      <th>bmi</th>\n",
              "      <th>children</th>\n",
              "      <th>sex_female</th>\n",
              "      <th>sex_male</th>\n",
              "      <th>smoker_no</th>\n",
              "      <th>smoker_yes</th>\n",
              "      <th>region_northeast</th>\n",
              "      <th>region_northwest</th>\n",
              "      <th>region_southeast</th>\n",
              "      <th>region_southwest</th>\n",
              "    </tr>\n",
              "  </thead>\n",
              "  <tbody>\n",
              "    <tr>\n",
              "      <th>0</th>\n",
              "      <td>19</td>\n",
              "      <td>27.900</td>\n",
              "      <td>0</td>\n",
              "      <td>1</td>\n",
              "      <td>0</td>\n",
              "      <td>0</td>\n",
              "      <td>1</td>\n",
              "      <td>0</td>\n",
              "      <td>0</td>\n",
              "      <td>0</td>\n",
              "      <td>1</td>\n",
              "    </tr>\n",
              "    <tr>\n",
              "      <th>1</th>\n",
              "      <td>18</td>\n",
              "      <td>33.770</td>\n",
              "      <td>1</td>\n",
              "      <td>0</td>\n",
              "      <td>1</td>\n",
              "      <td>1</td>\n",
              "      <td>0</td>\n",
              "      <td>0</td>\n",
              "      <td>0</td>\n",
              "      <td>1</td>\n",
              "      <td>0</td>\n",
              "    </tr>\n",
              "    <tr>\n",
              "      <th>2</th>\n",
              "      <td>28</td>\n",
              "      <td>33.000</td>\n",
              "      <td>3</td>\n",
              "      <td>0</td>\n",
              "      <td>1</td>\n",
              "      <td>1</td>\n",
              "      <td>0</td>\n",
              "      <td>0</td>\n",
              "      <td>0</td>\n",
              "      <td>1</td>\n",
              "      <td>0</td>\n",
              "    </tr>\n",
              "    <tr>\n",
              "      <th>3</th>\n",
              "      <td>33</td>\n",
              "      <td>22.705</td>\n",
              "      <td>0</td>\n",
              "      <td>0</td>\n",
              "      <td>1</td>\n",
              "      <td>1</td>\n",
              "      <td>0</td>\n",
              "      <td>0</td>\n",
              "      <td>1</td>\n",
              "      <td>0</td>\n",
              "      <td>0</td>\n",
              "    </tr>\n",
              "    <tr>\n",
              "      <th>4</th>\n",
              "      <td>32</td>\n",
              "      <td>28.880</td>\n",
              "      <td>0</td>\n",
              "      <td>0</td>\n",
              "      <td>1</td>\n",
              "      <td>1</td>\n",
              "      <td>0</td>\n",
              "      <td>0</td>\n",
              "      <td>1</td>\n",
              "      <td>0</td>\n",
              "      <td>0</td>\n",
              "    </tr>\n",
              "  </tbody>\n",
              "</table>\n",
              "</div>"
            ],
            "text/plain": [
              "   age     bmi  children  ...  region_northwest  region_southeast  region_southwest\n",
              "0   19  27.900         0  ...                 0                 0                 1\n",
              "1   18  33.770         1  ...                 0                 1                 0\n",
              "2   28  33.000         3  ...                 0                 1                 0\n",
              "3   33  22.705         0  ...                 1                 0                 0\n",
              "4   32  28.880         0  ...                 1                 0                 0\n",
              "\n",
              "[5 rows x 11 columns]"
            ]
          },
          "metadata": {
            "tags": []
          },
          "execution_count": 102
        }
      ]
    },
    {
      "cell_type": "code",
      "metadata": {
        "colab": {
          "base_uri": "https://localhost:8080/"
        },
        "id": "Ue_Hp55Jb2eU",
        "outputId": "768e6034-a397-4b08-98ab-6caa8d0953bb"
      },
      "source": [
        "y"
      ],
      "execution_count": 103,
      "outputs": [
        {
          "output_type": "execute_result",
          "data": {
            "text/plain": [
              "0       16884.92400\n",
              "1        1725.55230\n",
              "2        4449.46200\n",
              "3       21984.47061\n",
              "4        3866.85520\n",
              "           ...     \n",
              "1333    10600.54830\n",
              "1334     2205.98080\n",
              "1335     1629.83350\n",
              "1336     2007.94500\n",
              "1337    29141.36030\n",
              "Name: charges, Length: 1338, dtype: float64"
            ]
          },
          "metadata": {
            "tags": []
          },
          "execution_count": 103
        }
      ]
    },
    {
      "cell_type": "code",
      "metadata": {
        "colab": {
          "base_uri": "https://localhost:8080/"
        },
        "id": "3G94PPysVo4T",
        "outputId": "82b1d336-d623-4f2f-8c5c-e3daf6cd319c"
      },
      "source": [
        " #randomly spliting the dataframe using the sklearn train test split library \n",
        " from sklearn.model_selection import train_test_split\n",
        " X_train,X_test,y_train,y_test=train_test_split(X,y,test_size=0.2,random_state=42)\n",
        "len(X), len(X_train), len(X_test)"
      ],
      "execution_count": 104,
      "outputs": [
        {
          "output_type": "execute_result",
          "data": {
            "text/plain": [
              "(1338, 1070, 268)"
            ]
          },
          "metadata": {
            "tags": []
          },
          "execution_count": 104
        }
      ]
    },
    {
      "cell_type": "code",
      "metadata": {
        "colab": {
          "base_uri": "https://localhost:8080/"
        },
        "id": "NuDg9hzsclJ_",
        "outputId": "9a79886c-5a64-4aea-cc36-f160a891e7a8"
      },
      "source": [
        "model_2.summary()"
      ],
      "execution_count": 105,
      "outputs": [
        {
          "output_type": "stream",
          "text": [
            "Model: \"sequential_11\"\n",
            "_________________________________________________________________\n",
            "Layer (type)                 Output Shape              Param #   \n",
            "=================================================================\n",
            "dense_13 (Dense)             (None, 10)                20        \n",
            "_________________________________________________________________\n",
            "dense_14 (Dense)             (None, 1)                 11        \n",
            "=================================================================\n",
            "Total params: 31\n",
            "Trainable params: 31\n",
            "Non-trainable params: 0\n",
            "_________________________________________________________________\n"
          ],
          "name": "stdout"
        }
      ]
    },
    {
      "cell_type": "code",
      "metadata": {
        "colab": {
          "base_uri": "https://localhost:8080/"
        },
        "id": "0XVYbtrsdiKo",
        "outputId": "4430a28c-c805-429e-e98a-47b6a31fa83d"
      },
      "source": [
        "#building a neural network(sort of model_2 above)\n",
        "\n",
        "tf.random.set_seed(42)\n",
        "\n",
        "insurance_model = tf.keras.Sequential([\n",
        "  tf.keras.layers.Dense(10),\n",
        "  tf.keras.layers.Dense(1)\n",
        "])\n",
        "\n",
        "insurance_model.compile(loss=tf.keras.losses.mae,\n",
        "                        optimizer=tf.keras.optimizers.SGD(),\n",
        "                        metrics=[\"mae\"])\n",
        "\n",
        "insurance_model.fit(X_train,y_train,epochs=100)"
      ],
      "execution_count": 106,
      "outputs": [
        {
          "output_type": "stream",
          "text": [
            "Epoch 1/100\n",
            "34/34 [==============================] - 0s 1ms/step - loss: 8637.1006 - mae: 8637.1006\n",
            "Epoch 2/100\n",
            "34/34 [==============================] - 0s 749us/step - loss: 7886.7759 - mae: 7886.7759\n",
            "Epoch 3/100\n",
            "34/34 [==============================] - 0s 723us/step - loss: 7558.1470 - mae: 7558.1470\n",
            "Epoch 4/100\n",
            "34/34 [==============================] - 0s 778us/step - loss: 7792.0220 - mae: 7792.0220\n",
            "Epoch 5/100\n",
            "34/34 [==============================] - 0s 812us/step - loss: 7748.3887 - mae: 7748.3887\n",
            "Epoch 6/100\n",
            "34/34 [==============================] - 0s 924us/step - loss: 7595.3940 - mae: 7595.3940\n",
            "Epoch 7/100\n",
            "34/34 [==============================] - 0s 795us/step - loss: 7589.9844 - mae: 7589.9844\n",
            "Epoch 8/100\n",
            "34/34 [==============================] - 0s 989us/step - loss: 7698.5576 - mae: 7698.5576\n",
            "Epoch 9/100\n",
            "34/34 [==============================] - 0s 857us/step - loss: 7496.7778 - mae: 7496.7778\n",
            "Epoch 10/100\n",
            "34/34 [==============================] - 0s 839us/step - loss: 7493.1743 - mae: 7493.1743\n",
            "Epoch 11/100\n",
            "34/34 [==============================] - 0s 866us/step - loss: 7769.7295 - mae: 7769.7295\n",
            "Epoch 12/100\n",
            "34/34 [==============================] - 0s 763us/step - loss: 7706.9028 - mae: 7706.9028\n",
            "Epoch 13/100\n",
            "34/34 [==============================] - 0s 847us/step - loss: 7687.7231 - mae: 7687.7231\n",
            "Epoch 14/100\n",
            "34/34 [==============================] - 0s 857us/step - loss: 7689.9004 - mae: 7689.9004\n",
            "Epoch 15/100\n",
            "34/34 [==============================] - 0s 826us/step - loss: 7393.5327 - mae: 7393.5327\n",
            "Epoch 16/100\n",
            "34/34 [==============================] - 0s 927us/step - loss: 7780.6987 - mae: 7780.6987\n",
            "Epoch 17/100\n",
            "34/34 [==============================] - 0s 887us/step - loss: 7578.5098 - mae: 7578.5098\n",
            "Epoch 18/100\n",
            "34/34 [==============================] - 0s 798us/step - loss: 7750.8354 - mae: 7750.8354\n",
            "Epoch 19/100\n",
            "34/34 [==============================] - 0s 1ms/step - loss: 7739.2144 - mae: 7739.2144\n",
            "Epoch 20/100\n",
            "34/34 [==============================] - 0s 802us/step - loss: 7875.0654 - mae: 7875.0654\n",
            "Epoch 21/100\n",
            "34/34 [==============================] - 0s 870us/step - loss: 7466.6768 - mae: 7466.6768\n",
            "Epoch 22/100\n",
            "34/34 [==============================] - 0s 769us/step - loss: 7941.2329 - mae: 7941.2329\n",
            "Epoch 23/100\n",
            "34/34 [==============================] - 0s 874us/step - loss: 7640.2725 - mae: 7640.2725\n",
            "Epoch 24/100\n",
            "34/34 [==============================] - 0s 891us/step - loss: 7539.2671 - mae: 7539.2671\n",
            "Epoch 25/100\n",
            "34/34 [==============================] - 0s 782us/step - loss: 7619.9653 - mae: 7619.9653\n",
            "Epoch 26/100\n",
            "34/34 [==============================] - 0s 886us/step - loss: 7644.1719 - mae: 7644.1719\n",
            "Epoch 27/100\n",
            "34/34 [==============================] - 0s 790us/step - loss: 7709.0371 - mae: 7709.0371\n",
            "Epoch 28/100\n",
            "34/34 [==============================] - 0s 813us/step - loss: 7366.8662 - mae: 7366.8662\n",
            "Epoch 29/100\n",
            "34/34 [==============================] - 0s 802us/step - loss: 7444.3154 - mae: 7444.3154\n",
            "Epoch 30/100\n",
            "34/34 [==============================] - 0s 822us/step - loss: 7616.4077 - mae: 7616.4077\n",
            "Epoch 31/100\n",
            "34/34 [==============================] - 0s 737us/step - loss: 7686.3853 - mae: 7686.3853\n",
            "Epoch 32/100\n",
            "34/34 [==============================] - 0s 850us/step - loss: 7548.0977 - mae: 7548.0977\n",
            "Epoch 33/100\n",
            "34/34 [==============================] - 0s 754us/step - loss: 7501.5532 - mae: 7501.5532\n",
            "Epoch 34/100\n",
            "34/34 [==============================] - 0s 877us/step - loss: 7363.4160 - mae: 7363.4160\n",
            "Epoch 35/100\n",
            "34/34 [==============================] - 0s 1ms/step - loss: 7295.4478 - mae: 7295.4478\n",
            "Epoch 36/100\n",
            "34/34 [==============================] - 0s 761us/step - loss: 7569.8813 - mae: 7569.8813\n",
            "Epoch 37/100\n",
            "34/34 [==============================] - 0s 762us/step - loss: 7548.1997 - mae: 7548.1997\n",
            "Epoch 38/100\n",
            "34/34 [==============================] - 0s 735us/step - loss: 7424.3975 - mae: 7424.3975\n",
            "Epoch 39/100\n",
            "34/34 [==============================] - 0s 775us/step - loss: 7529.7734 - mae: 7529.7734\n",
            "Epoch 40/100\n",
            "34/34 [==============================] - 0s 730us/step - loss: 7467.3232 - mae: 7467.3232\n",
            "Epoch 41/100\n",
            "34/34 [==============================] - 0s 797us/step - loss: 7635.9292 - mae: 7635.9292\n",
            "Epoch 42/100\n",
            "34/34 [==============================] - 0s 812us/step - loss: 7536.8398 - mae: 7536.8398\n",
            "Epoch 43/100\n",
            "34/34 [==============================] - 0s 870us/step - loss: 7616.5859 - mae: 7616.5859\n",
            "Epoch 44/100\n",
            "34/34 [==============================] - 0s 878us/step - loss: 7439.4941 - mae: 7439.4941\n",
            "Epoch 45/100\n",
            "34/34 [==============================] - 0s 944us/step - loss: 7538.0151 - mae: 7538.0151\n",
            "Epoch 46/100\n",
            "34/34 [==============================] - 0s 779us/step - loss: 7415.1470 - mae: 7415.1470\n",
            "Epoch 47/100\n",
            "34/34 [==============================] - 0s 747us/step - loss: 7420.6938 - mae: 7420.6938\n",
            "Epoch 48/100\n",
            "34/34 [==============================] - 0s 901us/step - loss: 7509.9839 - mae: 7509.9839\n",
            "Epoch 49/100\n",
            "34/34 [==============================] - 0s 807us/step - loss: 7541.1133 - mae: 7541.1133\n",
            "Epoch 50/100\n",
            "34/34 [==============================] - 0s 837us/step - loss: 7467.8643 - mae: 7467.8643\n",
            "Epoch 51/100\n",
            "34/34 [==============================] - 0s 939us/step - loss: 7389.3560 - mae: 7389.3560\n",
            "Epoch 52/100\n",
            "34/34 [==============================] - 0s 897us/step - loss: 7499.7749 - mae: 7499.7749\n",
            "Epoch 53/100\n",
            "34/34 [==============================] - 0s 761us/step - loss: 7523.9282 - mae: 7523.9282\n",
            "Epoch 54/100\n",
            "34/34 [==============================] - 0s 728us/step - loss: 7243.3115 - mae: 7243.3115\n",
            "Epoch 55/100\n",
            "34/34 [==============================] - 0s 1ms/step - loss: 7429.5864 - mae: 7429.5864\n",
            "Epoch 56/100\n",
            "34/34 [==============================] - 0s 951us/step - loss: 7313.3999 - mae: 7313.3999\n",
            "Epoch 57/100\n",
            "34/34 [==============================] - 0s 849us/step - loss: 7526.3877 - mae: 7526.3877\n",
            "Epoch 58/100\n",
            "34/34 [==============================] - 0s 877us/step - loss: 7542.2666 - mae: 7542.2666\n",
            "Epoch 59/100\n",
            "34/34 [==============================] - 0s 876us/step - loss: 7576.9277 - mae: 7576.9277\n",
            "Epoch 60/100\n",
            "34/34 [==============================] - 0s 916us/step - loss: 7546.4048 - mae: 7546.4048\n",
            "Epoch 61/100\n",
            "34/34 [==============================] - 0s 897us/step - loss: 7351.2261 - mae: 7351.2261\n",
            "Epoch 62/100\n",
            "34/34 [==============================] - 0s 921us/step - loss: 7302.1436 - mae: 7302.1436\n",
            "Epoch 63/100\n",
            "34/34 [==============================] - 0s 947us/step - loss: 7393.0879 - mae: 7393.0879\n",
            "Epoch 64/100\n",
            "34/34 [==============================] - 0s 855us/step - loss: 7442.2881 - mae: 7442.2881\n",
            "Epoch 65/100\n",
            "34/34 [==============================] - 0s 874us/step - loss: 7492.6782 - mae: 7492.6782\n",
            "Epoch 66/100\n",
            "34/34 [==============================] - 0s 851us/step - loss: 7561.9165 - mae: 7561.9165\n",
            "Epoch 67/100\n",
            "34/34 [==============================] - 0s 865us/step - loss: 7340.5137 - mae: 7340.5137\n",
            "Epoch 68/100\n",
            "34/34 [==============================] - 0s 935us/step - loss: 7496.0845 - mae: 7496.0845\n",
            "Epoch 69/100\n",
            "34/34 [==============================] - 0s 838us/step - loss: 7617.0303 - mae: 7617.0303\n",
            "Epoch 70/100\n",
            "34/34 [==============================] - 0s 976us/step - loss: 7641.1948 - mae: 7641.1948\n",
            "Epoch 71/100\n",
            "34/34 [==============================] - 0s 860us/step - loss: 7084.2744 - mae: 7084.2744\n",
            "Epoch 72/100\n",
            "34/34 [==============================] - 0s 863us/step - loss: 7240.4902 - mae: 7240.4902\n",
            "Epoch 73/100\n",
            "34/34 [==============================] - 0s 896us/step - loss: 7283.4888 - mae: 7283.4888\n",
            "Epoch 74/100\n",
            "34/34 [==============================] - 0s 1ms/step - loss: 7335.5083 - mae: 7335.5083\n",
            "Epoch 75/100\n",
            "34/34 [==============================] - 0s 904us/step - loss: 7275.6392 - mae: 7275.6392\n",
            "Epoch 76/100\n",
            "34/34 [==============================] - 0s 939us/step - loss: 7313.1860 - mae: 7313.1860\n",
            "Epoch 77/100\n",
            "34/34 [==============================] - 0s 860us/step - loss: 7485.7588 - mae: 7485.7588\n",
            "Epoch 78/100\n",
            "34/34 [==============================] - 0s 852us/step - loss: 7352.2803 - mae: 7352.2803\n",
            "Epoch 79/100\n",
            "34/34 [==============================] - 0s 774us/step - loss: 7520.5703 - mae: 7520.5703\n",
            "Epoch 80/100\n",
            "34/34 [==============================] - 0s 776us/step - loss: 7279.3779 - mae: 7279.3779\n",
            "Epoch 81/100\n",
            "34/34 [==============================] - 0s 762us/step - loss: 7273.8477 - mae: 7273.8477\n",
            "Epoch 82/100\n",
            "34/34 [==============================] - 0s 761us/step - loss: 7176.5215 - mae: 7176.5215\n",
            "Epoch 83/100\n",
            "34/34 [==============================] - 0s 786us/step - loss: 7425.6289 - mae: 7425.6289\n",
            "Epoch 84/100\n",
            "34/34 [==============================] - 0s 725us/step - loss: 7403.1294 - mae: 7403.1294\n",
            "Epoch 85/100\n",
            "34/34 [==============================] - 0s 737us/step - loss: 7356.0088 - mae: 7356.0088\n",
            "Epoch 86/100\n",
            "34/34 [==============================] - 0s 842us/step - loss: 7484.7271 - mae: 7484.7271\n",
            "Epoch 87/100\n",
            "34/34 [==============================] - 0s 1ms/step - loss: 7217.6074 - mae: 7217.6074\n",
            "Epoch 88/100\n",
            "34/34 [==============================] - 0s 910us/step - loss: 7261.0000 - mae: 7261.0000\n",
            "Epoch 89/100\n",
            "34/34 [==============================] - 0s 936us/step - loss: 7134.1562 - mae: 7134.1562\n",
            "Epoch 90/100\n",
            "34/34 [==============================] - 0s 913us/step - loss: 7083.4360 - mae: 7083.4360\n",
            "Epoch 91/100\n",
            "34/34 [==============================] - 0s 931us/step - loss: 7254.1782 - mae: 7254.1782\n",
            "Epoch 92/100\n",
            "34/34 [==============================] - 0s 1ms/step - loss: 7268.7456 - mae: 7268.7456\n",
            "Epoch 93/100\n",
            "34/34 [==============================] - 0s 873us/step - loss: 7470.5220 - mae: 7470.5220\n",
            "Epoch 94/100\n",
            "34/34 [==============================] - 0s 903us/step - loss: 7210.9536 - mae: 7210.9536\n",
            "Epoch 95/100\n",
            "34/34 [==============================] - 0s 1ms/step - loss: 7395.6816 - mae: 7395.6816\n",
            "Epoch 96/100\n",
            "34/34 [==============================] - 0s 893us/step - loss: 7328.0884 - mae: 7328.0884\n",
            "Epoch 97/100\n",
            "34/34 [==============================] - 0s 871us/step - loss: 7230.4380 - mae: 7230.4380\n",
            "Epoch 98/100\n",
            "34/34 [==============================] - 0s 806us/step - loss: 7261.3936 - mae: 7261.3936\n",
            "Epoch 99/100\n",
            "34/34 [==============================] - 0s 860us/step - loss: 7342.5684 - mae: 7342.5684\n",
            "Epoch 100/100\n",
            "34/34 [==============================] - 0s 878us/step - loss: 7106.1714 - mae: 7106.1714\n"
          ],
          "name": "stdout"
        },
        {
          "output_type": "execute_result",
          "data": {
            "text/plain": [
              "<tensorflow.python.keras.callbacks.History at 0x7f9863d1f550>"
            ]
          },
          "metadata": {
            "tags": []
          },
          "execution_count": 106
        }
      ]
    },
    {
      "cell_type": "code",
      "metadata": {
        "colab": {
          "base_uri": "https://localhost:8080/"
        },
        "id": "zKVEfFMCeJOa",
        "outputId": "fa5e45f0-a77e-4a15-fd33-327bcc6feab5"
      },
      "source": [
        "#checking the result on test data set\n",
        "insurance_model.evaluate(X_test,y_test)"
      ],
      "execution_count": 107,
      "outputs": [
        {
          "output_type": "stream",
          "text": [
            "9/9 [==============================] - 0s 1ms/step - loss: 7023.3291 - mae: 7023.3291\n"
          ],
          "name": "stdout"
        },
        {
          "output_type": "execute_result",
          "data": {
            "text/plain": [
              "[7023.3291015625, 7023.3291015625]"
            ]
          },
          "metadata": {
            "tags": []
          },
          "execution_count": 107
        }
      ]
    },
    {
      "cell_type": "markdown",
      "metadata": {
        "id": "Cg_PSfkVhDkY"
      },
      "source": [
        "## Long story short my model is fucked up till now, time to optimize it"
      ]
    },
    {
      "cell_type": "code",
      "metadata": {
        "id": "wpjB3LnLhK2A",
        "colab": {
          "base_uri": "https://localhost:8080/"
        },
        "outputId": "fdc666dd-0d9a-41d9-de06-caef2569378e"
      },
      "source": [
        "# a little optimized neural network\n",
        "tf.random.set_seed(42)\n",
        "\n",
        "insurance_model_2 = tf.keras.Sequential([\n",
        "  tf.keras.layers.Dense(100, activation='relu'),\n",
        "  tf.keras.layers.Dense(100, activation='relu'),\n",
        "  tf.keras.layers.Dense(1)\n",
        "])\n",
        "\n",
        "insurance_model_2.compile(loss = tf.keras.losses.mae,\n",
        "                          optimizer = tf.keras.optimizers.Adam(learning_rate=0.001),\n",
        "                          metrics=[\"mae\"])\n",
        "history = insurance_model_2.fit(X_train,y_train,epochs=500)"
      ],
      "execution_count": 141,
      "outputs": [
        {
          "output_type": "stream",
          "text": [
            "Epoch 1/500\n",
            "34/34 [==============================] - 0s 1ms/step - loss: 13306.4980 - mae: 13306.4980\n",
            "Epoch 2/500\n",
            "34/34 [==============================] - 0s 1ms/step - loss: 13152.5859 - mae: 13152.5859\n",
            "Epoch 3/500\n",
            "34/34 [==============================] - 0s 1ms/step - loss: 12693.3643 - mae: 12693.3643\n",
            "Epoch 4/500\n",
            "34/34 [==============================] - 0s 1ms/step - loss: 11620.7891 - mae: 11620.7891\n",
            "Epoch 5/500\n",
            "34/34 [==============================] - 0s 1ms/step - loss: 9833.6875 - mae: 9833.6875\n",
            "Epoch 6/500\n",
            "34/34 [==============================] - 0s 1ms/step - loss: 8066.0400 - mae: 8066.0400\n",
            "Epoch 7/500\n",
            "34/34 [==============================] - 0s 1ms/step - loss: 7468.4707 - mae: 7468.4707\n",
            "Epoch 8/500\n",
            "34/34 [==============================] - 0s 1ms/step - loss: 7425.5142 - mae: 7425.5142\n",
            "Epoch 9/500\n",
            "34/34 [==============================] - 0s 1ms/step - loss: 7396.5088 - mae: 7396.5088\n",
            "Epoch 10/500\n",
            "34/34 [==============================] - 0s 1ms/step - loss: 7369.5684 - mae: 7369.5684\n",
            "Epoch 11/500\n",
            "34/34 [==============================] - 0s 1ms/step - loss: 7343.1309 - mae: 7343.1309\n",
            "Epoch 12/500\n",
            "34/34 [==============================] - 0s 2ms/step - loss: 7312.4941 - mae: 7312.4941\n",
            "Epoch 13/500\n",
            "34/34 [==============================] - 0s 1ms/step - loss: 7284.0093 - mae: 7284.0093\n",
            "Epoch 14/500\n",
            "34/34 [==============================] - 0s 1ms/step - loss: 7252.5986 - mae: 7252.5986\n",
            "Epoch 15/500\n",
            "34/34 [==============================] - 0s 1ms/step - loss: 7225.2554 - mae: 7225.2554\n",
            "Epoch 16/500\n",
            "34/34 [==============================] - 0s 1ms/step - loss: 7193.8340 - mae: 7193.8340\n",
            "Epoch 17/500\n",
            "34/34 [==============================] - 0s 1ms/step - loss: 7163.9546 - mae: 7163.9546\n",
            "Epoch 18/500\n",
            "34/34 [==============================] - 0s 1ms/step - loss: 7129.6460 - mae: 7129.6460\n",
            "Epoch 19/500\n",
            "34/34 [==============================] - 0s 1ms/step - loss: 7097.7192 - mae: 7097.7192\n",
            "Epoch 20/500\n",
            "34/34 [==============================] - 0s 1ms/step - loss: 7062.3765 - mae: 7062.3765\n",
            "Epoch 21/500\n",
            "34/34 [==============================] - 0s 1ms/step - loss: 7030.6094 - mae: 7030.6094\n",
            "Epoch 22/500\n",
            "34/34 [==============================] - 0s 1ms/step - loss: 6997.8867 - mae: 6997.8867\n",
            "Epoch 23/500\n",
            "34/34 [==============================] - 0s 1ms/step - loss: 6959.3296 - mae: 6959.3296\n",
            "Epoch 24/500\n",
            "34/34 [==============================] - 0s 1ms/step - loss: 6922.5112 - mae: 6922.5112\n",
            "Epoch 25/500\n",
            "34/34 [==============================] - 0s 1ms/step - loss: 6890.7690 - mae: 6890.7690\n",
            "Epoch 26/500\n",
            "34/34 [==============================] - 0s 1ms/step - loss: 6853.3354 - mae: 6853.3354\n",
            "Epoch 27/500\n",
            "34/34 [==============================] - 0s 1ms/step - loss: 6814.3564 - mae: 6814.3564\n",
            "Epoch 28/500\n",
            "34/34 [==============================] - 0s 1ms/step - loss: 6773.1167 - mae: 6773.1167\n",
            "Epoch 29/500\n",
            "34/34 [==============================] - 0s 1ms/step - loss: 6732.6196 - mae: 6732.6196\n",
            "Epoch 30/500\n",
            "34/34 [==============================] - 0s 1ms/step - loss: 6698.9810 - mae: 6698.9810\n",
            "Epoch 31/500\n",
            "34/34 [==============================] - 0s 1ms/step - loss: 6654.5522 - mae: 6654.5522\n",
            "Epoch 32/500\n",
            "34/34 [==============================] - 0s 1ms/step - loss: 6615.3423 - mae: 6615.3423\n",
            "Epoch 33/500\n",
            "34/34 [==============================] - 0s 1ms/step - loss: 6580.3037 - mae: 6580.3037\n",
            "Epoch 34/500\n",
            "34/34 [==============================] - 0s 1ms/step - loss: 6547.4932 - mae: 6547.4932\n",
            "Epoch 35/500\n",
            "34/34 [==============================] - 0s 1ms/step - loss: 6516.6411 - mae: 6516.6411\n",
            "Epoch 36/500\n",
            "34/34 [==============================] - 0s 1ms/step - loss: 6490.4956 - mae: 6490.4956\n",
            "Epoch 37/500\n",
            "34/34 [==============================] - 0s 1ms/step - loss: 6466.0161 - mae: 6466.0161\n",
            "Epoch 38/500\n",
            "34/34 [==============================] - 0s 1ms/step - loss: 6446.3208 - mae: 6446.3208\n",
            "Epoch 39/500\n",
            "34/34 [==============================] - 0s 1ms/step - loss: 6425.2515 - mae: 6425.2515\n",
            "Epoch 40/500\n",
            "34/34 [==============================] - 0s 1ms/step - loss: 6409.0859 - mae: 6409.0859\n",
            "Epoch 41/500\n",
            "34/34 [==============================] - 0s 1ms/step - loss: 6392.9517 - mae: 6392.9517\n",
            "Epoch 42/500\n",
            "34/34 [==============================] - 0s 1ms/step - loss: 6375.2861 - mae: 6375.2861\n",
            "Epoch 43/500\n",
            "34/34 [==============================] - 0s 1ms/step - loss: 6359.8262 - mae: 6359.8262\n",
            "Epoch 44/500\n",
            "34/34 [==============================] - 0s 1ms/step - loss: 6341.2095 - mae: 6341.2095\n",
            "Epoch 45/500\n",
            "34/34 [==============================] - 0s 1ms/step - loss: 6330.1196 - mae: 6330.1196\n",
            "Epoch 46/500\n",
            "34/34 [==============================] - 0s 2ms/step - loss: 6316.1768 - mae: 6316.1768\n",
            "Epoch 47/500\n",
            "34/34 [==============================] - 0s 1ms/step - loss: 6293.5698 - mae: 6293.5698\n",
            "Epoch 48/500\n",
            "34/34 [==============================] - 0s 1ms/step - loss: 6263.6338 - mae: 6263.6338\n",
            "Epoch 49/500\n",
            "34/34 [==============================] - 0s 1ms/step - loss: 6253.6489 - mae: 6253.6489\n",
            "Epoch 50/500\n",
            "34/34 [==============================] - 0s 1ms/step - loss: 6230.9141 - mae: 6230.9141\n",
            "Epoch 51/500\n",
            "34/34 [==============================] - 0s 1ms/step - loss: 6207.9980 - mae: 6207.9980\n",
            "Epoch 52/500\n",
            "34/34 [==============================] - 0s 1ms/step - loss: 6184.7959 - mae: 6184.7959\n",
            "Epoch 53/500\n",
            "34/34 [==============================] - 0s 1ms/step - loss: 6159.2480 - mae: 6159.2480\n",
            "Epoch 54/500\n",
            "34/34 [==============================] - 0s 1ms/step - loss: 6138.5674 - mae: 6138.5674\n",
            "Epoch 55/500\n",
            "34/34 [==============================] - 0s 1ms/step - loss: 6116.9287 - mae: 6116.9287\n",
            "Epoch 56/500\n",
            "34/34 [==============================] - 0s 1ms/step - loss: 6089.5293 - mae: 6089.5293\n",
            "Epoch 57/500\n",
            "34/34 [==============================] - 0s 1ms/step - loss: 6060.7983 - mae: 6060.7983\n",
            "Epoch 58/500\n",
            "34/34 [==============================] - 0s 1ms/step - loss: 6032.7227 - mae: 6032.7227\n",
            "Epoch 59/500\n",
            "34/34 [==============================] - 0s 1ms/step - loss: 6002.6050 - mae: 6002.6050\n",
            "Epoch 60/500\n",
            "34/34 [==============================] - 0s 1ms/step - loss: 5979.3599 - mae: 5979.3599\n",
            "Epoch 61/500\n",
            "34/34 [==============================] - 0s 1ms/step - loss: 5936.7974 - mae: 5936.7974\n",
            "Epoch 62/500\n",
            "34/34 [==============================] - 0s 1ms/step - loss: 5911.5273 - mae: 5911.5273\n",
            "Epoch 63/500\n",
            "34/34 [==============================] - 0s 1ms/step - loss: 5870.4287 - mae: 5870.4287\n",
            "Epoch 64/500\n",
            "34/34 [==============================] - 0s 1ms/step - loss: 5831.1367 - mae: 5831.1367\n",
            "Epoch 65/500\n",
            "34/34 [==============================] - 0s 1ms/step - loss: 5792.2256 - mae: 5792.2256\n",
            "Epoch 66/500\n",
            "34/34 [==============================] - 0s 1ms/step - loss: 5749.6484 - mae: 5749.6484\n",
            "Epoch 67/500\n",
            "34/34 [==============================] - 0s 1ms/step - loss: 5713.7695 - mae: 5713.7695\n",
            "Epoch 68/500\n",
            "34/34 [==============================] - 0s 2ms/step - loss: 5658.8716 - mae: 5658.8716\n",
            "Epoch 69/500\n",
            "34/34 [==============================] - 0s 1ms/step - loss: 5618.8569 - mae: 5618.8569\n",
            "Epoch 70/500\n",
            "34/34 [==============================] - 0s 1ms/step - loss: 5558.9253 - mae: 5558.9253\n",
            "Epoch 71/500\n",
            "34/34 [==============================] - 0s 1ms/step - loss: 5504.5327 - mae: 5504.5327\n",
            "Epoch 72/500\n",
            "34/34 [==============================] - 0s 1ms/step - loss: 5443.2744 - mae: 5443.2744\n",
            "Epoch 73/500\n",
            "34/34 [==============================] - 0s 1ms/step - loss: 5384.0337 - mae: 5384.0337\n",
            "Epoch 74/500\n",
            "34/34 [==============================] - 0s 1ms/step - loss: 5312.1812 - mae: 5312.1812\n",
            "Epoch 75/500\n",
            "34/34 [==============================] - 0s 1ms/step - loss: 5240.9873 - mae: 5240.9873\n",
            "Epoch 76/500\n",
            "34/34 [==============================] - 0s 1ms/step - loss: 5175.7944 - mae: 5175.7944\n",
            "Epoch 77/500\n",
            "34/34 [==============================] - 0s 1ms/step - loss: 5082.4473 - mae: 5082.4473\n",
            "Epoch 78/500\n",
            "34/34 [==============================] - 0s 1ms/step - loss: 4995.3105 - mae: 4995.3105\n",
            "Epoch 79/500\n",
            "34/34 [==============================] - 0s 1ms/step - loss: 4901.5566 - mae: 4901.5566\n",
            "Epoch 80/500\n",
            "34/34 [==============================] - 0s 1ms/step - loss: 4802.1543 - mae: 4802.1543\n",
            "Epoch 81/500\n",
            "34/34 [==============================] - 0s 1ms/step - loss: 4707.3516 - mae: 4707.3516\n",
            "Epoch 82/500\n",
            "34/34 [==============================] - 0s 1ms/step - loss: 4585.5679 - mae: 4585.5679\n",
            "Epoch 83/500\n",
            "34/34 [==============================] - 0s 1ms/step - loss: 4472.6133 - mae: 4472.6133\n",
            "Epoch 84/500\n",
            "34/34 [==============================] - 0s 1ms/step - loss: 4346.4922 - mae: 4346.4922\n",
            "Epoch 85/500\n",
            "34/34 [==============================] - 0s 1ms/step - loss: 4223.6836 - mae: 4223.6836\n",
            "Epoch 86/500\n",
            "34/34 [==============================] - 0s 1ms/step - loss: 4106.4751 - mae: 4106.4751\n",
            "Epoch 87/500\n",
            "34/34 [==============================] - 0s 1ms/step - loss: 3987.1335 - mae: 3987.1335\n",
            "Epoch 88/500\n",
            "34/34 [==============================] - 0s 1ms/step - loss: 3890.2788 - mae: 3890.2788\n",
            "Epoch 89/500\n",
            "34/34 [==============================] - 0s 1ms/step - loss: 3814.6458 - mae: 3814.6458\n",
            "Epoch 90/500\n",
            "34/34 [==============================] - 0s 1ms/step - loss: 3754.1592 - mae: 3754.1592\n",
            "Epoch 91/500\n",
            "34/34 [==============================] - 0s 1ms/step - loss: 3699.9314 - mae: 3699.9314\n",
            "Epoch 92/500\n",
            "34/34 [==============================] - 0s 1ms/step - loss: 3660.7637 - mae: 3660.7637\n",
            "Epoch 93/500\n",
            "34/34 [==============================] - 0s 1ms/step - loss: 3632.1938 - mae: 3632.1938\n",
            "Epoch 94/500\n",
            "34/34 [==============================] - 0s 1ms/step - loss: 3592.5483 - mae: 3592.5483\n",
            "Epoch 95/500\n",
            "34/34 [==============================] - 0s 1ms/step - loss: 3573.5247 - mae: 3573.5247\n",
            "Epoch 96/500\n",
            "34/34 [==============================] - 0s 1ms/step - loss: 3556.2480 - mae: 3556.2480\n",
            "Epoch 97/500\n",
            "34/34 [==============================] - 0s 1ms/step - loss: 3526.5566 - mae: 3526.5566\n",
            "Epoch 98/500\n",
            "34/34 [==============================] - 0s 1ms/step - loss: 3513.8179 - mae: 3513.8179\n",
            "Epoch 99/500\n",
            "34/34 [==============================] - 0s 1ms/step - loss: 3502.6472 - mae: 3502.6472\n",
            "Epoch 100/500\n",
            "34/34 [==============================] - 0s 1ms/step - loss: 3471.6780 - mae: 3471.6780\n",
            "Epoch 101/500\n",
            "34/34 [==============================] - 0s 1ms/step - loss: 3455.0896 - mae: 3455.0896\n",
            "Epoch 102/500\n",
            "34/34 [==============================] - 0s 1ms/step - loss: 3446.8579 - mae: 3446.8579\n",
            "Epoch 103/500\n",
            "34/34 [==============================] - 0s 1ms/step - loss: 3436.0171 - mae: 3436.0171\n",
            "Epoch 104/500\n",
            "34/34 [==============================] - 0s 1ms/step - loss: 3432.7473 - mae: 3432.7473\n",
            "Epoch 105/500\n",
            "34/34 [==============================] - 0s 1ms/step - loss: 3412.4634 - mae: 3412.4634\n",
            "Epoch 106/500\n",
            "34/34 [==============================] - 0s 1ms/step - loss: 3410.6079 - mae: 3410.6079\n",
            "Epoch 107/500\n",
            "34/34 [==============================] - 0s 1ms/step - loss: 3392.0273 - mae: 3392.0273\n",
            "Epoch 108/500\n",
            "34/34 [==============================] - 0s 1ms/step - loss: 3387.2532 - mae: 3387.2532\n",
            "Epoch 109/500\n",
            "34/34 [==============================] - 0s 1ms/step - loss: 3387.7339 - mae: 3387.7339\n",
            "Epoch 110/500\n",
            "34/34 [==============================] - 0s 1ms/step - loss: 3366.7915 - mae: 3366.7915\n",
            "Epoch 111/500\n",
            "34/34 [==============================] - 0s 1ms/step - loss: 3365.6233 - mae: 3365.6233\n",
            "Epoch 112/500\n",
            "34/34 [==============================] - 0s 1ms/step - loss: 3351.1450 - mae: 3351.1450\n",
            "Epoch 113/500\n",
            "34/34 [==============================] - 0s 1ms/step - loss: 3360.7173 - mae: 3360.7173\n",
            "Epoch 114/500\n",
            "34/34 [==============================] - 0s 1ms/step - loss: 3343.6765 - mae: 3343.6765\n",
            "Epoch 115/500\n",
            "34/34 [==============================] - 0s 1ms/step - loss: 3335.4233 - mae: 3335.4233\n",
            "Epoch 116/500\n",
            "34/34 [==============================] - 0s 1ms/step - loss: 3324.7854 - mae: 3324.7854\n",
            "Epoch 117/500\n",
            "34/34 [==============================] - 0s 1ms/step - loss: 3311.9185 - mae: 3311.9185\n",
            "Epoch 118/500\n",
            "34/34 [==============================] - 0s 1ms/step - loss: 3325.9473 - mae: 3325.9473\n",
            "Epoch 119/500\n",
            "34/34 [==============================] - 0s 1ms/step - loss: 3293.1033 - mae: 3293.1033\n",
            "Epoch 120/500\n",
            "34/34 [==============================] - 0s 1ms/step - loss: 3286.1875 - mae: 3286.1875\n",
            "Epoch 121/500\n",
            "34/34 [==============================] - 0s 1ms/step - loss: 3279.4983 - mae: 3279.4983\n",
            "Epoch 122/500\n",
            "34/34 [==============================] - 0s 1ms/step - loss: 3272.0720 - mae: 3272.0720\n",
            "Epoch 123/500\n",
            "34/34 [==============================] - 0s 1ms/step - loss: 3262.1514 - mae: 3262.1514\n",
            "Epoch 124/500\n",
            "34/34 [==============================] - 0s 1ms/step - loss: 3265.9028 - mae: 3265.9028\n",
            "Epoch 125/500\n",
            "34/34 [==============================] - 0s 1ms/step - loss: 3250.6191 - mae: 3250.6191\n",
            "Epoch 126/500\n",
            "34/34 [==============================] - 0s 1ms/step - loss: 3240.2729 - mae: 3240.2729\n",
            "Epoch 127/500\n",
            "34/34 [==============================] - 0s 1ms/step - loss: 3228.1982 - mae: 3228.1982\n",
            "Epoch 128/500\n",
            "34/34 [==============================] - 0s 1ms/step - loss: 3219.8599 - mae: 3219.8599\n",
            "Epoch 129/500\n",
            "34/34 [==============================] - 0s 1ms/step - loss: 3207.9463 - mae: 3207.9463\n",
            "Epoch 130/500\n",
            "34/34 [==============================] - 0s 1ms/step - loss: 3196.1809 - mae: 3196.1809\n",
            "Epoch 131/500\n",
            "34/34 [==============================] - 0s 1ms/step - loss: 3188.1726 - mae: 3188.1726\n",
            "Epoch 132/500\n",
            "34/34 [==============================] - 0s 1ms/step - loss: 3178.4775 - mae: 3178.4775\n",
            "Epoch 133/500\n",
            "34/34 [==============================] - 0s 1ms/step - loss: 3174.0068 - mae: 3174.0068\n",
            "Epoch 134/500\n",
            "34/34 [==============================] - 0s 1ms/step - loss: 3158.3831 - mae: 3158.3831\n",
            "Epoch 135/500\n",
            "34/34 [==============================] - 0s 1ms/step - loss: 3152.4509 - mae: 3152.4509\n",
            "Epoch 136/500\n",
            "34/34 [==============================] - 0s 1ms/step - loss: 3141.4236 - mae: 3141.4236\n",
            "Epoch 137/500\n",
            "34/34 [==============================] - 0s 1ms/step - loss: 3128.5527 - mae: 3128.5527\n",
            "Epoch 138/500\n",
            "34/34 [==============================] - 0s 1ms/step - loss: 3119.7415 - mae: 3119.7415\n",
            "Epoch 139/500\n",
            "34/34 [==============================] - 0s 1ms/step - loss: 3117.2441 - mae: 3117.2441\n",
            "Epoch 140/500\n",
            "34/34 [==============================] - 0s 1ms/step - loss: 3098.8518 - mae: 3098.8518\n",
            "Epoch 141/500\n",
            "34/34 [==============================] - 0s 1ms/step - loss: 3088.6064 - mae: 3088.6064\n",
            "Epoch 142/500\n",
            "34/34 [==============================] - 0s 2ms/step - loss: 3077.5090 - mae: 3077.5090\n",
            "Epoch 143/500\n",
            "34/34 [==============================] - 0s 1ms/step - loss: 3070.6292 - mae: 3070.6292\n",
            "Epoch 144/500\n",
            "34/34 [==============================] - 0s 1ms/step - loss: 3061.1165 - mae: 3061.1165\n",
            "Epoch 145/500\n",
            "34/34 [==============================] - 0s 1ms/step - loss: 3048.4263 - mae: 3048.4263\n",
            "Epoch 146/500\n",
            "34/34 [==============================] - 0s 1ms/step - loss: 3038.0603 - mae: 3038.0603\n",
            "Epoch 147/500\n",
            "34/34 [==============================] - 0s 1ms/step - loss: 3032.2275 - mae: 3032.2275\n",
            "Epoch 148/500\n",
            "34/34 [==============================] - 0s 1ms/step - loss: 3028.7131 - mae: 3028.7131\n",
            "Epoch 149/500\n",
            "34/34 [==============================] - 0s 1ms/step - loss: 3009.5999 - mae: 3009.5999\n",
            "Epoch 150/500\n",
            "34/34 [==============================] - 0s 1ms/step - loss: 2981.2271 - mae: 2981.2271\n",
            "Epoch 151/500\n",
            "34/34 [==============================] - 0s 1ms/step - loss: 2970.2310 - mae: 2970.2310\n",
            "Epoch 152/500\n",
            "34/34 [==============================] - 0s 1ms/step - loss: 2953.9265 - mae: 2953.9265\n",
            "Epoch 153/500\n",
            "34/34 [==============================] - 0s 1ms/step - loss: 2950.3491 - mae: 2950.3491\n",
            "Epoch 154/500\n",
            "34/34 [==============================] - 0s 1ms/step - loss: 2936.0950 - mae: 2936.0950\n",
            "Epoch 155/500\n",
            "34/34 [==============================] - 0s 1ms/step - loss: 2916.2112 - mae: 2916.2112\n",
            "Epoch 156/500\n",
            "34/34 [==============================] - 0s 1ms/step - loss: 2902.3918 - mae: 2902.3918\n",
            "Epoch 157/500\n",
            "34/34 [==============================] - 0s 2ms/step - loss: 2910.7827 - mae: 2910.7827\n",
            "Epoch 158/500\n",
            "34/34 [==============================] - 0s 1ms/step - loss: 2887.4722 - mae: 2887.4722\n",
            "Epoch 159/500\n",
            "34/34 [==============================] - 0s 1ms/step - loss: 2860.9839 - mae: 2860.9839\n",
            "Epoch 160/500\n",
            "34/34 [==============================] - 0s 1ms/step - loss: 2860.6985 - mae: 2860.6985\n",
            "Epoch 161/500\n",
            "34/34 [==============================] - 0s 1ms/step - loss: 2834.2742 - mae: 2834.2742\n",
            "Epoch 162/500\n",
            "34/34 [==============================] - 0s 1ms/step - loss: 2820.8472 - mae: 2820.8472\n",
            "Epoch 163/500\n",
            "34/34 [==============================] - 0s 1ms/step - loss: 2807.9226 - mae: 2807.9226\n",
            "Epoch 164/500\n",
            "34/34 [==============================] - 0s 1ms/step - loss: 2805.1504 - mae: 2805.1504\n",
            "Epoch 165/500\n",
            "34/34 [==============================] - 0s 1ms/step - loss: 2799.3979 - mae: 2799.3979\n",
            "Epoch 166/500\n",
            "34/34 [==============================] - 0s 1ms/step - loss: 2780.3071 - mae: 2780.3071\n",
            "Epoch 167/500\n",
            "34/34 [==============================] - 0s 1ms/step - loss: 2773.5696 - mae: 2773.5696\n",
            "Epoch 168/500\n",
            "34/34 [==============================] - 0s 1ms/step - loss: 2775.3940 - mae: 2775.3940\n",
            "Epoch 169/500\n",
            "34/34 [==============================] - 0s 2ms/step - loss: 2754.6912 - mae: 2754.6912\n",
            "Epoch 170/500\n",
            "34/34 [==============================] - 0s 1ms/step - loss: 2749.7908 - mae: 2749.7908\n",
            "Epoch 171/500\n",
            "34/34 [==============================] - 0s 1ms/step - loss: 2760.4685 - mae: 2760.4685\n",
            "Epoch 172/500\n",
            "34/34 [==============================] - 0s 1ms/step - loss: 2744.4048 - mae: 2744.4048\n",
            "Epoch 173/500\n",
            "34/34 [==============================] - 0s 1ms/step - loss: 2735.1790 - mae: 2735.1790\n",
            "Epoch 174/500\n",
            "34/34 [==============================] - 0s 1ms/step - loss: 2742.1936 - mae: 2742.1936\n",
            "Epoch 175/500\n",
            "34/34 [==============================] - 0s 1ms/step - loss: 2724.9844 - mae: 2724.9844\n",
            "Epoch 176/500\n",
            "34/34 [==============================] - 0s 1ms/step - loss: 2732.8035 - mae: 2732.8035\n",
            "Epoch 177/500\n",
            "34/34 [==============================] - 0s 1ms/step - loss: 2725.4810 - mae: 2725.4810\n",
            "Epoch 178/500\n",
            "34/34 [==============================] - 0s 1ms/step - loss: 2723.4431 - mae: 2723.4431\n",
            "Epoch 179/500\n",
            "34/34 [==============================] - 0s 1ms/step - loss: 2714.9336 - mae: 2714.9336\n",
            "Epoch 180/500\n",
            "34/34 [==============================] - 0s 1ms/step - loss: 2710.6394 - mae: 2710.6394\n",
            "Epoch 181/500\n",
            "34/34 [==============================] - 0s 1ms/step - loss: 2708.5481 - mae: 2708.5481\n",
            "Epoch 182/500\n",
            "34/34 [==============================] - 0s 1ms/step - loss: 2703.6125 - mae: 2703.6125\n",
            "Epoch 183/500\n",
            "34/34 [==============================] - 0s 2ms/step - loss: 2693.5474 - mae: 2693.5476\n",
            "Epoch 184/500\n",
            "34/34 [==============================] - 0s 1ms/step - loss: 2694.0842 - mae: 2694.0842\n",
            "Epoch 185/500\n",
            "34/34 [==============================] - 0s 1ms/step - loss: 2688.1582 - mae: 2688.1582\n",
            "Epoch 186/500\n",
            "34/34 [==============================] - 0s 2ms/step - loss: 2683.2031 - mae: 2683.2031\n",
            "Epoch 187/500\n",
            "34/34 [==============================] - 0s 1ms/step - loss: 2687.6204 - mae: 2687.6204\n",
            "Epoch 188/500\n",
            "34/34 [==============================] - 0s 2ms/step - loss: 2679.0024 - mae: 2679.0024\n",
            "Epoch 189/500\n",
            "34/34 [==============================] - 0s 1ms/step - loss: 2677.5193 - mae: 2677.5193\n",
            "Epoch 190/500\n",
            "34/34 [==============================] - 0s 1ms/step - loss: 2671.7119 - mae: 2671.7119\n",
            "Epoch 191/500\n",
            "34/34 [==============================] - 0s 1ms/step - loss: 2687.2004 - mae: 2687.2004\n",
            "Epoch 192/500\n",
            "34/34 [==============================] - 0s 1ms/step - loss: 2664.1191 - mae: 2664.1191\n",
            "Epoch 193/500\n",
            "34/34 [==============================] - 0s 1ms/step - loss: 2678.1270 - mae: 2678.1270\n",
            "Epoch 194/500\n",
            "34/34 [==============================] - 0s 1ms/step - loss: 2663.1648 - mae: 2663.1648\n",
            "Epoch 195/500\n",
            "34/34 [==============================] - 0s 1ms/step - loss: 2655.4692 - mae: 2655.4692\n",
            "Epoch 196/500\n",
            "34/34 [==============================] - 0s 1ms/step - loss: 2659.1511 - mae: 2659.1511\n",
            "Epoch 197/500\n",
            "34/34 [==============================] - 0s 1ms/step - loss: 2640.9897 - mae: 2640.9897\n",
            "Epoch 198/500\n",
            "34/34 [==============================] - 0s 1ms/step - loss: 2645.7703 - mae: 2645.7703\n",
            "Epoch 199/500\n",
            "34/34 [==============================] - 0s 1ms/step - loss: 2645.2112 - mae: 2645.2112\n",
            "Epoch 200/500\n",
            "34/34 [==============================] - 0s 1ms/step - loss: 2639.0786 - mae: 2639.0786\n",
            "Epoch 201/500\n",
            "34/34 [==============================] - 0s 1ms/step - loss: 2640.5229 - mae: 2640.5229\n",
            "Epoch 202/500\n",
            "34/34 [==============================] - 0s 1ms/step - loss: 2640.0488 - mae: 2640.0488\n",
            "Epoch 203/500\n",
            "34/34 [==============================] - 0s 1ms/step - loss: 2628.4575 - mae: 2628.4575\n",
            "Epoch 204/500\n",
            "34/34 [==============================] - 0s 2ms/step - loss: 2626.9590 - mae: 2626.9590\n",
            "Epoch 205/500\n",
            "34/34 [==============================] - 0s 2ms/step - loss: 2614.0771 - mae: 2614.0771\n",
            "Epoch 206/500\n",
            "34/34 [==============================] - 0s 2ms/step - loss: 2617.0503 - mae: 2617.0503\n",
            "Epoch 207/500\n",
            "34/34 [==============================] - 0s 1ms/step - loss: 2612.7332 - mae: 2612.7332\n",
            "Epoch 208/500\n",
            "34/34 [==============================] - 0s 1ms/step - loss: 2613.7864 - mae: 2613.7864\n",
            "Epoch 209/500\n",
            "34/34 [==============================] - 0s 1ms/step - loss: 2608.8657 - mae: 2608.8657\n",
            "Epoch 210/500\n",
            "34/34 [==============================] - 0s 1ms/step - loss: 2605.6404 - mae: 2605.6404\n",
            "Epoch 211/500\n",
            "34/34 [==============================] - 0s 1ms/step - loss: 2597.0032 - mae: 2597.0032\n",
            "Epoch 212/500\n",
            "34/34 [==============================] - 0s 1ms/step - loss: 2599.0100 - mae: 2599.0100\n",
            "Epoch 213/500\n",
            "34/34 [==============================] - 0s 2ms/step - loss: 2599.0000 - mae: 2599.0000\n",
            "Epoch 214/500\n",
            "34/34 [==============================] - 0s 2ms/step - loss: 2591.5408 - mae: 2591.5408\n",
            "Epoch 215/500\n",
            "34/34 [==============================] - 0s 1ms/step - loss: 2581.0557 - mae: 2581.0557\n",
            "Epoch 216/500\n",
            "34/34 [==============================] - 0s 1ms/step - loss: 2583.6052 - mae: 2583.6052\n",
            "Epoch 217/500\n",
            "34/34 [==============================] - 0s 1ms/step - loss: 2578.2732 - mae: 2578.2732\n",
            "Epoch 218/500\n",
            "34/34 [==============================] - 0s 1ms/step - loss: 2579.9248 - mae: 2579.9248\n",
            "Epoch 219/500\n",
            "34/34 [==============================] - 0s 1ms/step - loss: 2573.8906 - mae: 2573.8906\n",
            "Epoch 220/500\n",
            "34/34 [==============================] - 0s 1ms/step - loss: 2565.4646 - mae: 2565.4646\n",
            "Epoch 221/500\n",
            "34/34 [==============================] - 0s 2ms/step - loss: 2585.8821 - mae: 2585.8821\n",
            "Epoch 222/500\n",
            "34/34 [==============================] - 0s 1ms/step - loss: 2566.5315 - mae: 2566.5315\n",
            "Epoch 223/500\n",
            "34/34 [==============================] - 0s 1ms/step - loss: 2555.6262 - mae: 2555.6262\n",
            "Epoch 224/500\n",
            "34/34 [==============================] - 0s 1ms/step - loss: 2563.1755 - mae: 2563.1755\n",
            "Epoch 225/500\n",
            "34/34 [==============================] - 0s 1ms/step - loss: 2578.6296 - mae: 2578.6296\n",
            "Epoch 226/500\n",
            "34/34 [==============================] - 0s 1ms/step - loss: 2547.6208 - mae: 2547.6208\n",
            "Epoch 227/500\n",
            "34/34 [==============================] - 0s 1ms/step - loss: 2546.5278 - mae: 2546.5278\n",
            "Epoch 228/500\n",
            "34/34 [==============================] - 0s 1ms/step - loss: 2540.4910 - mae: 2540.4910\n",
            "Epoch 229/500\n",
            "34/34 [==============================] - 0s 1ms/step - loss: 2534.6365 - mae: 2534.6365\n",
            "Epoch 230/500\n",
            "34/34 [==============================] - 0s 1ms/step - loss: 2538.3452 - mae: 2538.3452\n",
            "Epoch 231/500\n",
            "34/34 [==============================] - 0s 1ms/step - loss: 2535.0620 - mae: 2535.0620\n",
            "Epoch 232/500\n",
            "34/34 [==============================] - 0s 1ms/step - loss: 2530.3953 - mae: 2530.3953\n",
            "Epoch 233/500\n",
            "34/34 [==============================] - 0s 1ms/step - loss: 2536.5820 - mae: 2536.5820\n",
            "Epoch 234/500\n",
            "34/34 [==============================] - 0s 1ms/step - loss: 2529.9351 - mae: 2529.9351\n",
            "Epoch 235/500\n",
            "34/34 [==============================] - 0s 1ms/step - loss: 2524.2332 - mae: 2524.2332\n",
            "Epoch 236/500\n",
            "34/34 [==============================] - 0s 1ms/step - loss: 2522.8000 - mae: 2522.8000\n",
            "Epoch 237/500\n",
            "34/34 [==============================] - 0s 1ms/step - loss: 2521.4666 - mae: 2521.4666\n",
            "Epoch 238/500\n",
            "34/34 [==============================] - 0s 1ms/step - loss: 2513.1267 - mae: 2513.1267\n",
            "Epoch 239/500\n",
            "34/34 [==============================] - 0s 1ms/step - loss: 2508.5706 - mae: 2508.5706\n",
            "Epoch 240/500\n",
            "34/34 [==============================] - 0s 1ms/step - loss: 2514.9390 - mae: 2514.9390\n",
            "Epoch 241/500\n",
            "34/34 [==============================] - 0s 1ms/step - loss: 2502.3247 - mae: 2502.3247\n",
            "Epoch 242/500\n",
            "34/34 [==============================] - 0s 1ms/step - loss: 2497.1614 - mae: 2497.1614\n",
            "Epoch 243/500\n",
            "34/34 [==============================] - 0s 1ms/step - loss: 2516.0601 - mae: 2516.0601\n",
            "Epoch 244/500\n",
            "34/34 [==============================] - 0s 1ms/step - loss: 2496.8967 - mae: 2496.8967\n",
            "Epoch 245/500\n",
            "34/34 [==============================] - 0s 1ms/step - loss: 2494.9990 - mae: 2494.9990\n",
            "Epoch 246/500\n",
            "34/34 [==============================] - 0s 1ms/step - loss: 2484.1306 - mae: 2484.1306\n",
            "Epoch 247/500\n",
            "34/34 [==============================] - 0s 1ms/step - loss: 2482.5134 - mae: 2482.5134\n",
            "Epoch 248/500\n",
            "34/34 [==============================] - 0s 1ms/step - loss: 2483.1255 - mae: 2483.1255\n",
            "Epoch 249/500\n",
            "34/34 [==============================] - 0s 1ms/step - loss: 2479.8611 - mae: 2479.8611\n",
            "Epoch 250/500\n",
            "34/34 [==============================] - 0s 1ms/step - loss: 2480.3032 - mae: 2480.3032\n",
            "Epoch 251/500\n",
            "34/34 [==============================] - 0s 1ms/step - loss: 2470.5295 - mae: 2470.5295\n",
            "Epoch 252/500\n",
            "34/34 [==============================] - 0s 1ms/step - loss: 2471.4780 - mae: 2471.4780\n",
            "Epoch 253/500\n",
            "34/34 [==============================] - 0s 1ms/step - loss: 2472.8586 - mae: 2472.8586\n",
            "Epoch 254/500\n",
            "34/34 [==============================] - 0s 1ms/step - loss: 2467.9707 - mae: 2467.9707\n",
            "Epoch 255/500\n",
            "34/34 [==============================] - 0s 1ms/step - loss: 2460.1096 - mae: 2460.1096\n",
            "Epoch 256/500\n",
            "34/34 [==============================] - 0s 1ms/step - loss: 2454.4734 - mae: 2454.4734\n",
            "Epoch 257/500\n",
            "34/34 [==============================] - 0s 1ms/step - loss: 2454.3401 - mae: 2454.3401\n",
            "Epoch 258/500\n",
            "34/34 [==============================] - 0s 1ms/step - loss: 2458.5664 - mae: 2458.5664\n",
            "Epoch 259/500\n",
            "34/34 [==============================] - 0s 1ms/step - loss: 2445.1331 - mae: 2445.1331\n",
            "Epoch 260/500\n",
            "34/34 [==============================] - 0s 1ms/step - loss: 2442.6604 - mae: 2442.6604\n",
            "Epoch 261/500\n",
            "34/34 [==============================] - 0s 1ms/step - loss: 2442.5239 - mae: 2442.5239\n",
            "Epoch 262/500\n",
            "34/34 [==============================] - 0s 1ms/step - loss: 2438.9980 - mae: 2438.9980\n",
            "Epoch 263/500\n",
            "34/34 [==============================] - 0s 1ms/step - loss: 2437.1875 - mae: 2437.1875\n",
            "Epoch 264/500\n",
            "34/34 [==============================] - 0s 1ms/step - loss: 2436.2041 - mae: 2436.2041\n",
            "Epoch 265/500\n",
            "34/34 [==============================] - 0s 1ms/step - loss: 2430.7966 - mae: 2430.7966\n",
            "Epoch 266/500\n",
            "34/34 [==============================] - 0s 1ms/step - loss: 2432.2097 - mae: 2432.2097\n",
            "Epoch 267/500\n",
            "34/34 [==============================] - 0s 1ms/step - loss: 2433.5244 - mae: 2433.5244\n",
            "Epoch 268/500\n",
            "34/34 [==============================] - 0s 1ms/step - loss: 2424.2488 - mae: 2424.2488\n",
            "Epoch 269/500\n",
            "34/34 [==============================] - 0s 1ms/step - loss: 2414.7910 - mae: 2414.7910\n",
            "Epoch 270/500\n",
            "34/34 [==============================] - 0s 1ms/step - loss: 2409.6760 - mae: 2409.6760\n",
            "Epoch 271/500\n",
            "34/34 [==============================] - 0s 1ms/step - loss: 2405.1284 - mae: 2405.1284\n",
            "Epoch 272/500\n",
            "34/34 [==============================] - 0s 1ms/step - loss: 2412.3560 - mae: 2412.3560\n",
            "Epoch 273/500\n",
            "34/34 [==============================] - 0s 1ms/step - loss: 2417.9543 - mae: 2417.9543\n",
            "Epoch 274/500\n",
            "34/34 [==============================] - 0s 1ms/step - loss: 2426.2209 - mae: 2426.2209\n",
            "Epoch 275/500\n",
            "34/34 [==============================] - 0s 1ms/step - loss: 2395.9304 - mae: 2395.9304\n",
            "Epoch 276/500\n",
            "34/34 [==============================] - 0s 1ms/step - loss: 2395.9309 - mae: 2395.9309\n",
            "Epoch 277/500\n",
            "34/34 [==============================] - 0s 2ms/step - loss: 2393.9106 - mae: 2393.9106\n",
            "Epoch 278/500\n",
            "34/34 [==============================] - 0s 1ms/step - loss: 2389.9141 - mae: 2389.9141\n",
            "Epoch 279/500\n",
            "34/34 [==============================] - 0s 1ms/step - loss: 2387.0220 - mae: 2387.0220\n",
            "Epoch 280/500\n",
            "34/34 [==============================] - 0s 1ms/step - loss: 2387.4014 - mae: 2387.4014\n",
            "Epoch 281/500\n",
            "34/34 [==============================] - 0s 1ms/step - loss: 2383.1162 - mae: 2383.1162\n",
            "Epoch 282/500\n",
            "34/34 [==============================] - 0s 1ms/step - loss: 2373.0459 - mae: 2373.0459\n",
            "Epoch 283/500\n",
            "34/34 [==============================] - 0s 1ms/step - loss: 2378.2690 - mae: 2378.2690\n",
            "Epoch 284/500\n",
            "34/34 [==============================] - 0s 2ms/step - loss: 2368.4707 - mae: 2368.4707\n",
            "Epoch 285/500\n",
            "34/34 [==============================] - 0s 1ms/step - loss: 2370.0503 - mae: 2370.0503\n",
            "Epoch 286/500\n",
            "34/34 [==============================] - 0s 1ms/step - loss: 2366.9841 - mae: 2366.9841\n",
            "Epoch 287/500\n",
            "34/34 [==============================] - 0s 1ms/step - loss: 2370.8528 - mae: 2370.8528\n",
            "Epoch 288/500\n",
            "34/34 [==============================] - 0s 1ms/step - loss: 2368.5686 - mae: 2368.5686\n",
            "Epoch 289/500\n",
            "34/34 [==============================] - 0s 1ms/step - loss: 2358.3184 - mae: 2358.3184\n",
            "Epoch 290/500\n",
            "34/34 [==============================] - 0s 1ms/step - loss: 2354.1221 - mae: 2354.1221\n",
            "Epoch 291/500\n",
            "34/34 [==============================] - 0s 1ms/step - loss: 2350.1609 - mae: 2350.1609\n",
            "Epoch 292/500\n",
            "34/34 [==============================] - 0s 1ms/step - loss: 2357.2620 - mae: 2357.2620\n",
            "Epoch 293/500\n",
            "34/34 [==============================] - 0s 1ms/step - loss: 2352.0237 - mae: 2352.0237\n",
            "Epoch 294/500\n",
            "34/34 [==============================] - 0s 1ms/step - loss: 2350.0234 - mae: 2350.0234\n",
            "Epoch 295/500\n",
            "34/34 [==============================] - 0s 1ms/step - loss: 2338.5054 - mae: 2338.5054\n",
            "Epoch 296/500\n",
            "34/34 [==============================] - 0s 1ms/step - loss: 2352.1128 - mae: 2352.1128\n",
            "Epoch 297/500\n",
            "34/34 [==============================] - 0s 1ms/step - loss: 2354.3552 - mae: 2354.3552\n",
            "Epoch 298/500\n",
            "34/34 [==============================] - 0s 1ms/step - loss: 2330.1592 - mae: 2330.1592\n",
            "Epoch 299/500\n",
            "34/34 [==============================] - 0s 1ms/step - loss: 2335.8250 - mae: 2335.8250\n",
            "Epoch 300/500\n",
            "34/34 [==============================] - 0s 1ms/step - loss: 2326.2712 - mae: 2326.2712\n",
            "Epoch 301/500\n",
            "34/34 [==============================] - 0s 1ms/step - loss: 2323.8789 - mae: 2323.8789\n",
            "Epoch 302/500\n",
            "34/34 [==============================] - 0s 1ms/step - loss: 2333.4229 - mae: 2333.4229\n",
            "Epoch 303/500\n",
            "34/34 [==============================] - 0s 1ms/step - loss: 2322.3125 - mae: 2322.3125\n",
            "Epoch 304/500\n",
            "34/34 [==============================] - 0s 2ms/step - loss: 2316.1558 - mae: 2316.1558\n",
            "Epoch 305/500\n",
            "34/34 [==============================] - 0s 1ms/step - loss: 2314.6370 - mae: 2314.6370\n",
            "Epoch 306/500\n",
            "34/34 [==============================] - 0s 1ms/step - loss: 2315.3318 - mae: 2315.3318\n",
            "Epoch 307/500\n",
            "34/34 [==============================] - 0s 1ms/step - loss: 2317.6746 - mae: 2317.6746\n",
            "Epoch 308/500\n",
            "34/34 [==============================] - 0s 1ms/step - loss: 2318.4775 - mae: 2318.4775\n",
            "Epoch 309/500\n",
            "34/34 [==============================] - 0s 1ms/step - loss: 2315.7266 - mae: 2315.7266\n",
            "Epoch 310/500\n",
            "34/34 [==============================] - 0s 1ms/step - loss: 2307.5955 - mae: 2307.5955\n",
            "Epoch 311/500\n",
            "34/34 [==============================] - 0s 1ms/step - loss: 2298.5474 - mae: 2298.5474\n",
            "Epoch 312/500\n",
            "34/34 [==============================] - 0s 1ms/step - loss: 2306.5142 - mae: 2306.5142\n",
            "Epoch 313/500\n",
            "34/34 [==============================] - 0s 1ms/step - loss: 2296.2732 - mae: 2296.2732\n",
            "Epoch 314/500\n",
            "34/34 [==============================] - 0s 1ms/step - loss: 2295.5613 - mae: 2295.5613\n",
            "Epoch 315/500\n",
            "34/34 [==============================] - 0s 2ms/step - loss: 2289.1965 - mae: 2289.1965\n",
            "Epoch 316/500\n",
            "34/34 [==============================] - 0s 1ms/step - loss: 2294.8096 - mae: 2294.8096\n",
            "Epoch 317/500\n",
            "34/34 [==============================] - 0s 1ms/step - loss: 2284.3901 - mae: 2284.3901\n",
            "Epoch 318/500\n",
            "34/34 [==============================] - 0s 1ms/step - loss: 2282.6758 - mae: 2282.6758\n",
            "Epoch 319/500\n",
            "34/34 [==============================] - 0s 1ms/step - loss: 2282.1523 - mae: 2282.1523\n",
            "Epoch 320/500\n",
            "34/34 [==============================] - 0s 2ms/step - loss: 2284.5227 - mae: 2284.5227\n",
            "Epoch 321/500\n",
            "34/34 [==============================] - 0s 1ms/step - loss: 2285.7886 - mae: 2285.7886\n",
            "Epoch 322/500\n",
            "34/34 [==============================] - 0s 1ms/step - loss: 2278.2524 - mae: 2278.2524\n",
            "Epoch 323/500\n",
            "34/34 [==============================] - 0s 1ms/step - loss: 2273.6260 - mae: 2273.6260\n",
            "Epoch 324/500\n",
            "34/34 [==============================] - 0s 1ms/step - loss: 2273.8733 - mae: 2273.8733\n",
            "Epoch 325/500\n",
            "34/34 [==============================] - 0s 1ms/step - loss: 2270.6560 - mae: 2270.6560\n",
            "Epoch 326/500\n",
            "34/34 [==============================] - 0s 2ms/step - loss: 2266.5056 - mae: 2266.5056\n",
            "Epoch 327/500\n",
            "34/34 [==============================] - 0s 2ms/step - loss: 2267.0718 - mae: 2267.0718\n",
            "Epoch 328/500\n",
            "34/34 [==============================] - 0s 2ms/step - loss: 2266.3232 - mae: 2266.3232\n",
            "Epoch 329/500\n",
            "34/34 [==============================] - 0s 1ms/step - loss: 2266.4666 - mae: 2266.4666\n",
            "Epoch 330/500\n",
            "34/34 [==============================] - 0s 1ms/step - loss: 2267.8425 - mae: 2267.8425\n",
            "Epoch 331/500\n",
            "34/34 [==============================] - 0s 1ms/step - loss: 2247.8557 - mae: 2247.8557\n",
            "Epoch 332/500\n",
            "34/34 [==============================] - 0s 1ms/step - loss: 2256.9207 - mae: 2256.9207\n",
            "Epoch 333/500\n",
            "34/34 [==============================] - 0s 1ms/step - loss: 2257.4197 - mae: 2257.4197\n",
            "Epoch 334/500\n",
            "34/34 [==============================] - 0s 1ms/step - loss: 2265.7109 - mae: 2265.7109\n",
            "Epoch 335/500\n",
            "34/34 [==============================] - 0s 1ms/step - loss: 2267.9297 - mae: 2267.9297\n",
            "Epoch 336/500\n",
            "34/34 [==============================] - 0s 1ms/step - loss: 2267.9119 - mae: 2267.9119\n",
            "Epoch 337/500\n",
            "34/34 [==============================] - 0s 1ms/step - loss: 2246.0190 - mae: 2246.0190\n",
            "Epoch 338/500\n",
            "34/34 [==============================] - 0s 1ms/step - loss: 2238.9778 - mae: 2238.9778\n",
            "Epoch 339/500\n",
            "34/34 [==============================] - 0s 1ms/step - loss: 2247.2065 - mae: 2247.2065\n",
            "Epoch 340/500\n",
            "34/34 [==============================] - 0s 1ms/step - loss: 2242.3306 - mae: 2242.3306\n",
            "Epoch 341/500\n",
            "34/34 [==============================] - 0s 1ms/step - loss: 2241.9326 - mae: 2241.9326\n",
            "Epoch 342/500\n",
            "34/34 [==============================] - 0s 1ms/step - loss: 2233.2793 - mae: 2233.2793\n",
            "Epoch 343/500\n",
            "34/34 [==============================] - 0s 1ms/step - loss: 2231.7559 - mae: 2231.7559\n",
            "Epoch 344/500\n",
            "34/34 [==============================] - 0s 1ms/step - loss: 2238.6169 - mae: 2238.6169\n",
            "Epoch 345/500\n",
            "34/34 [==============================] - 0s 1ms/step - loss: 2227.1694 - mae: 2227.1694\n",
            "Epoch 346/500\n",
            "34/34 [==============================] - 0s 1ms/step - loss: 2237.7891 - mae: 2237.7891\n",
            "Epoch 347/500\n",
            "34/34 [==============================] - 0s 1ms/step - loss: 2232.2415 - mae: 2232.2415\n",
            "Epoch 348/500\n",
            "34/34 [==============================] - 0s 1ms/step - loss: 2228.8452 - mae: 2228.8452\n",
            "Epoch 349/500\n",
            "34/34 [==============================] - 0s 1ms/step - loss: 2223.3528 - mae: 2223.3528\n",
            "Epoch 350/500\n",
            "34/34 [==============================] - 0s 1ms/step - loss: 2229.2034 - mae: 2229.2034\n",
            "Epoch 351/500\n",
            "34/34 [==============================] - 0s 1ms/step - loss: 2218.8748 - mae: 2218.8748\n",
            "Epoch 352/500\n",
            "34/34 [==============================] - 0s 1ms/step - loss: 2219.8738 - mae: 2219.8738\n",
            "Epoch 353/500\n",
            "34/34 [==============================] - 0s 1ms/step - loss: 2217.7363 - mae: 2217.7363\n",
            "Epoch 354/500\n",
            "34/34 [==============================] - 0s 1ms/step - loss: 2213.4578 - mae: 2213.4578\n",
            "Epoch 355/500\n",
            "34/34 [==============================] - 0s 1ms/step - loss: 2213.6582 - mae: 2213.6582\n",
            "Epoch 356/500\n",
            "34/34 [==============================] - 0s 1ms/step - loss: 2209.8086 - mae: 2209.8086\n",
            "Epoch 357/500\n",
            "34/34 [==============================] - 0s 1ms/step - loss: 2207.7319 - mae: 2207.7319\n",
            "Epoch 358/500\n",
            "34/34 [==============================] - 0s 1ms/step - loss: 2219.1357 - mae: 2219.1357\n",
            "Epoch 359/500\n",
            "34/34 [==============================] - 0s 1ms/step - loss: 2214.8684 - mae: 2214.8684\n",
            "Epoch 360/500\n",
            "34/34 [==============================] - 0s 1ms/step - loss: 2206.5452 - mae: 2206.5452\n",
            "Epoch 361/500\n",
            "34/34 [==============================] - 0s 1ms/step - loss: 2197.8796 - mae: 2197.8796\n",
            "Epoch 362/500\n",
            "34/34 [==============================] - 0s 1ms/step - loss: 2206.0027 - mae: 2206.0027\n",
            "Epoch 363/500\n",
            "34/34 [==============================] - 0s 2ms/step - loss: 2195.4460 - mae: 2195.4460\n",
            "Epoch 364/500\n",
            "34/34 [==============================] - 0s 1ms/step - loss: 2189.7966 - mae: 2189.7966\n",
            "Epoch 365/500\n",
            "34/34 [==============================] - 0s 1ms/step - loss: 2187.9036 - mae: 2187.9036\n",
            "Epoch 366/500\n",
            "34/34 [==============================] - 0s 1ms/step - loss: 2190.6851 - mae: 2190.6851\n",
            "Epoch 367/500\n",
            "34/34 [==============================] - 0s 1ms/step - loss: 2186.7607 - mae: 2186.7607\n",
            "Epoch 368/500\n",
            "34/34 [==============================] - 0s 2ms/step - loss: 2216.9863 - mae: 2216.9863\n",
            "Epoch 369/500\n",
            "34/34 [==============================] - 0s 1ms/step - loss: 2188.2695 - mae: 2188.2695\n",
            "Epoch 370/500\n",
            "34/34 [==============================] - 0s 1ms/step - loss: 2189.4675 - mae: 2189.4675\n",
            "Epoch 371/500\n",
            "34/34 [==============================] - 0s 1ms/step - loss: 2186.6387 - mae: 2186.6387\n",
            "Epoch 372/500\n",
            "34/34 [==============================] - 0s 1ms/step - loss: 2182.7256 - mae: 2182.7256\n",
            "Epoch 373/500\n",
            "34/34 [==============================] - 0s 1ms/step - loss: 2176.4646 - mae: 2176.4646\n",
            "Epoch 374/500\n",
            "34/34 [==============================] - 0s 1ms/step - loss: 2174.1384 - mae: 2174.1384\n",
            "Epoch 375/500\n",
            "34/34 [==============================] - 0s 2ms/step - loss: 2172.0652 - mae: 2172.0652\n",
            "Epoch 376/500\n",
            "34/34 [==============================] - 0s 1ms/step - loss: 2174.1855 - mae: 2174.1855\n",
            "Epoch 377/500\n",
            "34/34 [==============================] - 0s 1ms/step - loss: 2178.9756 - mae: 2178.9756\n",
            "Epoch 378/500\n",
            "34/34 [==============================] - 0s 1ms/step - loss: 2174.5840 - mae: 2174.5840\n",
            "Epoch 379/500\n",
            "34/34 [==============================] - 0s 1ms/step - loss: 2168.7861 - mae: 2168.7861\n",
            "Epoch 380/500\n",
            "34/34 [==============================] - 0s 1ms/step - loss: 2164.8110 - mae: 2164.8110\n",
            "Epoch 381/500\n",
            "34/34 [==============================] - 0s 1ms/step - loss: 2160.1113 - mae: 2160.1113\n",
            "Epoch 382/500\n",
            "34/34 [==============================] - 0s 1ms/step - loss: 2190.5789 - mae: 2190.5789\n",
            "Epoch 383/500\n",
            "34/34 [==============================] - 0s 2ms/step - loss: 2174.9106 - mae: 2174.9106\n",
            "Epoch 384/500\n",
            "34/34 [==============================] - 0s 2ms/step - loss: 2157.5955 - mae: 2157.5955\n",
            "Epoch 385/500\n",
            "34/34 [==============================] - 0s 2ms/step - loss: 2155.6174 - mae: 2155.6174\n",
            "Epoch 386/500\n",
            "34/34 [==============================] - 0s 1ms/step - loss: 2157.5469 - mae: 2157.5469\n",
            "Epoch 387/500\n",
            "34/34 [==============================] - 0s 2ms/step - loss: 2144.9954 - mae: 2144.9954\n",
            "Epoch 388/500\n",
            "34/34 [==============================] - 0s 1ms/step - loss: 2145.5122 - mae: 2145.5122\n",
            "Epoch 389/500\n",
            "34/34 [==============================] - 0s 1ms/step - loss: 2147.7493 - mae: 2147.7493\n",
            "Epoch 390/500\n",
            "34/34 [==============================] - 0s 1ms/step - loss: 2149.6006 - mae: 2149.6006\n",
            "Epoch 391/500\n",
            "34/34 [==============================] - 0s 1ms/step - loss: 2143.0112 - mae: 2143.0112\n",
            "Epoch 392/500\n",
            "34/34 [==============================] - 0s 1ms/step - loss: 2139.2043 - mae: 2139.2043\n",
            "Epoch 393/500\n",
            "34/34 [==============================] - 0s 1ms/step - loss: 2143.6162 - mae: 2143.6162\n",
            "Epoch 394/500\n",
            "34/34 [==============================] - 0s 1ms/step - loss: 2148.7329 - mae: 2148.7329\n",
            "Epoch 395/500\n",
            "34/34 [==============================] - 0s 1ms/step - loss: 2150.4321 - mae: 2150.4321\n",
            "Epoch 396/500\n",
            "34/34 [==============================] - 0s 2ms/step - loss: 2139.9763 - mae: 2139.9763\n",
            "Epoch 397/500\n",
            "34/34 [==============================] - 0s 1ms/step - loss: 2150.6516 - mae: 2150.6516\n",
            "Epoch 398/500\n",
            "34/34 [==============================] - 0s 2ms/step - loss: 2126.9746 - mae: 2126.9746\n",
            "Epoch 399/500\n",
            "34/34 [==============================] - 0s 2ms/step - loss: 2134.4846 - mae: 2134.4846\n",
            "Epoch 400/500\n",
            "34/34 [==============================] - 0s 1ms/step - loss: 2125.7244 - mae: 2125.7244\n",
            "Epoch 401/500\n",
            "34/34 [==============================] - 0s 1ms/step - loss: 2123.1533 - mae: 2123.1533\n",
            "Epoch 402/500\n",
            "34/34 [==============================] - 0s 1ms/step - loss: 2126.5903 - mae: 2126.5903\n",
            "Epoch 403/500\n",
            "34/34 [==============================] - 0s 1ms/step - loss: 2129.7134 - mae: 2129.7134\n",
            "Epoch 404/500\n",
            "34/34 [==============================] - 0s 1ms/step - loss: 2119.8291 - mae: 2119.8291\n",
            "Epoch 405/500\n",
            "34/34 [==============================] - 0s 1ms/step - loss: 2128.3567 - mae: 2128.3567\n",
            "Epoch 406/500\n",
            "34/34 [==============================] - 0s 1ms/step - loss: 2123.6699 - mae: 2123.6699\n",
            "Epoch 407/500\n",
            "34/34 [==============================] - 0s 1ms/step - loss: 2114.7000 - mae: 2114.7000\n",
            "Epoch 408/500\n",
            "34/34 [==============================] - 0s 1ms/step - loss: 2117.0366 - mae: 2117.0366\n",
            "Epoch 409/500\n",
            "34/34 [==============================] - 0s 1ms/step - loss: 2129.3542 - mae: 2129.3542\n",
            "Epoch 410/500\n",
            "34/34 [==============================] - 0s 2ms/step - loss: 2112.6052 - mae: 2112.6052\n",
            "Epoch 411/500\n",
            "34/34 [==============================] - 0s 2ms/step - loss: 2115.7053 - mae: 2115.7053\n",
            "Epoch 412/500\n",
            "34/34 [==============================] - 0s 2ms/step - loss: 2115.8567 - mae: 2115.8567\n",
            "Epoch 413/500\n",
            "34/34 [==============================] - 0s 1ms/step - loss: 2114.4297 - mae: 2114.4297\n",
            "Epoch 414/500\n",
            "34/34 [==============================] - 0s 2ms/step - loss: 2108.6023 - mae: 2108.6023\n",
            "Epoch 415/500\n",
            "34/34 [==============================] - 0s 2ms/step - loss: 2115.9473 - mae: 2115.9473\n",
            "Epoch 416/500\n",
            "34/34 [==============================] - 0s 1ms/step - loss: 2104.2441 - mae: 2104.2441\n",
            "Epoch 417/500\n",
            "34/34 [==============================] - 0s 2ms/step - loss: 2100.4263 - mae: 2100.4263\n",
            "Epoch 418/500\n",
            "34/34 [==============================] - 0s 1ms/step - loss: 2103.6396 - mae: 2103.6396\n",
            "Epoch 419/500\n",
            "34/34 [==============================] - 0s 1ms/step - loss: 2101.1514 - mae: 2101.1514\n",
            "Epoch 420/500\n",
            "34/34 [==============================] - 0s 1ms/step - loss: 2098.6604 - mae: 2098.6604\n",
            "Epoch 421/500\n",
            "34/34 [==============================] - 0s 1ms/step - loss: 2096.4080 - mae: 2096.4080\n",
            "Epoch 422/500\n",
            "34/34 [==============================] - 0s 1ms/step - loss: 2096.3433 - mae: 2096.3433\n",
            "Epoch 423/500\n",
            "34/34 [==============================] - 0s 1ms/step - loss: 2083.5396 - mae: 2083.5396\n",
            "Epoch 424/500\n",
            "34/34 [==============================] - 0s 2ms/step - loss: 2102.9761 - mae: 2102.9761\n",
            "Epoch 425/500\n",
            "34/34 [==============================] - 0s 2ms/step - loss: 2090.2854 - mae: 2090.2854\n",
            "Epoch 426/500\n",
            "34/34 [==============================] - 0s 2ms/step - loss: 2090.5776 - mae: 2090.5776\n",
            "Epoch 427/500\n",
            "34/34 [==============================] - 0s 2ms/step - loss: 2103.5437 - mae: 2103.5437\n",
            "Epoch 428/500\n",
            "34/34 [==============================] - 0s 1ms/step - loss: 2090.4565 - mae: 2090.4565\n",
            "Epoch 429/500\n",
            "34/34 [==============================] - 0s 2ms/step - loss: 2102.1147 - mae: 2102.1147\n",
            "Epoch 430/500\n",
            "34/34 [==============================] - 0s 1ms/step - loss: 2077.8386 - mae: 2077.8386\n",
            "Epoch 431/500\n",
            "34/34 [==============================] - 0s 1ms/step - loss: 2090.0469 - mae: 2090.0469\n",
            "Epoch 432/500\n",
            "34/34 [==============================] - 0s 1ms/step - loss: 2073.7502 - mae: 2073.7502\n",
            "Epoch 433/500\n",
            "34/34 [==============================] - 0s 1ms/step - loss: 2082.3782 - mae: 2082.3782\n",
            "Epoch 434/500\n",
            "34/34 [==============================] - 0s 2ms/step - loss: 2080.7563 - mae: 2080.7563\n",
            "Epoch 435/500\n",
            "34/34 [==============================] - 0s 1ms/step - loss: 2078.1304 - mae: 2078.1304\n",
            "Epoch 436/500\n",
            "34/34 [==============================] - 0s 1ms/step - loss: 2075.0669 - mae: 2075.0669\n",
            "Epoch 437/500\n",
            "34/34 [==============================] - 0s 1ms/step - loss: 2071.6311 - mae: 2071.6311\n",
            "Epoch 438/500\n",
            "34/34 [==============================] - 0s 1ms/step - loss: 2077.7302 - mae: 2077.7302\n",
            "Epoch 439/500\n",
            "34/34 [==============================] - 0s 1ms/step - loss: 2072.9343 - mae: 2072.9343\n",
            "Epoch 440/500\n",
            "34/34 [==============================] - 0s 1ms/step - loss: 2066.2820 - mae: 2066.2820\n",
            "Epoch 441/500\n",
            "34/34 [==============================] - 0s 1ms/step - loss: 2068.6877 - mae: 2068.6877\n",
            "Epoch 442/500\n",
            "34/34 [==============================] - 0s 1ms/step - loss: 2060.5564 - mae: 2060.5564\n",
            "Epoch 443/500\n",
            "34/34 [==============================] - 0s 1ms/step - loss: 2064.4102 - mae: 2064.4102\n",
            "Epoch 444/500\n",
            "34/34 [==============================] - 0s 1ms/step - loss: 2065.0496 - mae: 2065.0496\n",
            "Epoch 445/500\n",
            "34/34 [==============================] - 0s 1ms/step - loss: 2068.7251 - mae: 2068.7251\n",
            "Epoch 446/500\n",
            "34/34 [==============================] - 0s 1ms/step - loss: 2089.1287 - mae: 2089.1287\n",
            "Epoch 447/500\n",
            "34/34 [==============================] - 0s 2ms/step - loss: 2052.1228 - mae: 2052.1228\n",
            "Epoch 448/500\n",
            "34/34 [==============================] - 0s 2ms/step - loss: 2070.6006 - mae: 2070.6006\n",
            "Epoch 449/500\n",
            "34/34 [==============================] - 0s 1ms/step - loss: 2058.8164 - mae: 2058.8164\n",
            "Epoch 450/500\n",
            "34/34 [==============================] - 0s 1ms/step - loss: 2064.0237 - mae: 2064.0237\n",
            "Epoch 451/500\n",
            "34/34 [==============================] - 0s 2ms/step - loss: 2048.7371 - mae: 2048.7371\n",
            "Epoch 452/500\n",
            "34/34 [==============================] - 0s 2ms/step - loss: 2054.5806 - mae: 2054.5806\n",
            "Epoch 453/500\n",
            "34/34 [==============================] - 0s 2ms/step - loss: 2047.1526 - mae: 2047.1526\n",
            "Epoch 454/500\n",
            "34/34 [==============================] - 0s 1ms/step - loss: 2046.4362 - mae: 2046.4362\n",
            "Epoch 455/500\n",
            "34/34 [==============================] - 0s 1ms/step - loss: 2051.3467 - mae: 2051.3467\n",
            "Epoch 456/500\n",
            "34/34 [==============================] - 0s 1ms/step - loss: 2049.0854 - mae: 2049.0854\n",
            "Epoch 457/500\n",
            "34/34 [==============================] - 0s 1ms/step - loss: 2052.7932 - mae: 2052.7932\n",
            "Epoch 458/500\n",
            "34/34 [==============================] - 0s 1ms/step - loss: 2041.8958 - mae: 2041.8958\n",
            "Epoch 459/500\n",
            "34/34 [==============================] - 0s 1ms/step - loss: 2039.9974 - mae: 2039.9974\n",
            "Epoch 460/500\n",
            "34/34 [==============================] - 0s 1ms/step - loss: 2047.9336 - mae: 2047.9336\n",
            "Epoch 461/500\n",
            "34/34 [==============================] - 0s 2ms/step - loss: 2036.2273 - mae: 2036.2273\n",
            "Epoch 462/500\n",
            "34/34 [==============================] - 0s 2ms/step - loss: 2061.2520 - mae: 2061.2520\n",
            "Epoch 463/500\n",
            "34/34 [==============================] - 0s 1ms/step - loss: 2044.1414 - mae: 2044.1414\n",
            "Epoch 464/500\n",
            "34/34 [==============================] - 0s 1ms/step - loss: 2040.0197 - mae: 2040.0197\n",
            "Epoch 465/500\n",
            "34/34 [==============================] - 0s 1ms/step - loss: 2053.5068 - mae: 2053.5068\n",
            "Epoch 466/500\n",
            "34/34 [==============================] - 0s 1ms/step - loss: 2036.4172 - mae: 2036.4172\n",
            "Epoch 467/500\n",
            "34/34 [==============================] - 0s 1ms/step - loss: 2042.5105 - mae: 2042.5105\n",
            "Epoch 468/500\n",
            "34/34 [==============================] - 0s 1ms/step - loss: 2038.3206 - mae: 2038.3206\n",
            "Epoch 469/500\n",
            "34/34 [==============================] - 0s 1ms/step - loss: 2028.7098 - mae: 2028.7098\n",
            "Epoch 470/500\n",
            "34/34 [==============================] - 0s 1ms/step - loss: 2034.3898 - mae: 2034.3898\n",
            "Epoch 471/500\n",
            "34/34 [==============================] - 0s 1ms/step - loss: 2042.9661 - mae: 2042.9661\n",
            "Epoch 472/500\n",
            "34/34 [==============================] - 0s 1ms/step - loss: 2039.4865 - mae: 2039.4865\n",
            "Epoch 473/500\n",
            "34/34 [==============================] - 0s 2ms/step - loss: 2037.9757 - mae: 2037.9757\n",
            "Epoch 474/500\n",
            "34/34 [==============================] - 0s 1ms/step - loss: 2036.8218 - mae: 2036.8218\n",
            "Epoch 475/500\n",
            "34/34 [==============================] - 0s 1ms/step - loss: 2029.6194 - mae: 2029.6194\n",
            "Epoch 476/500\n",
            "34/34 [==============================] - 0s 2ms/step - loss: 2038.3348 - mae: 2038.3348\n",
            "Epoch 477/500\n",
            "34/34 [==============================] - 0s 1ms/step - loss: 2033.0504 - mae: 2033.0504\n",
            "Epoch 478/500\n",
            "34/34 [==============================] - 0s 1ms/step - loss: 2026.8052 - mae: 2026.8052\n",
            "Epoch 479/500\n",
            "34/34 [==============================] - 0s 1ms/step - loss: 2034.4607 - mae: 2034.4607\n",
            "Epoch 480/500\n",
            "34/34 [==============================] - 0s 1ms/step - loss: 2025.2262 - mae: 2025.2262\n",
            "Epoch 481/500\n",
            "34/34 [==============================] - 0s 1ms/step - loss: 2026.3750 - mae: 2026.3750\n",
            "Epoch 482/500\n",
            "34/34 [==============================] - 0s 1ms/step - loss: 2023.5752 - mae: 2023.5752\n",
            "Epoch 483/500\n",
            "34/34 [==============================] - 0s 1ms/step - loss: 2021.5012 - mae: 2021.5012\n",
            "Epoch 484/500\n",
            "34/34 [==============================] - 0s 1ms/step - loss: 2026.0509 - mae: 2026.0509\n",
            "Epoch 485/500\n",
            "34/34 [==============================] - 0s 1ms/step - loss: 2017.7400 - mae: 2017.7400\n",
            "Epoch 486/500\n",
            "34/34 [==============================] - 0s 1ms/step - loss: 2052.6724 - mae: 2052.6724\n",
            "Epoch 487/500\n",
            "34/34 [==============================] - 0s 1ms/step - loss: 2026.2998 - mae: 2026.2998\n",
            "Epoch 488/500\n",
            "34/34 [==============================] - 0s 1ms/step - loss: 2019.5376 - mae: 2019.5376\n",
            "Epoch 489/500\n",
            "34/34 [==============================] - 0s 1ms/step - loss: 2024.1841 - mae: 2024.1841\n",
            "Epoch 490/500\n",
            "34/34 [==============================] - 0s 1ms/step - loss: 2014.5708 - mae: 2014.5708\n",
            "Epoch 491/500\n",
            "34/34 [==============================] - 0s 1ms/step - loss: 2012.4956 - mae: 2012.4956\n",
            "Epoch 492/500\n",
            "34/34 [==============================] - 0s 2ms/step - loss: 2014.8650 - mae: 2014.8650\n",
            "Epoch 493/500\n",
            "34/34 [==============================] - 0s 2ms/step - loss: 2011.6475 - mae: 2011.6475\n",
            "Epoch 494/500\n",
            "34/34 [==============================] - 0s 1ms/step - loss: 2017.8334 - mae: 2017.8334\n",
            "Epoch 495/500\n",
            "34/34 [==============================] - 0s 1ms/step - loss: 2026.1628 - mae: 2026.1628\n",
            "Epoch 496/500\n",
            "34/34 [==============================] - 0s 1ms/step - loss: 2007.2822 - mae: 2007.2822\n",
            "Epoch 497/500\n",
            "34/34 [==============================] - 0s 2ms/step - loss: 2007.6101 - mae: 2007.6101\n",
            "Epoch 498/500\n",
            "34/34 [==============================] - 0s 2ms/step - loss: 2018.2832 - mae: 2018.2832\n",
            "Epoch 499/500\n",
            "34/34 [==============================] - 0s 2ms/step - loss: 2023.0851 - mae: 2023.0851\n",
            "Epoch 500/500\n",
            "34/34 [==============================] - 0s 2ms/step - loss: 2019.5033 - mae: 2019.5033\n"
          ],
          "name": "stdout"
        }
      ]
    },
    {
      "cell_type": "code",
      "metadata": {
        "colab": {
          "base_uri": "https://localhost:8080/"
        },
        "id": "p4TH_eks4g4N",
        "outputId": "49b7bf9a-c130-491d-81b9-7d52e0be3d9a"
      },
      "source": [
        "# evaluate the model\n",
        "insurance_model_2.evaluate(X_test,y_test)"
      ],
      "execution_count": 139,
      "outputs": [
        {
          "output_type": "stream",
          "text": [
            "9/9 [==============================] - 0s 1ms/step - loss: 1811.9932 - mae: 1811.9932\n"
          ],
          "name": "stdout"
        },
        {
          "output_type": "execute_result",
          "data": {
            "text/plain": [
              "[1811.9931640625, 1811.9931640625]"
            ]
          },
          "metadata": {
            "tags": []
          },
          "execution_count": 139
        }
      ]
    },
    {
      "cell_type": "code",
      "metadata": {
        "colab": {
          "base_uri": "https://localhost:8080/"
        },
        "id": "T6yat9J64-2W",
        "outputId": "89e48863-9ce0-4794-c65c-096023b0624f"
      },
      "source": [
        "insurance_model.evaluate(X_test,y_test)"
      ],
      "execution_count": 135,
      "outputs": [
        {
          "output_type": "stream",
          "text": [
            "9/9 [==============================] - 0s 1ms/step - loss: 7023.3291 - mae: 7023.3291\n"
          ],
          "name": "stdout"
        },
        {
          "output_type": "execute_result",
          "data": {
            "text/plain": [
              "[7023.3291015625, 7023.3291015625]"
            ]
          },
          "metadata": {
            "tags": []
          },
          "execution_count": 135
        }
      ]
    },
    {
      "cell_type": "code",
      "metadata": {
        "colab": {
          "base_uri": "https://localhost:8080/",
          "height": 297
        },
        "id": "MVPSAMuf5tI_",
        "outputId": "b0cb8d5d-d8c1-4074-d67c-f77feadd13a4"
      },
      "source": [
        "pd.DataFrame(history.history).plot()\n",
        "plt.ylabel(\"loss\")\n",
        "plt.xlabel(\"epochs\")"
      ],
      "execution_count": 142,
      "outputs": [
        {
          "output_type": "execute_result",
          "data": {
            "text/plain": [
              "Text(0.5, 0, 'epochs')"
            ]
          },
          "metadata": {
            "tags": []
          },
          "execution_count": 142
        },
        {
          "output_type": "display_data",
          "data": {
            "image/png": "[encoded data removed]",
            "text/plain": [
              "<Figure size 432x288 with 1 Axes>"
            ]
          },
          "metadata": {
            "tags": [],
            "needs_background": "light"
          }
        }
      ]
    },
    {
      "cell_type": "markdown",
      "metadata": {
        "id": "JYO6tXhT-Uw-"
      },
      "source": [
        "## thats a lot of optimization which we did there, cool."
      ]
    },
    {
      "cell_type": "code",
      "metadata": {
        "colab": {
          "base_uri": "https://localhost:8080/",
          "height": 415
        },
        "id": "GvJup8tx7N90",
        "outputId": "901d48ac-97fe-4ed1-9bcc-8358e493158f"
      },
      "source": [
        "#doing normalization to improve the model a bit more(im greedy af)\n",
        "import pandas as pd\n",
        "import matplotlib.pyplot as plt\n",
        "import tensorflow as tf\n",
        "\n",
        "insurance = pd.read_csv(\"https://raw.githubusercontent.com/stedy/Machine-Learning-with-R-datasets/master/insurance.csv\")\n",
        "\n",
        "insurance"
      ],
      "execution_count": 1,
      "outputs": [
        {
          "output_type": "execute_result",
          "data": {
            "text/html": [
              "<div>\n",
              "<style scoped>\n",
              "    .dataframe tbody tr th:only-of-type {\n",
              "        vertical-align: middle;\n",
              "    }\n",
              "\n",
              "    .dataframe tbody tr th {\n",
              "        vertical-align: top;\n",
              "    }\n",
              "\n",
              "    .dataframe thead th {\n",
              "        text-align: right;\n",
              "    }\n",
              "</style>\n",
              "<table border=\"1\" class=\"dataframe\">\n",
              "  <thead>\n",
              "    <tr style=\"text-align: right;\">\n",
              "      <th></th>\n",
              "      <th>age</th>\n",
              "      <th>sex</th>\n",
              "      <th>bmi</th>\n",
              "      <th>children</th>\n",
              "      <th>smoker</th>\n",
              "      <th>region</th>\n",
              "      <th>charges</th>\n",
              "    </tr>\n",
              "  </thead>\n",
              "  <tbody>\n",
              "    <tr>\n",
              "      <th>0</th>\n",
              "      <td>19</td>\n",
              "      <td>female</td>\n",
              "      <td>27.900</td>\n",
              "      <td>0</td>\n",
              "      <td>yes</td>\n",
              "      <td>southwest</td>\n",
              "      <td>16884.92400</td>\n",
              "    </tr>\n",
              "    <tr>\n",
              "      <th>1</th>\n",
              "      <td>18</td>\n",
              "      <td>male</td>\n",
              "      <td>33.770</td>\n",
              "      <td>1</td>\n",
              "      <td>no</td>\n",
              "      <td>southeast</td>\n",
              "      <td>1725.55230</td>\n",
              "    </tr>\n",
              "    <tr>\n",
              "      <th>2</th>\n",
              "      <td>28</td>\n",
              "      <td>male</td>\n",
              "      <td>33.000</td>\n",
              "      <td>3</td>\n",
              "      <td>no</td>\n",
              "      <td>southeast</td>\n",
              "      <td>4449.46200</td>\n",
              "    </tr>\n",
              "    <tr>\n",
              "      <th>3</th>\n",
              "      <td>33</td>\n",
              "      <td>male</td>\n",
              "      <td>22.705</td>\n",
              "      <td>0</td>\n",
              "      <td>no</td>\n",
              "      <td>northwest</td>\n",
              "      <td>21984.47061</td>\n",
              "    </tr>\n",
              "    <tr>\n",
              "      <th>4</th>\n",
              "      <td>32</td>\n",
              "      <td>male</td>\n",
              "      <td>28.880</td>\n",
              "      <td>0</td>\n",
              "      <td>no</td>\n",
              "      <td>northwest</td>\n",
              "      <td>3866.85520</td>\n",
              "    </tr>\n",
              "    <tr>\n",
              "      <th>...</th>\n",
              "      <td>...</td>\n",
              "      <td>...</td>\n",
              "      <td>...</td>\n",
              "      <td>...</td>\n",
              "      <td>...</td>\n",
              "      <td>...</td>\n",
              "      <td>...</td>\n",
              "    </tr>\n",
              "    <tr>\n",
              "      <th>1333</th>\n",
              "      <td>50</td>\n",
              "      <td>male</td>\n",
              "      <td>30.970</td>\n",
              "      <td>3</td>\n",
              "      <td>no</td>\n",
              "      <td>northwest</td>\n",
              "      <td>10600.54830</td>\n",
              "    </tr>\n",
              "    <tr>\n",
              "      <th>1334</th>\n",
              "      <td>18</td>\n",
              "      <td>female</td>\n",
              "      <td>31.920</td>\n",
              "      <td>0</td>\n",
              "      <td>no</td>\n",
              "      <td>northeast</td>\n",
              "      <td>2205.98080</td>\n",
              "    </tr>\n",
              "    <tr>\n",
              "      <th>1335</th>\n",
              "      <td>18</td>\n",
              "      <td>female</td>\n",
              "      <td>36.850</td>\n",
              "      <td>0</td>\n",
              "      <td>no</td>\n",
              "      <td>southeast</td>\n",
              "      <td>1629.83350</td>\n",
              "    </tr>\n",
              "    <tr>\n",
              "      <th>1336</th>\n",
              "      <td>21</td>\n",
              "      <td>female</td>\n",
              "      <td>25.800</td>\n",
              "      <td>0</td>\n",
              "      <td>no</td>\n",
              "      <td>southwest</td>\n",
              "      <td>2007.94500</td>\n",
              "    </tr>\n",
              "    <tr>\n",
              "      <th>1337</th>\n",
              "      <td>61</td>\n",
              "      <td>female</td>\n",
              "      <td>29.070</td>\n",
              "      <td>0</td>\n",
              "      <td>yes</td>\n",
              "      <td>northwest</td>\n",
              "      <td>29141.36030</td>\n",
              "    </tr>\n",
              "  </tbody>\n",
              "</table>\n",
              "<p>1338 rows × 7 columns</p>\n",
              "</div>"
            ],
            "text/plain": [
              "      age     sex     bmi  children smoker     region      charges\n",
              "0      19  female  27.900         0    yes  southwest  16884.92400\n",
              "1      18    male  33.770         1     no  southeast   1725.55230\n",
              "2      28    male  33.000         3     no  southeast   4449.46200\n",
              "3      33    male  22.705         0     no  northwest  21984.47061\n",
              "4      32    male  28.880         0     no  northwest   3866.85520\n",
              "...   ...     ...     ...       ...    ...        ...          ...\n",
              "1333   50    male  30.970         3     no  northwest  10600.54830\n",
              "1334   18  female  31.920         0     no  northeast   2205.98080\n",
              "1335   18  female  36.850         0     no  southeast   1629.83350\n",
              "1336   21  female  25.800         0     no  southwest   2007.94500\n",
              "1337   61  female  29.070         0    yes  northwest  29141.36030\n",
              "\n",
              "[1338 rows x 7 columns]"
            ]
          },
          "metadata": {
            "tags": []
          },
          "execution_count": 1
        }
      ]
    },
    {
      "cell_type": "code",
      "metadata": {
        "id": "E8d3LVEYD8HO"
      },
      "source": [
        "from sklearn.compose import make_column_transformer\n",
        "from sklearn.preprocessing import MinMaxScaler, OneHotEncoder\n",
        "from sklearn.model_selection import train_test_split\n",
        "\n",
        "ct = make_column_transformer(\n",
        "    (MinMaxScaler(),[\"age\",\"bmi\",\"children\"]),\n",
        "    (OneHotEncoder(handle_unknown=\"ignore\"),[\"sex\",\"smoker\",\"region\"])\n",
        ")\n",
        "\n",
        "X = insurance.drop(\"charges\",axis=1)\n",
        "y = insurance[\"charges\"]\n",
        "\n",
        "X_train,X_test,y_train,y_test = train_test_split(X,y,test_size=0.2,random_state=42)\n",
        "X_train\n",
        "# fit the column transformer to our training data\n",
        "ct.fit(X_train)\n",
        "\n",
        "#tranforming the training and testing data\n",
        "X_train_normal = ct.transform(X_train)\n",
        "X_test_normal = ct.transform(X_test)\n"
      ],
      "execution_count": 16,
      "outputs": []
    },
    {
      "cell_type": "code",
      "metadata": {
        "colab": {
          "base_uri": "https://localhost:8080/"
        },
        "id": "Hrtt3-_5QdFU",
        "outputId": "a645f52e-9a3d-4d0c-807f-d48ff44c34ed"
      },
      "source": [
        "# now what does our data looks like\n",
        "X_train_normal[0]"
      ],
      "execution_count": 17,
      "outputs": [
        {
          "output_type": "execute_result",
          "data": {
            "text/plain": [
              "array([0.60869565, 0.10734463, 0.4       , 1.        , 0.        ,\n",
              "       1.        , 0.        , 0.        , 1.        , 0.        ,\n",
              "       0.        ])"
            ]
          },
          "metadata": {
            "tags": []
          },
          "execution_count": 17
        }
      ]
    },
    {
      "cell_type": "code",
      "metadata": {
        "colab": {
          "base_uri": "https://localhost:8080/"
        },
        "id": "G32RtxNNRZpR",
        "outputId": "f33e0208-3a5d-41a6-fb67-46979de71250"
      },
      "source": [
        "X_train.shape, X_train_normal.shape"
      ],
      "execution_count": 18,
      "outputs": [
        {
          "output_type": "execute_result",
          "data": {
            "text/plain": [
              "((1070, 6), (1070, 11))"
            ]
          },
          "metadata": {
            "tags": []
          },
          "execution_count": 18
        }
      ]
    },
    {
      "cell_type": "markdown",
      "metadata": {
        "id": "VVswhzZTSENI"
      },
      "source": [
        "## now our inpur is sexy af\n",
        "## now lets create our model again \n"
      ]
    },
    {
      "cell_type": "code",
      "metadata": {
        "colab": {
          "base_uri": "https://localhost:8080/"
        },
        "id": "IZR4lgucSBTm",
        "outputId": "f881d2a9-823f-4b8b-c09f-0bde8de87f8e"
      },
      "source": [
        "tf.random.set_seed(42)\n",
        "\n",
        "model_optimum_v1 = tf.keras.Sequential([\n",
        "    tf.keras.layers.Dense(1000, activation=\"relu\"),\n",
        "    tf.keras.layers.Dense(1000, activation=\"relu\"),\n",
        "    tf.keras.layers.Dense(1000, activation=\"relu\"),\n",
        "    tf.keras.layers.Dense(1000, activation=\"relu\"),\n",
        "    tf.keras.layers.Dense(1)\n",
        "])\n",
        "\n",
        "model_optimum_v1.compile(loss=tf.keras.losses.mae,\n",
        "                         optimizer=tf.keras.optimizers.Adam(lr=0.001),\n",
        "                         metrics=[\"mae\"]\n",
        ")\n",
        "\n",
        "history = model_optimum_v1.fit(X_train_normal,y_train,epochs=250)"
      ],
      "execution_count": 46,
      "outputs": [
        {
          "output_type": "stream",
          "text": [
            "/usr/local/lib/python3.7/dist-packages/tensorflow/python/keras/optimizer_v2/optimizer_v2.py:375: UserWarning: The `lr` argument is deprecated, use `learning_rate` instead.\n",
            "  \"The `lr` argument is deprecated, use `learning_rate` instead.\")\n"
          ],
          "name": "stderr"
        },
        {
          "output_type": "stream",
          "text": [
            "Epoch 1/250\n",
            "34/34 [==============================] - 1s 20ms/step - loss: 10919.2383 - mae: 10919.2383\n",
            "Epoch 2/250\n",
            "34/34 [==============================] - 1s 20ms/step - loss: 5723.9575 - mae: 5723.9575\n",
            "Epoch 3/250\n",
            "34/34 [==============================] - 1s 20ms/step - loss: 3509.2302 - mae: 3509.2302\n",
            "Epoch 4/250\n",
            "34/34 [==============================] - 1s 20ms/step - loss: 3352.4021 - mae: 3352.4021\n",
            "Epoch 5/250\n",
            "34/34 [==============================] - 1s 20ms/step - loss: 3219.0239 - mae: 3219.0239\n",
            "Epoch 6/250\n",
            "34/34 [==============================] - 1s 20ms/step - loss: 3108.2854 - mae: 3108.2854\n",
            "Epoch 7/250\n",
            "34/34 [==============================] - 1s 20ms/step - loss: 3020.5229 - mae: 3020.5229\n",
            "Epoch 8/250\n",
            "34/34 [==============================] - 1s 20ms/step - loss: 2827.6316 - mae: 2827.6316\n",
            "Epoch 9/250\n",
            "34/34 [==============================] - 1s 19ms/step - loss: 2720.5369 - mae: 2720.5369\n",
            "Epoch 10/250\n",
            "34/34 [==============================] - 1s 19ms/step - loss: 2591.5212 - mae: 2591.5212\n",
            "Epoch 11/250\n",
            "34/34 [==============================] - 1s 20ms/step - loss: 2475.0081 - mae: 2475.0081\n",
            "Epoch 12/250\n",
            "34/34 [==============================] - 1s 20ms/step - loss: 2465.8491 - mae: 2465.8491\n",
            "Epoch 13/250\n",
            "34/34 [==============================] - 1s 20ms/step - loss: 2463.5337 - mae: 2463.5337\n",
            "Epoch 14/250\n",
            "34/34 [==============================] - 1s 20ms/step - loss: 2284.9470 - mae: 2284.9470\n",
            "Epoch 15/250\n",
            "34/34 [==============================] - 1s 20ms/step - loss: 2296.9368 - mae: 2296.9368\n",
            "Epoch 16/250\n",
            "34/34 [==============================] - 1s 20ms/step - loss: 2302.1809 - mae: 2302.1809\n",
            "Epoch 17/250\n",
            "34/34 [==============================] - 1s 20ms/step - loss: 2077.1812 - mae: 2077.1812\n",
            "Epoch 18/250\n",
            "34/34 [==============================] - 1s 21ms/step - loss: 2105.3213 - mae: 2105.3213\n",
            "Epoch 19/250\n",
            "34/34 [==============================] - 1s 20ms/step - loss: 2099.9744 - mae: 2099.9744\n",
            "Epoch 20/250\n",
            "34/34 [==============================] - 1s 20ms/step - loss: 2037.8138 - mae: 2037.8138\n",
            "Epoch 21/250\n",
            "34/34 [==============================] - 1s 20ms/step - loss: 2017.9093 - mae: 2017.9093\n",
            "Epoch 22/250\n",
            "34/34 [==============================] - 1s 20ms/step - loss: 2096.7920 - mae: 2096.7920\n",
            "Epoch 23/250\n",
            "34/34 [==============================] - 1s 20ms/step - loss: 2162.0757 - mae: 2162.0757\n",
            "Epoch 24/250\n",
            "34/34 [==============================] - 1s 21ms/step - loss: 1994.8878 - mae: 1994.8878\n",
            "Epoch 25/250\n",
            "34/34 [==============================] - 1s 20ms/step - loss: 2027.7198 - mae: 2027.7198\n",
            "Epoch 26/250\n",
            "34/34 [==============================] - 1s 20ms/step - loss: 2087.4758 - mae: 2087.4758\n",
            "Epoch 27/250\n",
            "34/34 [==============================] - 1s 20ms/step - loss: 2175.3245 - mae: 2175.3245\n",
            "Epoch 28/250\n",
            "34/34 [==============================] - 1s 20ms/step - loss: 2052.8928 - mae: 2052.8928\n",
            "Epoch 29/250\n",
            "34/34 [==============================] - 1s 20ms/step - loss: 2023.9392 - mae: 2023.9392\n",
            "Epoch 30/250\n",
            "34/34 [==============================] - 1s 20ms/step - loss: 2023.9264 - mae: 2023.9264\n",
            "Epoch 31/250\n",
            "34/34 [==============================] - 1s 21ms/step - loss: 2106.7854 - mae: 2106.7854\n",
            "Epoch 32/250\n",
            "34/34 [==============================] - 1s 20ms/step - loss: 2065.2363 - mae: 2065.2363\n",
            "Epoch 33/250\n",
            "34/34 [==============================] - 1s 20ms/step - loss: 2002.4601 - mae: 2002.4601\n",
            "Epoch 34/250\n",
            "34/34 [==============================] - 1s 21ms/step - loss: 1951.7747 - mae: 1951.7747\n",
            "Epoch 35/250\n",
            "34/34 [==============================] - 1s 20ms/step - loss: 1981.8278 - mae: 1981.8278\n",
            "Epoch 36/250\n",
            "34/34 [==============================] - 1s 20ms/step - loss: 2031.5035 - mae: 2031.5035\n",
            "Epoch 37/250\n",
            "34/34 [==============================] - 1s 20ms/step - loss: 1939.1392 - mae: 1939.1392\n",
            "Epoch 38/250\n",
            "34/34 [==============================] - 1s 20ms/step - loss: 1932.3040 - mae: 1932.3040\n",
            "Epoch 39/250\n",
            "34/34 [==============================] - 1s 20ms/step - loss: 1909.3422 - mae: 1909.3422\n",
            "Epoch 40/250\n",
            "34/34 [==============================] - 1s 20ms/step - loss: 1992.1942 - mae: 1992.1942\n",
            "Epoch 41/250\n",
            "34/34 [==============================] - 1s 21ms/step - loss: 1934.4225 - mae: 1934.4225\n",
            "Epoch 42/250\n",
            "34/34 [==============================] - 1s 20ms/step - loss: 1911.8721 - mae: 1911.8721\n",
            "Epoch 43/250\n",
            "34/34 [==============================] - 1s 20ms/step - loss: 1942.6348 - mae: 1942.6348\n",
            "Epoch 44/250\n",
            "34/34 [==============================] - 1s 20ms/step - loss: 1927.8733 - mae: 1927.8733\n",
            "Epoch 45/250\n",
            "34/34 [==============================] - 1s 20ms/step - loss: 1939.5074 - mae: 1939.5074\n",
            "Epoch 46/250\n",
            "34/34 [==============================] - 1s 20ms/step - loss: 1853.3685 - mae: 1853.3685\n",
            "Epoch 47/250\n",
            "34/34 [==============================] - 1s 20ms/step - loss: 2002.2722 - mae: 2002.2722\n",
            "Epoch 48/250\n",
            "34/34 [==============================] - 1s 20ms/step - loss: 1875.6865 - mae: 1875.6865\n",
            "Epoch 49/250\n",
            "34/34 [==============================] - 1s 19ms/step - loss: 1833.1274 - mae: 1833.1274\n",
            "Epoch 50/250\n",
            "34/34 [==============================] - 1s 20ms/step - loss: 1833.2734 - mae: 1833.2734\n",
            "Epoch 51/250\n",
            "34/34 [==============================] - 1s 20ms/step - loss: 1864.2386 - mae: 1864.2386\n",
            "Epoch 52/250\n",
            "34/34 [==============================] - 1s 20ms/step - loss: 1786.2954 - mae: 1786.2954\n",
            "Epoch 53/250\n",
            "34/34 [==============================] - 1s 20ms/step - loss: 1844.0493 - mae: 1844.0493\n",
            "Epoch 54/250\n",
            "34/34 [==============================] - 1s 19ms/step - loss: 1988.3898 - mae: 1988.3898\n",
            "Epoch 55/250\n",
            "34/34 [==============================] - 1s 20ms/step - loss: 1851.0175 - mae: 1851.0175\n",
            "Epoch 56/250\n",
            "34/34 [==============================] - 1s 20ms/step - loss: 1815.2179 - mae: 1815.2179\n",
            "Epoch 57/250\n",
            "34/34 [==============================] - 1s 21ms/step - loss: 1840.6783 - mae: 1840.6783\n",
            "Epoch 58/250\n",
            "34/34 [==============================] - 1s 20ms/step - loss: 1780.4916 - mae: 1780.4916\n",
            "Epoch 59/250\n",
            "34/34 [==============================] - 1s 21ms/step - loss: 1718.5765 - mae: 1718.5765\n",
            "Epoch 60/250\n",
            "34/34 [==============================] - 1s 20ms/step - loss: 1746.6356 - mae: 1746.6356\n",
            "Epoch 61/250\n",
            "34/34 [==============================] - 1s 20ms/step - loss: 1874.0624 - mae: 1874.0624\n",
            "Epoch 62/250\n",
            "34/34 [==============================] - 1s 20ms/step - loss: 1756.1614 - mae: 1756.1614\n",
            "Epoch 63/250\n",
            "34/34 [==============================] - 1s 20ms/step - loss: 1736.3218 - mae: 1736.3218\n",
            "Epoch 64/250\n",
            "34/34 [==============================] - 1s 20ms/step - loss: 1720.9127 - mae: 1720.9127\n",
            "Epoch 65/250\n",
            "34/34 [==============================] - 1s 20ms/step - loss: 1713.5323 - mae: 1713.5323\n",
            "Epoch 66/250\n",
            "34/34 [==============================] - 1s 20ms/step - loss: 1818.3531 - mae: 1818.3531\n",
            "Epoch 67/250\n",
            "34/34 [==============================] - 1s 20ms/step - loss: 1866.9316 - mae: 1866.9316\n",
            "Epoch 68/250\n",
            "34/34 [==============================] - 1s 20ms/step - loss: 1735.4485 - mae: 1735.4485\n",
            "Epoch 69/250\n",
            "34/34 [==============================] - 1s 20ms/step - loss: 1834.8910 - mae: 1834.8910\n",
            "Epoch 70/250\n",
            "34/34 [==============================] - 1s 20ms/step - loss: 1750.9006 - mae: 1750.9006\n",
            "Epoch 71/250\n",
            "34/34 [==============================] - 1s 20ms/step - loss: 1681.5229 - mae: 1681.5229\n",
            "Epoch 72/250\n",
            "34/34 [==============================] - 1s 19ms/step - loss: 1663.5930 - mae: 1663.5930\n",
            "Epoch 73/250\n",
            "34/34 [==============================] - 1s 21ms/step - loss: 1708.9073 - mae: 1708.9073\n",
            "Epoch 74/250\n",
            "34/34 [==============================] - 1s 20ms/step - loss: 1693.9951 - mae: 1693.9951\n",
            "Epoch 75/250\n",
            "34/34 [==============================] - 1s 20ms/step - loss: 1654.1479 - mae: 1654.1479\n",
            "Epoch 76/250\n",
            "34/34 [==============================] - 1s 20ms/step - loss: 1745.3903 - mae: 1745.3903\n",
            "Epoch 77/250\n",
            "34/34 [==============================] - 1s 20ms/step - loss: 1706.6389 - mae: 1706.6389\n",
            "Epoch 78/250\n",
            "34/34 [==============================] - 1s 21ms/step - loss: 1672.7820 - mae: 1672.7820\n",
            "Epoch 79/250\n",
            "34/34 [==============================] - 1s 21ms/step - loss: 1669.0822 - mae: 1669.0822\n",
            "Epoch 80/250\n",
            "34/34 [==============================] - 1s 20ms/step - loss: 1625.2096 - mae: 1625.2096\n",
            "Epoch 81/250\n",
            "34/34 [==============================] - 1s 21ms/step - loss: 1629.8706 - mae: 1629.8706\n",
            "Epoch 82/250\n",
            "34/34 [==============================] - 1s 21ms/step - loss: 1721.8224 - mae: 1721.8224\n",
            "Epoch 83/250\n",
            "34/34 [==============================] - 1s 21ms/step - loss: 1767.6021 - mae: 1767.6021\n",
            "Epoch 84/250\n",
            "34/34 [==============================] - 1s 21ms/step - loss: 1562.1672 - mae: 1562.1672\n",
            "Epoch 85/250\n",
            "34/34 [==============================] - 1s 21ms/step - loss: 1620.2542 - mae: 1620.2542\n",
            "Epoch 86/250\n",
            "34/34 [==============================] - 1s 21ms/step - loss: 1630.5792 - mae: 1630.5792\n",
            "Epoch 87/250\n",
            "34/34 [==============================] - 1s 20ms/step - loss: 1629.1056 - mae: 1629.1056\n",
            "Epoch 88/250\n",
            "34/34 [==============================] - 1s 21ms/step - loss: 1647.7209 - mae: 1647.7209\n",
            "Epoch 89/250\n",
            "34/34 [==============================] - 1s 21ms/step - loss: 1591.1405 - mae: 1591.1405\n",
            "Epoch 90/250\n",
            "34/34 [==============================] - 1s 21ms/step - loss: 1615.6102 - mae: 1615.6102\n",
            "Epoch 91/250\n",
            "34/34 [==============================] - 1s 20ms/step - loss: 1583.4266 - mae: 1583.4266\n",
            "Epoch 92/250\n",
            "34/34 [==============================] - 1s 21ms/step - loss: 1755.9336 - mae: 1755.9336\n",
            "Epoch 93/250\n",
            "34/34 [==============================] - 1s 20ms/step - loss: 1646.1296 - mae: 1646.1296\n",
            "Epoch 94/250\n",
            "34/34 [==============================] - 1s 21ms/step - loss: 1612.3356 - mae: 1612.3356\n",
            "Epoch 95/250\n",
            "34/34 [==============================] - 1s 21ms/step - loss: 1571.3760 - mae: 1571.3760\n",
            "Epoch 96/250\n",
            "34/34 [==============================] - 1s 20ms/step - loss: 1576.1638 - mae: 1576.1638\n",
            "Epoch 97/250\n",
            "34/34 [==============================] - 1s 21ms/step - loss: 1592.3715 - mae: 1592.3715\n",
            "Epoch 98/250\n",
            "34/34 [==============================] - 1s 20ms/step - loss: 1607.6388 - mae: 1607.6388\n",
            "Epoch 99/250\n",
            "34/34 [==============================] - 1s 21ms/step - loss: 1546.8795 - mae: 1546.8795\n",
            "Epoch 100/250\n",
            "34/34 [==============================] - 1s 21ms/step - loss: 1574.7893 - mae: 1574.7893\n",
            "Epoch 101/250\n",
            "34/34 [==============================] - 1s 21ms/step - loss: 1551.3470 - mae: 1551.3470\n",
            "Epoch 102/250\n",
            "34/34 [==============================] - 1s 20ms/step - loss: 1692.9386 - mae: 1692.9386\n",
            "Epoch 103/250\n",
            "34/34 [==============================] - 1s 21ms/step - loss: 1573.5369 - mae: 1573.5369\n",
            "Epoch 104/250\n",
            "34/34 [==============================] - 1s 21ms/step - loss: 1587.6172 - mae: 1587.6172\n",
            "Epoch 105/250\n",
            "34/34 [==============================] - 1s 21ms/step - loss: 1563.5015 - mae: 1563.5015\n",
            "Epoch 106/250\n",
            "34/34 [==============================] - 1s 21ms/step - loss: 1623.7286 - mae: 1623.7286\n",
            "Epoch 107/250\n",
            "34/34 [==============================] - 1s 21ms/step - loss: 1614.4170 - mae: 1614.4170\n",
            "Epoch 108/250\n",
            "34/34 [==============================] - 1s 21ms/step - loss: 1551.0140 - mae: 1551.0140\n",
            "Epoch 109/250\n",
            "34/34 [==============================] - 1s 20ms/step - loss: 1547.9625 - mae: 1547.9625\n",
            "Epoch 110/250\n",
            "34/34 [==============================] - 1s 21ms/step - loss: 1717.7186 - mae: 1717.7186\n",
            "Epoch 111/250\n",
            "34/34 [==============================] - 1s 21ms/step - loss: 1570.1345 - mae: 1570.1345\n",
            "Epoch 112/250\n",
            "34/34 [==============================] - 1s 21ms/step - loss: 1601.4565 - mae: 1601.4565\n",
            "Epoch 113/250\n",
            "34/34 [==============================] - 1s 22ms/step - loss: 1547.7631 - mae: 1547.7631\n",
            "Epoch 114/250\n",
            "34/34 [==============================] - 1s 22ms/step - loss: 1657.2729 - mae: 1657.2729\n",
            "Epoch 115/250\n",
            "34/34 [==============================] - 1s 21ms/step - loss: 1566.8022 - mae: 1566.8022\n",
            "Epoch 116/250\n",
            "34/34 [==============================] - 1s 21ms/step - loss: 1556.5607 - mae: 1556.5607\n",
            "Epoch 117/250\n",
            "34/34 [==============================] - 1s 21ms/step - loss: 1599.6942 - mae: 1599.6942\n",
            "Epoch 118/250\n",
            "34/34 [==============================] - 1s 21ms/step - loss: 1585.5861 - mae: 1585.5861\n",
            "Epoch 119/250\n",
            "34/34 [==============================] - 1s 21ms/step - loss: 1638.6106 - mae: 1638.6106\n",
            "Epoch 120/250\n",
            "34/34 [==============================] - 1s 23ms/step - loss: 1582.3945 - mae: 1582.3945\n",
            "Epoch 121/250\n",
            "34/34 [==============================] - 1s 22ms/step - loss: 1617.0740 - mae: 1617.0740\n",
            "Epoch 122/250\n",
            "34/34 [==============================] - 1s 21ms/step - loss: 1613.2894 - mae: 1613.2894\n",
            "Epoch 123/250\n",
            "34/34 [==============================] - 1s 21ms/step - loss: 1608.2545 - mae: 1608.2545\n",
            "Epoch 124/250\n",
            "34/34 [==============================] - 1s 21ms/step - loss: 1842.1379 - mae: 1842.1379\n",
            "Epoch 125/250\n",
            "34/34 [==============================] - 1s 21ms/step - loss: 1594.3002 - mae: 1594.3002\n",
            "Epoch 126/250\n",
            "34/34 [==============================] - 1s 22ms/step - loss: 1573.8750 - mae: 1573.8750\n",
            "Epoch 127/250\n",
            "34/34 [==============================] - 1s 21ms/step - loss: 1622.4702 - mae: 1622.4702\n",
            "Epoch 128/250\n",
            "34/34 [==============================] - 1s 21ms/step - loss: 1619.2667 - mae: 1619.2667\n",
            "Epoch 129/250\n",
            "34/34 [==============================] - 1s 21ms/step - loss: 1658.1086 - mae: 1658.1086\n",
            "Epoch 130/250\n",
            "34/34 [==============================] - 1s 21ms/step - loss: 1590.9130 - mae: 1590.9130\n",
            "Epoch 131/250\n",
            "34/34 [==============================] - 1s 21ms/step - loss: 1636.9763 - mae: 1636.9763\n",
            "Epoch 132/250\n",
            "34/34 [==============================] - 1s 22ms/step - loss: 1524.2257 - mae: 1524.2257\n",
            "Epoch 133/250\n",
            "34/34 [==============================] - 1s 21ms/step - loss: 1504.0811 - mae: 1504.0811\n",
            "Epoch 134/250\n",
            "34/34 [==============================] - 1s 21ms/step - loss: 1600.2080 - mae: 1600.2080\n",
            "Epoch 135/250\n",
            "34/34 [==============================] - 1s 20ms/step - loss: 1592.2407 - mae: 1592.2407\n",
            "Epoch 136/250\n",
            "34/34 [==============================] - 1s 21ms/step - loss: 1618.2933 - mae: 1618.2933\n",
            "Epoch 137/250\n",
            "34/34 [==============================] - 1s 21ms/step - loss: 1627.4216 - mae: 1627.4216\n",
            "Epoch 138/250\n",
            "34/34 [==============================] - 1s 21ms/step - loss: 1579.7242 - mae: 1579.7242\n",
            "Epoch 139/250\n",
            "34/34 [==============================] - 1s 21ms/step - loss: 1548.5385 - mae: 1548.5385\n",
            "Epoch 140/250\n",
            "34/34 [==============================] - 1s 22ms/step - loss: 1527.4624 - mae: 1527.4624\n",
            "Epoch 141/250\n",
            "34/34 [==============================] - 1s 21ms/step - loss: 1562.8444 - mae: 1562.8444\n",
            "Epoch 142/250\n",
            "34/34 [==============================] - 1s 22ms/step - loss: 1507.3602 - mae: 1507.3602\n",
            "Epoch 143/250\n",
            "34/34 [==============================] - 1s 21ms/step - loss: 1557.1791 - mae: 1557.1791\n",
            "Epoch 144/250\n",
            "34/34 [==============================] - 1s 21ms/step - loss: 1514.7321 - mae: 1514.7321\n",
            "Epoch 145/250\n",
            "34/34 [==============================] - 1s 20ms/step - loss: 1596.8883 - mae: 1596.8883\n",
            "Epoch 146/250\n",
            "34/34 [==============================] - 1s 21ms/step - loss: 1566.8104 - mae: 1566.8104\n",
            "Epoch 147/250\n",
            "34/34 [==============================] - 1s 22ms/step - loss: 1544.8484 - mae: 1544.8484\n",
            "Epoch 148/250\n",
            "34/34 [==============================] - 1s 21ms/step - loss: 1528.0068 - mae: 1528.0068\n",
            "Epoch 149/250\n",
            "34/34 [==============================] - 1s 20ms/step - loss: 1534.2445 - mae: 1534.2445\n",
            "Epoch 150/250\n",
            "34/34 [==============================] - 1s 21ms/step - loss: 1503.3322 - mae: 1503.3322\n",
            "Epoch 151/250\n",
            "34/34 [==============================] - 1s 20ms/step - loss: 1492.8917 - mae: 1492.8917\n",
            "Epoch 152/250\n",
            "34/34 [==============================] - 1s 20ms/step - loss: 1613.4872 - mae: 1613.4872\n",
            "Epoch 153/250\n",
            "34/34 [==============================] - 1s 21ms/step - loss: 1554.6244 - mae: 1554.6244\n",
            "Epoch 154/250\n",
            "34/34 [==============================] - 1s 21ms/step - loss: 1570.1390 - mae: 1570.1390\n",
            "Epoch 155/250\n",
            "34/34 [==============================] - 1s 20ms/step - loss: 1489.9064 - mae: 1489.9064\n",
            "Epoch 156/250\n",
            "34/34 [==============================] - 1s 20ms/step - loss: 1511.1747 - mae: 1511.1747\n",
            "Epoch 157/250\n",
            "34/34 [==============================] - 1s 21ms/step - loss: 1513.5564 - mae: 1513.5564\n",
            "Epoch 158/250\n",
            "34/34 [==============================] - 1s 20ms/step - loss: 1511.6201 - mae: 1511.6201\n",
            "Epoch 159/250\n",
            "34/34 [==============================] - 1s 21ms/step - loss: 1575.8896 - mae: 1575.8896\n",
            "Epoch 160/250\n",
            "34/34 [==============================] - 1s 21ms/step - loss: 1661.6263 - mae: 1661.6263\n",
            "Epoch 161/250\n",
            "34/34 [==============================] - 1s 21ms/step - loss: 1642.1663 - mae: 1642.1663\n",
            "Epoch 162/250\n",
            "34/34 [==============================] - 1s 21ms/step - loss: 1579.5341 - mae: 1579.5341\n",
            "Epoch 163/250\n",
            "34/34 [==============================] - 1s 21ms/step - loss: 1633.3624 - mae: 1633.3624\n",
            "Epoch 164/250\n",
            "34/34 [==============================] - 1s 21ms/step - loss: 1583.4099 - mae: 1583.4099\n",
            "Epoch 165/250\n",
            "34/34 [==============================] - 1s 21ms/step - loss: 1527.1760 - mae: 1527.1760\n",
            "Epoch 166/250\n",
            "34/34 [==============================] - 1s 20ms/step - loss: 1506.1488 - mae: 1506.1488\n",
            "Epoch 167/250\n",
            "34/34 [==============================] - 1s 20ms/step - loss: 1599.0002 - mae: 1599.0002\n",
            "Epoch 168/250\n",
            "34/34 [==============================] - 1s 21ms/step - loss: 1535.7699 - mae: 1535.7699\n",
            "Epoch 169/250\n",
            "34/34 [==============================] - 1s 21ms/step - loss: 1573.3892 - mae: 1573.3892\n",
            "Epoch 170/250\n",
            "34/34 [==============================] - 1s 21ms/step - loss: 1551.7144 - mae: 1551.7144\n",
            "Epoch 171/250\n",
            "34/34 [==============================] - 1s 21ms/step - loss: 1539.9742 - mae: 1539.9742\n",
            "Epoch 172/250\n",
            "34/34 [==============================] - 1s 20ms/step - loss: 1527.8433 - mae: 1527.8433\n",
            "Epoch 173/250\n",
            "34/34 [==============================] - 1s 21ms/step - loss: 1541.1617 - mae: 1541.1617\n",
            "Epoch 174/250\n",
            "34/34 [==============================] - 1s 21ms/step - loss: 1552.7965 - mae: 1552.7965\n",
            "Epoch 175/250\n",
            "34/34 [==============================] - 1s 21ms/step - loss: 1550.1490 - mae: 1550.1490\n",
            "Epoch 176/250\n",
            "34/34 [==============================] - 1s 21ms/step - loss: 1576.7225 - mae: 1576.7225\n",
            "Epoch 177/250\n",
            "34/34 [==============================] - 1s 21ms/step - loss: 1535.9534 - mae: 1535.9534\n",
            "Epoch 178/250\n",
            "34/34 [==============================] - 1s 21ms/step - loss: 1568.9475 - mae: 1568.9475\n",
            "Epoch 179/250\n",
            "34/34 [==============================] - 1s 20ms/step - loss: 1643.7107 - mae: 1643.7107\n",
            "Epoch 180/250\n",
            "34/34 [==============================] - 1s 21ms/step - loss: 1568.0012 - mae: 1568.0012\n",
            "Epoch 181/250\n",
            "34/34 [==============================] - 1s 20ms/step - loss: 1509.3379 - mae: 1509.3379\n",
            "Epoch 182/250\n",
            "34/34 [==============================] - 1s 21ms/step - loss: 1479.9597 - mae: 1479.9597\n",
            "Epoch 183/250\n",
            "34/34 [==============================] - 1s 20ms/step - loss: 1493.3966 - mae: 1493.3966\n",
            "Epoch 184/250\n",
            "34/34 [==============================] - 1s 21ms/step - loss: 1466.6418 - mae: 1466.6418\n",
            "Epoch 185/250\n",
            "34/34 [==============================] - 1s 21ms/step - loss: 1485.3778 - mae: 1485.3778\n",
            "Epoch 186/250\n",
            "34/34 [==============================] - 1s 21ms/step - loss: 1460.9366 - mae: 1460.9366\n",
            "Epoch 187/250\n",
            "34/34 [==============================] - 1s 21ms/step - loss: 1570.2057 - mae: 1570.2057\n",
            "Epoch 188/250\n",
            "34/34 [==============================] - 1s 21ms/step - loss: 1529.8927 - mae: 1529.8927\n",
            "Epoch 189/250\n",
            "34/34 [==============================] - 1s 22ms/step - loss: 1492.1674 - mae: 1492.1674\n",
            "Epoch 190/250\n",
            "34/34 [==============================] - 1s 21ms/step - loss: 1604.4774 - mae: 1604.4774\n",
            "Epoch 191/250\n",
            "34/34 [==============================] - 1s 21ms/step - loss: 1529.8411 - mae: 1529.8411\n",
            "Epoch 192/250\n",
            "34/34 [==============================] - 1s 22ms/step - loss: 1535.0503 - mae: 1535.0503\n",
            "Epoch 193/250\n",
            "34/34 [==============================] - 1s 21ms/step - loss: 1482.3289 - mae: 1482.3289\n",
            "Epoch 194/250\n",
            "34/34 [==============================] - 1s 21ms/step - loss: 1513.7797 - mae: 1513.7797\n",
            "Epoch 195/250\n",
            "34/34 [==============================] - 1s 21ms/step - loss: 1494.2827 - mae: 1494.2827\n",
            "Epoch 196/250\n",
            "34/34 [==============================] - 1s 21ms/step - loss: 1504.8341 - mae: 1504.8341\n",
            "Epoch 197/250\n",
            "34/34 [==============================] - 1s 21ms/step - loss: 1520.1461 - mae: 1520.1461\n",
            "Epoch 198/250\n",
            "34/34 [==============================] - 1s 22ms/step - loss: 1511.7710 - mae: 1511.7710\n",
            "Epoch 199/250\n",
            "34/34 [==============================] - 1s 22ms/step - loss: 1530.7228 - mae: 1530.7228\n",
            "Epoch 200/250\n",
            "34/34 [==============================] - 1s 21ms/step - loss: 1551.7058 - mae: 1551.7058\n",
            "Epoch 201/250\n",
            "34/34 [==============================] - 1s 22ms/step - loss: 1544.0015 - mae: 1544.0015\n",
            "Epoch 202/250\n",
            "34/34 [==============================] - 1s 22ms/step - loss: 1483.1562 - mae: 1483.1562\n",
            "Epoch 203/250\n",
            "34/34 [==============================] - 1s 22ms/step - loss: 1557.9606 - mae: 1557.9606\n",
            "Epoch 204/250\n",
            "34/34 [==============================] - 1s 22ms/step - loss: 1579.7798 - mae: 1579.7798\n",
            "Epoch 205/250\n",
            "34/34 [==============================] - 1s 21ms/step - loss: 1602.0054 - mae: 1602.0054\n",
            "Epoch 206/250\n",
            "34/34 [==============================] - 1s 22ms/step - loss: 1549.2706 - mae: 1549.2706\n",
            "Epoch 207/250\n",
            "34/34 [==============================] - 1s 21ms/step - loss: 1476.9526 - mae: 1476.9526\n",
            "Epoch 208/250\n",
            "34/34 [==============================] - 1s 22ms/step - loss: 1470.7720 - mae: 1470.7720\n",
            "Epoch 209/250\n",
            "34/34 [==============================] - 1s 22ms/step - loss: 1582.6052 - mae: 1582.6052\n",
            "Epoch 210/250\n",
            "34/34 [==============================] - 1s 22ms/step - loss: 1567.1527 - mae: 1567.1527\n",
            "Epoch 211/250\n",
            "34/34 [==============================] - 1s 22ms/step - loss: 1584.6411 - mae: 1584.6411\n",
            "Epoch 212/250\n",
            "34/34 [==============================] - 1s 21ms/step - loss: 1488.1859 - mae: 1488.1859\n",
            "Epoch 213/250\n",
            "34/34 [==============================] - 1s 22ms/step - loss: 1493.5253 - mae: 1493.5253\n",
            "Epoch 214/250\n",
            "34/34 [==============================] - 1s 21ms/step - loss: 1482.7131 - mae: 1482.7131\n",
            "Epoch 215/250\n",
            "34/34 [==============================] - 1s 21ms/step - loss: 1546.0845 - mae: 1546.0845\n",
            "Epoch 216/250\n",
            "34/34 [==============================] - 1s 21ms/step - loss: 1551.3901 - mae: 1551.3901\n",
            "Epoch 217/250\n",
            "34/34 [==============================] - 1s 21ms/step - loss: 1470.4805 - mae: 1470.4805\n",
            "Epoch 218/250\n",
            "34/34 [==============================] - 1s 22ms/step - loss: 1504.7303 - mae: 1504.7303\n",
            "Epoch 219/250\n",
            "34/34 [==============================] - 1s 22ms/step - loss: 1486.5221 - mae: 1486.5221\n",
            "Epoch 220/250\n",
            "34/34 [==============================] - 1s 21ms/step - loss: 1486.9948 - mae: 1486.9948\n",
            "Epoch 221/250\n",
            "34/34 [==============================] - 1s 21ms/step - loss: 1554.1346 - mae: 1554.1346\n",
            "Epoch 222/250\n",
            "34/34 [==============================] - 1s 22ms/step - loss: 1473.1533 - mae: 1473.1533\n",
            "Epoch 223/250\n",
            "34/34 [==============================] - 1s 22ms/step - loss: 1503.4885 - mae: 1503.4885\n",
            "Epoch 224/250\n",
            "34/34 [==============================] - 1s 21ms/step - loss: 1523.2513 - mae: 1523.2513\n",
            "Epoch 225/250\n",
            "34/34 [==============================] - 1s 22ms/step - loss: 1507.3286 - mae: 1507.3286\n",
            "Epoch 226/250\n",
            "34/34 [==============================] - 1s 21ms/step - loss: 1478.9108 - mae: 1478.9108\n",
            "Epoch 227/250\n",
            "34/34 [==============================] - 1s 22ms/step - loss: 1485.3615 - mae: 1485.3615\n",
            "Epoch 228/250\n",
            "34/34 [==============================] - 1s 21ms/step - loss: 1478.7755 - mae: 1478.7755\n",
            "Epoch 229/250\n",
            "34/34 [==============================] - 1s 21ms/step - loss: 1508.3335 - mae: 1508.3335\n",
            "Epoch 230/250\n",
            "34/34 [==============================] - 1s 22ms/step - loss: 1541.0447 - mae: 1541.0447\n",
            "Epoch 231/250\n",
            "34/34 [==============================] - 1s 21ms/step - loss: 1463.8679 - mae: 1463.8679\n",
            "Epoch 232/250\n",
            "34/34 [==============================] - 1s 21ms/step - loss: 1597.0068 - mae: 1597.0068\n",
            "Epoch 233/250\n",
            "34/34 [==============================] - 1s 21ms/step - loss: 1560.1681 - mae: 1560.1681\n",
            "Epoch 234/250\n",
            "34/34 [==============================] - 1s 21ms/step - loss: 1587.8098 - mae: 1587.8098\n",
            "Epoch 235/250\n",
            "34/34 [==============================] - 1s 21ms/step - loss: 1520.0072 - mae: 1520.0072\n",
            "Epoch 236/250\n",
            "34/34 [==============================] - 1s 21ms/step - loss: 1525.3815 - mae: 1525.3815\n",
            "Epoch 237/250\n",
            "34/34 [==============================] - 1s 21ms/step - loss: 1503.1931 - mae: 1503.1931\n",
            "Epoch 238/250\n",
            "34/34 [==============================] - 1s 21ms/step - loss: 1487.0780 - mae: 1487.0780\n",
            "Epoch 239/250\n",
            "34/34 [==============================] - 1s 21ms/step - loss: 1520.7908 - mae: 1520.7908\n",
            "Epoch 240/250\n",
            "34/34 [==============================] - 1s 22ms/step - loss: 1479.5758 - mae: 1479.5758\n",
            "Epoch 241/250\n",
            "34/34 [==============================] - 1s 21ms/step - loss: 1507.7024 - mae: 1507.7024\n",
            "Epoch 242/250\n",
            "34/34 [==============================] - 1s 21ms/step - loss: 1496.9381 - mae: 1496.9381\n",
            "Epoch 243/250\n",
            "34/34 [==============================] - 1s 21ms/step - loss: 1497.9351 - mae: 1497.9351\n",
            "Epoch 244/250\n",
            "34/34 [==============================] - 1s 22ms/step - loss: 1543.2708 - mae: 1543.2708\n",
            "Epoch 245/250\n",
            "34/34 [==============================] - 1s 22ms/step - loss: 1499.0934 - mae: 1499.0934\n",
            "Epoch 246/250\n",
            "34/34 [==============================] - 1s 22ms/step - loss: 1480.0829 - mae: 1480.0829\n",
            "Epoch 247/250\n",
            "34/34 [==============================] - 1s 21ms/step - loss: 1595.2267 - mae: 1595.2267\n",
            "Epoch 248/250\n",
            "34/34 [==============================] - 1s 21ms/step - loss: 1551.3075 - mae: 1551.3075\n",
            "Epoch 249/250\n",
            "34/34 [==============================] - 1s 22ms/step - loss: 1529.3312 - mae: 1529.3312\n",
            "Epoch 250/250\n",
            "34/34 [==============================] - 1s 22ms/step - loss: 1476.1434 - mae: 1476.1434\n"
          ],
          "name": "stdout"
        }
      ]
    },
    {
      "cell_type": "code",
      "metadata": {
        "colab": {
          "base_uri": "https://localhost:8080/"
        },
        "id": "uhtHjNOYTUyV",
        "outputId": "a9de1264-559b-435a-f1e1-cf305061308b"
      },
      "source": [
        "model_optimum_v1.evaluate(X_test_normal,y_test)"
      ],
      "execution_count": 47,
      "outputs": [
        {
          "output_type": "stream",
          "text": [
            "9/9 [==============================] - 0s 6ms/step - loss: 1551.2739 - mae: 1551.2739\n"
          ],
          "name": "stdout"
        },
        {
          "output_type": "execute_result",
          "data": {
            "text/plain": [
              "[1551.27392578125, 1551.27392578125]"
            ]
          },
          "metadata": {
            "tags": []
          },
          "execution_count": 47
        }
      ]
    },
    {
      "cell_type": "code",
      "metadata": {
        "colab": {
          "base_uri": "https://localhost:8080/",
          "height": 297
        },
        "id": "pSnCCkshTtL0",
        "outputId": "2fb078b1-7916-4995-cefc-de316c2f54df"
      },
      "source": [
        "pd.DataFrame(history.history).plot()\n",
        "plt.xlabel(\"loss\")\n",
        "plt.ylabel(\"epochs\")"
      ],
      "execution_count": 48,
      "outputs": [
        {
          "output_type": "execute_result",
          "data": {
            "text/plain": [
              "Text(0, 0.5, 'epochs')"
            ]
          },
          "metadata": {
            "tags": []
          },
          "execution_count": 48
        },
        {
          "output_type": "display_data",
          "data": {
            "image/png": "[encoded data removed]",
            "text/plain": [
              "<Figure size 432x288 with 1 Axes>"
            ]
          },
          "metadata": {
            "tags": [],
            "needs_background": "light"
          }
        }
      ]
    },
    {
      "cell_type": "markdown",
      "metadata": {
        "id": "YQ40W_ruYLrG"
      },
      "source": [
        "##Best what i can do is this\n"
      ]
    },
    {
      "cell_type": "code",
      "metadata": {
        "colab": {
          "base_uri": "https://localhost:8080/",
          "height": 658
        },
        "id": "2eWJqJvkYTIA",
        "outputId": "2ef8a412-b306-4bd9-d7ce-3910387c4215"
      },
      "source": [
        "# a little optimized neural network\n",
        "tf.random.set_seed(42)\n",
        "\n",
        "insurance_model_2 = tf.keras.Sequential([\n",
        "  tf.keras.layers.Dense(100, activation='relu'),\n",
        "  tf.keras.layers.Dense(100, activation='relu'),\n",
        "  tf.keras.layers.Dense(1)\n",
        "])\n",
        "\n",
        "insurance_model_2.compile(loss = tf.keras.losses.mae,\n",
        "                          optimizer = tf.keras.optimizers.Adam(learning_rate=0.001),\n",
        "                          metrics=[\"mae\"])\n",
        "history = insurance_model_2.fit(X_train,y_train,epochs=500)"
      ],
      "execution_count": 50,
      "outputs": [
        {
          "output_type": "error",
          "ename": "ValueError",
          "evalue": "ignored",
          "traceback": [
            "\u001b[0;31m---------------------------------------------------------------------------\u001b[0m",
            "\u001b[0;31mTypeError\u001b[0m                                 Traceback (most recent call last)",
            "\u001b[0;32m/usr/local/lib/python3.7/dist-packages/tensorflow/python/data/util/structure.py\u001b[0m in \u001b[0;36mnormalize_element\u001b[0;34m(element, element_signature)\u001b[0m\n\u001b[1;32m    105\u001b[0m         \u001b[0;32mif\u001b[0m \u001b[0mspec\u001b[0m \u001b[0;32mis\u001b[0m \u001b[0;32mNone\u001b[0m\u001b[0;34m:\u001b[0m\u001b[0;34m\u001b[0m\u001b[0;34m\u001b[0m\u001b[0m\n\u001b[0;32m--> 106\u001b[0;31m           \u001b[0mspec\u001b[0m \u001b[0;34m=\u001b[0m \u001b[0mtype_spec_from_value\u001b[0m\u001b[0;34m(\u001b[0m\u001b[0mt\u001b[0m\u001b[0;34m,\u001b[0m \u001b[0muse_fallback\u001b[0m\u001b[0;34m=\u001b[0m\u001b[0;32mFalse\u001b[0m\u001b[0;34m)\u001b[0m\u001b[0;34m\u001b[0m\u001b[0;34m\u001b[0m\u001b[0m\n\u001b[0m\u001b[1;32m    107\u001b[0m       \u001b[0;32mexcept\u001b[0m \u001b[0mTypeError\u001b[0m\u001b[0;34m:\u001b[0m\u001b[0;34m\u001b[0m\u001b[0;34m\u001b[0m\u001b[0m\n",
            "\u001b[0;32m/usr/local/lib/python3.7/dist-packages/tensorflow/python/data/util/structure.py\u001b[0m in \u001b[0;36mtype_spec_from_value\u001b[0;34m(element, use_fallback)\u001b[0m\n\u001b[1;32m    479\u001b[0m   raise TypeError(\"Could not build a TypeSpec for %r with type %s\" %\n\u001b[0;32m--> 480\u001b[0;31m                   (element, type(element).__name__))\n\u001b[0m\u001b[1;32m    481\u001b[0m \u001b[0;34m\u001b[0m\u001b[0m\n",
            "\u001b[0;31mTypeError\u001b[0m: Could not build a TypeSpec for       age     sex     bmi  children smoker     region\n560    46  female  19.950         2     no  northwest\n1285   47  female  24.320         0     no  northeast\n1142   52  female  24.860         0     no  southeast\n969    39  female  34.320         5     no  southeast\n486    54  female  21.470         3     no  northwest\n...   ...     ...     ...       ...    ...        ...\n1095   18  female  31.350         4     no  northeast\n1130   39  female  23.870         5     no  southeast\n1294   58    male  25.175         0     no  northeast\n860    37  female  47.600         2    yes  southwest\n1126   55    male  29.900         0     no  southwest\n\n[1070 rows x 6 columns] with type DataFrame",
            "\nDuring handling of the above exception, another exception occurred:\n",
            "\u001b[0;31mValueError\u001b[0m                                Traceback (most recent call last)",
            "\u001b[0;32m<ipython-input-50-b06a0c6a2cfa>\u001b[0m in \u001b[0;36m<module>\u001b[0;34m()\u001b[0m\n\u001b[1;32m     11\u001b[0m                           \u001b[0moptimizer\u001b[0m \u001b[0;34m=\u001b[0m \u001b[0mtf\u001b[0m\u001b[0;34m.\u001b[0m\u001b[0mkeras\u001b[0m\u001b[0;34m.\u001b[0m\u001b[0moptimizers\u001b[0m\u001b[0;34m.\u001b[0m\u001b[0mAdam\u001b[0m\u001b[0;34m(\u001b[0m\u001b[0mlearning_rate\u001b[0m\u001b[0;34m=\u001b[0m\u001b[0;36m0.001\u001b[0m\u001b[0;34m)\u001b[0m\u001b[0;34m,\u001b[0m\u001b[0;34m\u001b[0m\u001b[0;34m\u001b[0m\u001b[0m\n\u001b[1;32m     12\u001b[0m                           metrics=[\"mae\"])\n\u001b[0;32m---> 13\u001b[0;31m \u001b[0mhistory\u001b[0m \u001b[0;34m=\u001b[0m \u001b[0minsurance_model_2\u001b[0m\u001b[0;34m.\u001b[0m\u001b[0mfit\u001b[0m\u001b[0;34m(\u001b[0m\u001b[0mX_train\u001b[0m\u001b[0;34m,\u001b[0m\u001b[0my_train\u001b[0m\u001b[0;34m,\u001b[0m\u001b[0mepochs\u001b[0m\u001b[0;34m=\u001b[0m\u001b[0;36m500\u001b[0m\u001b[0;34m)\u001b[0m\u001b[0;34m\u001b[0m\u001b[0;34m\u001b[0m\u001b[0m\n\u001b[0m",
            "\u001b[0;32m/usr/local/lib/python3.7/dist-packages/tensorflow/python/keras/engine/training.py\u001b[0m in \u001b[0;36mfit\u001b[0;34m(self, x, y, batch_size, epochs, verbose, callbacks, validation_split, validation_data, shuffle, class_weight, sample_weight, initial_epoch, steps_per_epoch, validation_steps, validation_batch_size, validation_freq, max_queue_size, workers, use_multiprocessing)\u001b[0m\n\u001b[1;32m   1145\u001b[0m           \u001b[0muse_multiprocessing\u001b[0m\u001b[0;34m=\u001b[0m\u001b[0muse_multiprocessing\u001b[0m\u001b[0;34m,\u001b[0m\u001b[0;34m\u001b[0m\u001b[0;34m\u001b[0m\u001b[0m\n\u001b[1;32m   1146\u001b[0m           \u001b[0mmodel\u001b[0m\u001b[0;34m=\u001b[0m\u001b[0mself\u001b[0m\u001b[0;34m,\u001b[0m\u001b[0;34m\u001b[0m\u001b[0;34m\u001b[0m\u001b[0m\n\u001b[0;32m-> 1147\u001b[0;31m           steps_per_execution=self._steps_per_execution)\n\u001b[0m\u001b[1;32m   1148\u001b[0m \u001b[0;34m\u001b[0m\u001b[0m\n\u001b[1;32m   1149\u001b[0m       \u001b[0;31m# Container that configures and calls `tf.keras.Callback`s.\u001b[0m\u001b[0;34m\u001b[0m\u001b[0;34m\u001b[0m\u001b[0;34m\u001b[0m\u001b[0m\n",
            "\u001b[0;32m/usr/local/lib/python3.7/dist-packages/tensorflow/python/keras/engine/data_adapter.py\u001b[0m in \u001b[0;36mget_data_handler\u001b[0;34m(*args, **kwargs)\u001b[0m\n\u001b[1;32m   1362\u001b[0m   \u001b[0;32mif\u001b[0m \u001b[0mgetattr\u001b[0m\u001b[0;34m(\u001b[0m\u001b[0mkwargs\u001b[0m\u001b[0;34m[\u001b[0m\u001b[0;34m\"model\"\u001b[0m\u001b[0;34m]\u001b[0m\u001b[0;34m,\u001b[0m \u001b[0;34m\"_cluster_coordinator\"\u001b[0m\u001b[0;34m,\u001b[0m \u001b[0;32mNone\u001b[0m\u001b[0;34m)\u001b[0m\u001b[0;34m:\u001b[0m\u001b[0;34m\u001b[0m\u001b[0;34m\u001b[0m\u001b[0m\n\u001b[1;32m   1363\u001b[0m     \u001b[0;32mreturn\u001b[0m \u001b[0m_ClusterCoordinatorDataHandler\u001b[0m\u001b[0;34m(\u001b[0m\u001b[0;34m*\u001b[0m\u001b[0margs\u001b[0m\u001b[0;34m,\u001b[0m \u001b[0;34m**\u001b[0m\u001b[0mkwargs\u001b[0m\u001b[0;34m)\u001b[0m\u001b[0;34m\u001b[0m\u001b[0;34m\u001b[0m\u001b[0m\n\u001b[0;32m-> 1364\u001b[0;31m   \u001b[0;32mreturn\u001b[0m \u001b[0mDataHandler\u001b[0m\u001b[0;34m(\u001b[0m\u001b[0;34m*\u001b[0m\u001b[0margs\u001b[0m\u001b[0;34m,\u001b[0m \u001b[0;34m**\u001b[0m\u001b[0mkwargs\u001b[0m\u001b[0;34m)\u001b[0m\u001b[0;34m\u001b[0m\u001b[0;34m\u001b[0m\u001b[0m\n\u001b[0m\u001b[1;32m   1365\u001b[0m \u001b[0;34m\u001b[0m\u001b[0m\n\u001b[1;32m   1366\u001b[0m \u001b[0;34m\u001b[0m\u001b[0m\n",
            "\u001b[0;32m/usr/local/lib/python3.7/dist-packages/tensorflow/python/keras/engine/data_adapter.py\u001b[0m in \u001b[0;36m__init__\u001b[0;34m(self, x, y, sample_weight, batch_size, steps_per_epoch, initial_epoch, epochs, shuffle, class_weight, max_queue_size, workers, use_multiprocessing, model, steps_per_execution, distribute)\u001b[0m\n\u001b[1;32m   1164\u001b[0m         \u001b[0muse_multiprocessing\u001b[0m\u001b[0;34m=\u001b[0m\u001b[0muse_multiprocessing\u001b[0m\u001b[0;34m,\u001b[0m\u001b[0;34m\u001b[0m\u001b[0;34m\u001b[0m\u001b[0m\n\u001b[1;32m   1165\u001b[0m         \u001b[0mdistribution_strategy\u001b[0m\u001b[0;34m=\u001b[0m\u001b[0mds_context\u001b[0m\u001b[0;34m.\u001b[0m\u001b[0mget_strategy\u001b[0m\u001b[0;34m(\u001b[0m\u001b[0;34m)\u001b[0m\u001b[0;34m,\u001b[0m\u001b[0;34m\u001b[0m\u001b[0;34m\u001b[0m\u001b[0m\n\u001b[0;32m-> 1166\u001b[0;31m         model=model)\n\u001b[0m\u001b[1;32m   1167\u001b[0m \u001b[0;34m\u001b[0m\u001b[0m\n\u001b[1;32m   1168\u001b[0m     \u001b[0mstrategy\u001b[0m \u001b[0;34m=\u001b[0m \u001b[0mds_context\u001b[0m\u001b[0;34m.\u001b[0m\u001b[0mget_strategy\u001b[0m\u001b[0;34m(\u001b[0m\u001b[0;34m)\u001b[0m\u001b[0;34m\u001b[0m\u001b[0;34m\u001b[0m\u001b[0m\n",
            "\u001b[0;32m/usr/local/lib/python3.7/dist-packages/tensorflow/python/keras/engine/data_adapter.py\u001b[0m in \u001b[0;36m__init__\u001b[0;34m(self, x, y, sample_weights, sample_weight_modes, batch_size, epochs, steps, shuffle, **kwargs)\u001b[0m\n\u001b[1;32m    337\u001b[0m     \u001b[0mindices_dataset\u001b[0m \u001b[0;34m=\u001b[0m \u001b[0mindices_dataset\u001b[0m\u001b[0;34m.\u001b[0m\u001b[0mflat_map\u001b[0m\u001b[0;34m(\u001b[0m\u001b[0mslice_batch_indices\u001b[0m\u001b[0;34m)\u001b[0m\u001b[0;34m\u001b[0m\u001b[0;34m\u001b[0m\u001b[0m\n\u001b[1;32m    338\u001b[0m \u001b[0;34m\u001b[0m\u001b[0m\n\u001b[0;32m--> 339\u001b[0;31m     \u001b[0mdataset\u001b[0m \u001b[0;34m=\u001b[0m \u001b[0mself\u001b[0m\u001b[0;34m.\u001b[0m\u001b[0mslice_inputs\u001b[0m\u001b[0;34m(\u001b[0m\u001b[0mindices_dataset\u001b[0m\u001b[0;34m,\u001b[0m \u001b[0minputs\u001b[0m\u001b[0;34m)\u001b[0m\u001b[0;34m\u001b[0m\u001b[0;34m\u001b[0m\u001b[0m\n\u001b[0m\u001b[1;32m    340\u001b[0m \u001b[0;34m\u001b[0m\u001b[0m\n\u001b[1;32m    341\u001b[0m     \u001b[0;32mif\u001b[0m \u001b[0mshuffle\u001b[0m \u001b[0;34m==\u001b[0m \u001b[0;34m\"batch\"\u001b[0m\u001b[0;34m:\u001b[0m\u001b[0;34m\u001b[0m\u001b[0;34m\u001b[0m\u001b[0m\n",
            "\u001b[0;32m/usr/local/lib/python3.7/dist-packages/tensorflow/python/keras/engine/data_adapter.py\u001b[0m in \u001b[0;36mslice_inputs\u001b[0;34m(self, indices_dataset, inputs)\u001b[0m\n\u001b[1;32m    363\u001b[0m     dataset = dataset_ops.DatasetV2.zip((\n\u001b[1;32m    364\u001b[0m         \u001b[0mindices_dataset\u001b[0m\u001b[0;34m,\u001b[0m\u001b[0;34m\u001b[0m\u001b[0;34m\u001b[0m\u001b[0m\n\u001b[0;32m--> 365\u001b[0;31m         \u001b[0mdataset_ops\u001b[0m\u001b[0;34m.\u001b[0m\u001b[0mDatasetV2\u001b[0m\u001b[0;34m.\u001b[0m\u001b[0mfrom_tensors\u001b[0m\u001b[0;34m(\u001b[0m\u001b[0minputs\u001b[0m\u001b[0;34m)\u001b[0m\u001b[0;34m.\u001b[0m\u001b[0mrepeat\u001b[0m\u001b[0;34m(\u001b[0m\u001b[0;34m)\u001b[0m\u001b[0;34m\u001b[0m\u001b[0;34m\u001b[0m\u001b[0m\n\u001b[0m\u001b[1;32m    366\u001b[0m     ))\n\u001b[1;32m    367\u001b[0m \u001b[0;34m\u001b[0m\u001b[0m\n",
            "\u001b[0;32m/usr/local/lib/python3.7/dist-packages/tensorflow/python/data/ops/dataset_ops.py\u001b[0m in \u001b[0;36mfrom_tensors\u001b[0;34m(tensors)\u001b[0m\n\u001b[1;32m    679\u001b[0m       \u001b[0mDataset\u001b[0m\u001b[0;34m:\u001b[0m \u001b[0mA\u001b[0m\u001b[0;31m \u001b[0m\u001b[0;31m`\u001b[0m\u001b[0mDataset\u001b[0m\u001b[0;31m`\u001b[0m\u001b[0;34m.\u001b[0m\u001b[0;34m\u001b[0m\u001b[0;34m\u001b[0m\u001b[0m\n\u001b[1;32m    680\u001b[0m     \"\"\"\n\u001b[0;32m--> 681\u001b[0;31m     \u001b[0;32mreturn\u001b[0m \u001b[0mTensorDataset\u001b[0m\u001b[0;34m(\u001b[0m\u001b[0mtensors\u001b[0m\u001b[0;34m)\u001b[0m\u001b[0;34m\u001b[0m\u001b[0;34m\u001b[0m\u001b[0m\n\u001b[0m\u001b[1;32m    682\u001b[0m \u001b[0;34m\u001b[0m\u001b[0m\n\u001b[1;32m    683\u001b[0m   \u001b[0;34m@\u001b[0m\u001b[0mstaticmethod\u001b[0m\u001b[0;34m\u001b[0m\u001b[0;34m\u001b[0m\u001b[0m\n",
            "\u001b[0;32m/usr/local/lib/python3.7/dist-packages/tensorflow/python/data/ops/dataset_ops.py\u001b[0m in \u001b[0;36m__init__\u001b[0;34m(self, element)\u001b[0m\n\u001b[1;32m   3299\u001b[0m   \u001b[0;32mdef\u001b[0m \u001b[0m__init__\u001b[0m\u001b[0;34m(\u001b[0m\u001b[0mself\u001b[0m\u001b[0;34m,\u001b[0m \u001b[0melement\u001b[0m\u001b[0;34m)\u001b[0m\u001b[0;34m:\u001b[0m\u001b[0;34m\u001b[0m\u001b[0;34m\u001b[0m\u001b[0m\n\u001b[1;32m   3300\u001b[0m     \u001b[0;34m\"\"\"See `Dataset.from_tensors()` for details.\"\"\"\u001b[0m\u001b[0;34m\u001b[0m\u001b[0;34m\u001b[0m\u001b[0m\n\u001b[0;32m-> 3301\u001b[0;31m     \u001b[0melement\u001b[0m \u001b[0;34m=\u001b[0m \u001b[0mstructure\u001b[0m\u001b[0;34m.\u001b[0m\u001b[0mnormalize_element\u001b[0m\u001b[0;34m(\u001b[0m\u001b[0melement\u001b[0m\u001b[0;34m)\u001b[0m\u001b[0;34m\u001b[0m\u001b[0;34m\u001b[0m\u001b[0m\n\u001b[0m\u001b[1;32m   3302\u001b[0m     \u001b[0mself\u001b[0m\u001b[0;34m.\u001b[0m\u001b[0m_structure\u001b[0m \u001b[0;34m=\u001b[0m \u001b[0mstructure\u001b[0m\u001b[0;34m.\u001b[0m\u001b[0mtype_spec_from_value\u001b[0m\u001b[0;34m(\u001b[0m\u001b[0melement\u001b[0m\u001b[0;34m)\u001b[0m\u001b[0;34m\u001b[0m\u001b[0;34m\u001b[0m\u001b[0m\n\u001b[1;32m   3303\u001b[0m     \u001b[0mself\u001b[0m\u001b[0;34m.\u001b[0m\u001b[0m_tensors\u001b[0m \u001b[0;34m=\u001b[0m \u001b[0mstructure\u001b[0m\u001b[0;34m.\u001b[0m\u001b[0mto_tensor_list\u001b[0m\u001b[0;34m(\u001b[0m\u001b[0mself\u001b[0m\u001b[0;34m.\u001b[0m\u001b[0m_structure\u001b[0m\u001b[0;34m,\u001b[0m \u001b[0melement\u001b[0m\u001b[0;34m)\u001b[0m\u001b[0;34m\u001b[0m\u001b[0;34m\u001b[0m\u001b[0m\n",
            "\u001b[0;32m/usr/local/lib/python3.7/dist-packages/tensorflow/python/data/util/structure.py\u001b[0m in \u001b[0;36mnormalize_element\u001b[0;34m(element, element_signature)\u001b[0m\n\u001b[1;32m    109\u001b[0m         \u001b[0;31m# the value. As a fallback try converting the value to a tensor.\u001b[0m\u001b[0;34m\u001b[0m\u001b[0;34m\u001b[0m\u001b[0;34m\u001b[0m\u001b[0m\n\u001b[1;32m    110\u001b[0m         normalized_components.append(\n\u001b[0;32m--> 111\u001b[0;31m             ops.convert_to_tensor(t, name=\"component_%d\" % i))\n\u001b[0m\u001b[1;32m    112\u001b[0m       \u001b[0;32melse\u001b[0m\u001b[0;34m:\u001b[0m\u001b[0;34m\u001b[0m\u001b[0;34m\u001b[0m\u001b[0m\n\u001b[1;32m    113\u001b[0m         \u001b[0;32mif\u001b[0m \u001b[0misinstance\u001b[0m\u001b[0;34m(\u001b[0m\u001b[0mspec\u001b[0m\u001b[0;34m,\u001b[0m \u001b[0msparse_tensor\u001b[0m\u001b[0;34m.\u001b[0m\u001b[0mSparseTensorSpec\u001b[0m\u001b[0;34m)\u001b[0m\u001b[0;34m:\u001b[0m\u001b[0;34m\u001b[0m\u001b[0;34m\u001b[0m\u001b[0m\n",
            "\u001b[0;32m/usr/local/lib/python3.7/dist-packages/tensorflow/python/profiler/trace.py\u001b[0m in \u001b[0;36mwrapped\u001b[0;34m(*args, **kwargs)\u001b[0m\n\u001b[1;32m    161\u001b[0m         \u001b[0;32mwith\u001b[0m \u001b[0mTrace\u001b[0m\u001b[0;34m(\u001b[0m\u001b[0mtrace_name\u001b[0m\u001b[0;34m,\u001b[0m \u001b[0;34m**\u001b[0m\u001b[0mtrace_kwargs\u001b[0m\u001b[0;34m)\u001b[0m\u001b[0;34m:\u001b[0m\u001b[0;34m\u001b[0m\u001b[0;34m\u001b[0m\u001b[0m\n\u001b[1;32m    162\u001b[0m           \u001b[0;32mreturn\u001b[0m \u001b[0mfunc\u001b[0m\u001b[0;34m(\u001b[0m\u001b[0;34m*\u001b[0m\u001b[0margs\u001b[0m\u001b[0;34m,\u001b[0m \u001b[0;34m**\u001b[0m\u001b[0mkwargs\u001b[0m\u001b[0;34m)\u001b[0m\u001b[0;34m\u001b[0m\u001b[0;34m\u001b[0m\u001b[0m\n\u001b[0;32m--> 163\u001b[0;31m       \u001b[0;32mreturn\u001b[0m \u001b[0mfunc\u001b[0m\u001b[0;34m(\u001b[0m\u001b[0;34m*\u001b[0m\u001b[0margs\u001b[0m\u001b[0;34m,\u001b[0m \u001b[0;34m**\u001b[0m\u001b[0mkwargs\u001b[0m\u001b[0;34m)\u001b[0m\u001b[0;34m\u001b[0m\u001b[0;34m\u001b[0m\u001b[0m\n\u001b[0m\u001b[1;32m    164\u001b[0m \u001b[0;34m\u001b[0m\u001b[0m\n\u001b[1;32m    165\u001b[0m     \u001b[0;32mreturn\u001b[0m \u001b[0mwrapped\u001b[0m\u001b[0;34m\u001b[0m\u001b[0;34m\u001b[0m\u001b[0m\n",
            "\u001b[0;32m/usr/local/lib/python3.7/dist-packages/tensorflow/python/framework/ops.py\u001b[0m in \u001b[0;36mconvert_to_tensor\u001b[0;34m(value, dtype, name, as_ref, preferred_dtype, dtype_hint, ctx, accepted_result_types)\u001b[0m\n\u001b[1;32m   1564\u001b[0m \u001b[0;34m\u001b[0m\u001b[0m\n\u001b[1;32m   1565\u001b[0m     \u001b[0;32mif\u001b[0m \u001b[0mret\u001b[0m \u001b[0;32mis\u001b[0m \u001b[0;32mNone\u001b[0m\u001b[0;34m:\u001b[0m\u001b[0;34m\u001b[0m\u001b[0;34m\u001b[0m\u001b[0m\n\u001b[0;32m-> 1566\u001b[0;31m       \u001b[0mret\u001b[0m \u001b[0;34m=\u001b[0m \u001b[0mconversion_func\u001b[0m\u001b[0;34m(\u001b[0m\u001b[0mvalue\u001b[0m\u001b[0;34m,\u001b[0m \u001b[0mdtype\u001b[0m\u001b[0;34m=\u001b[0m\u001b[0mdtype\u001b[0m\u001b[0;34m,\u001b[0m \u001b[0mname\u001b[0m\u001b[0;34m=\u001b[0m\u001b[0mname\u001b[0m\u001b[0;34m,\u001b[0m \u001b[0mas_ref\u001b[0m\u001b[0;34m=\u001b[0m\u001b[0mas_ref\u001b[0m\u001b[0;34m)\u001b[0m\u001b[0;34m\u001b[0m\u001b[0;34m\u001b[0m\u001b[0m\n\u001b[0m\u001b[1;32m   1567\u001b[0m \u001b[0;34m\u001b[0m\u001b[0m\n\u001b[1;32m   1568\u001b[0m     \u001b[0;32mif\u001b[0m \u001b[0mret\u001b[0m \u001b[0;32mis\u001b[0m \u001b[0mNotImplemented\u001b[0m\u001b[0;34m:\u001b[0m\u001b[0;34m\u001b[0m\u001b[0;34m\u001b[0m\u001b[0m\n",
            "\u001b[0;32m/usr/local/lib/python3.7/dist-packages/tensorflow/python/framework/constant_op.py\u001b[0m in \u001b[0;36m_constant_tensor_conversion_function\u001b[0;34m(v, dtype, name, as_ref)\u001b[0m\n\u001b[1;32m    337\u001b[0m                                          as_ref=False):\n\u001b[1;32m    338\u001b[0m   \u001b[0m_\u001b[0m \u001b[0;34m=\u001b[0m \u001b[0mas_ref\u001b[0m\u001b[0;34m\u001b[0m\u001b[0;34m\u001b[0m\u001b[0m\n\u001b[0;32m--> 339\u001b[0;31m   \u001b[0;32mreturn\u001b[0m \u001b[0mconstant\u001b[0m\u001b[0;34m(\u001b[0m\u001b[0mv\u001b[0m\u001b[0;34m,\u001b[0m \u001b[0mdtype\u001b[0m\u001b[0;34m=\u001b[0m\u001b[0mdtype\u001b[0m\u001b[0;34m,\u001b[0m \u001b[0mname\u001b[0m\u001b[0;34m=\u001b[0m\u001b[0mname\u001b[0m\u001b[0;34m)\u001b[0m\u001b[0;34m\u001b[0m\u001b[0;34m\u001b[0m\u001b[0m\n\u001b[0m\u001b[1;32m    340\u001b[0m \u001b[0;34m\u001b[0m\u001b[0m\n\u001b[1;32m    341\u001b[0m \u001b[0;34m\u001b[0m\u001b[0m\n",
            "\u001b[0;32m/usr/local/lib/python3.7/dist-packages/tensorflow/python/framework/constant_op.py\u001b[0m in \u001b[0;36mconstant\u001b[0;34m(value, dtype, shape, name)\u001b[0m\n\u001b[1;32m    263\u001b[0m   \"\"\"\n\u001b[1;32m    264\u001b[0m   return _constant_impl(value, dtype, shape, name, verify_shape=False,\n\u001b[0;32m--> 265\u001b[0;31m                         allow_broadcast=True)\n\u001b[0m\u001b[1;32m    266\u001b[0m \u001b[0;34m\u001b[0m\u001b[0m\n\u001b[1;32m    267\u001b[0m \u001b[0;34m\u001b[0m\u001b[0m\n",
            "\u001b[0;32m/usr/local/lib/python3.7/dist-packages/tensorflow/python/framework/constant_op.py\u001b[0m in \u001b[0;36m_constant_impl\u001b[0;34m(value, dtype, shape, name, verify_shape, allow_broadcast)\u001b[0m\n\u001b[1;32m    274\u001b[0m       \u001b[0;32mwith\u001b[0m \u001b[0mtrace\u001b[0m\u001b[0;34m.\u001b[0m\u001b[0mTrace\u001b[0m\u001b[0;34m(\u001b[0m\u001b[0;34m\"tf.constant\"\u001b[0m\u001b[0;34m)\u001b[0m\u001b[0;34m:\u001b[0m\u001b[0;34m\u001b[0m\u001b[0;34m\u001b[0m\u001b[0m\n\u001b[1;32m    275\u001b[0m         \u001b[0;32mreturn\u001b[0m \u001b[0m_constant_eager_impl\u001b[0m\u001b[0;34m(\u001b[0m\u001b[0mctx\u001b[0m\u001b[0;34m,\u001b[0m \u001b[0mvalue\u001b[0m\u001b[0;34m,\u001b[0m \u001b[0mdtype\u001b[0m\u001b[0;34m,\u001b[0m \u001b[0mshape\u001b[0m\u001b[0;34m,\u001b[0m \u001b[0mverify_shape\u001b[0m\u001b[0;34m)\u001b[0m\u001b[0;34m\u001b[0m\u001b[0;34m\u001b[0m\u001b[0m\n\u001b[0;32m--> 276\u001b[0;31m     \u001b[0;32mreturn\u001b[0m \u001b[0m_constant_eager_impl\u001b[0m\u001b[0;34m(\u001b[0m\u001b[0mctx\u001b[0m\u001b[0;34m,\u001b[0m \u001b[0mvalue\u001b[0m\u001b[0;34m,\u001b[0m \u001b[0mdtype\u001b[0m\u001b[0;34m,\u001b[0m \u001b[0mshape\u001b[0m\u001b[0;34m,\u001b[0m \u001b[0mverify_shape\u001b[0m\u001b[0;34m)\u001b[0m\u001b[0;34m\u001b[0m\u001b[0;34m\u001b[0m\u001b[0m\n\u001b[0m\u001b[1;32m    277\u001b[0m \u001b[0;34m\u001b[0m\u001b[0m\n\u001b[1;32m    278\u001b[0m   \u001b[0mg\u001b[0m \u001b[0;34m=\u001b[0m \u001b[0mops\u001b[0m\u001b[0;34m.\u001b[0m\u001b[0mget_default_graph\u001b[0m\u001b[0;34m(\u001b[0m\u001b[0;34m)\u001b[0m\u001b[0;34m\u001b[0m\u001b[0;34m\u001b[0m\u001b[0m\n",
            "\u001b[0;32m/usr/local/lib/python3.7/dist-packages/tensorflow/python/framework/constant_op.py\u001b[0m in \u001b[0;36m_constant_eager_impl\u001b[0;34m(ctx, value, dtype, shape, verify_shape)\u001b[0m\n\u001b[1;32m    299\u001b[0m \u001b[0;32mdef\u001b[0m \u001b[0m_constant_eager_impl\u001b[0m\u001b[0;34m(\u001b[0m\u001b[0mctx\u001b[0m\u001b[0;34m,\u001b[0m \u001b[0mvalue\u001b[0m\u001b[0;34m,\u001b[0m \u001b[0mdtype\u001b[0m\u001b[0;34m,\u001b[0m \u001b[0mshape\u001b[0m\u001b[0;34m,\u001b[0m \u001b[0mverify_shape\u001b[0m\u001b[0;34m)\u001b[0m\u001b[0;34m:\u001b[0m\u001b[0;34m\u001b[0m\u001b[0;34m\u001b[0m\u001b[0m\n\u001b[1;32m    300\u001b[0m   \u001b[0;34m\"\"\"Implementation of eager constant.\"\"\"\u001b[0m\u001b[0;34m\u001b[0m\u001b[0;34m\u001b[0m\u001b[0m\n\u001b[0;32m--> 301\u001b[0;31m   \u001b[0mt\u001b[0m \u001b[0;34m=\u001b[0m \u001b[0mconvert_to_eager_tensor\u001b[0m\u001b[0;34m(\u001b[0m\u001b[0mvalue\u001b[0m\u001b[0;34m,\u001b[0m \u001b[0mctx\u001b[0m\u001b[0;34m,\u001b[0m \u001b[0mdtype\u001b[0m\u001b[0;34m)\u001b[0m\u001b[0;34m\u001b[0m\u001b[0;34m\u001b[0m\u001b[0m\n\u001b[0m\u001b[1;32m    302\u001b[0m   \u001b[0;32mif\u001b[0m \u001b[0mshape\u001b[0m \u001b[0;32mis\u001b[0m \u001b[0;32mNone\u001b[0m\u001b[0;34m:\u001b[0m\u001b[0;34m\u001b[0m\u001b[0;34m\u001b[0m\u001b[0m\n\u001b[1;32m    303\u001b[0m     \u001b[0;32mreturn\u001b[0m \u001b[0mt\u001b[0m\u001b[0;34m\u001b[0m\u001b[0;34m\u001b[0m\u001b[0m\n",
            "\u001b[0;32m/usr/local/lib/python3.7/dist-packages/tensorflow/python/framework/constant_op.py\u001b[0m in \u001b[0;36mconvert_to_eager_tensor\u001b[0;34m(value, ctx, dtype)\u001b[0m\n\u001b[1;32m     96\u001b[0m       \u001b[0mdtype\u001b[0m \u001b[0;34m=\u001b[0m \u001b[0mdtypes\u001b[0m\u001b[0;34m.\u001b[0m\u001b[0mas_dtype\u001b[0m\u001b[0;34m(\u001b[0m\u001b[0mdtype\u001b[0m\u001b[0;34m)\u001b[0m\u001b[0;34m.\u001b[0m\u001b[0mas_datatype_enum\u001b[0m\u001b[0;34m\u001b[0m\u001b[0;34m\u001b[0m\u001b[0m\n\u001b[1;32m     97\u001b[0m   \u001b[0mctx\u001b[0m\u001b[0;34m.\u001b[0m\u001b[0mensure_initialized\u001b[0m\u001b[0;34m(\u001b[0m\u001b[0;34m)\u001b[0m\u001b[0;34m\u001b[0m\u001b[0;34m\u001b[0m\u001b[0m\n\u001b[0;32m---> 98\u001b[0;31m   \u001b[0;32mreturn\u001b[0m \u001b[0mops\u001b[0m\u001b[0;34m.\u001b[0m\u001b[0mEagerTensor\u001b[0m\u001b[0;34m(\u001b[0m\u001b[0mvalue\u001b[0m\u001b[0;34m,\u001b[0m \u001b[0mctx\u001b[0m\u001b[0;34m.\u001b[0m\u001b[0mdevice_name\u001b[0m\u001b[0;34m,\u001b[0m \u001b[0mdtype\u001b[0m\u001b[0;34m)\u001b[0m\u001b[0;34m\u001b[0m\u001b[0;34m\u001b[0m\u001b[0m\n\u001b[0m\u001b[1;32m     99\u001b[0m \u001b[0;34m\u001b[0m\u001b[0m\n\u001b[1;32m    100\u001b[0m \u001b[0;34m\u001b[0m\u001b[0m\n",
            "\u001b[0;31mValueError\u001b[0m: Failed to convert a NumPy array to a Tensor (Unsupported object type int)."
          ]
        }
      ]
    },
    {
      "cell_type": "code",
      "metadata": {
        "id": "357Go-qxYUGx"
      },
      "source": [
        ""
      ],
      "execution_count": null,
      "outputs": []
    }
  ]
}