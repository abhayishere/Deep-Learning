{
  "nbformat": 4,
  "nbformat_minor": 0,
  "metadata": {
    "colab": {
      "name": "Transfer_learning_in_tensorflow_part_2_Fine_tuning.ipynb",
      "provenance": []
    },
    "kernelspec": {
      "name": "python3",
      "display_name": "Python 3"
    },
    "language_info": {
      "name": "python"
    },
    "accelerator": "GPU"
  },
  "cells": [
    {
      "cell_type": "markdown",
      "metadata": {
        "id": "WHOiwAo-r7yJ"
      },
      "source": [
        "#Transfer Learning with tensorflow part 2: Fine tuning"
      ]
    },
    {
      "cell_type": "code",
      "metadata": {
        "colab": {
          "base_uri": "https://localhost:8080/"
        },
        "id": "g_qzyOL_1hIK",
        "outputId": "21508e28-b759-4ca8-de47-a3e0bc6f2a98"
      },
      "source": [
        "!nvidia-smi"
      ],
      "execution_count": 43,
      "outputs": [
        {
          "output_type": "stream",
          "text": [
            "Tue Jun 29 11:58:47 2021       \n",
            "+-----------------------------------------------------------------------------+\n",
            "| NVIDIA-SMI 465.27       Driver Version: 460.32.03    CUDA Version: 11.2     |\n",
            "|-------------------------------+----------------------+----------------------+\n",
            "| GPU  Name        Persistence-M| Bus-Id        Disp.A | Volatile Uncorr. ECC |\n",
            "| Fan  Temp  Perf  Pwr:Usage/Cap|         Memory-Usage | GPU-Util  Compute M. |\n",
            "|                               |                      |               MIG M. |\n",
            "|===============================+======================+======================|\n",
            "|   0  Tesla T4            Off  | 00000000:00:04.0 Off |                    0 |\n",
            "| N/A   62C    P0    30W /  70W |   4788MiB / 15109MiB |      0%      Default |\n",
            "|                               |                      |                  N/A |\n",
            "+-------------------------------+----------------------+----------------------+\n",
            "                                                                               \n",
            "+-----------------------------------------------------------------------------+\n",
            "| Processes:                                                                  |\n",
            "|  GPU   GI   CI        PID   Type   Process name                  GPU Memory |\n",
            "|        ID   ID                                                   Usage      |\n",
            "|=============================================================================|\n",
            "+-----------------------------------------------------------------------------+\n"
          ],
          "name": "stdout"
        }
      ]
    },
    {
      "cell_type": "code",
      "metadata": {
        "colab": {
          "base_uri": "https://localhost:8080/"
        },
        "id": "VURfo0C21isA",
        "outputId": "8310f700-9187-4e8e-83e8-a396073b95eb"
      },
      "source": [
        "!wget https://raw.githubusercontent.com/mrdbourke/tensorflow-deep-learning/main/extras/helper_functions.py"
      ],
      "execution_count": 44,
      "outputs": [
        {
          "output_type": "stream",
          "text": [
            "--2021-06-29 11:58:48--  https://raw.githubusercontent.com/mrdbourke/tensorflow-deep-learning/main/extras/helper_functions.py\n",
            "Resolving raw.githubusercontent.com (raw.githubusercontent.com)... 185.199.108.133, 185.199.110.133, 185.199.111.133, ...\n",
            "Connecting to raw.githubusercontent.com (raw.githubusercontent.com)|185.199.108.133|:443... connected.\n",
            "HTTP request sent, awaiting response... 200 OK\n",
            "Length: 10246 (10K) [text/plain]\n",
            "Saving to: ‘helper_functions.py.1’\n",
            "\n",
            "helper_functions.py 100%[===================>]  10.01K  --.-KB/s    in 0s      \n",
            "\n",
            "2021-06-29 11:58:48 (48.1 MB/s) - ‘helper_functions.py.1’ saved [10246/10246]\n",
            "\n"
          ],
          "name": "stdout"
        }
      ]
    },
    {
      "cell_type": "code",
      "metadata": {
        "id": "hOwv3ShA2GDQ"
      },
      "source": [
        "# import helper functions\n",
        "from helper_functions import create_tensorboard_callback, plot_loss_curves, unzip_data, walk_through_dir"
      ],
      "execution_count": 45,
      "outputs": []
    },
    {
      "cell_type": "markdown",
      "metadata": {
        "id": "nLTB8Ffj2hxL"
      },
      "source": [
        "## Lets get some data"
      ]
    },
    {
      "cell_type": "code",
      "metadata": {
        "colab": {
          "base_uri": "https://localhost:8080/"
        },
        "id": "CNHHrXOa3Lju",
        "outputId": "9139ed33-d502-4d7b-9fb1-e0b2c67ced57"
      },
      "source": [
        "!wget https://storage.googleapis.com/ztm_tf_course/food_vision/10_food_classes_10_percent.zip \n",
        "\n",
        "unzip_data(\"10_food_classes_10_percent.zip\")"
      ],
      "execution_count": 46,
      "outputs": [
        {
          "output_type": "stream",
          "text": [
            "--2021-06-29 11:58:48--  https://storage.googleapis.com/ztm_tf_course/food_vision/10_food_classes_10_percent.zip\n",
            "Resolving storage.googleapis.com (storage.googleapis.com)... 74.125.20.128, 74.125.135.128, 74.125.195.128, ...\n",
            "Connecting to storage.googleapis.com (storage.googleapis.com)|74.125.20.128|:443... connected.\n",
            "HTTP request sent, awaiting response... 200 OK\n",
            "Length: 168546183 (161M) [application/zip]\n",
            "Saving to: ‘10_food_classes_10_percent.zip.1’\n",
            "\n",
            "10_food_classes_10_ 100%[===================>] 160.74M   173MB/s    in 0.9s    \n",
            "\n",
            "2021-06-29 11:58:49 (173 MB/s) - ‘10_food_classes_10_percent.zip.1’ saved [168546183/168546183]\n",
            "\n"
          ],
          "name": "stdout"
        }
      ]
    },
    {
      "cell_type": "code",
      "metadata": {
        "colab": {
          "base_uri": "https://localhost:8080/"
        },
        "id": "G7JpFHzy3jX4",
        "outputId": "b4962e9b-3126-4b30-e569-a439644cb529"
      },
      "source": [
        "walk_through_dir(\"10_food_classes_10_percent\")"
      ],
      "execution_count": 47,
      "outputs": [
        {
          "output_type": "stream",
          "text": [
            "There are 2 directories and 0 images in '10_food_classes_10_percent'.\n",
            "There are 10 directories and 0 images in '10_food_classes_10_percent/test'.\n",
            "There are 0 directories and 250 images in '10_food_classes_10_percent/test/ramen'.\n",
            "There are 0 directories and 250 images in '10_food_classes_10_percent/test/fried_rice'.\n",
            "There are 0 directories and 250 images in '10_food_classes_10_percent/test/ice_cream'.\n",
            "There are 0 directories and 250 images in '10_food_classes_10_percent/test/pizza'.\n",
            "There are 0 directories and 250 images in '10_food_classes_10_percent/test/hamburger'.\n",
            "There are 0 directories and 250 images in '10_food_classes_10_percent/test/chicken_wings'.\n",
            "There are 0 directories and 250 images in '10_food_classes_10_percent/test/grilled_salmon'.\n",
            "There are 0 directories and 250 images in '10_food_classes_10_percent/test/chicken_curry'.\n",
            "There are 0 directories and 250 images in '10_food_classes_10_percent/test/sushi'.\n",
            "There are 0 directories and 250 images in '10_food_classes_10_percent/test/steak'.\n",
            "There are 10 directories and 0 images in '10_food_classes_10_percent/train'.\n",
            "There are 0 directories and 75 images in '10_food_classes_10_percent/train/ramen'.\n",
            "There are 0 directories and 75 images in '10_food_classes_10_percent/train/fried_rice'.\n",
            "There are 0 directories and 75 images in '10_food_classes_10_percent/train/ice_cream'.\n",
            "There are 0 directories and 75 images in '10_food_classes_10_percent/train/pizza'.\n",
            "There are 0 directories and 75 images in '10_food_classes_10_percent/train/hamburger'.\n",
            "There are 0 directories and 75 images in '10_food_classes_10_percent/train/chicken_wings'.\n",
            "There are 0 directories and 75 images in '10_food_classes_10_percent/train/grilled_salmon'.\n",
            "There are 0 directories and 75 images in '10_food_classes_10_percent/train/chicken_curry'.\n",
            "There are 0 directories and 75 images in '10_food_classes_10_percent/train/sushi'.\n",
            "There are 0 directories and 75 images in '10_food_classes_10_percent/train/steak'.\n"
          ],
          "name": "stdout"
        }
      ]
    },
    {
      "cell_type": "code",
      "metadata": {
        "id": "9MDvzjSd3qy1"
      },
      "source": [
        "train_dir = \"10_food_classes_10_percent/train\"\n",
        "test_dir=\"10_food_classes_10_percent/test\"\n"
      ],
      "execution_count": 48,
      "outputs": []
    },
    {
      "cell_type": "code",
      "metadata": {
        "colab": {
          "base_uri": "https://localhost:8080/"
        },
        "id": "OXtmiAWf4Ni_",
        "outputId": "e8303e3b-3f2c-4f12-c241-c905740cc5ad"
      },
      "source": [
        "import tensorflow as tf\n",
        "img_size = (224,224)\n",
        "\n",
        "train_data_10_percent = tf.keras.preprocessing.image_dataset_from_directory(train_dir,\n",
        "                                                                            image_size=img_size,\n",
        "                                                                            label_mode=\"categorical\",\n",
        "                                                                            batch_size=32)\n",
        "test_data = tf.keras.preprocessing.image_dataset_from_directory(test_dir,\n",
        "                                                                image_size=img_size,\n",
        "                                                                label_mode=\"categorical\",\n",
        "                                                                batch_size=32)"
      ],
      "execution_count": 49,
      "outputs": [
        {
          "output_type": "stream",
          "text": [
            "Found 750 files belonging to 10 classes.\n",
            "Found 2500 files belonging to 10 classes.\n"
          ],
          "name": "stdout"
        }
      ]
    },
    {
      "cell_type": "code",
      "metadata": {
        "colab": {
          "base_uri": "https://localhost:8080/"
        },
        "id": "hwfh6o_B4rSa",
        "outputId": "72552966-4d4e-4609-cb99-0de03bcf8f87"
      },
      "source": [
        "train_data_10_percent"
      ],
      "execution_count": 50,
      "outputs": [
        {
          "output_type": "execute_result",
          "data": {
            "text/plain": [
              "<BatchDataset shapes: ((None, 224, 224, 3), (None, 10)), types: (tf.float32, tf.float32)>"
            ]
          },
          "metadata": {
            "tags": []
          },
          "execution_count": 50
        }
      ]
    },
    {
      "cell_type": "code",
      "metadata": {
        "colab": {
          "base_uri": "https://localhost:8080/"
        },
        "id": "ybFArltc4ykB",
        "outputId": "b5e27a5a-8d94-4aa8-80c1-0260dc7f19c0"
      },
      "source": [
        "train_data_10_percent.class_names"
      ],
      "execution_count": 51,
      "outputs": [
        {
          "output_type": "execute_result",
          "data": {
            "text/plain": [
              "['chicken_curry',\n",
              " 'chicken_wings',\n",
              " 'fried_rice',\n",
              " 'grilled_salmon',\n",
              " 'hamburger',\n",
              " 'ice_cream',\n",
              " 'pizza',\n",
              " 'ramen',\n",
              " 'steak',\n",
              " 'sushi']"
            ]
          },
          "metadata": {
            "tags": []
          },
          "execution_count": 51
        }
      ]
    },
    {
      "cell_type": "code",
      "metadata": {
        "colab": {
          "base_uri": "https://localhost:8080/"
        },
        "id": "TyenKGXK5GCb",
        "outputId": "1a282da0-3fdc-408b-b7b4-33d45a33603c"
      },
      "source": [
        "for images, labels in train_data_10_percent.take(1):\n",
        "  print(images/255.,labels)"
      ],
      "execution_count": 52,
      "outputs": [
        {
          "output_type": "stream",
          "text": [
            "tf.Tensor(\n",
            "[[[[0.30566227 0.27428973 0.2664466 ]\n",
            "   [0.34295717 0.31158462 0.30374148]\n",
            "   [0.34511805 0.31206483 0.30506203]\n",
            "   ...\n",
            "   [0.15828303 0.11346526 0.09441799]\n",
            "   [0.14453772 0.10588235 0.10168062]\n",
            "   [0.11714668 0.09361726 0.1014604 ]]\n",
            "\n",
            "  [[0.30914366 0.27777112 0.26992798]\n",
            "   [0.359984   0.32861146 0.32076833]\n",
            "   [0.3595038  0.32813126 0.32028812]\n",
            "   ...\n",
            "   [0.16492555 0.12010779 0.10106052]\n",
            "   [0.14425755 0.10560219 0.10140046]\n",
            "   [0.1264303  0.09113619 0.09821928]]\n",
            "\n",
            "  [[0.28435376 0.25158063 0.25466186]\n",
            "   [0.34363744 0.31394556 0.30778313]\n",
            "   [0.35928372 0.32725087 0.32138854]\n",
            "   ...\n",
            "   [0.16872708 0.12390932 0.10654255]\n",
            "   [0.14587834 0.10666265 0.10274108]\n",
            "   [0.13307312 0.09777901 0.10170057]]\n",
            "\n",
            "  ...\n",
            "\n",
            "  [[0.20642217 0.12214823 0.10196036]\n",
            "   [0.23255284 0.1417962  0.12358917]\n",
            "   [0.23407353 0.14193639 0.12426952]\n",
            "   ...\n",
            "   [0.40400195 0.12332951 0.02837162]\n",
            "   [0.41182497 0.12947203 0.03535439]\n",
            "   [0.40922293 0.12686998 0.03275233]]\n",
            "\n",
            "  [[0.1984998  0.07499008 0.04463787]\n",
            "   [0.20476212 0.07396954 0.04595824]\n",
            "   [0.22256911 0.09019593 0.06296492]\n",
            "   ...\n",
            "   [0.40560302 0.12493059 0.02997269]\n",
            "   [0.4279913  0.14563835 0.0515207 ]\n",
            "   [0.42120832 0.13885537 0.04473773]]\n",
            "\n",
            "  [[0.24885958 0.08135231 0.03289279]\n",
            "   [0.2626459  0.08765558 0.04153687]\n",
            "   [0.26888862 0.0929379  0.04729941]\n",
            "   ...\n",
            "   [0.40924406 0.12857163 0.03361374]\n",
            "   [0.41856685 0.13621393 0.04209627]\n",
            "   [0.40666223 0.12430928 0.03019163]]]\n",
            "\n",
            "\n",
            " [[[0.26940778 0.21086435 0.14671868]\n",
            "   [0.27685073 0.21410565 0.15136054]\n",
            "   [0.2812525  0.2185074  0.15968387]\n",
            "   ...\n",
            "   [0.8059024  0.76276517 0.34989998]\n",
            "   [0.81204486 0.76918775 0.34481788]\n",
            "   [0.8201081  0.78089243 0.34099627]]\n",
            "\n",
            "  [[0.30084035 0.22661065 0.17170867]\n",
            "   [0.3044818  0.2302521  0.17535014]\n",
            "   [0.30952382 0.23529412 0.18039216]\n",
            "   ...\n",
            "   [0.81540614 0.76856744 0.36946762]\n",
            "   [0.8117647  0.76862746 0.35628247]\n",
            "   [0.8120448  0.7690076  0.34985968]]\n",
            "\n",
            "  [[0.3392157  0.24539816 0.19245698]\n",
            "   [0.34291717 0.24998    0.19479792]\n",
            "   [0.3555622  0.25276113 0.19841936]\n",
            "   ...\n",
            "   [0.81660676 0.77254903 0.38907564]\n",
            "   [0.8117647  0.7647059  0.3736694 ]\n",
            "   [0.8117647  0.76580644 0.36358517]]\n",
            "\n",
            "  ...\n",
            "\n",
            "  [[0.53475296 0.4644245  0.30696198]\n",
            "   [0.65782255 0.6022603  0.42298892]\n",
            "   [0.7398757  0.69431746 0.4873948 ]\n",
            "   ...\n",
            "   [0.90280104 0.91456574 0.730252  ]\n",
            "   [0.9056022  0.91512585 0.72190857]\n",
            "   [0.8980392  0.90756285 0.71148443]]\n",
            "\n",
            "  [[0.4357739  0.3485789  0.24035585]\n",
            "   [0.5605035  0.48855466 0.3495992 ]\n",
            "   [0.670988   0.61542565 0.4300916 ]\n",
            "   ...\n",
            "   [0.9089637  0.9184873  0.72527003]\n",
            "   [0.905322   0.9137055  0.7160061 ]\n",
            "   [0.8964584  0.9082231  0.70037997]]\n",
            "\n",
            "  [[0.37825075 0.28021154 0.19673817]\n",
            "   [0.44183537 0.35474017 0.23867415]\n",
            "   [0.569246   0.5030994  0.33471236]\n",
            "   ...\n",
            "   [0.9036414  0.91316503 0.7170866 ]\n",
            "   [0.8963584  0.9081231  0.70027995]\n",
            "   [0.88739467 0.8991594  0.69131625]]]\n",
            "\n",
            "\n",
            " [[[0.44767907 0.2594438  0.11042417]\n",
            "   [0.4572429  0.2690076  0.11998799]\n",
            "   [0.5268707  0.33863547 0.18961585]\n",
            "   ...\n",
            "   [0.63025254 0.65378195 0.7949584 ]\n",
            "   [0.61654645 0.647919   0.78909546]\n",
            "   [0.59423745 0.62561    0.76678646]]\n",
            "\n",
            "  [[0.4994398  0.30336136 0.15826331]\n",
            "   [0.49663866 0.30056024 0.15546219]\n",
            "   [0.54773915 0.352501   0.20488197]\n",
            "   ...\n",
            "   [0.5901363  0.6230693  0.7673871 ]\n",
            "   [0.6014201  0.63279265 0.7773504 ]\n",
            "   [0.5652469  0.60446256 0.74171746]]\n",
            "\n",
            "  [[0.49549818 0.29157665 0.1464786 ]\n",
            "   [0.51508605 0.31116447 0.15990397]\n",
            "   [0.53845537 0.3345338  0.18159263]\n",
            "   ...\n",
            "   [0.5826332  0.63137275 0.7873951 ]\n",
            "   [0.59245676 0.63049203 0.78193253]\n",
            "   [0.5890162  0.6307529  0.771089  ]]\n",
            "\n",
            "  ...\n",
            "\n",
            "  [[0.96862745 1.         1.        ]\n",
            "   [0.96862745 1.         1.        ]\n",
            "   [0.96862745 1.         1.        ]\n",
            "   ...\n",
            "   [0.96862745 1.         1.        ]\n",
            "   [0.96862745 1.         1.        ]\n",
            "   [0.96862745 1.         1.        ]]\n",
            "\n",
            "  [[0.96862745 1.         1.        ]\n",
            "   [0.96862745 1.         1.        ]\n",
            "   [0.96862745 1.         1.        ]\n",
            "   ...\n",
            "   [0.96862745 1.         1.        ]\n",
            "   [0.96862745 1.         1.        ]\n",
            "   [0.96862745 1.         1.        ]]\n",
            "\n",
            "  [[0.96862745 1.         1.        ]\n",
            "   [0.96862745 1.         1.        ]\n",
            "   [0.96862745 1.         1.        ]\n",
            "   ...\n",
            "   [0.96862745 1.         1.        ]\n",
            "   [0.96862745 1.         1.        ]\n",
            "   [0.96862745 1.         1.        ]]]\n",
            "\n",
            "\n",
            " ...\n",
            "\n",
            "\n",
            " [[[0.6042698  0.7023091  0.91407377]\n",
            "   [0.5997199  0.6977591  0.90952384]\n",
            "   [0.6056128  0.7036521  0.9154168 ]\n",
            "   ...\n",
            "   [0.18854214 0.20030685 0.2648203 ]\n",
            "   [0.15897804 0.17295738 0.22513704]\n",
            "   [0.14052524 0.15621151 0.19321282]]\n",
            "\n",
            "  [[0.6602241  0.7661065  0.9739496 ]\n",
            "   [0.6586391  0.7645214  0.97236454]\n",
            "   [0.6537377  0.7596201  0.96746325]\n",
            "   ...\n",
            "   [0.19382563 0.20559034 0.26441386]\n",
            "   [0.15771253 0.17169186 0.22387154]\n",
            "   [0.13205826 0.15780206 0.19815587]]\n",
            "\n",
            "  [[0.6718988  0.7803021  0.99514806]\n",
            "   [0.66709185 0.7754952  0.9903411 ]\n",
            "   [0.6658264  0.7742297  0.9890756 ]\n",
            "   ...\n",
            "   [0.20046103 0.22229862 0.27504736]\n",
            "   [0.1732832  0.19413027 0.24118909]\n",
            "   [0.14525534 0.17884226 0.21584357]]\n",
            "\n",
            "  ...\n",
            "\n",
            "  [[0.05561189 0.07129816 0.08138236]\n",
            "   [0.05361363 0.0682027  0.07865264]\n",
            "   [0.06036678 0.0735323  0.08445676]\n",
            "   ...\n",
            "   [0.08824038 0.11876699 0.13245994]\n",
            "   [0.09221587 0.1222472  0.13756104]\n",
            "   [0.08613375 0.11606966 0.12292328]]\n",
            "\n",
            "  [[0.02959202 0.04919986 0.06488614]\n",
            "   [0.04237606 0.0619839  0.07767018]\n",
            "   [0.04881672 0.06842457 0.08411084]\n",
            "   ...\n",
            "   [0.06883034 0.09628132 0.11981073]\n",
            "   [0.06641247 0.09386345 0.11739287]\n",
            "   [0.05871904 0.09287503 0.11305194]]\n",
            "\n",
            "  [[0.04093745 0.06054529 0.07623156]\n",
            "   [0.0846187  0.10422654 0.11991281]\n",
            "   [0.08991615 0.10952399 0.12521026]\n",
            "   ...\n",
            "   [0.02811605 0.05948859 0.0712533 ]\n",
            "   [0.02992321 0.05987216 0.07590768]\n",
            "   [0.03364559 0.06800483 0.08996686]]]\n",
            "\n",
            "\n",
            " [[[0.36414567 0.19159663 0.08571429]\n",
            "   [0.38319328 0.20280114 0.10084034]\n",
            "   [0.3856943  0.18793517 0.0907363 ]\n",
            "   ...\n",
            "   [0.36504608 0.19081657 0.08745498]\n",
            "   [0.3729293  0.20038027 0.09449792]\n",
            "   [0.373269   0.21248469 0.10268076]]\n",
            "\n",
            "  [[0.3759904  0.20344138 0.09755902]\n",
            "   [0.39441776 0.21402562 0.11206483]\n",
            "   [0.39159662 0.19551821 0.09747899]\n",
            "   ...\n",
            "   [0.37012798 0.19589847 0.09085636]\n",
            "   [0.37054837 0.19799934 0.092117  ]\n",
            "   [0.3784112  0.20586218 0.09997983]]\n",
            "\n",
            "  [[0.3722689  0.19355743 0.0907563 ]\n",
            "   [0.38761505 0.2072229  0.10526211]\n",
            "   [0.39105645 0.20224088 0.10178071]\n",
            "   ...\n",
            "   [0.37805146 0.19897985 0.0963588 ]\n",
            "   [0.38437378 0.20566228 0.10286116]\n",
            "   [0.3658059  0.19325686 0.08737451]]\n",
            "\n",
            "  ...\n",
            "\n",
            "  [[0.27459    0.2236096  0.19139667]\n",
            "   [0.24461816 0.19363777 0.16142486]\n",
            "   [0.3085031  0.2575227  0.22530977]\n",
            "   ...\n",
            "   [0.3207284  0.19523819 0.1112045 ]\n",
            "   [0.3313728  0.2079033  0.13937613]\n",
            "   [0.3226876  0.19243547 0.15630098]]\n",
            "\n",
            "  [[0.26300472 0.21202435 0.17673023]\n",
            "   [0.31606725 0.26508683 0.22979274]\n",
            "   [0.3128858  0.26190537 0.22661127]\n",
            "   ...\n",
            "   [0.33815578 0.21266556 0.12246948]\n",
            "   [0.34485823 0.21544649 0.14205709]\n",
            "   [0.33695385 0.20362054 0.15972313]]\n",
            "\n",
            "  [[0.25824332 0.21118452 0.1641257 ]\n",
            "   [0.38419324 0.33713442 0.2900756 ]\n",
            "   [0.3315727  0.2845139  0.23745506]\n",
            "   ...\n",
            "   [0.34399804 0.21850784 0.12046862]\n",
            "   [0.3209285  0.19385763 0.11522637]\n",
            "   [0.32358876 0.19187598 0.1399555 ]]]\n",
            "\n",
            "\n",
            " [[[0.5930572  0.47955182 0.2937375 ]\n",
            "   [0.56564623 0.46060425 0.30982393]\n",
            "   [0.5193477  0.43671468 0.33003202]\n",
            "   ...\n",
            "   [0.07675061 0.02969179 0.02969179]\n",
            "   [0.0801121  0.02521013 0.02521013]\n",
            "   [0.08655476 0.0316528  0.0316528 ]]\n",
            "\n",
            "  [[0.5320128  0.45218086 0.3132453 ]\n",
            "   [0.4986995  0.4298119  0.3172069 ]\n",
            "   [0.50158066 0.4435374  0.37032816]\n",
            "   ...\n",
            "   [0.08073246 0.027511   0.027511  ]\n",
            "   [0.0859944  0.0232493  0.02717087]\n",
            "   [0.08991597 0.02717087 0.03109244]]\n",
            "\n",
            "  [[0.48613447 0.45812324 0.38729492]\n",
            "   [0.5430172  0.51842743 0.46122453]\n",
            "   [0.587455   0.565046   0.5328532 ]\n",
            "   ...\n",
            "   [0.08505409 0.02062832 0.02062832]\n",
            "   [0.09579832 0.02352941 0.02436975]\n",
            "   [0.09887955 0.02661064 0.02745098]]\n",
            "\n",
            "  ...\n",
            "\n",
            "  [[0.07977191 0.03663466 0.02094839]\n",
            "   [0.09099663 0.04785938 0.0321731 ]\n",
            "   [0.08253282 0.03939557 0.03155243]\n",
            "   ...\n",
            "   [0.20614217 0.08765487 0.07897148]\n",
            "   [0.20084001 0.08543402 0.07002767]\n",
            "   [0.22374983 0.10248132 0.08197312]]\n",
            "\n",
            "  [[0.08439383 0.04125657 0.02557029]\n",
            "   [0.08573435 0.0425971  0.02691082]\n",
            "   [0.07142872 0.02829147 0.02044833]\n",
            "   ...\n",
            "   [0.21636665 0.10656274 0.09479803]\n",
            "   [0.19917953 0.08545404 0.06976776]\n",
            "   [0.20204094 0.08047231 0.0687076 ]]\n",
            "\n",
            "  [[0.07867114 0.03553388 0.02034786]\n",
            "   [0.09047619 0.04733893 0.03165266]\n",
            "   [0.09517825 0.052041   0.04419786]\n",
            "   ...\n",
            "   [0.18295282 0.07566965 0.06306469]\n",
            "   [0.19413793 0.07649086 0.06864773]\n",
            "   [0.20398232 0.08241369 0.07064898]]]], shape=(32, 224, 224, 3), dtype=float32) tf.Tensor(\n",
            "[[0. 0. 0. 0. 1. 0. 0. 0. 0. 0.]\n",
            " [0. 0. 0. 0. 0. 0. 0. 0. 0. 1.]\n",
            " [0. 1. 0. 0. 0. 0. 0. 0. 0. 0.]\n",
            " [0. 0. 0. 0. 0. 0. 0. 1. 0. 0.]\n",
            " [0. 1. 0. 0. 0. 0. 0. 0. 0. 0.]\n",
            " [0. 1. 0. 0. 0. 0. 0. 0. 0. 0.]\n",
            " [0. 0. 0. 0. 0. 1. 0. 0. 0. 0.]\n",
            " [1. 0. 0. 0. 0. 0. 0. 0. 0. 0.]\n",
            " [0. 0. 0. 0. 0. 0. 0. 1. 0. 0.]\n",
            " [0. 0. 0. 0. 0. 1. 0. 0. 0. 0.]\n",
            " [0. 0. 0. 0. 0. 0. 0. 0. 1. 0.]\n",
            " [0. 0. 0. 0. 0. 0. 0. 0. 0. 1.]\n",
            " [0. 0. 1. 0. 0. 0. 0. 0. 0. 0.]\n",
            " [0. 0. 0. 0. 0. 0. 1. 0. 0. 0.]\n",
            " [0. 0. 0. 1. 0. 0. 0. 0. 0. 0.]\n",
            " [0. 0. 0. 0. 1. 0. 0. 0. 0. 0.]\n",
            " [0. 0. 0. 0. 1. 0. 0. 0. 0. 0.]\n",
            " [0. 0. 0. 0. 0. 0. 1. 0. 0. 0.]\n",
            " [0. 0. 0. 0. 0. 1. 0. 0. 0. 0.]\n",
            " [0. 0. 0. 0. 0. 1. 0. 0. 0. 0.]\n",
            " [0. 0. 1. 0. 0. 0. 0. 0. 0. 0.]\n",
            " [0. 0. 0. 0. 0. 1. 0. 0. 0. 0.]\n",
            " [0. 0. 0. 0. 0. 0. 0. 0. 0. 1.]\n",
            " [1. 0. 0. 0. 0. 0. 0. 0. 0. 0.]\n",
            " [0. 0. 1. 0. 0. 0. 0. 0. 0. 0.]\n",
            " [0. 1. 0. 0. 0. 0. 0. 0. 0. 0.]\n",
            " [0. 0. 0. 0. 0. 0. 0. 1. 0. 0.]\n",
            " [0. 0. 1. 0. 0. 0. 0. 0. 0. 0.]\n",
            " [0. 0. 0. 0. 1. 0. 0. 0. 0. 0.]\n",
            " [0. 1. 0. 0. 0. 0. 0. 0. 0. 0.]\n",
            " [0. 0. 0. 0. 0. 0. 0. 1. 0. 0.]\n",
            " [1. 0. 0. 0. 0. 0. 0. 0. 0. 0.]], shape=(32, 10), dtype=float32)\n"
          ],
          "name": "stdout"
        }
      ]
    },
    {
      "cell_type": "markdown",
      "metadata": {
        "id": "S6Aiebmj5ntD"
      },
      "source": [
        "## Model0 "
      ]
    },
    {
      "cell_type": "code",
      "metadata": {
        "colab": {
          "base_uri": "https://localhost:8080/"
        },
        "id": "ACbPXe7Q8dGH",
        "outputId": "45b55ea4-7a77-4d7e-883a-9fc4eebd4dc0"
      },
      "source": [
        "#1 Create bse model with tf.keras.applications\n",
        "base_model = tf.keras.applications.EfficientNetB0(include_top=False)\n",
        "\n",
        "#2 Freeze the base model( so the underling pre-trained patterns aren't updated)\n",
        "base_model.trainable=False\n",
        "\n",
        "#3 Create inputs into our model\n",
        "inputs = tf.keras.layers.Input(shape=(224,224,3),name=\"input_layer\")\n",
        "\n",
        "#4 If using ResoNet50V2 you will need to normalize inputs(you dont have to for EffiecientB0)\n",
        "#x = tf.keras.layers.experimental.preprocessing.Rescaling(1./255)(inputs)\n",
        "\n",
        "#5 pass the inputs\n",
        "x = base_model(inputs)\n",
        "print(\"shape after passing inputs \",x.shape)\n",
        "\n",
        "#6 Average pool the outputs of the model(aggregate al the most important information, reduce number of computations)\n",
        "x = tf.keras.layers.GlobalAveragePooling2D(name=\"global_average_pooling_layer\")(x)\n",
        "print(\"shape after global average pooling 2D \", x.shape)\n",
        "\n",
        "#7 Create the output activation layers\n",
        "outputs = tf.keras.layers.Dense(10,activation = \"softmax\", name=\"output_layer\")(x)\n",
        "\n",
        "#8 Combne the inputs with the outputs into a model\n",
        "model_0 = tf.keras.Model(inputs,outputs)\n",
        "\n",
        "#9 compile for the model\n",
        "model_0.compile(loss=\"categorical_crossentropy\",\n",
        "                optimizer=tf.keras.optimizers.Adam(),\n",
        "                metrics=[\"accuracy\"])\n",
        "\n",
        "#10 Fit the model and save its history\n",
        "history_0 = model_0.fit(train_data_10_percent,\n",
        "                        epochs=5,\n",
        "                        steps_per_epoch=len(train_data_10_percent),\n",
        "                        validation_data=test_data,\n",
        "                        validation_steps=int(0.25*len(test_data)),\n",
        "                        callbacks = [create_tensorboard_callback(\"transfer_learning\",experiment_name=\"`0_percent_feature_extraction\")])"
      ],
      "execution_count": 53,
      "outputs": [
        {
          "output_type": "stream",
          "text": [
            "shape after passing inputs  (None, 7, 7, 1280)\n",
            "shape after global average pooling 2D  (None, 1280)\n",
            "Saving TensorBoard log files to: transfer_learning/`0_percent_feature_extraction/20210629-115854\n",
            "Epoch 1/5\n"
          ],
          "name": "stdout"
        },
        {
          "output_type": "stream",
          "text": [
            "/usr/local/lib/python3.7/dist-packages/tensorflow/python/keras/utils/generic_utils.py:497: CustomMaskWarning: Custom mask layers require a config and must override get_config. When loading, the custom mask layer must be passed to the custom_objects argument.\n",
            "  category=CustomMaskWarning)\n"
          ],
          "name": "stderr"
        },
        {
          "output_type": "stream",
          "text": [
            "24/24 [==============================] - 12s 289ms/step - loss: 1.9230 - accuracy: 0.4013 - val_loss: 1.3760 - val_accuracy: 0.7089\n",
            "Epoch 2/5\n",
            "24/24 [==============================] - 5s 206ms/step - loss: 1.1583 - accuracy: 0.7347 - val_loss: 0.9124 - val_accuracy: 0.8224\n",
            "Epoch 3/5\n",
            "24/24 [==============================] - 5s 205ms/step - loss: 0.8447 - accuracy: 0.8013 - val_loss: 0.7179 - val_accuracy: 0.8520\n",
            "Epoch 4/5\n",
            "24/24 [==============================] - 5s 199ms/step - loss: 0.6859 - accuracy: 0.8533 - val_loss: 0.6766 - val_accuracy: 0.8339\n",
            "Epoch 5/5\n",
            "24/24 [==============================] - 5s 204ms/step - loss: 0.5953 - accuracy: 0.8520 - val_loss: 0.6163 - val_accuracy: 0.8322\n"
          ],
          "name": "stdout"
        }
      ]
    },
    {
      "cell_type": "code",
      "metadata": {
        "colab": {
          "base_uri": "https://localhost:8080/"
        },
        "id": "g_GEaaMKBeLo",
        "outputId": "28aed9b6-9467-460e-8a35-03b8cb4e9f86"
      },
      "source": [
        "model_0.evaluate(test_data)"
      ],
      "execution_count": 54,
      "outputs": [
        {
          "output_type": "stream",
          "text": [
            "79/79 [==============================] - 9s 107ms/step - loss: 0.6072 - accuracy: 0.8432\n"
          ],
          "name": "stdout"
        },
        {
          "output_type": "execute_result",
          "data": {
            "text/plain": [
              "[0.6071814894676208, 0.8432000279426575]"
            ]
          },
          "metadata": {
            "tags": []
          },
          "execution_count": 54
        }
      ]
    },
    {
      "cell_type": "code",
      "metadata": {
        "id": "R8p3fs_sCCp7",
        "colab": {
          "base_uri": "https://localhost:8080/"
        },
        "outputId": "bc4ae6ad-a716-40e7-afab-256efcef02c3"
      },
      "source": [
        "for layer_number, layer in enumerate(base_model.layers):\n",
        "  print(layer_number,layer.name)"
      ],
      "execution_count": 55,
      "outputs": [
        {
          "output_type": "stream",
          "text": [
            "0 input_5\n",
            "1 rescaling_3\n",
            "2 normalization_3\n",
            "3 stem_conv_pad\n",
            "4 stem_conv\n",
            "5 stem_bn\n",
            "6 stem_activation\n",
            "7 block1a_dwconv\n",
            "8 block1a_bn\n",
            "9 block1a_activation\n",
            "10 block1a_se_squeeze\n",
            "11 block1a_se_reshape\n",
            "12 block1a_se_reduce\n",
            "13 block1a_se_expand\n",
            "14 block1a_se_excite\n",
            "15 block1a_project_conv\n",
            "16 block1a_project_bn\n",
            "17 block2a_expand_conv\n",
            "18 block2a_expand_bn\n",
            "19 block2a_expand_activation\n",
            "20 block2a_dwconv_pad\n",
            "21 block2a_dwconv\n",
            "22 block2a_bn\n",
            "23 block2a_activation\n",
            "24 block2a_se_squeeze\n",
            "25 block2a_se_reshape\n",
            "26 block2a_se_reduce\n",
            "27 block2a_se_expand\n",
            "28 block2a_se_excite\n",
            "29 block2a_project_conv\n",
            "30 block2a_project_bn\n",
            "31 block2b_expand_conv\n",
            "32 block2b_expand_bn\n",
            "33 block2b_expand_activation\n",
            "34 block2b_dwconv\n",
            "35 block2b_bn\n",
            "36 block2b_activation\n",
            "37 block2b_se_squeeze\n",
            "38 block2b_se_reshape\n",
            "39 block2b_se_reduce\n",
            "40 block2b_se_expand\n",
            "41 block2b_se_excite\n",
            "42 block2b_project_conv\n",
            "43 block2b_project_bn\n",
            "44 block2b_drop\n",
            "45 block2b_add\n",
            "46 block3a_expand_conv\n",
            "47 block3a_expand_bn\n",
            "48 block3a_expand_activation\n",
            "49 block3a_dwconv_pad\n",
            "50 block3a_dwconv\n",
            "51 block3a_bn\n",
            "52 block3a_activation\n",
            "53 block3a_se_squeeze\n",
            "54 block3a_se_reshape\n",
            "55 block3a_se_reduce\n",
            "56 block3a_se_expand\n",
            "57 block3a_se_excite\n",
            "58 block3a_project_conv\n",
            "59 block3a_project_bn\n",
            "60 block3b_expand_conv\n",
            "61 block3b_expand_bn\n",
            "62 block3b_expand_activation\n",
            "63 block3b_dwconv\n",
            "64 block3b_bn\n",
            "65 block3b_activation\n",
            "66 block3b_se_squeeze\n",
            "67 block3b_se_reshape\n",
            "68 block3b_se_reduce\n",
            "69 block3b_se_expand\n",
            "70 block3b_se_excite\n",
            "71 block3b_project_conv\n",
            "72 block3b_project_bn\n",
            "73 block3b_drop\n",
            "74 block3b_add\n",
            "75 block4a_expand_conv\n",
            "76 block4a_expand_bn\n",
            "77 block4a_expand_activation\n",
            "78 block4a_dwconv_pad\n",
            "79 block4a_dwconv\n",
            "80 block4a_bn\n",
            "81 block4a_activation\n",
            "82 block4a_se_squeeze\n",
            "83 block4a_se_reshape\n",
            "84 block4a_se_reduce\n",
            "85 block4a_se_expand\n",
            "86 block4a_se_excite\n",
            "87 block4a_project_conv\n",
            "88 block4a_project_bn\n",
            "89 block4b_expand_conv\n",
            "90 block4b_expand_bn\n",
            "91 block4b_expand_activation\n",
            "92 block4b_dwconv\n",
            "93 block4b_bn\n",
            "94 block4b_activation\n",
            "95 block4b_se_squeeze\n",
            "96 block4b_se_reshape\n",
            "97 block4b_se_reduce\n",
            "98 block4b_se_expand\n",
            "99 block4b_se_excite\n",
            "100 block4b_project_conv\n",
            "101 block4b_project_bn\n",
            "102 block4b_drop\n",
            "103 block4b_add\n",
            "104 block4c_expand_conv\n",
            "105 block4c_expand_bn\n",
            "106 block4c_expand_activation\n",
            "107 block4c_dwconv\n",
            "108 block4c_bn\n",
            "109 block4c_activation\n",
            "110 block4c_se_squeeze\n",
            "111 block4c_se_reshape\n",
            "112 block4c_se_reduce\n",
            "113 block4c_se_expand\n",
            "114 block4c_se_excite\n",
            "115 block4c_project_conv\n",
            "116 block4c_project_bn\n",
            "117 block4c_drop\n",
            "118 block4c_add\n",
            "119 block5a_expand_conv\n",
            "120 block5a_expand_bn\n",
            "121 block5a_expand_activation\n",
            "122 block5a_dwconv\n",
            "123 block5a_bn\n",
            "124 block5a_activation\n",
            "125 block5a_se_squeeze\n",
            "126 block5a_se_reshape\n",
            "127 block5a_se_reduce\n",
            "128 block5a_se_expand\n",
            "129 block5a_se_excite\n",
            "130 block5a_project_conv\n",
            "131 block5a_project_bn\n",
            "132 block5b_expand_conv\n",
            "133 block5b_expand_bn\n",
            "134 block5b_expand_activation\n",
            "135 block5b_dwconv\n",
            "136 block5b_bn\n",
            "137 block5b_activation\n",
            "138 block5b_se_squeeze\n",
            "139 block5b_se_reshape\n",
            "140 block5b_se_reduce\n",
            "141 block5b_se_expand\n",
            "142 block5b_se_excite\n",
            "143 block5b_project_conv\n",
            "144 block5b_project_bn\n",
            "145 block5b_drop\n",
            "146 block5b_add\n",
            "147 block5c_expand_conv\n",
            "148 block5c_expand_bn\n",
            "149 block5c_expand_activation\n",
            "150 block5c_dwconv\n",
            "151 block5c_bn\n",
            "152 block5c_activation\n",
            "153 block5c_se_squeeze\n",
            "154 block5c_se_reshape\n",
            "155 block5c_se_reduce\n",
            "156 block5c_se_expand\n",
            "157 block5c_se_excite\n",
            "158 block5c_project_conv\n",
            "159 block5c_project_bn\n",
            "160 block5c_drop\n",
            "161 block5c_add\n",
            "162 block6a_expand_conv\n",
            "163 block6a_expand_bn\n",
            "164 block6a_expand_activation\n",
            "165 block6a_dwconv_pad\n",
            "166 block6a_dwconv\n",
            "167 block6a_bn\n",
            "168 block6a_activation\n",
            "169 block6a_se_squeeze\n",
            "170 block6a_se_reshape\n",
            "171 block6a_se_reduce\n",
            "172 block6a_se_expand\n",
            "173 block6a_se_excite\n",
            "174 block6a_project_conv\n",
            "175 block6a_project_bn\n",
            "176 block6b_expand_conv\n",
            "177 block6b_expand_bn\n",
            "178 block6b_expand_activation\n",
            "179 block6b_dwconv\n",
            "180 block6b_bn\n",
            "181 block6b_activation\n",
            "182 block6b_se_squeeze\n",
            "183 block6b_se_reshape\n",
            "184 block6b_se_reduce\n",
            "185 block6b_se_expand\n",
            "186 block6b_se_excite\n",
            "187 block6b_project_conv\n",
            "188 block6b_project_bn\n",
            "189 block6b_drop\n",
            "190 block6b_add\n",
            "191 block6c_expand_conv\n",
            "192 block6c_expand_bn\n",
            "193 block6c_expand_activation\n",
            "194 block6c_dwconv\n",
            "195 block6c_bn\n",
            "196 block6c_activation\n",
            "197 block6c_se_squeeze\n",
            "198 block6c_se_reshape\n",
            "199 block6c_se_reduce\n",
            "200 block6c_se_expand\n",
            "201 block6c_se_excite\n",
            "202 block6c_project_conv\n",
            "203 block6c_project_bn\n",
            "204 block6c_drop\n",
            "205 block6c_add\n",
            "206 block6d_expand_conv\n",
            "207 block6d_expand_bn\n",
            "208 block6d_expand_activation\n",
            "209 block6d_dwconv\n",
            "210 block6d_bn\n",
            "211 block6d_activation\n",
            "212 block6d_se_squeeze\n",
            "213 block6d_se_reshape\n",
            "214 block6d_se_reduce\n",
            "215 block6d_se_expand\n",
            "216 block6d_se_excite\n",
            "217 block6d_project_conv\n",
            "218 block6d_project_bn\n",
            "219 block6d_drop\n",
            "220 block6d_add\n",
            "221 block7a_expand_conv\n",
            "222 block7a_expand_bn\n",
            "223 block7a_expand_activation\n",
            "224 block7a_dwconv\n",
            "225 block7a_bn\n",
            "226 block7a_activation\n",
            "227 block7a_se_squeeze\n",
            "228 block7a_se_reshape\n",
            "229 block7a_se_reduce\n",
            "230 block7a_se_expand\n",
            "231 block7a_se_excite\n",
            "232 block7a_project_conv\n",
            "233 block7a_project_bn\n",
            "234 top_conv\n",
            "235 top_bn\n",
            "236 top_activation\n"
          ],
          "name": "stdout"
        }
      ]
    },
    {
      "cell_type": "code",
      "metadata": {
        "colab": {
          "base_uri": "https://localhost:8080/",
          "height": 573
        },
        "id": "wJtEtZTnEleU",
        "outputId": "68cf3e04-0131-47f1-cad8-ac1a7b9e73a4"
      },
      "source": [
        "plot_loss_curves(history_0)"
      ],
      "execution_count": 56,
      "outputs": [
        {
          "output_type": "display_data",
          "data": {
            "image/png": "[encoded data removed]",
            "text/plain": [
              "<Figure size 432x288 with 1 Axes>"
            ]
          },
          "metadata": {
            "tags": [],
            "needs_background": "light"
          }
        },
        {
          "output_type": "display_data",
          "data": {
            "image/png": "[encoded data removed]",
            "text/plain": [
              "<Figure size 432x288 with 1 Axes>"
            ]
          },
          "metadata": {
            "tags": [],
            "needs_background": "light"
          }
        }
      ]
    },
    {
      "cell_type": "markdown",
      "metadata": {
        "id": "2Idvh74TFqTo"
      },
      "source": [
        "##Getting a feature vector from a trained model"
      ]
    },
    {
      "cell_type": "code",
      "metadata": {
        "colab": {
          "base_uri": "https://localhost:8080/"
        },
        "id": "NB3NvjzXGE9N",
        "outputId": "ae056be1-0a8c-40de-a29b-459ba4fbe040"
      },
      "source": [
        "input_shape = (1,4,4,3)\n",
        "tf.random.set_seed(42)\n",
        "input_tensor = tf.random.normal(input_shape)\n",
        "print(input_tensor)"
      ],
      "execution_count": 57,
      "outputs": [
        {
          "output_type": "stream",
          "text": [
            "tf.Tensor(\n",
            "[[[[ 0.3274685  -0.8426258   0.3194337 ]\n",
            "   [-1.4075519  -2.3880599  -1.0392479 ]\n",
            "   [-0.5573232   0.539707    1.6994323 ]\n",
            "   [ 0.28893656 -1.5066116  -0.2645474 ]]\n",
            "\n",
            "  [[-0.59722406 -1.9171132  -0.62044144]\n",
            "   [ 0.8504023  -0.40604794 -3.0258412 ]\n",
            "   [ 0.9058464   0.29855987 -0.22561555]\n",
            "   [-0.7616443  -1.8917141  -0.93847126]]\n",
            "\n",
            "  [[ 0.77852213 -0.47338897  0.97772694]\n",
            "   [ 0.24694404  0.20573747 -0.5256233 ]\n",
            "   [ 0.32410017  0.02545409 -0.10638497]\n",
            "   [-0.6369475   1.1603122   0.2507359 ]]\n",
            "\n",
            "  [[-0.41728503  0.4012578  -1.4145443 ]\n",
            "   [-0.5931857  -1.6617213   0.33567193]\n",
            "   [ 0.10815629  0.23479682 -0.56668764]\n",
            "   [-0.35819843  0.88698614  0.52744764]]]], shape=(1, 4, 4, 3), dtype=float32)\n"
          ],
          "name": "stdout"
        }
      ]
    },
    {
      "cell_type": "code",
      "metadata": {
        "colab": {
          "base_uri": "https://localhost:8080/"
        },
        "id": "2CQWF_GgG0Gv",
        "outputId": "96944a3a-806e-4bc1-f40c-58f788d47e94"
      },
      "source": [
        "global_average_pooled_tensor = tf.keras.layers.GlobalAveragePooling2D()(input_tensor)\n",
        "global_average_pooled_tensor"
      ],
      "execution_count": 58,
      "outputs": [
        {
          "output_type": "execute_result",
          "data": {
            "text/plain": [
              "<tf.Tensor: shape=(1, 3), dtype=float32, numpy=array([[-0.09368646, -0.45840448, -0.2885598 ]], dtype=float32)>"
            ]
          },
          "metadata": {
            "tags": []
          },
          "execution_count": 58
        }
      ]
    },
    {
      "cell_type": "code",
      "metadata": {
        "colab": {
          "base_uri": "https://localhost:8080/"
        },
        "id": "cAKG2wvHHPil",
        "outputId": "358914c2-5d07-4a25-c228-34af458b8d8d"
      },
      "source": [
        "# lets replicate the above result mathematically\n",
        "tf.reduce_mean(input_tensor,axis=[1,2])"
      ],
      "execution_count": 59,
      "outputs": [
        {
          "output_type": "execute_result",
          "data": {
            "text/plain": [
              "<tf.Tensor: shape=(1, 3), dtype=float32, numpy=array([[-0.09368646, -0.45840448, -0.2885598 ]], dtype=float32)>"
            ]
          },
          "metadata": {
            "tags": []
          },
          "execution_count": 59
        }
      ]
    },
    {
      "cell_type": "markdown",
      "metadata": {
        "id": "j5HwWetmJMtV"
      },
      "source": [
        "##Running a series of transfer learning experiments\n",
        "\n",
        "running the experiment by just using 1% of the training data\n",
        "1. `model_1` taking 1%of data along with data augmentation\n",
        "2. `model_2` 10% of training data along with data augmentation\n",
        "3. `model_3` use fine-tuning on 10% of training data with data augmentation\n",
        "3. `model_3` fine-tuning on 100% training data with data augmentation"
      ]
    },
    {
      "cell_type": "code",
      "metadata": {
        "colab": {
          "base_uri": "https://localhost:8080/"
        },
        "id": "xjfPOMY0NJdb",
        "outputId": "896e4753-adfd-46f3-caeb-285a6e1ac1db"
      },
      "source": [
        "#download and unzip data\n",
        "!wget https://storage.googleapis.com/ztm_tf_course/food_vision/10_food_classes_1_percent.zip\n",
        "unzip_data(\"10_food_classes_1_percent.zip\")\n",
        "\n",
        "train_dir_1_percent = \"10_food_classes_1_percent/train/\"\n",
        "test_dir = \"10_food_classes_1_percent/test/\""
      ],
      "execution_count": 60,
      "outputs": [
        {
          "output_type": "stream",
          "text": [
            "--2021-06-29 11:59:52--  https://storage.googleapis.com/ztm_tf_course/food_vision/10_food_classes_1_percent.zip\n",
            "Resolving storage.googleapis.com (storage.googleapis.com)... 74.125.195.128, 74.125.142.128, 74.125.20.128, ...\n",
            "Connecting to storage.googleapis.com (storage.googleapis.com)|74.125.195.128|:443... connected.\n",
            "HTTP request sent, awaiting response... 200 OK\n",
            "Length: 133612354 (127M) [application/zip]\n",
            "Saving to: ‘10_food_classes_1_percent.zip.1’\n",
            "\n",
            "10_food_classes_1_p 100%[===================>] 127.42M   227MB/s    in 0.6s    \n",
            "\n",
            "2021-06-29 11:59:52 (227 MB/s) - ‘10_food_classes_1_percent.zip.1’ saved [133612354/133612354]\n",
            "\n"
          ],
          "name": "stdout"
        }
      ]
    },
    {
      "cell_type": "code",
      "metadata": {
        "colab": {
          "base_uri": "https://localhost:8080/"
        },
        "id": "JMNRzsRaNfLu",
        "outputId": "95fbdbd4-6bff-4598-8505-bd3ec07c037a"
      },
      "source": [
        "#setup data loaders\n",
        "\n",
        "img_size=(224,224)\n",
        "train_data_1_percent=tf.keras.preprocessing.image_dataset_from_directory(train_dir_1_percent,\n",
        "                                                                         label_mode=\"categorical\",\n",
        "                                                                         image_size=img_size,\n",
        "                                                                         batch_size=32)\n",
        "test_data = tf.keras.preprocessing.image_dataset_from_directory(test_dir,\n",
        "                                                                label_mode=\"categorical\",\n",
        "                                                                image_size=img_size,\n",
        "                                                                batch_size=32)"
      ],
      "execution_count": 61,
      "outputs": [
        {
          "output_type": "stream",
          "text": [
            "Found 70 files belonging to 10 classes.\n",
            "Found 2500 files belonging to 10 classes.\n"
          ],
          "name": "stdout"
        }
      ]
    },
    {
      "cell_type": "markdown",
      "metadata": {
        "id": "iVkpF-dAOSsw"
      },
      "source": [
        "##adding data augmentation right into the model\n",
        "\n",
        "* `tf.keras.layers.experimental.preprocessing()`"
      ]
    },
    {
      "cell_type": "code",
      "metadata": {
        "id": "C8CqKd0RPEb5"
      },
      "source": [
        "import tensorflow as tf\n",
        "from tensorflow.keras import layers\n",
        "from tensorflow.keras.layers.experimental import preprocessing\n",
        "\n",
        "data_augmentation = tf.keras.Sequential([\n",
        "  preprocessing.RandomFlip(\"horizontal\"),\n",
        "  preprocessing.RandomRotation(0.2),\n",
        "  preprocessing.RandomZoom(0.2),\n",
        "  preprocessing.RandomHeight(0.2),\n",
        "  preprocessing.RandomWidth(0.2),\n",
        "],name=\"data_augmentation\")"
      ],
      "execution_count": 62,
      "outputs": []
    },
    {
      "cell_type": "markdown",
      "metadata": {
        "id": "-cFnmth_daTJ"
      },
      "source": [
        "###Visual our data augmentation layer"
      ]
    },
    {
      "cell_type": "code",
      "metadata": {
        "colab": {
          "base_uri": "https://localhost:8080/",
          "height": 0
        },
        "id": "fzQDEDvdexwV",
        "outputId": "da448d8b-c98e-419e-a96f-d4faa1938ec7"
      },
      "source": [
        "#view a random image\n",
        "import matplotlib.pyplot as plt\n",
        "import matplotlib.image as mpimg\n",
        "import os\n",
        "import random\n",
        "\n",
        "target_class = random.choice(train_data_1_percent.class_names)\n",
        "target_dir = \"10_food_classes_1_percent/train/\"+target_class\n",
        "random_image = random.choice(os.listdir(target_dir))\n",
        "random_image_path = target_dir+\"/\"+random_image\n",
        "img =mpimg.imread(random_image_path)\n",
        "plt.title(\"Random Image \"+target_class)\n",
        "plt.axis(False)\n",
        "plt.imshow(img)"
      ],
      "execution_count": 63,
      "outputs": [
        {
          "output_type": "execute_result",
          "data": {
            "text/plain": [
              "<matplotlib.image.AxesImage at 0x7feb709081d0>"
            ]
          },
          "metadata": {
            "tags": []
          },
          "execution_count": 63
        },
        {
          "output_type": "display_data",
          "data": {
            "image/png": "[encoded data removed]",
            "text/plain": [
              "<Figure size 432x288 with 1 Axes>"
            ]
          },
          "metadata": {
            "tags": [],
            "needs_background": "light"
          }
        }
      ]
    },
    {
      "cell_type": "code",
      "metadata": {
        "colab": {
          "base_uri": "https://localhost:8080/",
          "height": 0
        },
        "id": "PfEpDFtxfLrP",
        "outputId": "6f38b6c5-a5d0-4489-c7c4-bef20606870e"
      },
      "source": [
        "augmented_img = data_augmentation(tf.expand_dims(img,axis=0))\n",
        "plt.figure()\n",
        "plt.title(\"Augmented Random Image\")\n",
        "plt.axis(False)\n",
        "plt.imshow(tf.squeeze(augmented_img)/255.)"
      ],
      "execution_count": 64,
      "outputs": [
        {
          "output_type": "execute_result",
          "data": {
            "text/plain": [
              "<matplotlib.image.AxesImage at 0x7feb70dee910>"
            ]
          },
          "metadata": {
            "tags": []
          },
          "execution_count": 64
        },
        {
          "output_type": "display_data",
          "data": {
            "image/png": "[encoded data removed]",
            "text/plain": [
              "<Figure size 432x288 with 1 Axes>"
            ]
          },
          "metadata": {
            "tags": [],
            "needs_background": "light"
          }
        }
      ]
    },
    {
      "cell_type": "markdown",
      "metadata": {
        "id": "u61iCXrnhGKt"
      },
      "source": [
        "## Model_1: feature extraction transfer learning"
      ]
    },
    {
      "cell_type": "code",
      "metadata": {
        "colab": {
          "base_uri": "https://localhost:8080/"
        },
        "id": "2UfS8wxPnTQ-",
        "outputId": "fffbc8ba-8d0d-4200-a34f-fb917781efd0"
      },
      "source": [
        "from tensorflow.keras import layers\n",
        "from tensorflow import keras\n",
        "input_shape = (224, 224, 3)\n",
        "base_model = tf.keras.applications.EfficientNetB0(include_top=False)\n",
        "base_model.trainable = False\n",
        "\n",
        "# Create input layer\n",
        "inputs = layers.Input(shape=input_shape, name=\"input_layer\")\n",
        "\n",
        "# Add in data augmentation Sequential model as a layer\n",
        "x = data_augmentation(inputs)\n",
        "\n",
        "# Give base_model inputs (after augmentation) and don't train it\n",
        "x = base_model(x, training=False)\n",
        "\n",
        "# Pool output features of base model\n",
        "x = layers.GlobalAveragePooling2D(name=\"global_average_pooling_layer\")(x)\n",
        "\n",
        "# Put a dense layer on as the output\n",
        "outputs = layers.Dense(10, activation=\"softmax\", name=\"output_layer\")(x)\n",
        "\n",
        "# Make a model with inputs and outputs\n",
        "model_1 = keras.Model(inputs, outputs)\n",
        "\n",
        "# Compile the model\n",
        "model_1.compile(loss=\"categorical_crossentropy\",\n",
        "              optimizer=tf.keras.optimizers.Adam(),\n",
        "              metrics=[\"accuracy\"])\n",
        "\n",
        "# Fit the model\n",
        "history_1_percent = model_1.fit(train_data_1_percent,\n",
        "                    epochs=5,\n",
        "                    steps_per_epoch=len(train_data_1_percent),\n",
        "                    validation_data=test_data,\n",
        "                    validation_steps=int(0.25* len(test_data)), # validate for less steps\n",
        "                    # Track model training logs\n",
        "                    callbacks=[create_tensorboard_callback(\"transfer_learning\", \"1_percent_data_aug\")])"
      ],
      "execution_count": 65,
      "outputs": [
        {
          "output_type": "stream",
          "text": [
            "Saving TensorBoard log files to: transfer_learning/1_percent_data_aug/20210629-115957\n",
            "Epoch 1/5\n"
          ],
          "name": "stdout"
        },
        {
          "output_type": "stream",
          "text": [
            "/usr/local/lib/python3.7/dist-packages/tensorflow/python/keras/utils/generic_utils.py:497: CustomMaskWarning: Custom mask layers require a config and must override get_config. When loading, the custom mask layer must be passed to the custom_objects argument.\n",
            "  category=CustomMaskWarning)\n"
          ],
          "name": "stderr"
        },
        {
          "output_type": "stream",
          "text": [
            "3/3 [==============================] - 11s 3s/step - loss: 2.4534 - accuracy: 0.0429 - val_loss: 2.2585 - val_accuracy: 0.1365\n",
            "Epoch 2/5\n",
            "3/3 [==============================] - 3s 1s/step - loss: 2.1955 - accuracy: 0.1000 - val_loss: 2.1253 - val_accuracy: 0.2319\n",
            "Epoch 3/5\n",
            "3/3 [==============================] - 3s 1s/step - loss: 1.9745 - accuracy: 0.3429 - val_loss: 2.0291 - val_accuracy: 0.3026\n",
            "Epoch 4/5\n",
            "3/3 [==============================] - 4s 2s/step - loss: 1.8153 - accuracy: 0.4714 - val_loss: 1.9300 - val_accuracy: 0.3783\n",
            "Epoch 5/5\n",
            "3/3 [==============================] - 3s 2s/step - loss: 1.6904 - accuracy: 0.4714 - val_loss: 1.8309 - val_accuracy: 0.4293\n"
          ],
          "name": "stdout"
        }
      ]
    },
    {
      "cell_type": "code",
      "metadata": {
        "colab": {
          "base_uri": "https://localhost:8080/"
        },
        "id": "A70ul8uno15r",
        "outputId": "7e09332c-ae79-4f59-ee67-7ecabbec84d3"
      },
      "source": [
        "model_1.evaluate(test_data)"
      ],
      "execution_count": 66,
      "outputs": [
        {
          "output_type": "stream",
          "text": [
            "79/79 [==============================] - 9s 107ms/step - loss: 1.8301 - accuracy: 0.4484\n"
          ],
          "name": "stdout"
        },
        {
          "output_type": "execute_result",
          "data": {
            "text/plain": [
              "[1.8301304578781128, 0.44839999079704285]"
            ]
          },
          "metadata": {
            "tags": []
          },
          "execution_count": 66
        }
      ]
    },
    {
      "cell_type": "code",
      "metadata": {
        "colab": {
          "base_uri": "https://localhost:8080/",
          "height": 573
        },
        "id": "E0QEuwnxrFCr",
        "outputId": "71003b96-3321-4e2b-910f-0fe81d3613e9"
      },
      "source": [
        "plot_loss_curves(history_1_percent)"
      ],
      "execution_count": 67,
      "outputs": [
        {
          "output_type": "display_data",
          "data": {
            "image/png": "[encoded data removed]",
            "text/plain": [
              "<Figure size 432x288 with 1 Axes>"
            ]
          },
          "metadata": {
            "tags": [],
            "needs_background": "light"
          }
        },
        {
          "output_type": "display_data",
          "data": {
            "image/png": "[encoded data removed]",
            "text/plain": [
              "<Figure size 432x288 with 1 Axes>"
            ]
          },
          "metadata": {
            "tags": [],
            "needs_background": "light"
          }
        }
      ]
    },
    {
      "cell_type": "markdown",
      "metadata": {
        "id": "I5YweTHcrQtf"
      },
      "source": [
        "##Model 2: same model as Model_1 but training data sa 10%"
      ]
    },
    {
      "cell_type": "code",
      "metadata": {
        "id": "DmFzikmar3sb"
      },
      "source": [
        "train_dir_10_percent = \"10_food_classes_10_percent/train/\"\n",
        "test_dir = \"10_food_classes_10_percent/test/\""
      ],
      "execution_count": 68,
      "outputs": []
    },
    {
      "cell_type": "code",
      "metadata": {
        "colab": {
          "base_uri": "https://localhost:8080/"
        },
        "id": "GkOxYW8csKUA",
        "outputId": "c128d2a6-36db-41e4-8379-cc27af8786cf"
      },
      "source": [
        "img_size=(224,224)\n",
        "train_data_10_percent = tf.keras.preprocessing.image_dataset_from_directory(train_dir_10_percent,\n",
        "                                                                            label_mode=\"categorical\",\n",
        "                                                                            image_size=img_size)\n",
        "test_data = tf.keras.preprocessing.image_dataset_from_directory(test_dir,\n",
        "                                                                label_mode=\"categorical\",\n",
        "                                                                image_size=img_size)"
      ],
      "execution_count": 69,
      "outputs": [
        {
          "output_type": "stream",
          "text": [
            "Found 750 files belonging to 10 classes.\n",
            "Found 2500 files belonging to 10 classes.\n"
          ],
          "name": "stdout"
        }
      ]
    },
    {
      "cell_type": "code",
      "metadata": {
        "id": "5r2caiqisqqZ"
      },
      "source": [
        "# from tensorflow.keras.layers import preprocessing\n",
        "data_augmentation = tf.keras.Sequential([\n",
        "  preprocessing.RandomFlip(\"horizontal\"),\n",
        "  preprocessing.RandomZoom(0.2),\n",
        "  preprocessing.RandomWidth(0.2),\n",
        "  preprocessing.RandomRotation(0.2),\n",
        "  preprocessing.RandomHeight(0.2)\n",
        "],name=\"data_augmentation\")"
      ],
      "execution_count": 70,
      "outputs": []
    },
    {
      "cell_type": "code",
      "metadata": {
        "id": "04I5lZ4LtPAa"
      },
      "source": [
        "input_shape=(224,224,3)\n",
        "\n",
        "base_model = tf.keras.applications.EfficientNetB0(include_top=False)\n",
        "base_model.trainable=False\n",
        "inputs = layers.Input(shape=input_shape)\n",
        "x=data_augmentation(inputs)\n",
        "x=base_model(x,training=False)\n",
        "x=tf.keras.layers.GlobalAveragePooling2D()(x)\n",
        "outputs = tf.keras.layers.Dense(10,activation=\"softmax\")(x)\n",
        "model_2 = tf.keras.Model(inputs,outputs)\n",
        "\n",
        "model_2.compile(loss=\"categorical_crossentropy\",\n",
        "                optimizer=tf.keras.optimizers.Adam(),\n",
        "                metrics=[\"accuracy\"])\n"
      ],
      "execution_count": 71,
      "outputs": []
    },
    {
      "cell_type": "code",
      "metadata": {
        "colab": {
          "base_uri": "https://localhost:8080/"
        },
        "id": "uTRxQ54Du5nd",
        "outputId": "7ff1c902-aaa9-4cc5-dd76-81faf4dfa991"
      },
      "source": [
        "history_2 = model_2.fit(train_data_10_percent,\n",
        "                        epochs=5,\n",
        "                        steps_per_epoch=len(train_data_10_percent),\n",
        "                        validation_data=test_data,\n",
        "                        validation_steps=int(0.25*len(test_data)))"
      ],
      "execution_count": 72,
      "outputs": [
        {
          "output_type": "stream",
          "text": [
            "Epoch 1/5\n",
            "24/24 [==============================] - 15s 400ms/step - loss: 1.9503 - accuracy: 0.3653 - val_loss: 1.4878 - val_accuracy: 0.6234\n",
            "Epoch 2/5\n",
            "24/24 [==============================] - 10s 387ms/step - loss: 1.3347 - accuracy: 0.6747 - val_loss: 1.0673 - val_accuracy: 0.7368\n",
            "Epoch 3/5\n",
            "24/24 [==============================] - 8s 316ms/step - loss: 1.0269 - accuracy: 0.7320 - val_loss: 0.8628 - val_accuracy: 0.7714\n",
            "Epoch 4/5\n",
            "24/24 [==============================] - 9s 349ms/step - loss: 0.8479 - accuracy: 0.7987 - val_loss: 0.7477 - val_accuracy: 0.7961\n",
            "Epoch 5/5\n",
            "24/24 [==============================] - 8s 329ms/step - loss: 0.7847 - accuracy: 0.8067 - val_loss: 0.6688 - val_accuracy: 0.7993\n"
          ],
          "name": "stdout"
        }
      ]
    },
    {
      "cell_type": "markdown",
      "metadata": {
        "id": "W8cJ6YPIvSXN"
      },
      "source": [
        "###creating a modelcheckpoint callbacks"
      ]
    },
    {
      "cell_type": "code",
      "metadata": {
        "id": "Oq25LcS4sqsN"
      },
      "source": [
        "#checkpoint path\n",
        "checkpoint_path = \"ten_percent_model_checkpoints_weights/checkpoint.ckpt\"\n",
        "\n",
        "#create a model check point call back that saves the model's weights only\n",
        "checkpoint_callback = tf.keras.callbacks.ModelCheckpoint(checkpoint_path,\n",
        "                                                         save_weights_only=True,\n",
        "                                                         save_best_only=False,\n",
        "                                                         save_freq=\"epoch\",\n",
        "                                                         verbose=1)"
      ],
      "execution_count": 73,
      "outputs": []
    },
    {
      "cell_type": "code",
      "metadata": {
        "id": "TL9iMhDlt2br"
      },
      "source": [
        "initial_epochs=5\n"
      ],
      "execution_count": 74,
      "outputs": []
    },
    {
      "cell_type": "code",
      "metadata": {
        "colab": {
          "base_uri": "https://localhost:8080/"
        },
        "id": "0itKMdMQuLEg",
        "outputId": "82987181-cff2-480a-8732-25f1e6217001"
      },
      "source": [
        "history_2 = model_2.fit(train_data_10_percent,\n",
        "                        epochs=5,\n",
        "                        steps_per_epoch=len(train_data_10_percent),\n",
        "                        validation_data=test_data,\n",
        "                        validation_steps=int(0.25*len(test_data)),\n",
        "                        callbacks=[create_tensorboard_callback(\"transfer learning\",\n",
        "                                                               \"10_percent_data_aug\"),\n",
        "                                   checkpoint_callback])"
      ],
      "execution_count": 75,
      "outputs": [
        {
          "output_type": "stream",
          "text": [
            "Saving TensorBoard log files to: transfer learning/10_percent_data_aug/20210629-120128\n",
            "Epoch 1/5\n"
          ],
          "name": "stdout"
        },
        {
          "output_type": "stream",
          "text": [
            "/usr/local/lib/python3.7/dist-packages/tensorflow/python/keras/utils/generic_utils.py:497: CustomMaskWarning: Custom mask layers require a config and must override get_config. When loading, the custom mask layer must be passed to the custom_objects argument.\n",
            "  category=CustomMaskWarning)\n"
          ],
          "name": "stderr"
        },
        {
          "output_type": "stream",
          "text": [
            "24/24 [==============================] - 10s 398ms/step - loss: 0.7145 - accuracy: 0.8093 - val_loss: 0.6249 - val_accuracy: 0.8174\n",
            "\n",
            "Epoch 00001: saving model to ten_percent_model_checkpoints_weights/checkpoint.ckpt\n",
            "Epoch 2/5\n",
            "24/24 [==============================] - 8s 332ms/step - loss: 0.6609 - accuracy: 0.8320 - val_loss: 0.6166 - val_accuracy: 0.8109\n",
            "\n",
            "Epoch 00002: saving model to ten_percent_model_checkpoints_weights/checkpoint.ckpt\n",
            "Epoch 3/5\n",
            "24/24 [==============================] - 8s 324ms/step - loss: 0.6422 - accuracy: 0.8200 - val_loss: 0.6085 - val_accuracy: 0.8076\n",
            "\n",
            "Epoch 00003: saving model to ten_percent_model_checkpoints_weights/checkpoint.ckpt\n",
            "Epoch 4/5\n",
            "24/24 [==============================] - 8s 308ms/step - loss: 0.5676 - accuracy: 0.8520 - val_loss: 0.5590 - val_accuracy: 0.8322\n",
            "\n",
            "Epoch 00004: saving model to ten_percent_model_checkpoints_weights/checkpoint.ckpt\n",
            "Epoch 5/5\n",
            "24/24 [==============================] - 8s 310ms/step - loss: 0.5567 - accuracy: 0.8560 - val_loss: 0.5617 - val_accuracy: 0.8257\n",
            "\n",
            "Epoch 00005: saving model to ten_percent_model_checkpoints_weights/checkpoint.ckpt\n"
          ],
          "name": "stdout"
        }
      ]
    },
    {
      "cell_type": "code",
      "metadata": {
        "colab": {
          "base_uri": "https://localhost:8080/"
        },
        "id": "0XHWSpDeuMFv",
        "outputId": "17770442-a2b2-463f-da15-a2cd6b7a586d"
      },
      "source": [
        "model_0.evaluate(test_data)"
      ],
      "execution_count": 76,
      "outputs": [
        {
          "output_type": "stream",
          "text": [
            "79/79 [==============================] - 9s 105ms/step - loss: 0.6072 - accuracy: 0.8432\n"
          ],
          "name": "stdout"
        },
        {
          "output_type": "execute_result",
          "data": {
            "text/plain": [
              "[0.6071814298629761, 0.8432000279426575]"
            ]
          },
          "metadata": {
            "tags": []
          },
          "execution_count": 76
        }
      ]
    },
    {
      "cell_type": "code",
      "metadata": {
        "colab": {
          "base_uri": "https://localhost:8080/"
        },
        "id": "Mj6YXZv6vHsm",
        "outputId": "b796d58b-dfff-4ca1-c810-e8e230cd3059"
      },
      "source": [
        "model_1.evaluate(test_data)"
      ],
      "execution_count": 77,
      "outputs": [
        {
          "output_type": "stream",
          "text": [
            "79/79 [==============================] - 9s 107ms/step - loss: 1.8301 - accuracy: 0.4484\n"
          ],
          "name": "stdout"
        },
        {
          "output_type": "execute_result",
          "data": {
            "text/plain": [
              "[1.830130696296692, 0.44839999079704285]"
            ]
          },
          "metadata": {
            "tags": []
          },
          "execution_count": 77
        }
      ]
    },
    {
      "cell_type": "code",
      "metadata": {
        "colab": {
          "base_uri": "https://localhost:8080/"
        },
        "id": "2liI1xxLvJ5Y",
        "outputId": "c01372e9-a7e8-4509-a138-37f92455d378"
      },
      "source": [
        "model_2.evaluate(test_data)"
      ],
      "execution_count": 78,
      "outputs": [
        {
          "output_type": "stream",
          "text": [
            "79/79 [==============================] - 9s 106ms/step - loss: 0.5505 - accuracy: 0.8408\n"
          ],
          "name": "stdout"
        },
        {
          "output_type": "execute_result",
          "data": {
            "text/plain": [
              "[0.5505015850067139, 0.8407999873161316]"
            ]
          },
          "metadata": {
            "tags": []
          },
          "execution_count": 78
        }
      ]
    },
    {
      "cell_type": "code",
      "metadata": {
        "id": "rCzms5x8vNOf",
        "colab": {
          "base_uri": "https://localhost:8080/",
          "height": 610
        },
        "outputId": "874a105b-054f-4a34-db84-07b976927d5c"
      },
      "source": [
        "results_10_percent_data_aug = model_2.evaluate(test_data)\n",
        "plot_loss_curves(history_2)"
      ],
      "execution_count": 79,
      "outputs": [
        {
          "output_type": "stream",
          "text": [
            "79/79 [==============================] - 9s 105ms/step - loss: 0.5505 - accuracy: 0.8408\n"
          ],
          "name": "stdout"
        },
        {
          "output_type": "display_data",
          "data": {
            "image/png": "[encoded data removed]",
            "text/plain": [
              "<Figure size 432x288 with 1 Axes>"
            ]
          },
          "metadata": {
            "tags": [],
            "needs_background": "light"
          }
        },
        {
          "output_type": "display_data",
          "data": {
            "image/png": "[encoded data removed]",
            "text/plain": [
              "<Figure size 432x288 with 1 Axes>"
            ]
          },
          "metadata": {
            "tags": [],
            "needs_background": "light"
          }
        }
      ]
    },
    {
      "cell_type": "markdown",
      "metadata": {
        "id": "pcgM5ln3l4bY"
      },
      "source": [
        "###Loading in checkpointed weights"
      ]
    },
    {
      "cell_type": "code",
      "metadata": {
        "colab": {
          "base_uri": "https://localhost:8080/"
        },
        "id": "jbhhaJhVmHnR",
        "outputId": "80619b46-a0e4-4403-9aed-1a20adf4291e"
      },
      "source": [
        "#load in saved model\n",
        "model_2.load_weights(checkpoint_path)\n",
        "\n",
        "#evaluate model 2 with loades data"
      ],
      "execution_count": 80,
      "outputs": [
        {
          "output_type": "execute_result",
          "data": {
            "text/plain": [
              "<tensorflow.python.training.tracking.util.CheckpointLoadStatus at 0x7feb75cfd110>"
            ]
          },
          "metadata": {
            "tags": []
          },
          "execution_count": 80
        }
      ]
    },
    {
      "cell_type": "code",
      "metadata": {
        "colab": {
          "base_uri": "https://localhost:8080/"
        },
        "id": "rbROgWtLm2eC",
        "outputId": "6255649a-e274-42b3-ec1a-e6e5dc018701"
      },
      "source": [
        "loaded_weights_model_result = model_2.evaluate(test_data)"
      ],
      "execution_count": 81,
      "outputs": [
        {
          "output_type": "stream",
          "text": [
            "79/79 [==============================] - 9s 106ms/step - loss: 0.5505 - accuracy: 0.8408\n"
          ],
          "name": "stdout"
        }
      ]
    },
    {
      "cell_type": "code",
      "metadata": {
        "colab": {
          "base_uri": "https://localhost:8080/"
        },
        "id": "_6ZndQovm_B1",
        "outputId": "6bf2f669-0fa4-4b30-fcd0-2f9a1dd05dd5"
      },
      "source": [
        "results_10_percent_data_aug,loaded_weights_model_result"
      ],
      "execution_count": 82,
      "outputs": [
        {
          "output_type": "execute_result",
          "data": {
            "text/plain": [
              "([0.5505015850067139, 0.8407999873161316],\n",
              " [0.5505015254020691, 0.8407999873161316])"
            ]
          },
          "metadata": {
            "tags": []
          },
          "execution_count": 82
        }
      ]
    },
    {
      "cell_type": "code",
      "metadata": {
        "colab": {
          "base_uri": "https://localhost:8080/"
        },
        "id": "miPwfVfenD5c",
        "outputId": "4a122fd8-9758-4d1c-bcde-b97c6901e926"
      },
      "source": [
        "#check to see if loaded model results are very close to our previous non-loaded model\n",
        "import numpy as np\n",
        "np.isclose(np.array(results_10_percent_data_aug),np.array(loaded_weights_model_result))"
      ],
      "execution_count": 83,
      "outputs": [
        {
          "output_type": "execute_result",
          "data": {
            "text/plain": [
              "array([ True,  True])"
            ]
          },
          "metadata": {
            "tags": []
          },
          "execution_count": 83
        }
      ]
    },
    {
      "cell_type": "markdown",
      "metadata": {
        "id": "aZNRgCMqnb5b"
      },
      "source": [
        "##Model_3: Fine tuning on 10% of our training data"
      ]
    },
    {
      "cell_type": "code",
      "metadata": {
        "colab": {
          "base_uri": "https://localhost:8080/"
        },
        "id": "MeqH9CnzoXKA",
        "outputId": "3d393ecb-f502-4a7f-cb67-39de2b57d279"
      },
      "source": [
        "model_2.layers\n"
      ],
      "execution_count": 84,
      "outputs": [
        {
          "output_type": "execute_result",
          "data": {
            "text/plain": [
              "[<tensorflow.python.keras.engine.input_layer.InputLayer at 0x7feb755a4f90>,\n",
              " <tensorflow.python.keras.engine.sequential.Sequential at 0x7feb755a46d0>,\n",
              " <tensorflow.python.keras.engine.functional.Functional at 0x7feb71d00950>,\n",
              " <tensorflow.python.keras.layers.pooling.GlobalAveragePooling2D at 0x7feb71cd6990>,\n",
              " <tensorflow.python.keras.layers.core.Dense at 0x7feb71cd75d0>]"
            ]
          },
          "metadata": {
            "tags": []
          },
          "execution_count": 84
        }
      ]
    },
    {
      "cell_type": "code",
      "metadata": {
        "colab": {
          "base_uri": "https://localhost:8080/"
        },
        "id": "YZtkzOGooktf",
        "outputId": "75491166-1a1c-4054-8adf-870f87ce93cd"
      },
      "source": [
        "for layer in model_2.layers:\n",
        "  print(layer,layer.trainable)"
      ],
      "execution_count": 85,
      "outputs": [
        {
          "output_type": "stream",
          "text": [
            "<tensorflow.python.keras.engine.input_layer.InputLayer object at 0x7feb755a4f90> True\n",
            "<tensorflow.python.keras.engine.sequential.Sequential object at 0x7feb755a46d0> True\n",
            "<tensorflow.python.keras.engine.functional.Functional object at 0x7feb71d00950> False\n",
            "<tensorflow.python.keras.layers.pooling.GlobalAveragePooling2D object at 0x7feb71cd6990> True\n",
            "<tensorflow.python.keras.layers.core.Dense object at 0x7feb71cd75d0> True\n"
          ],
          "name": "stdout"
        }
      ]
    },
    {
      "cell_type": "code",
      "metadata": {
        "colab": {
          "base_uri": "https://localhost:8080/"
        },
        "id": "Qh9_qrbtpyfZ",
        "outputId": "bb155aa9-9968-43b6-c62d-1179854053a4"
      },
      "source": [
        "for layer in model_2.layers[2].layers:\n",
        "  print(layer.name,layer.trainable)"
      ],
      "execution_count": 88,
      "outputs": [
        {
          "output_type": "stream",
          "text": [
            "input_7 False\n",
            "rescaling_5 False\n",
            "normalization_5 False\n",
            "stem_conv_pad False\n",
            "stem_conv False\n",
            "stem_bn False\n",
            "stem_activation False\n",
            "block1a_dwconv False\n",
            "block1a_bn False\n",
            "block1a_activation False\n",
            "block1a_se_squeeze False\n",
            "block1a_se_reshape False\n",
            "block1a_se_reduce False\n",
            "block1a_se_expand False\n",
            "block1a_se_excite False\n",
            "block1a_project_conv False\n",
            "block1a_project_bn False\n",
            "block2a_expand_conv False\n",
            "block2a_expand_bn False\n",
            "block2a_expand_activation False\n",
            "block2a_dwconv_pad False\n",
            "block2a_dwconv False\n",
            "block2a_bn False\n",
            "block2a_activation False\n",
            "block2a_se_squeeze False\n",
            "block2a_se_reshape False\n",
            "block2a_se_reduce False\n",
            "block2a_se_expand False\n",
            "block2a_se_excite False\n",
            "block2a_project_conv False\n",
            "block2a_project_bn False\n",
            "block2b_expand_conv False\n",
            "block2b_expand_bn False\n",
            "block2b_expand_activation False\n",
            "block2b_dwconv False\n",
            "block2b_bn False\n",
            "block2b_activation False\n",
            "block2b_se_squeeze False\n",
            "block2b_se_reshape False\n",
            "block2b_se_reduce False\n",
            "block2b_se_expand False\n",
            "block2b_se_excite False\n",
            "block2b_project_conv False\n",
            "block2b_project_bn False\n",
            "block2b_drop False\n",
            "block2b_add False\n",
            "block3a_expand_conv False\n",
            "block3a_expand_bn False\n",
            "block3a_expand_activation False\n",
            "block3a_dwconv_pad False\n",
            "block3a_dwconv False\n",
            "block3a_bn False\n",
            "block3a_activation False\n",
            "block3a_se_squeeze False\n",
            "block3a_se_reshape False\n",
            "block3a_se_reduce False\n",
            "block3a_se_expand False\n",
            "block3a_se_excite False\n",
            "block3a_project_conv False\n",
            "block3a_project_bn False\n",
            "block3b_expand_conv False\n",
            "block3b_expand_bn False\n",
            "block3b_expand_activation False\n",
            "block3b_dwconv False\n",
            "block3b_bn False\n",
            "block3b_activation False\n",
            "block3b_se_squeeze False\n",
            "block3b_se_reshape False\n",
            "block3b_se_reduce False\n",
            "block3b_se_expand False\n",
            "block3b_se_excite False\n",
            "block3b_project_conv False\n",
            "block3b_project_bn False\n",
            "block3b_drop False\n",
            "block3b_add False\n",
            "block4a_expand_conv False\n",
            "block4a_expand_bn False\n",
            "block4a_expand_activation False\n",
            "block4a_dwconv_pad False\n",
            "block4a_dwconv False\n",
            "block4a_bn False\n",
            "block4a_activation False\n",
            "block4a_se_squeeze False\n",
            "block4a_se_reshape False\n",
            "block4a_se_reduce False\n",
            "block4a_se_expand False\n",
            "block4a_se_excite False\n",
            "block4a_project_conv False\n",
            "block4a_project_bn False\n",
            "block4b_expand_conv False\n",
            "block4b_expand_bn False\n",
            "block4b_expand_activation False\n",
            "block4b_dwconv False\n",
            "block4b_bn False\n",
            "block4b_activation False\n",
            "block4b_se_squeeze False\n",
            "block4b_se_reshape False\n",
            "block4b_se_reduce False\n",
            "block4b_se_expand False\n",
            "block4b_se_excite False\n",
            "block4b_project_conv False\n",
            "block4b_project_bn False\n",
            "block4b_drop False\n",
            "block4b_add False\n",
            "block4c_expand_conv False\n",
            "block4c_expand_bn False\n",
            "block4c_expand_activation False\n",
            "block4c_dwconv False\n",
            "block4c_bn False\n",
            "block4c_activation False\n",
            "block4c_se_squeeze False\n",
            "block4c_se_reshape False\n",
            "block4c_se_reduce False\n",
            "block4c_se_expand False\n",
            "block4c_se_excite False\n",
            "block4c_project_conv False\n",
            "block4c_project_bn False\n",
            "block4c_drop False\n",
            "block4c_add False\n",
            "block5a_expand_conv False\n",
            "block5a_expand_bn False\n",
            "block5a_expand_activation False\n",
            "block5a_dwconv False\n",
            "block5a_bn False\n",
            "block5a_activation False\n",
            "block5a_se_squeeze False\n",
            "block5a_se_reshape False\n",
            "block5a_se_reduce False\n",
            "block5a_se_expand False\n",
            "block5a_se_excite False\n",
            "block5a_project_conv False\n",
            "block5a_project_bn False\n",
            "block5b_expand_conv False\n",
            "block5b_expand_bn False\n",
            "block5b_expand_activation False\n",
            "block5b_dwconv False\n",
            "block5b_bn False\n",
            "block5b_activation False\n",
            "block5b_se_squeeze False\n",
            "block5b_se_reshape False\n",
            "block5b_se_reduce False\n",
            "block5b_se_expand False\n",
            "block5b_se_excite False\n",
            "block5b_project_conv False\n",
            "block5b_project_bn False\n",
            "block5b_drop False\n",
            "block5b_add False\n",
            "block5c_expand_conv False\n",
            "block5c_expand_bn False\n",
            "block5c_expand_activation False\n",
            "block5c_dwconv False\n",
            "block5c_bn False\n",
            "block5c_activation False\n",
            "block5c_se_squeeze False\n",
            "block5c_se_reshape False\n",
            "block5c_se_reduce False\n",
            "block5c_se_expand False\n",
            "block5c_se_excite False\n",
            "block5c_project_conv False\n",
            "block5c_project_bn False\n",
            "block5c_drop False\n",
            "block5c_add False\n",
            "block6a_expand_conv False\n",
            "block6a_expand_bn False\n",
            "block6a_expand_activation False\n",
            "block6a_dwconv_pad False\n",
            "block6a_dwconv False\n",
            "block6a_bn False\n",
            "block6a_activation False\n",
            "block6a_se_squeeze False\n",
            "block6a_se_reshape False\n",
            "block6a_se_reduce False\n",
            "block6a_se_expand False\n",
            "block6a_se_excite False\n",
            "block6a_project_conv False\n",
            "block6a_project_bn False\n",
            "block6b_expand_conv False\n",
            "block6b_expand_bn False\n",
            "block6b_expand_activation False\n",
            "block6b_dwconv False\n",
            "block6b_bn False\n",
            "block6b_activation False\n",
            "block6b_se_squeeze False\n",
            "block6b_se_reshape False\n",
            "block6b_se_reduce False\n",
            "block6b_se_expand False\n",
            "block6b_se_excite False\n",
            "block6b_project_conv False\n",
            "block6b_project_bn False\n",
            "block6b_drop False\n",
            "block6b_add False\n",
            "block6c_expand_conv False\n",
            "block6c_expand_bn False\n",
            "block6c_expand_activation False\n",
            "block6c_dwconv False\n",
            "block6c_bn False\n",
            "block6c_activation False\n",
            "block6c_se_squeeze False\n",
            "block6c_se_reshape False\n",
            "block6c_se_reduce False\n",
            "block6c_se_expand False\n",
            "block6c_se_excite False\n",
            "block6c_project_conv False\n",
            "block6c_project_bn False\n",
            "block6c_drop False\n",
            "block6c_add False\n",
            "block6d_expand_conv False\n",
            "block6d_expand_bn False\n",
            "block6d_expand_activation False\n",
            "block6d_dwconv False\n",
            "block6d_bn False\n",
            "block6d_activation False\n",
            "block6d_se_squeeze False\n",
            "block6d_se_reshape False\n",
            "block6d_se_reduce False\n",
            "block6d_se_expand False\n",
            "block6d_se_excite False\n",
            "block6d_project_conv False\n",
            "block6d_project_bn False\n",
            "block6d_drop False\n",
            "block6d_add False\n",
            "block7a_expand_conv False\n",
            "block7a_expand_bn False\n",
            "block7a_expand_activation False\n",
            "block7a_dwconv False\n",
            "block7a_bn False\n",
            "block7a_activation False\n",
            "block7a_se_squeeze False\n",
            "block7a_se_reshape False\n",
            "block7a_se_reduce False\n",
            "block7a_se_expand False\n",
            "block7a_se_excite False\n",
            "block7a_project_conv False\n",
            "block7a_project_bn False\n",
            "top_conv False\n",
            "top_bn False\n",
            "top_activation False\n"
          ],
          "name": "stdout"
        }
      ]
    },
    {
      "cell_type": "code",
      "metadata": {
        "colab": {
          "base_uri": "https://localhost:8080/"
        },
        "id": "OPCIucxXqBI-",
        "outputId": "202ea013-b0e0-4345-9a37-2fcfa0d224e0"
      },
      "source": [
        "#how many trainable variables in out base model\n",
        "print(len(model_2.layers[2].trainable_variables))"
      ],
      "execution_count": 89,
      "outputs": [
        {
          "output_type": "stream",
          "text": [
            "0\n"
          ],
          "name": "stdout"
        }
      ]
    },
    {
      "cell_type": "code",
      "metadata": {
        "colab": {
          "base_uri": "https://localhost:8080/"
        },
        "id": "qySFk4B3qh7W",
        "outputId": "fc47a5b3-aabe-48d0-f85e-481a898ebbd4"
      },
      "source": [
        " #to begin fine tuning by making last 10 layers as trainable\n",
        " base_model.trainable=True\n",
        " for layer in base_model.layers[:-10]:\n",
        "   layer.trainable=False\n",
        "#recompile our model\n",
        "\n",
        "model_2.compile(loss=\"categorical_crossentropy\",\n",
        "                optimizer=tf.keras.optimizers.Adam(lr=0.0001),#when fine tuning lower the loearning rate by 10X\n",
        "                metrics=[\"accuracy\"])\n"
      ],
      "execution_count": 91,
      "outputs": [
        {
          "output_type": "stream",
          "text": [
            "/usr/local/lib/python3.7/dist-packages/tensorflow/python/keras/optimizer_v2/optimizer_v2.py:375: UserWarning: The `lr` argument is deprecated, use `learning_rate` instead.\n",
            "  \"The `lr` argument is deprecated, use `learning_rate` instead.\")\n"
          ],
          "name": "stderr"
        }
      ]
    },
    {
      "cell_type": "code",
      "metadata": {
        "colab": {
          "base_uri": "https://localhost:8080/"
        },
        "id": "L5--RdGtrL83",
        "outputId": "9d251b1c-3b32-4d0c-ea50-6a049c298bcb"
      },
      "source": [
        "for layer in model_2.layers[2].layers:\n",
        "  print(layer.name,layer.trainable)"
      ],
      "execution_count": 93,
      "outputs": [
        {
          "output_type": "stream",
          "text": [
            "input_7 False\n",
            "rescaling_5 False\n",
            "normalization_5 False\n",
            "stem_conv_pad False\n",
            "stem_conv False\n",
            "stem_bn False\n",
            "stem_activation False\n",
            "block1a_dwconv False\n",
            "block1a_bn False\n",
            "block1a_activation False\n",
            "block1a_se_squeeze False\n",
            "block1a_se_reshape False\n",
            "block1a_se_reduce False\n",
            "block1a_se_expand False\n",
            "block1a_se_excite False\n",
            "block1a_project_conv False\n",
            "block1a_project_bn False\n",
            "block2a_expand_conv False\n",
            "block2a_expand_bn False\n",
            "block2a_expand_activation False\n",
            "block2a_dwconv_pad False\n",
            "block2a_dwconv False\n",
            "block2a_bn False\n",
            "block2a_activation False\n",
            "block2a_se_squeeze False\n",
            "block2a_se_reshape False\n",
            "block2a_se_reduce False\n",
            "block2a_se_expand False\n",
            "block2a_se_excite False\n",
            "block2a_project_conv False\n",
            "block2a_project_bn False\n",
            "block2b_expand_conv False\n",
            "block2b_expand_bn False\n",
            "block2b_expand_activation False\n",
            "block2b_dwconv False\n",
            "block2b_bn False\n",
            "block2b_activation False\n",
            "block2b_se_squeeze False\n",
            "block2b_se_reshape False\n",
            "block2b_se_reduce False\n",
            "block2b_se_expand False\n",
            "block2b_se_excite False\n",
            "block2b_project_conv False\n",
            "block2b_project_bn False\n",
            "block2b_drop False\n",
            "block2b_add False\n",
            "block3a_expand_conv False\n",
            "block3a_expand_bn False\n",
            "block3a_expand_activation False\n",
            "block3a_dwconv_pad False\n",
            "block3a_dwconv False\n",
            "block3a_bn False\n",
            "block3a_activation False\n",
            "block3a_se_squeeze False\n",
            "block3a_se_reshape False\n",
            "block3a_se_reduce False\n",
            "block3a_se_expand False\n",
            "block3a_se_excite False\n",
            "block3a_project_conv False\n",
            "block3a_project_bn False\n",
            "block3b_expand_conv False\n",
            "block3b_expand_bn False\n",
            "block3b_expand_activation False\n",
            "block3b_dwconv False\n",
            "block3b_bn False\n",
            "block3b_activation False\n",
            "block3b_se_squeeze False\n",
            "block3b_se_reshape False\n",
            "block3b_se_reduce False\n",
            "block3b_se_expand False\n",
            "block3b_se_excite False\n",
            "block3b_project_conv False\n",
            "block3b_project_bn False\n",
            "block3b_drop False\n",
            "block3b_add False\n",
            "block4a_expand_conv False\n",
            "block4a_expand_bn False\n",
            "block4a_expand_activation False\n",
            "block4a_dwconv_pad False\n",
            "block4a_dwconv False\n",
            "block4a_bn False\n",
            "block4a_activation False\n",
            "block4a_se_squeeze False\n",
            "block4a_se_reshape False\n",
            "block4a_se_reduce False\n",
            "block4a_se_expand False\n",
            "block4a_se_excite False\n",
            "block4a_project_conv False\n",
            "block4a_project_bn False\n",
            "block4b_expand_conv False\n",
            "block4b_expand_bn False\n",
            "block4b_expand_activation False\n",
            "block4b_dwconv False\n",
            "block4b_bn False\n",
            "block4b_activation False\n",
            "block4b_se_squeeze False\n",
            "block4b_se_reshape False\n",
            "block4b_se_reduce False\n",
            "block4b_se_expand False\n",
            "block4b_se_excite False\n",
            "block4b_project_conv False\n",
            "block4b_project_bn False\n",
            "block4b_drop False\n",
            "block4b_add False\n",
            "block4c_expand_conv False\n",
            "block4c_expand_bn False\n",
            "block4c_expand_activation False\n",
            "block4c_dwconv False\n",
            "block4c_bn False\n",
            "block4c_activation False\n",
            "block4c_se_squeeze False\n",
            "block4c_se_reshape False\n",
            "block4c_se_reduce False\n",
            "block4c_se_expand False\n",
            "block4c_se_excite False\n",
            "block4c_project_conv False\n",
            "block4c_project_bn False\n",
            "block4c_drop False\n",
            "block4c_add False\n",
            "block5a_expand_conv False\n",
            "block5a_expand_bn False\n",
            "block5a_expand_activation False\n",
            "block5a_dwconv False\n",
            "block5a_bn False\n",
            "block5a_activation False\n",
            "block5a_se_squeeze False\n",
            "block5a_se_reshape False\n",
            "block5a_se_reduce False\n",
            "block5a_se_expand False\n",
            "block5a_se_excite False\n",
            "block5a_project_conv False\n",
            "block5a_project_bn False\n",
            "block5b_expand_conv False\n",
            "block5b_expand_bn False\n",
            "block5b_expand_activation False\n",
            "block5b_dwconv False\n",
            "block5b_bn False\n",
            "block5b_activation False\n",
            "block5b_se_squeeze False\n",
            "block5b_se_reshape False\n",
            "block5b_se_reduce False\n",
            "block5b_se_expand False\n",
            "block5b_se_excite False\n",
            "block5b_project_conv False\n",
            "block5b_project_bn False\n",
            "block5b_drop False\n",
            "block5b_add False\n",
            "block5c_expand_conv False\n",
            "block5c_expand_bn False\n",
            "block5c_expand_activation False\n",
            "block5c_dwconv False\n",
            "block5c_bn False\n",
            "block5c_activation False\n",
            "block5c_se_squeeze False\n",
            "block5c_se_reshape False\n",
            "block5c_se_reduce False\n",
            "block5c_se_expand False\n",
            "block5c_se_excite False\n",
            "block5c_project_conv False\n",
            "block5c_project_bn False\n",
            "block5c_drop False\n",
            "block5c_add False\n",
            "block6a_expand_conv False\n",
            "block6a_expand_bn False\n",
            "block6a_expand_activation False\n",
            "block6a_dwconv_pad False\n",
            "block6a_dwconv False\n",
            "block6a_bn False\n",
            "block6a_activation False\n",
            "block6a_se_squeeze False\n",
            "block6a_se_reshape False\n",
            "block6a_se_reduce False\n",
            "block6a_se_expand False\n",
            "block6a_se_excite False\n",
            "block6a_project_conv False\n",
            "block6a_project_bn False\n",
            "block6b_expand_conv False\n",
            "block6b_expand_bn False\n",
            "block6b_expand_activation False\n",
            "block6b_dwconv False\n",
            "block6b_bn False\n",
            "block6b_activation False\n",
            "block6b_se_squeeze False\n",
            "block6b_se_reshape False\n",
            "block6b_se_reduce False\n",
            "block6b_se_expand False\n",
            "block6b_se_excite False\n",
            "block6b_project_conv False\n",
            "block6b_project_bn False\n",
            "block6b_drop False\n",
            "block6b_add False\n",
            "block6c_expand_conv False\n",
            "block6c_expand_bn False\n",
            "block6c_expand_activation False\n",
            "block6c_dwconv False\n",
            "block6c_bn False\n",
            "block6c_activation False\n",
            "block6c_se_squeeze False\n",
            "block6c_se_reshape False\n",
            "block6c_se_reduce False\n",
            "block6c_se_expand False\n",
            "block6c_se_excite False\n",
            "block6c_project_conv False\n",
            "block6c_project_bn False\n",
            "block6c_drop False\n",
            "block6c_add False\n",
            "block6d_expand_conv False\n",
            "block6d_expand_bn False\n",
            "block6d_expand_activation False\n",
            "block6d_dwconv False\n",
            "block6d_bn False\n",
            "block6d_activation False\n",
            "block6d_se_squeeze False\n",
            "block6d_se_reshape False\n",
            "block6d_se_reduce False\n",
            "block6d_se_expand False\n",
            "block6d_se_excite False\n",
            "block6d_project_conv False\n",
            "block6d_project_bn False\n",
            "block6d_drop False\n",
            "block6d_add False\n",
            "block7a_expand_conv False\n",
            "block7a_expand_bn False\n",
            "block7a_expand_activation False\n",
            "block7a_dwconv False\n",
            "block7a_bn False\n",
            "block7a_activation False\n",
            "block7a_se_squeeze True\n",
            "block7a_se_reshape True\n",
            "block7a_se_reduce True\n",
            "block7a_se_expand True\n",
            "block7a_se_excite True\n",
            "block7a_project_conv True\n",
            "block7a_project_bn True\n",
            "top_conv True\n",
            "top_bn True\n",
            "top_activation True\n"
          ],
          "name": "stdout"
        }
      ]
    },
    {
      "cell_type": "code",
      "metadata": {
        "id": "yyM6wl_OtMgB"
      },
      "source": [
        "#now we have unfrozen some of the layers"
      ],
      "execution_count": 94,
      "outputs": []
    },
    {
      "cell_type": "code",
      "metadata": {
        "colab": {
          "base_uri": "https://localhost:8080/"
        },
        "id": "aM4MRCrttiTq",
        "outputId": "d392b3da-1fdc-4cec-f99d-4e7e46a35abe"
      },
      "source": [
        "print(len(model_2.layers[2].trainable_variables))"
      ],
      "execution_count": 96,
      "outputs": [
        {
          "output_type": "stream",
          "text": [
            "10\n"
          ],
          "name": "stdout"
        }
      ]
    },
    {
      "cell_type": "code",
      "metadata": {
        "colab": {
          "base_uri": "https://localhost:8080/"
        },
        "id": "9KGySfNitwvi",
        "outputId": "266c5913-e302-40b5-fa85-ffbc092dddd1"
      },
      "source": [
        "fine_tune_epochs = initial_epochs+5\n",
        "\n",
        "history_3 = model_2.fit(train_data_10_percent,\n",
        "                        epochs=fine_tune_epochs,\n",
        "                        validation_data=test_data,\n",
        "                        validation_steps=int(0.25*len(test_data)),\n",
        "                        initial_epoch=history_2.epoch[-1],\n",
        "                        callbacks=[create_tensorboard_callback(\"transfer learning\",\n",
        "                                                               \"10_percent_fine_tune_last_10\")])"
      ],
      "execution_count": 97,
      "outputs": [
        {
          "output_type": "stream",
          "text": [
            "Saving TensorBoard log files to: transfer learning/10_percent_fine_tune_last_10/20210629-122504\n",
            "Epoch 5/10\n"
          ],
          "name": "stdout"
        },
        {
          "output_type": "stream",
          "text": [
            "/usr/local/lib/python3.7/dist-packages/tensorflow/python/keras/utils/generic_utils.py:497: CustomMaskWarning: Custom mask layers require a config and must override get_config. When loading, the custom mask layer must be passed to the custom_objects argument.\n",
            "  category=CustomMaskWarning)\n"
          ],
          "name": "stderr"
        },
        {
          "output_type": "stream",
          "text": [
            "24/24 [==============================] - 18s 473ms/step - loss: 0.4764 - accuracy: 0.8693 - val_loss: 0.5078 - val_accuracy: 0.8224\n",
            "Epoch 6/10\n",
            "24/24 [==============================] - 8s 316ms/step - loss: 0.4143 - accuracy: 0.8787 - val_loss: 0.5000 - val_accuracy: 0.8355\n",
            "Epoch 7/10\n",
            "24/24 [==============================] - 8s 327ms/step - loss: 0.3700 - accuracy: 0.8813 - val_loss: 0.4935 - val_accuracy: 0.8306\n",
            "Epoch 8/10\n",
            "24/24 [==============================] - 8s 315ms/step - loss: 0.3131 - accuracy: 0.9093 - val_loss: 0.4687 - val_accuracy: 0.8487\n",
            "Epoch 9/10\n",
            "24/24 [==============================] - 8s 306ms/step - loss: 0.2963 - accuracy: 0.9160 - val_loss: 0.4743 - val_accuracy: 0.8487\n",
            "Epoch 10/10\n",
            "24/24 [==============================] - 8s 321ms/step - loss: 0.2448 - accuracy: 0.9347 - val_loss: 0.4948 - val_accuracy: 0.8339\n"
          ],
          "name": "stdout"
        }
      ]
    },
    {
      "cell_type": "code",
      "metadata": {
        "colab": {
          "base_uri": "https://localhost:8080/"
        },
        "id": "0HuH4_VJutqm",
        "outputId": "0593dc44-88b2-4081-9131-f49882e9e4eb"
      },
      "source": [
        "results_fine_tune_10_percent = model_2.evaluate(test_data)"
      ],
      "execution_count": 98,
      "outputs": [
        {
          "output_type": "stream",
          "text": [
            "79/79 [==============================] - 9s 106ms/step - loss: 0.4683 - accuracy: 0.8436\n"
          ],
          "name": "stdout"
        }
      ]
    },
    {
      "cell_type": "code",
      "metadata": {
        "colab": {
          "base_uri": "https://localhost:8080/"
        },
        "id": "MRgnYyFEvGTz",
        "outputId": "8a5ec0aa-71bb-4ee6-cee4-243de6fe9096"
      },
      "source": [
        "results_10_percent_data_aug"
      ],
      "execution_count": 99,
      "outputs": [
        {
          "output_type": "execute_result",
          "data": {
            "text/plain": [
              "[0.5505015850067139, 0.8407999873161316]"
            ]
          },
          "metadata": {
            "tags": []
          },
          "execution_count": 99
        }
      ]
    },
    {
      "cell_type": "code",
      "metadata": {
        "colab": {
          "base_uri": "https://localhost:8080/",
          "height": 573
        },
        "id": "ppsIGAtSvMFp",
        "outputId": "cfeb996c-5777-4f33-eec4-b7f2800a15d5"
      },
      "source": [
        "plot_loss_curves(history_3)"
      ],
      "execution_count": 100,
      "outputs": [
        {
          "output_type": "display_data",
          "data": {
            "image/png": "[encoded data removed]",
            "text/plain": [
              "<Figure size 432x288 with 1 Axes>"
            ]
          },
          "metadata": {
            "tags": [],
            "needs_background": "light"
          }
        },
        {
          "output_type": "display_data",
          "data": {
            "image/png": "[encoded data removed]",
            "text/plain": [
              "<Figure size 432x288 with 1 Axes>"
            ]
          },
          "metadata": {
            "tags": [],
            "needs_background": "light"
          }
        }
      ]
    },
    {
      "cell_type": "code",
      "metadata": {
        "id": "CaBI5bBt0FxZ"
      },
      "source": [
        "def compare_historys(original_history, new_history, initial_epochs=5):\n",
        "    \"\"\"\n",
        "    Compares two model history objects.\n",
        "    \"\"\"\n",
        "    # Get original history measurements\n",
        "    acc = original_history.history[\"accuracy\"]\n",
        "    loss = original_history.history[\"loss\"]\n",
        "\n",
        "    print(len(acc))\n",
        "\n",
        "    val_acc = original_history.history[\"val_accuracy\"]\n",
        "    val_loss = original_history.history[\"val_loss\"]\n",
        "\n",
        "    # Combine original history with new history\n",
        "    total_acc = acc + new_history.history[\"accuracy\"]\n",
        "    total_loss = loss + new_history.history[\"loss\"]\n",
        "\n",
        "    total_val_acc = val_acc + new_history.history[\"val_accuracy\"]\n",
        "    total_val_loss = val_loss + new_history.history[\"val_loss\"]\n",
        "\n",
        "    print(len(total_acc))\n",
        "    print(total_acc)\n",
        "\n",
        "    # Make plots\n",
        "    plt.figure(figsize=(8, 8))\n",
        "    plt.subplot(2, 1, 1)\n",
        "    plt.plot(total_acc, label='Training Accuracy')\n",
        "    plt.plot(total_val_acc, label='Validation Accuracy')\n",
        "    plt.plot([initial_epochs-1, initial_epochs-1],\n",
        "              plt.ylim(), label='Start Fine Tuning') # reshift plot around epochs\n",
        "    plt.legend(loc='lower right')\n",
        "    plt.title('Training and Validation Accuracy')\n",
        "\n",
        "    plt.subplot(2, 1, 2)\n",
        "    plt.plot(total_loss, label='Training Loss')\n",
        "    plt.plot(total_val_loss, label='Validation Loss')\n",
        "    plt.plot([initial_epochs-1, initial_epochs-1],\n",
        "              plt.ylim(), label='Start Fine Tuning') # reshift plot around epochs\n",
        "    plt.legend(loc='upper right')\n",
        "    plt.title('Training and Validation Loss')\n",
        "    plt.xlabel('epoch')\n",
        "    plt.show()"
      ],
      "execution_count": 102,
      "outputs": []
    },
    {
      "cell_type": "code",
      "metadata": {
        "colab": {
          "base_uri": "https://localhost:8080/",
          "height": 585
        },
        "id": "x3daPQoT0eEO",
        "outputId": "b953cc95-596b-4cc1-ff4f-6045355d9cc7"
      },
      "source": [
        "compare_historys(original_history=history_2, \n",
        "                 new_history=history_3, \n",
        "                 initial_epochs=5)"
      ],
      "execution_count": 104,
      "outputs": [
        {
          "output_type": "stream",
          "text": [
            "5\n",
            "11\n",
            "[0.809333324432373, 0.8320000171661377, 0.8199999928474426, 0.8519999980926514, 0.8560000061988831, 0.8693333268165588, 0.8786666393280029, 0.8813333511352539, 0.909333348274231, 0.9160000085830688, 0.9346666932106018]\n"
          ],
          "name": "stdout"
        },
        {
          "output_type": "display_data",
          "data": {
            "image/png": "[encoded data removed]",
            "text/plain": [
              "<Figure size 576x576 with 2 Axes>"
            ]
          },
          "metadata": {
            "tags": [],
            "needs_background": "light"
          }
        }
      ]
    },
    {
      "cell_type": "markdown",
      "metadata": {
        "id": "juocyigy0rMV"
      },
      "source": [
        "##Model 4 Fine tuning with 10 unfrozen layer and 100% training data"
      ]
    },
    {
      "cell_type": "code",
      "metadata": {
        "colab": {
          "base_uri": "https://localhost:8080/"
        },
        "id": "l4D-jBCb2lCP",
        "outputId": "1266f927-5229-4dfd-a68d-1aa64feefa83"
      },
      "source": [
        "!wget https://storage.googleapis.com/ztm_tf_course/food_vision/10_food_classes_all_data.zip \n",
        "unzip_data(\"10_food_classes_all_data.zip\")\n"
      ],
      "execution_count": 106,
      "outputs": [
        {
          "output_type": "stream",
          "text": [
            "--2021-06-29 12:59:54--  https://storage.googleapis.com/ztm_tf_course/food_vision/10_food_classes_all_data.zip\n",
            "Resolving storage.googleapis.com (storage.googleapis.com)... 74.125.20.128, 108.177.98.128, 74.125.197.128, ...\n",
            "Connecting to storage.googleapis.com (storage.googleapis.com)|74.125.20.128|:443... connected.\n",
            "HTTP request sent, awaiting response... 200 OK\n",
            "Length: 519183241 (495M) [application/zip]\n",
            "Saving to: ‘10_food_classes_all_data.zip’\n",
            "\n",
            "10_food_classes_all 100%[===================>] 495.13M   257MB/s    in 1.9s    \n",
            "\n",
            "2021-06-29 12:59:56 (257 MB/s) - ‘10_food_classes_all_data.zip’ saved [519183241/519183241]\n",
            "\n"
          ],
          "name": "stdout"
        }
      ]
    },
    {
      "cell_type": "code",
      "metadata": {
        "id": "KEfEchM_2r-P"
      },
      "source": [
        "#setup training and test dir\n",
        "train_dir_all_data = \"10_food_classes_all_data/train/\"\n",
        "test_dir_all_data = \"10_food_classes_all_data/test/\""
      ],
      "execution_count": 107,
      "outputs": []
    },
    {
      "cell_type": "code",
      "metadata": {
        "colab": {
          "base_uri": "https://localhost:8080/"
        },
        "id": "PPhIBnRJ29J7",
        "outputId": "26f0d4a6-f67a-4e58-9c8f-ec6554377c38"
      },
      "source": [
        "#setup data inputs\n",
        "img_size=(224,224)\n",
        "train_data_10_class_full=tf.keras.preprocessing.image_dataset_from_directory(train_dir_all_data,\n",
        "                                                                             label_mode=\"categorical\",\n",
        "                                                                             image_size=img_size)\n",
        "test_data = tf.keras.preprocessing.image_dataset_from_directory(test_dir_all_data,\n",
        "                                                                label_mode=\"categorical\",\n",
        "                                                                image_size=img_size)"
      ],
      "execution_count": 108,
      "outputs": [
        {
          "output_type": "stream",
          "text": [
            "Found 7500 files belonging to 10 classes.\n",
            "Found 2500 files belonging to 10 classes.\n"
          ],
          "name": "stdout"
        }
      ]
    },
    {
      "cell_type": "code",
      "metadata": {
        "colab": {
          "base_uri": "https://localhost:8080/"
        },
        "id": "wherLs-z3b3U",
        "outputId": "b5dd8e71-904f-45d6-ad80-b841068ab895"
      },
      "source": [
        "#load weights from the checkpoin, that way we can fine tune the model\n",
        "#from where 10 percent model had been fine tuned\n",
        "model_2.load_weights(checkpoint_path)\n",
        "\n",
        "model_2.evaluate(test_data)"
      ],
      "execution_count": 109,
      "outputs": [
        {
          "output_type": "stream",
          "text": [
            "79/79 [==============================] - 9s 105ms/step - loss: 0.5505 - accuracy: 0.8408\n"
          ],
          "name": "stdout"
        },
        {
          "output_type": "execute_result",
          "data": {
            "text/plain": [
              "[0.5505015850067139, 0.8407999873161316]"
            ]
          },
          "metadata": {
            "tags": []
          },
          "execution_count": 109
        }
      ]
    },
    {
      "cell_type": "code",
      "metadata": {
        "colab": {
          "base_uri": "https://localhost:8080/"
        },
        "id": "o5Ib37I64n1J",
        "outputId": "8863f61a-1b90-4b48-f532-8ea6a1a0a249"
      },
      "source": [
        "results_10_percent_data_aug"
      ],
      "execution_count": 110,
      "outputs": [
        {
          "output_type": "execute_result",
          "data": {
            "text/plain": [
              "[0.5505015850067139, 0.8407999873161316]"
            ]
          },
          "metadata": {
            "tags": []
          },
          "execution_count": 110
        }
      ]
    },
    {
      "cell_type": "markdown",
      "metadata": {
        "id": "vFCxnrN143Ei"
      },
      "source": [
        "Steps\n",
        "1. trained a feature extraction transfer learning model for 5 epochs on 10% of the data with data augmentation (model_2) and we saved the model's weight using `ModelCheckpoint` callback\n",
        "2. Fine tune the same model on the same 10% of the data for further 5 epochs with top 10 layers of the base model unfrozen (model_3)\n",
        "3. saved the results and training logs each time\n",
        "4. reloaded the model from step 1 to do the same steps as step 2 except this time weare going to use all of the training data to train out model"
      ]
    },
    {
      "cell_type": "code",
      "metadata": {
        "colab": {
          "base_uri": "https://localhost:8080/"
        },
        "id": "3KVQ9EuS5jER",
        "outputId": "9816f020-aa7a-4ba3-9cc9-e9673a7b75d3"
      },
      "source": [
        "model_2.layers[2].trainable"
      ],
      "execution_count": 111,
      "outputs": [
        {
          "output_type": "execute_result",
          "data": {
            "text/plain": [
              "True"
            ]
          },
          "metadata": {
            "tags": []
          },
          "execution_count": 111
        }
      ]
    },
    {
      "cell_type": "code",
      "metadata": {
        "colab": {
          "base_uri": "https://localhost:8080/"
        },
        "id": "rPkppoML50eR",
        "outputId": "bc2599c3-e132-4426-b687-80ca2a4f1014"
      },
      "source": [
        "model_2.compile(loss=\"categorical_crossentropy\",\n",
        "                optimizer=tf.keras.optimizers.Adam(lr=0.0001),\n",
        "                metrics=[\"accuracy\"])\n"
      ],
      "execution_count": 112,
      "outputs": [
        {
          "output_type": "stream",
          "text": [
            "/usr/local/lib/python3.7/dist-packages/tensorflow/python/keras/optimizer_v2/optimizer_v2.py:375: UserWarning: The `lr` argument is deprecated, use `learning_rate` instead.\n",
            "  \"The `lr` argument is deprecated, use `learning_rate` instead.\")\n"
          ],
          "name": "stderr"
        }
      ]
    },
    {
      "cell_type": "code",
      "metadata": {
        "colab": {
          "base_uri": "https://localhost:8080/"
        },
        "id": "w9GxBs1i6F7M",
        "outputId": "21e59d18-5b66-4e97-d2dd-b6589fc99791"
      },
      "source": [
        "fine_tune_epochs = initial_epochs+5\n",
        "\n",
        "history_4 = model_2.fit(train_data_10_class_full,\n",
        "                        epochs=fine_tune_epochs,\n",
        "                        initial_epoch=history_2.epoch[-1],\n",
        "                        validation_data=test_data,\n",
        "                        validation_steps=int(0.25*len(test_data)),\n",
        "                        callbacks=[create_tensorboard_callback(\"transfer learning\",\n",
        "                                                               \"fine_tune_all_data\")])"
      ],
      "execution_count": 116,
      "outputs": [
        {
          "output_type": "stream",
          "text": [
            "Saving TensorBoard log files to: transfer learning/fine_tune_all_data/20210629-132522\n",
            "Epoch 5/10\n"
          ],
          "name": "stdout"
        },
        {
          "output_type": "stream",
          "text": [
            "/usr/local/lib/python3.7/dist-packages/tensorflow/python/keras/utils/generic_utils.py:497: CustomMaskWarning: Custom mask layers require a config and must override get_config. When loading, the custom mask layer must be passed to the custom_objects argument.\n",
            "  category=CustomMaskWarning)\n"
          ],
          "name": "stderr"
        },
        {
          "output_type": "stream",
          "text": [
            "235/235 [==============================] - 47s 177ms/step - loss: 0.6865 - accuracy: 0.7844 - val_loss: 0.3510 - val_accuracy: 0.8635\n",
            "Epoch 6/10\n",
            "235/235 [==============================] - 52s 218ms/step - loss: 0.5630 - accuracy: 0.8189 - val_loss: 0.2861 - val_accuracy: 0.8947\n",
            "Epoch 7/10\n",
            "235/235 [==============================] - 50s 210ms/step - loss: 0.5023 - accuracy: 0.8415 - val_loss: 0.2811 - val_accuracy: 0.9030\n",
            "Epoch 8/10\n",
            "235/235 [==============================] - 49s 209ms/step - loss: 0.4665 - accuracy: 0.8512 - val_loss: 0.2657 - val_accuracy: 0.9145\n",
            "Epoch 9/10\n",
            "235/235 [==============================] - 44s 185ms/step - loss: 0.4199 - accuracy: 0.8641 - val_loss: 0.2727 - val_accuracy: 0.9062\n",
            "Epoch 10/10\n",
            "235/235 [==============================] - 43s 182ms/step - loss: 0.3961 - accuracy: 0.8743 - val_loss: 0.2657 - val_accuracy: 0.9095\n"
          ],
          "name": "stdout"
        }
      ]
    },
    {
      "cell_type": "code",
      "metadata": {
        "colab": {
          "base_uri": "https://localhost:8080/"
        },
        "id": "wVEJ63EN7u_q",
        "outputId": "9ca992c0-536e-459b-a1f6-a176de8e007e"
      },
      "source": [
        "model_2.evaluate(test_data)"
      ],
      "execution_count": 117,
      "outputs": [
        {
          "output_type": "stream",
          "text": [
            "79/79 [==============================] - 9s 105ms/step - loss: 0.2982 - accuracy: 0.9056\n"
          ],
          "name": "stdout"
        },
        {
          "output_type": "execute_result",
          "data": {
            "text/plain": [
              "[0.29815784096717834, 0.9056000113487244]"
            ]
          },
          "metadata": {
            "tags": []
          },
          "execution_count": 117
        }
      ]
    },
    {
      "cell_type": "code",
      "metadata": {
        "colab": {
          "base_uri": "https://localhost:8080/",
          "height": 585
        },
        "id": "9nZ3q3Cj-R2G",
        "outputId": "3bab46ca-0e1d-4503-a000-18249b2e4770"
      },
      "source": [
        "compare_historys(history_3,history_4,5)"
      ],
      "execution_count": 119,
      "outputs": [
        {
          "output_type": "stream",
          "text": [
            "6\n",
            "12\n",
            "[0.8693333268165588, 0.8786666393280029, 0.8813333511352539, 0.909333348274231, 0.9160000085830688, 0.9346666932106018, 0.7843999862670898, 0.8189333081245422, 0.8414666652679443, 0.8511999845504761, 0.864133358001709, 0.8742666840553284]\n"
          ],
          "name": "stdout"
        },
        {
          "output_type": "display_data",
          "data": {
            "image/png": "[encoded data removed]",
            "text/plain": [
              "<Figure size 576x576 with 2 Axes>"
            ]
          },
          "metadata": {
            "tags": [],
            "needs_background": "light"
          }
        }
      ]
    },
    {
      "cell_type": "markdown",
      "metadata": {
        "id": "PrBhAA4B-ocI"
      },
      "source": [
        "##Viewing our experiment data on Tensorboard"
      ]
    },
    {
      "cell_type": "code",
      "metadata": {
        "colab": {
          "base_uri": "https://localhost:8080/"
        },
        "id": "xXT9raDO_KH5",
        "outputId": "9090ac57-f6e4-41a6-c995-6757dac57efd"
      },
      "source": [
        "!tensorboard dev upload --logdir ./transfer_learning \\\n",
        "  --name \"Transfer Learning Experiments with 10 Food101 classes\"\\\n",
        "  --description \"l;ol\"\\\n",
        "  --one_shot"
      ],
      "execution_count": 124,
      "outputs": [
        {
          "output_type": "stream",
          "text": [
            "2021-06-29 13:40:22.101432: I tensorflow/stream_executor/platform/default/dso_loader.cc:53] Successfully opened dynamic library libcudart.so.11.0\n",
            "\n",
            "***** TensorBoard Uploader *****\n",
            "\n",
            "This will upload your TensorBoard logs to https://tensorboard.dev/ from\n",
            "the following directory:\n",
            "\n",
            "./transfer_learning\n",
            "\n",
            "This TensorBoard will be visible to everyone. Do not upload sensitive\n",
            "data.\n",
            "\n",
            "Your use of this service is subject to Google's Terms of Service\n",
            "<https://policies.google.com/terms> and Privacy Policy\n",
            "<https://policies.google.com/privacy>, and TensorBoard.dev's Terms of Service\n",
            "<https://tensorboard.dev/policy/terms/>.\n",
            "\n",
            "This notice will not be shown again while you are logged into the uploader.\n",
            "To log out, run `tensorboard dev auth revoke`.\n",
            "\n",
            "Continue? (yes/NO) yes\n",
            "\n",
            "Please visit this URL to authorize this application: https://accounts.google.com/o/oauth2/auth?response_type=code&client_id=373649185512-8v619h5kft38l4456nm2dj4ubeqsrvh6.apps.googleusercontent.com&redirect_uri=urn%3Aietf%3Awg%3Aoauth%3A2.0%3Aoob&scope=openid+https%3A%2F%2Fwww.googleapis.com%2Fauth%2Fuserinfo.email&state=aUmZ5GChSOuyiAjCcm2ipOWoT3O4JL&prompt=consent&access_type=offline\n",
            "Enter the authorization code: 4/1AX4XfWinMPXKZSzm8HvZwD7l5UgqqCsLQXEFz7COXPtDez6-a7QrvWm2okk\n",
            "\n",
            "Data for the \"text\" plugin is now uploaded to TensorBoard.dev! Note that uploaded data is public. If you do not want to upload data for this plugin, use the \"--plugins\" command line argument.\n",
            "\n",
            "New experiment created. View your TensorBoard at: https://tensorboard.dev/experiment/iLQDrsqPQo23YUrEOlkHdA/\n",
            "\n",
            "\u001b[1m[2021-06-29T13:40:46]\u001b[0m Started scanning logdir.\n",
            "\u001b[1m[2021-06-29T13:40:50]\u001b[0m Total uploaded: 120 scalars, 0 tensors, 4 binary objects (3.1 MB)\n",
            "\u001b[1m[2021-06-29T13:40:50]\u001b[0m Done scanning logdir.\n",
            "\n",
            "\n",
            "Done. View your TensorBoard at https://tensorboard.dev/experiment/iLQDrsqPQo23YUrEOlkHdA/\n"
          ],
          "name": "stdout"
        }
      ]
    },
    {
      "cell_type": "code",
      "metadata": {
        "id": "vrnpulO__Rqs"
      },
      "source": [
        ""
      ],
      "execution_count": null,
      "outputs": []
    }
  ]
}