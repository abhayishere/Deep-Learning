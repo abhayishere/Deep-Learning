{
  "nbformat": 4,
  "nbformat_minor": 0,
  "metadata": {
    "colab": {
      "name": "Transfer Learning in tensorflow 1.ipynb",
      "provenance": [],
      "collapsed_sections": []
    },
    "kernelspec": {
      "name": "python3",
      "display_name": "Python 3"
    },
    "language_info": {
      "name": "python"
    },
    "accelerator": "GPU"
  },
  "cells": [
    {
      "cell_type": "markdown",
      "metadata": {
        "id": "D26vFKhS1S93"
      },
      "source": [
        "# Transfer Learning using tensorflow 1: Feature Extraction\n",
        "\n",
        "advantages\n",
        "1. architecture which is already proven to work on problem similar to ours"
      ]
    },
    {
      "cell_type": "markdown",
      "metadata": {
        "id": "MArxu-Zg3rP9"
      },
      "source": [
        "## Downloading the data and becoming one with it"
      ]
    },
    {
      "cell_type": "code",
      "metadata": {
        "id": "HfUwrrl_34F-",
        "colab": {
          "base_uri": "https://localhost:8080/"
        },
        "outputId": "b6248493-8244-48a5-fa75-f859d67f33fd"
      },
      "source": [
        "# get data (10% of 10 food classes from 101 food)\n",
        "import zipfile\n",
        "\n",
        "!wget !wget https://storage.googleapis.com/ztm_tf_course/food_vision/10_food_classes_10_percent.zip\n",
        "\n",
        "zip_ref = zipfile.ZipFile(\"10_food_classes_10_percent.zip\")\n",
        "zip_ref.extractall()\n",
        "zip_ref.close()"
      ],
      "execution_count": null,
      "outputs": [
        {
          "output_type": "stream",
          "text": [
            "--2021-06-27 15:48:33--  http://!wget/\n",
            "Resolving !wget (!wget)... failed: Name or service not known.\n",
            "wget: unable to resolve host address ‘!wget’\n",
            "--2021-06-27 15:48:33--  https://storage.googleapis.com/ztm_tf_course/food_vision/10_food_classes_10_percent.zip\n",
            "Resolving storage.googleapis.com (storage.googleapis.com)... 173.194.202.128, 108.177.98.128, 74.125.195.128, ...\n",
            "Connecting to storage.googleapis.com (storage.googleapis.com)|173.194.202.128|:443... connected.\n",
            "HTTP request sent, awaiting response... 200 OK\n",
            "Length: 168546183 (161M) [application/zip]\n",
            "Saving to: ‘10_food_classes_10_percent.zip.1’\n",
            "\n",
            "10_food_classes_10_ 100%[===================>] 160.74M   177MB/s    in 0.9s    \n",
            "\n",
            "2021-06-27 15:48:34 (177 MB/s) - ‘10_food_classes_10_percent.zip.1’ saved [168546183/168546183]\n",
            "\n",
            "FINISHED --2021-06-27 15:48:34--\n",
            "Total wall clock time: 1.2s\n",
            "Downloaded: 1 files, 161M in 0.9s (177 MB/s)\n"
          ],
          "name": "stdout"
        }
      ]
    },
    {
      "cell_type": "markdown",
      "metadata": {
        "id": "KaDsd6g4-fnI"
      },
      "source": [
        "## Creating data loaders"
      ]
    },
    {
      "cell_type": "code",
      "metadata": {
        "colab": {
          "base_uri": "https://localhost:8080/"
        },
        "id": "Uc4aCM3Z_RMD",
        "outputId": "5f2d3d66-a24c-44d7-d958-e58a7f40a93e"
      },
      "source": [
        "#setup data input\n",
        "from tensorflow.keras.preprocessing.image import ImageDataGenerator\n",
        "\n",
        "IMAGE_SHAPE=(224,224)\n",
        "BATCH_SIZE=32\n",
        "\n",
        "train_dir = \"10_food_classes_10_percent/train/\"\n",
        "test_dir = \"10_food_classes_10_percent/test/\"\n",
        "\n",
        "train_datagen = ImageDataGenerator(rescale=1./255)\n",
        "test_datagen = ImageDataGenerator(rescale=1./255)\n",
        "\n",
        "train_data_10_percent = train_datagen.flow_from_directory(train_dir,\n",
        "                                                          target_size=IMAGE_SHAPE,\n",
        "                                                          batch_size=BATCH_SIZE,\n",
        "                                                          class_mode=\"categorical\")\n",
        "test_data_10_percent = test_datagen.flow_from_directory(test_dir,\n",
        "                                                        target_size=IMAGE_SHAPE,\n",
        "                                                        batch_size=BATCH_SIZE,\n",
        "                                                        class_mode=\"categorical\")\n"
      ],
      "execution_count": null,
      "outputs": [
        {
          "output_type": "stream",
          "text": [
            "Found 750 images belonging to 10 classes.\n",
            "Found 2500 images belonging to 10 classes.\n"
          ],
          "name": "stdout"
        }
      ]
    },
    {
      "cell_type": "markdown",
      "metadata": {
        "id": "8OyzesBOASas"
      },
      "source": [
        "## Setting up callbacks\n",
        "\n",
        "Callbacks are extra functionality you can add to your models to be performed during or after training. Some of the most popular callbacks include:\n",
        "\n",
        "* Experiment tracking with TensorBoard - log the performance of multiple models and then view and compare these models in a visual way on TensorBoard (a dashboard for inspecting neural network parameters). Helpful to compare the results of different models on your data.\n",
        "* Model checkpointing - save your model as it trains so you can stop training if needed and come back to continue off where you left. Helpful if training takes a long time and can't be done in one sitting.\n",
        "* Early stopping - leave your model training for an arbitrary amount of time and have it stop training automatically when it ceases to improve. Helpful when you've got a large dataset and don't know how long training will take."
      ]
    },
    {
      "cell_type": "code",
      "metadata": {
        "id": "loNEFBJuBYf4"
      },
      "source": [
        "#create tensorboard callbak\n",
        "\n",
        "import datetime\n",
        "\n",
        "def create_tensorflow_callback(dir_name,experiment_name):\n",
        "  log_dir = dir_name+'/'+experiment_name+'/'+datetime.datetime.now().strftime(\"%Y%m%d-%H%M%S\")\n",
        "  tensorboard_callback = tf.keras.callbacks.TensorBoard(log_dir)\n",
        "  print(\"Saving tensorboard log file to : \",log_dir)\n",
        "  return tensorboard_callback"
      ],
      "execution_count": null,
      "outputs": []
    },
    {
      "cell_type": "markdown",
      "metadata": {
        "id": "gRO2rAUvDcxH"
      },
      "source": [
        "## Creating models using Tensorflowhub\n",
        "\n",
        "\n",
        "Using the model\n",
        "https://tfhub.dev/tensorflow/efficientnet/b0/feature-vector/1\n"
      ]
    },
    {
      "cell_type": "code",
      "metadata": {
        "id": "J7q8zuDOD7pG"
      },
      "source": [
        "#lets compare the two models\n",
        "resnet_url = \"https://tfhub.dev/google/imagenet/resnet_v2_50/feature_vector/5\"\n",
        "efficientnet_url = \"https://tfhub.dev/tensorflow/efficientnet/b0/feature-vector/1\"\n"
      ],
      "execution_count": null,
      "outputs": []
    },
    {
      "cell_type": "code",
      "metadata": {
        "id": "ymlAyxw3HY3y"
      },
      "source": [
        "import tensorflow as tf\n",
        "import tensorflow_hub as hub\n",
        "from tensorflow.keras import layers\n"
      ],
      "execution_count": null,
      "outputs": []
    },
    {
      "cell_type": "code",
      "metadata": {
        "id": "6GNC6E-WHgK5"
      },
      "source": [
        "#lets make a crete_model() function \n",
        "def create_model(model_url,num_classes=10):\n",
        "  #download the pretrained model\n",
        "  feature_extractor_layer = hub.KerasLayer(model_url,\n",
        "                                           trainable=False,\n",
        "                                           name=\"feature_extraction_layer\",\n",
        "                                           input_shape=IMAGE_SHAPE+(3,))\n",
        "  #creating the model\n",
        "  model = tf.keras.Sequential([\n",
        "    feature_extractor_layer,\n",
        "    layers.Dense(num_classes,activation=\"softmax\",name=\"output_layer\")\n",
        "  ])\n",
        "\n",
        "  return model"
      ],
      "execution_count": null,
      "outputs": []
    },
    {
      "cell_type": "markdown",
      "metadata": {
        "id": "uT4vl1JjItcK"
      },
      "source": [
        "###Creating Resnet Tensorflow hub feature extraction model"
      ]
    },
    {
      "cell_type": "code",
      "metadata": {
        "id": "ioF0xtBEI4eU"
      },
      "source": [
        "resnet_model = create_model(resnet_url,num_classes=train_data_10_percent.num_classes)"
      ],
      "execution_count": null,
      "outputs": []
    },
    {
      "cell_type": "code",
      "metadata": {
        "colab": {
          "base_uri": "https://localhost:8080/"
        },
        "id": "lkdgaEzzJANS",
        "outputId": "d2d48bf6-022a-441b-d5b0-098bdf7f8e12"
      },
      "source": [
        "resnet_model.summary()"
      ],
      "execution_count": null,
      "outputs": [
        {
          "output_type": "stream",
          "text": [
            "Model: \"sequential_2\"\n",
            "_________________________________________________________________\n",
            "Layer (type)                 Output Shape              Param #   \n",
            "=================================================================\n",
            "feature_extraction_layer (Ke (None, 2048)              23564800  \n",
            "_________________________________________________________________\n",
            "output_layer (Dense)         (None, 10)                20490     \n",
            "=================================================================\n",
            "Total params: 23,585,290\n",
            "Trainable params: 20,490\n",
            "Non-trainable params: 23,564,800\n",
            "_________________________________________________________________\n"
          ],
          "name": "stdout"
        }
      ]
    },
    {
      "cell_type": "code",
      "metadata": {
        "id": "lsaFsXdwKKfy"
      },
      "source": [
        "resnet_model.compile(loss=\"categorical_crossentropy\",\n",
        "                     optimizer=tf.keras.optimizers.Adam(),\n",
        "                     metrics=[\"accuracy\"])"
      ],
      "execution_count": null,
      "outputs": []
    },
    {
      "cell_type": "code",
      "metadata": {
        "colab": {
          "base_uri": "https://localhost:8080/"
        },
        "id": "GLjF-HhgKkvk",
        "outputId": "c188153d-2c38-47e9-a700-70215ee87883"
      },
      "source": [
        "resnet_history = resnet_model.fit(train_data_10_percent,\n",
        "                 epochs=5,\n",
        "                 steps_per_epoch=len(train_data_10_percent),\n",
        "                 validation_data=test_data_10_percent,\n",
        "                 validation_steps=len(test_data_10_percent),\n",
        "                 callbacks=[create_tensorflow_callback(dir_name=\"tensorflow_hub\",\n",
        "                                                        experiment_name=\"resnet50v2\")])"
      ],
      "execution_count": null,
      "outputs": [
        {
          "output_type": "stream",
          "text": [
            "Saving tensorboard log file to :  tensorflow_hub/resnet50v2/20210627-164703\n",
            "Epoch 1/5\n",
            "24/24 [==============================] - 18s 781ms/step - loss: 1.8737 - accuracy: 0.3853 - val_loss: 1.1888 - val_accuracy: 0.6156\n",
            "Epoch 2/5\n",
            "24/24 [==============================] - 15s 664ms/step - loss: 0.8878 - accuracy: 0.7360 - val_loss: 0.8385 - val_accuracy: 0.7248\n",
            "Epoch 3/5\n",
            "24/24 [==============================] - 15s 660ms/step - loss: 0.6075 - accuracy: 0.8227 - val_loss: 0.7395 - val_accuracy: 0.7528\n",
            "Epoch 4/5\n",
            "24/24 [==============================] - 16s 667ms/step - loss: 0.4708 - accuracy: 0.8960 - val_loss: 0.6828 - val_accuracy: 0.7792\n",
            "Epoch 5/5\n",
            "24/24 [==============================] - 16s 673ms/step - loss: 0.3764 - accuracy: 0.9267 - val_loss: 0.6602 - val_accuracy: 0.7788\n"
          ],
          "name": "stdout"
        }
      ]
    },
    {
      "cell_type": "code",
      "metadata": {
        "colab": {
          "base_uri": "https://localhost:8080/",
          "height": 281
        },
        "id": "0vEkF6IfLF4k",
        "outputId": "06ba5959-20dc-4478-bffa-a8391bb4f394"
      },
      "source": [
        "import pandas as pd\n",
        "pd.DataFrame(resnet_history.history).plot()"
      ],
      "execution_count": null,
      "outputs": [
        {
          "output_type": "execute_result",
          "data": {
            "text/plain": [
              "<matplotlib.axes._subplots.AxesSubplot at 0x7f748204d990>"
            ]
          },
          "metadata": {
            "tags": []
          },
          "execution_count": 32
        },
        {
          "output_type": "display_data",
          "data": {
            "image/png": "[encoded data removed]",
            "text/plain": [
              "<Figure size 432x288 with 1 Axes>"
            ]
          },
          "metadata": {
            "tags": [],
            "needs_background": "light"
          }
        }
      ]
    },
    {
      "cell_type": "markdown",
      "metadata": {
        "id": "voKIoHLPMj_E"
      },
      "source": [
        "That is dope that too in 10% of the origincal dataset"
      ]
    },
    {
      "cell_type": "code",
      "metadata": {
        "id": "NkYc-9h2M7-8"
      },
      "source": [
        "#Function to plot oue loss curves\n",
        "import matplotlib.pyplot as plt\n",
        "\n",
        "def plot_loss_curves(history):\n",
        "  loss = history.history[\"loss\"]\n",
        "  val_loss = history.history[\"val_loss\"]\n",
        "  accuracy = history.history[\"accuracy\"]\n",
        "  val_accuracy = history.history[\"val_accuracy\"]\n",
        "  epochs = range(len(history.history[\"loss\"]))\n",
        "\n",
        "  plt.plot(epochs,loss,label=\"training_loss\")\n",
        "  plt.plot(epochs,val_loss,label=\"val_loss\")\n",
        "  plt.title(\"Loss\")\n",
        "  plt.xlabel(\"Epochs\")\n",
        "  plt.legend()\n",
        "  plt.figure()\n",
        "  plt.plot(epochs,accuracy,label=\"training_Accuracy\")\n",
        "  plt.plot(epochs,val_accuracy,label=\"val_Accuracy\")\n",
        "  plt.title(\"Accuracy\")\n",
        "  plt.xlabel(\"Epochs\")\n",
        "  plt.legend()\n",
        "  "
      ],
      "execution_count": null,
      "outputs": []
    },
    {
      "cell_type": "code",
      "metadata": {
        "colab": {
          "base_uri": "https://localhost:8080/",
          "height": 573
        },
        "id": "rXBIlx4oOO9q",
        "outputId": "cb540ab9-eeed-4b18-dfba-65b2cce570cb"
      },
      "source": [
        "plot_loss_curves(resnet_history)"
      ],
      "execution_count": null,
      "outputs": [
        {
          "output_type": "display_data",
          "data": {
            "image/png": "[encoded data removed]",
            "text/plain": [
              "<Figure size 432x288 with 1 Axes>"
            ]
          },
          "metadata": {
            "tags": [],
            "needs_background": "light"
          }
        },
        {
          "output_type": "display_data",
          "data": {
            "image/png": "[encoded data removed]",
            "text/plain": [
              "<Figure size 432x288 with 1 Axes>"
            ]
          },
          "metadata": {
            "tags": [],
            "needs_background": "light"
          }
        }
      ]
    },
    {
      "cell_type": "markdown",
      "metadata": {
        "id": "wU2DwMkwOSsB"
      },
      "source": [
        "### Creating and testing EfficientNet80 tensorflow HUb extraction model"
      ]
    },
    {
      "cell_type": "code",
      "metadata": {
        "id": "k0nuDe2sOw3t"
      },
      "source": [
        "efficientnet_model = create_model(efficientnet_url)\n"
      ],
      "execution_count": null,
      "outputs": []
    },
    {
      "cell_type": "code",
      "metadata": {
        "colab": {
          "base_uri": "https://localhost:8080/"
        },
        "id": "5xm2gJa6O8TD",
        "outputId": "8c3d946b-e193-47cf-931f-8768746d0166"
      },
      "source": [
        "efficientnet_model.summary()"
      ],
      "execution_count": null,
      "outputs": [
        {
          "output_type": "stream",
          "text": [
            "Model: \"sequential_3\"\n",
            "_________________________________________________________________\n",
            "Layer (type)                 Output Shape              Param #   \n",
            "=================================================================\n",
            "feature_extraction_layer (Ke (None, 1280)              4049564   \n",
            "_________________________________________________________________\n",
            "output_layer (Dense)         (None, 10)                12810     \n",
            "=================================================================\n",
            "Total params: 4,062,374\n",
            "Trainable params: 12,810\n",
            "Non-trainable params: 4,049,564\n",
            "_________________________________________________________________\n"
          ],
          "name": "stdout"
        }
      ]
    },
    {
      "cell_type": "code",
      "metadata": {
        "colab": {
          "base_uri": "https://localhost:8080/"
        },
        "id": "OslusXPNcUxK",
        "outputId": "d85ecdf3-ff19-4a8a-d031-140e7a235b39"
      },
      "source": [
        "efficientnet_model.compile(loss=\"categorical_crossentropy\",\n",
        "                           optimizer=tf.keras.optimizers.Adam(),\n",
        "                           metrics=[\"accuracy\"])\n",
        "efficientnet_history = efficientnet_model.fit(train_data_10_percent, # only use 10% of training data\n",
        "                                              epochs=10, # train for 5 epochs\n",
        "                                              steps_per_epoch=len(train_data_10_percent),\n",
        "                                              validation_data=test_data_10_percent,\n",
        "                                              validation_steps=len(test_data_10_percent),\n",
        "                                              callbacks=[create_tensorflow_callback(dir_name=\"tensorflow_hub\",\n",
        "                                                                                     experiment_name=\"efficientnetB0\")])\n"
      ],
      "execution_count": null,
      "outputs": [
        {
          "output_type": "stream",
          "text": [
            "Saving tensorboard log file to :  tensorflow_hub/efficientnetB0/20210627-172729\n",
            "Epoch 1/10\n",
            "24/24 [==============================] - 29s 1s/step - loss: 0.4792 - accuracy: 0.8773 - val_loss: 0.5104 - val_accuracy: 0.8640\n",
            "Epoch 2/10\n",
            "24/24 [==============================] - 15s 625ms/step - loss: 0.3829 - accuracy: 0.9213 - val_loss: 0.4734 - val_accuracy: 0.8700\n",
            "Epoch 3/10\n",
            "24/24 [==============================] - 15s 626ms/step - loss: 0.3238 - accuracy: 0.9360 - val_loss: 0.4476 - val_accuracy: 0.8716\n",
            "Epoch 4/10\n",
            "24/24 [==============================] - 15s 623ms/step - loss: 0.2826 - accuracy: 0.9520 - val_loss: 0.4304 - val_accuracy: 0.8768\n",
            "Epoch 5/10\n",
            "24/24 [==============================] - 14s 617ms/step - loss: 0.2465 - accuracy: 0.9573 - val_loss: 0.4194 - val_accuracy: 0.8792\n",
            "Epoch 6/10\n",
            "24/24 [==============================] - 14s 622ms/step - loss: 0.2194 - accuracy: 0.9667 - val_loss: 0.4115 - val_accuracy: 0.8792\n",
            "Epoch 7/10\n",
            "24/24 [==============================] - 14s 619ms/step - loss: 0.1934 - accuracy: 0.9720 - val_loss: 0.4050 - val_accuracy: 0.8764\n",
            "Epoch 8/10\n",
            "24/24 [==============================] - 14s 618ms/step - loss: 0.1733 - accuracy: 0.9800 - val_loss: 0.3971 - val_accuracy: 0.8808\n",
            "Epoch 9/10\n",
            "24/24 [==============================] - 14s 622ms/step - loss: 0.1570 - accuracy: 0.9827 - val_loss: 0.3933 - val_accuracy: 0.8788\n",
            "Epoch 10/10\n",
            "24/24 [==============================] - 14s 614ms/step - loss: 0.1424 - accuracy: 0.9867 - val_loss: 0.3877 - val_accuracy: 0.8812\n"
          ],
          "name": "stdout"
        }
      ]
    },
    {
      "cell_type": "code",
      "metadata": {
        "colab": {
          "base_uri": "https://localhost:8080/",
          "height": 573
        },
        "id": "hS9WxOJkc6jN",
        "outputId": "ca1aa5dd-4884-4b88-c7d3-5a0883f77c30"
      },
      "source": [
        "plot_loss_curves(efficientnet_history)"
      ],
      "execution_count": null,
      "outputs": [
        {
          "output_type": "display_data",
          "data": {
            "image/png": "[encoded data removed]",
            "text/plain": [
              "<Figure size 432x288 with 1 Axes>"
            ]
          },
          "metadata": {
            "tags": [],
            "needs_background": "light"
          }
        },
        {
          "output_type": "display_data",
          "data": {
            "image/png": "[encoded data removed]",
            "text/plain": [
              "<Figure size 432x288 with 1 Axes>"
            ]
          },
          "metadata": {
            "tags": [],
            "needs_background": "light"
          }
        }
      ]
    },
    {
      "cell_type": "markdown",
      "metadata": {
        "id": "XCJNzJESfivQ"
      },
      "source": [
        "EfficientNet op in the chat "
      ]
    },
    {
      "cell_type": "markdown",
      "metadata": {
        "id": "jtYafKANhIQo"
      },
      "source": [
        "##Different types of transfer learning\n",
        "* \"As is\" transferlearning model- using model with no changes what so ever eg using ImageNet model \n",
        "* \"Feature extraction\" use the prelearned patterns of an existing model eg EffiecientNetB0 trained on ImageNet and adjust the output layer for our own problem\n",
        "* \"Fine_tuning\" using the prelearned patterns of an existing model and fine tune many or all of the undelying layers(including new output layers)"
      ]
    }
  ]
}